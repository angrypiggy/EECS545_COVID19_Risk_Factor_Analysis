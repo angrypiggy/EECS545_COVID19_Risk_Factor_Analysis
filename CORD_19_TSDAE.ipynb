{
  "nbformat": 4,
  "nbformat_minor": 0,
  "metadata": {
    "colab": {
      "name": "yuliang.ipynb",
      "provenance": [],
      "collapsed_sections": [
        "pSD2O5oi68Bk",
        "Mc_U8mvM7EK7",
        "VuvqvbI_7xoR",
        "4C2s7AtNKDnD",
        "xrla9BMrKBIe",
        "89aWWUwBELMB",
        "bpJdZ1JHOaxX",
        "4sKrKYC7OeML",
        "jkqiHq7oip7R"
      ]
    },
    "kernelspec": {
      "name": "python3",
      "display_name": "Python 3"
    },
    "language_info": {
      "name": "python"
    },
    "accelerator": "GPU",
    "widgets": {
      "application/vnd.jupyter.widget-state+json": {
        "0f545f5eec3745deb28d98ae24604f70": {
          "model_module": "@jupyter-widgets/controls",
          "model_name": "HBoxModel",
          "state": {
            "_view_name": "HBoxView",
            "_dom_classes": [],
            "_model_name": "HBoxModel",
            "_view_module": "@jupyter-widgets/controls",
            "_model_module_version": "1.5.0",
            "_view_count": null,
            "_view_module_version": "1.5.0",
            "box_style": "",
            "layout": "IPY_MODEL_858c68002284405e9a9a635ec0ea7a51",
            "_model_module": "@jupyter-widgets/controls",
            "children": [
              "IPY_MODEL_1a08aa15bc0c40bda3894be3a1e3e205",
              "IPY_MODEL_fa841a6f27f7464e8cad9c8e9249209b"
            ]
          }
        },
        "858c68002284405e9a9a635ec0ea7a51": {
          "model_module": "@jupyter-widgets/base",
          "model_name": "LayoutModel",
          "state": {
            "_view_name": "LayoutView",
            "grid_template_rows": null,
            "right": null,
            "justify_content": null,
            "_view_module": "@jupyter-widgets/base",
            "overflow": null,
            "_model_module_version": "1.2.0",
            "_view_count": null,
            "flex_flow": null,
            "width": null,
            "min_width": null,
            "border": null,
            "align_items": null,
            "bottom": null,
            "_model_module": "@jupyter-widgets/base",
            "top": null,
            "grid_column": null,
            "overflow_y": null,
            "overflow_x": null,
            "grid_auto_flow": null,
            "grid_area": null,
            "grid_template_columns": null,
            "flex": null,
            "_model_name": "LayoutModel",
            "justify_items": null,
            "grid_row": null,
            "max_height": null,
            "align_content": null,
            "visibility": null,
            "align_self": null,
            "height": null,
            "min_height": null,
            "padding": null,
            "grid_auto_rows": null,
            "grid_gap": null,
            "max_width": null,
            "order": null,
            "_view_module_version": "1.2.0",
            "grid_template_areas": null,
            "object_position": null,
            "object_fit": null,
            "grid_auto_columns": null,
            "margin": null,
            "display": null,
            "left": null
          }
        },
        "1a08aa15bc0c40bda3894be3a1e3e205": {
          "model_module": "@jupyter-widgets/controls",
          "model_name": "FloatProgressModel",
          "state": {
            "_view_name": "ProgressView",
            "style": "IPY_MODEL_c3c465259c8d40fe8d8bb4ccebfeb76b",
            "_dom_classes": [],
            "description": "100%",
            "_model_name": "FloatProgressModel",
            "bar_style": "success",
            "max": 244715968,
            "_view_module": "@jupyter-widgets/controls",
            "_model_module_version": "1.5.0",
            "value": 244715968,
            "_view_count": null,
            "_view_module_version": "1.5.0",
            "orientation": "horizontal",
            "min": 0,
            "description_tooltip": null,
            "_model_module": "@jupyter-widgets/controls",
            "layout": "IPY_MODEL_45f7aaf86fe8471c9a836b4211757757"
          }
        },
        "fa841a6f27f7464e8cad9c8e9249209b": {
          "model_module": "@jupyter-widgets/controls",
          "model_name": "HTMLModel",
          "state": {
            "_view_name": "HTMLView",
            "style": "IPY_MODEL_add7ad32a21346cdada31d548b12bff2",
            "_dom_classes": [],
            "description": "",
            "_model_name": "HTMLModel",
            "placeholder": "​",
            "_view_module": "@jupyter-widgets/controls",
            "_model_module_version": "1.5.0",
            "value": " 245M/245M [00:12&lt;00:00, 19.2MB/s]",
            "_view_count": null,
            "_view_module_version": "1.5.0",
            "description_tooltip": null,
            "_model_module": "@jupyter-widgets/controls",
            "layout": "IPY_MODEL_e9cb6ad017764c48a1b32425473bac7c"
          }
        },
        "c3c465259c8d40fe8d8bb4ccebfeb76b": {
          "model_module": "@jupyter-widgets/controls",
          "model_name": "ProgressStyleModel",
          "state": {
            "_view_name": "StyleView",
            "_model_name": "ProgressStyleModel",
            "description_width": "initial",
            "_view_module": "@jupyter-widgets/base",
            "_model_module_version": "1.5.0",
            "_view_count": null,
            "_view_module_version": "1.2.0",
            "bar_color": null,
            "_model_module": "@jupyter-widgets/controls"
          }
        },
        "45f7aaf86fe8471c9a836b4211757757": {
          "model_module": "@jupyter-widgets/base",
          "model_name": "LayoutModel",
          "state": {
            "_view_name": "LayoutView",
            "grid_template_rows": null,
            "right": null,
            "justify_content": null,
            "_view_module": "@jupyter-widgets/base",
            "overflow": null,
            "_model_module_version": "1.2.0",
            "_view_count": null,
            "flex_flow": null,
            "width": null,
            "min_width": null,
            "border": null,
            "align_items": null,
            "bottom": null,
            "_model_module": "@jupyter-widgets/base",
            "top": null,
            "grid_column": null,
            "overflow_y": null,
            "overflow_x": null,
            "grid_auto_flow": null,
            "grid_area": null,
            "grid_template_columns": null,
            "flex": null,
            "_model_name": "LayoutModel",
            "justify_items": null,
            "grid_row": null,
            "max_height": null,
            "align_content": null,
            "visibility": null,
            "align_self": null,
            "height": null,
            "min_height": null,
            "padding": null,
            "grid_auto_rows": null,
            "grid_gap": null,
            "max_width": null,
            "order": null,
            "_view_module_version": "1.2.0",
            "grid_template_areas": null,
            "object_position": null,
            "object_fit": null,
            "grid_auto_columns": null,
            "margin": null,
            "display": null,
            "left": null
          }
        },
        "add7ad32a21346cdada31d548b12bff2": {
          "model_module": "@jupyter-widgets/controls",
          "model_name": "DescriptionStyleModel",
          "state": {
            "_view_name": "StyleView",
            "_model_name": "DescriptionStyleModel",
            "description_width": "",
            "_view_module": "@jupyter-widgets/base",
            "_model_module_version": "1.5.0",
            "_view_count": null,
            "_view_module_version": "1.2.0",
            "_model_module": "@jupyter-widgets/controls"
          }
        },
        "e9cb6ad017764c48a1b32425473bac7c": {
          "model_module": "@jupyter-widgets/base",
          "model_name": "LayoutModel",
          "state": {
            "_view_name": "LayoutView",
            "grid_template_rows": null,
            "right": null,
            "justify_content": null,
            "_view_module": "@jupyter-widgets/base",
            "overflow": null,
            "_model_module_version": "1.2.0",
            "_view_count": null,
            "flex_flow": null,
            "width": null,
            "min_width": null,
            "border": null,
            "align_items": null,
            "bottom": null,
            "_model_module": "@jupyter-widgets/base",
            "top": null,
            "grid_column": null,
            "overflow_y": null,
            "overflow_x": null,
            "grid_auto_flow": null,
            "grid_area": null,
            "grid_template_columns": null,
            "flex": null,
            "_model_name": "LayoutModel",
            "justify_items": null,
            "grid_row": null,
            "max_height": null,
            "align_content": null,
            "visibility": null,
            "align_self": null,
            "height": null,
            "min_height": null,
            "padding": null,
            "grid_auto_rows": null,
            "grid_gap": null,
            "max_width": null,
            "order": null,
            "_view_module_version": "1.2.0",
            "grid_template_areas": null,
            "object_position": null,
            "object_fit": null,
            "grid_auto_columns": null,
            "margin": null,
            "display": null,
            "left": null
          }
        },
        "5f17d669d73d4ed78a32e5a575a4f65f": {
          "model_module": "@jupyter-widgets/controls",
          "model_name": "HBoxModel",
          "state": {
            "_view_name": "HBoxView",
            "_dom_classes": [],
            "_model_name": "HBoxModel",
            "_view_module": "@jupyter-widgets/controls",
            "_model_module_version": "1.5.0",
            "_view_count": null,
            "_view_module_version": "1.5.0",
            "box_style": "",
            "layout": "IPY_MODEL_bf8010fba6e945fd879529bf62d0b519",
            "_model_module": "@jupyter-widgets/controls",
            "children": [
              "IPY_MODEL_2b8924c122f54b9fb8ed9a0f18cf42c3",
              "IPY_MODEL_4dfb5ac50f854258880c5e624aa84c28"
            ]
          }
        },
        "bf8010fba6e945fd879529bf62d0b519": {
          "model_module": "@jupyter-widgets/base",
          "model_name": "LayoutModel",
          "state": {
            "_view_name": "LayoutView",
            "grid_template_rows": null,
            "right": null,
            "justify_content": null,
            "_view_module": "@jupyter-widgets/base",
            "overflow": null,
            "_model_module_version": "1.2.0",
            "_view_count": null,
            "flex_flow": null,
            "width": null,
            "min_width": null,
            "border": null,
            "align_items": null,
            "bottom": null,
            "_model_module": "@jupyter-widgets/base",
            "top": null,
            "grid_column": null,
            "overflow_y": null,
            "overflow_x": null,
            "grid_auto_flow": null,
            "grid_area": null,
            "grid_template_columns": null,
            "flex": null,
            "_model_name": "LayoutModel",
            "justify_items": null,
            "grid_row": null,
            "max_height": null,
            "align_content": null,
            "visibility": null,
            "align_self": null,
            "height": null,
            "min_height": null,
            "padding": null,
            "grid_auto_rows": null,
            "grid_gap": null,
            "max_width": null,
            "order": null,
            "_view_module_version": "1.2.0",
            "grid_template_areas": null,
            "object_position": null,
            "object_fit": null,
            "grid_auto_columns": null,
            "margin": null,
            "display": null,
            "left": null
          }
        },
        "2b8924c122f54b9fb8ed9a0f18cf42c3": {
          "model_module": "@jupyter-widgets/controls",
          "model_name": "FloatProgressModel",
          "state": {
            "_view_name": "ProgressView",
            "style": "IPY_MODEL_b3dd20a19b2d44958f98f6927954d307",
            "_dom_classes": [],
            "description": "Batches: 100%",
            "_model_name": "FloatProgressModel",
            "bar_style": "success",
            "max": 589,
            "_view_module": "@jupyter-widgets/controls",
            "_model_module_version": "1.5.0",
            "value": 589,
            "_view_count": null,
            "_view_module_version": "1.5.0",
            "orientation": "horizontal",
            "min": 0,
            "description_tooltip": null,
            "_model_module": "@jupyter-widgets/controls",
            "layout": "IPY_MODEL_a1434a11886446c19f6700ce353a3929"
          }
        },
        "4dfb5ac50f854258880c5e624aa84c28": {
          "model_module": "@jupyter-widgets/controls",
          "model_name": "HTMLModel",
          "state": {
            "_view_name": "HTMLView",
            "style": "IPY_MODEL_d9638c33d6184458ab0d26fa3ba4fd9d",
            "_dom_classes": [],
            "description": "",
            "_model_name": "HTMLModel",
            "placeholder": "​",
            "_view_module": "@jupyter-widgets/controls",
            "_model_module_version": "1.5.0",
            "value": " 589/589 [03:31&lt;00:00,  2.78it/s]",
            "_view_count": null,
            "_view_module_version": "1.5.0",
            "description_tooltip": null,
            "_model_module": "@jupyter-widgets/controls",
            "layout": "IPY_MODEL_4ca20d66698c47f3b58e87131fed8d7e"
          }
        },
        "b3dd20a19b2d44958f98f6927954d307": {
          "model_module": "@jupyter-widgets/controls",
          "model_name": "ProgressStyleModel",
          "state": {
            "_view_name": "StyleView",
            "_model_name": "ProgressStyleModel",
            "description_width": "initial",
            "_view_module": "@jupyter-widgets/base",
            "_model_module_version": "1.5.0",
            "_view_count": null,
            "_view_module_version": "1.2.0",
            "bar_color": null,
            "_model_module": "@jupyter-widgets/controls"
          }
        },
        "a1434a11886446c19f6700ce353a3929": {
          "model_module": "@jupyter-widgets/base",
          "model_name": "LayoutModel",
          "state": {
            "_view_name": "LayoutView",
            "grid_template_rows": null,
            "right": null,
            "justify_content": null,
            "_view_module": "@jupyter-widgets/base",
            "overflow": null,
            "_model_module_version": "1.2.0",
            "_view_count": null,
            "flex_flow": null,
            "width": null,
            "min_width": null,
            "border": null,
            "align_items": null,
            "bottom": null,
            "_model_module": "@jupyter-widgets/base",
            "top": null,
            "grid_column": null,
            "overflow_y": null,
            "overflow_x": null,
            "grid_auto_flow": null,
            "grid_area": null,
            "grid_template_columns": null,
            "flex": null,
            "_model_name": "LayoutModel",
            "justify_items": null,
            "grid_row": null,
            "max_height": null,
            "align_content": null,
            "visibility": null,
            "align_self": null,
            "height": null,
            "min_height": null,
            "padding": null,
            "grid_auto_rows": null,
            "grid_gap": null,
            "max_width": null,
            "order": null,
            "_view_module_version": "1.2.0",
            "grid_template_areas": null,
            "object_position": null,
            "object_fit": null,
            "grid_auto_columns": null,
            "margin": null,
            "display": null,
            "left": null
          }
        },
        "d9638c33d6184458ab0d26fa3ba4fd9d": {
          "model_module": "@jupyter-widgets/controls",
          "model_name": "DescriptionStyleModel",
          "state": {
            "_view_name": "StyleView",
            "_model_name": "DescriptionStyleModel",
            "description_width": "",
            "_view_module": "@jupyter-widgets/base",
            "_model_module_version": "1.5.0",
            "_view_count": null,
            "_view_module_version": "1.2.0",
            "_model_module": "@jupyter-widgets/controls"
          }
        },
        "4ca20d66698c47f3b58e87131fed8d7e": {
          "model_module": "@jupyter-widgets/base",
          "model_name": "LayoutModel",
          "state": {
            "_view_name": "LayoutView",
            "grid_template_rows": null,
            "right": null,
            "justify_content": null,
            "_view_module": "@jupyter-widgets/base",
            "overflow": null,
            "_model_module_version": "1.2.0",
            "_view_count": null,
            "flex_flow": null,
            "width": null,
            "min_width": null,
            "border": null,
            "align_items": null,
            "bottom": null,
            "_model_module": "@jupyter-widgets/base",
            "top": null,
            "grid_column": null,
            "overflow_y": null,
            "overflow_x": null,
            "grid_auto_flow": null,
            "grid_area": null,
            "grid_template_columns": null,
            "flex": null,
            "_model_name": "LayoutModel",
            "justify_items": null,
            "grid_row": null,
            "max_height": null,
            "align_content": null,
            "visibility": null,
            "align_self": null,
            "height": null,
            "min_height": null,
            "padding": null,
            "grid_auto_rows": null,
            "grid_gap": null,
            "max_width": null,
            "order": null,
            "_view_module_version": "1.2.0",
            "grid_template_areas": null,
            "object_position": null,
            "object_fit": null,
            "grid_auto_columns": null,
            "margin": null,
            "display": null,
            "left": null
          }
        },
        "1c662c47edca4b2d96ddec9e8a161437": {
          "model_module": "@jupyter-widgets/controls",
          "model_name": "HBoxModel",
          "state": {
            "_view_name": "HBoxView",
            "_dom_classes": [],
            "_model_name": "HBoxModel",
            "_view_module": "@jupyter-widgets/controls",
            "_model_module_version": "1.5.0",
            "_view_count": null,
            "_view_module_version": "1.5.0",
            "box_style": "",
            "layout": "IPY_MODEL_5b669b2d12174f678e8e251dd74416dc",
            "_model_module": "@jupyter-widgets/controls",
            "children": [
              "IPY_MODEL_ef3ca85e01cc48648cba27d0b5a22c7f",
              "IPY_MODEL_852dfc339a0640979ecd7c09ad19702c"
            ]
          }
        },
        "5b669b2d12174f678e8e251dd74416dc": {
          "model_module": "@jupyter-widgets/base",
          "model_name": "LayoutModel",
          "state": {
            "_view_name": "LayoutView",
            "grid_template_rows": null,
            "right": null,
            "justify_content": null,
            "_view_module": "@jupyter-widgets/base",
            "overflow": null,
            "_model_module_version": "1.2.0",
            "_view_count": null,
            "flex_flow": null,
            "width": null,
            "min_width": null,
            "border": null,
            "align_items": null,
            "bottom": null,
            "_model_module": "@jupyter-widgets/base",
            "top": null,
            "grid_column": null,
            "overflow_y": null,
            "overflow_x": null,
            "grid_auto_flow": null,
            "grid_area": null,
            "grid_template_columns": null,
            "flex": null,
            "_model_name": "LayoutModel",
            "justify_items": null,
            "grid_row": null,
            "max_height": null,
            "align_content": null,
            "visibility": null,
            "align_self": null,
            "height": null,
            "min_height": null,
            "padding": null,
            "grid_auto_rows": null,
            "grid_gap": null,
            "max_width": null,
            "order": null,
            "_view_module_version": "1.2.0",
            "grid_template_areas": null,
            "object_position": null,
            "object_fit": null,
            "grid_auto_columns": null,
            "margin": null,
            "display": null,
            "left": null
          }
        },
        "ef3ca85e01cc48648cba27d0b5a22c7f": {
          "model_module": "@jupyter-widgets/controls",
          "model_name": "FloatProgressModel",
          "state": {
            "_view_name": "ProgressView",
            "style": "IPY_MODEL_506f0e10cfbe454cb93ef1b1f972118a",
            "_dom_classes": [],
            "description": "Batches: 100%",
            "_model_name": "FloatProgressModel",
            "bar_style": "success",
            "max": 589,
            "_view_module": "@jupyter-widgets/controls",
            "_model_module_version": "1.5.0",
            "value": 589,
            "_view_count": null,
            "_view_module_version": "1.5.0",
            "orientation": "horizontal",
            "min": 0,
            "description_tooltip": null,
            "_model_module": "@jupyter-widgets/controls",
            "layout": "IPY_MODEL_042eeb4f84ab4dd687a2cc74bf55d0ea"
          }
        },
        "852dfc339a0640979ecd7c09ad19702c": {
          "model_module": "@jupyter-widgets/controls",
          "model_name": "HTMLModel",
          "state": {
            "_view_name": "HTMLView",
            "style": "IPY_MODEL_87766e3c7b0349af823e2626af0bebb9",
            "_dom_classes": [],
            "description": "",
            "_model_name": "HTMLModel",
            "placeholder": "​",
            "_view_module": "@jupyter-widgets/controls",
            "_model_module_version": "1.5.0",
            "value": " 589/589 [09:12&lt;00:00,  1.07it/s]",
            "_view_count": null,
            "_view_module_version": "1.5.0",
            "description_tooltip": null,
            "_model_module": "@jupyter-widgets/controls",
            "layout": "IPY_MODEL_ebed8ed0afda4a63a3f9fe3a303a4388"
          }
        },
        "506f0e10cfbe454cb93ef1b1f972118a": {
          "model_module": "@jupyter-widgets/controls",
          "model_name": "ProgressStyleModel",
          "state": {
            "_view_name": "StyleView",
            "_model_name": "ProgressStyleModel",
            "description_width": "initial",
            "_view_module": "@jupyter-widgets/base",
            "_model_module_version": "1.5.0",
            "_view_count": null,
            "_view_module_version": "1.2.0",
            "bar_color": null,
            "_model_module": "@jupyter-widgets/controls"
          }
        },
        "042eeb4f84ab4dd687a2cc74bf55d0ea": {
          "model_module": "@jupyter-widgets/base",
          "model_name": "LayoutModel",
          "state": {
            "_view_name": "LayoutView",
            "grid_template_rows": null,
            "right": null,
            "justify_content": null,
            "_view_module": "@jupyter-widgets/base",
            "overflow": null,
            "_model_module_version": "1.2.0",
            "_view_count": null,
            "flex_flow": null,
            "width": null,
            "min_width": null,
            "border": null,
            "align_items": null,
            "bottom": null,
            "_model_module": "@jupyter-widgets/base",
            "top": null,
            "grid_column": null,
            "overflow_y": null,
            "overflow_x": null,
            "grid_auto_flow": null,
            "grid_area": null,
            "grid_template_columns": null,
            "flex": null,
            "_model_name": "LayoutModel",
            "justify_items": null,
            "grid_row": null,
            "max_height": null,
            "align_content": null,
            "visibility": null,
            "align_self": null,
            "height": null,
            "min_height": null,
            "padding": null,
            "grid_auto_rows": null,
            "grid_gap": null,
            "max_width": null,
            "order": null,
            "_view_module_version": "1.2.0",
            "grid_template_areas": null,
            "object_position": null,
            "object_fit": null,
            "grid_auto_columns": null,
            "margin": null,
            "display": null,
            "left": null
          }
        },
        "87766e3c7b0349af823e2626af0bebb9": {
          "model_module": "@jupyter-widgets/controls",
          "model_name": "DescriptionStyleModel",
          "state": {
            "_view_name": "StyleView",
            "_model_name": "DescriptionStyleModel",
            "description_width": "",
            "_view_module": "@jupyter-widgets/base",
            "_model_module_version": "1.5.0",
            "_view_count": null,
            "_view_module_version": "1.2.0",
            "_model_module": "@jupyter-widgets/controls"
          }
        },
        "ebed8ed0afda4a63a3f9fe3a303a4388": {
          "model_module": "@jupyter-widgets/base",
          "model_name": "LayoutModel",
          "state": {
            "_view_name": "LayoutView",
            "grid_template_rows": null,
            "right": null,
            "justify_content": null,
            "_view_module": "@jupyter-widgets/base",
            "overflow": null,
            "_model_module_version": "1.2.0",
            "_view_count": null,
            "flex_flow": null,
            "width": null,
            "min_width": null,
            "border": null,
            "align_items": null,
            "bottom": null,
            "_model_module": "@jupyter-widgets/base",
            "top": null,
            "grid_column": null,
            "overflow_y": null,
            "overflow_x": null,
            "grid_auto_flow": null,
            "grid_area": null,
            "grid_template_columns": null,
            "flex": null,
            "_model_name": "LayoutModel",
            "justify_items": null,
            "grid_row": null,
            "max_height": null,
            "align_content": null,
            "visibility": null,
            "align_self": null,
            "height": null,
            "min_height": null,
            "padding": null,
            "grid_auto_rows": null,
            "grid_gap": null,
            "max_width": null,
            "order": null,
            "_view_module_version": "1.2.0",
            "grid_template_areas": null,
            "object_position": null,
            "object_fit": null,
            "grid_auto_columns": null,
            "margin": null,
            "display": null,
            "left": null
          }
        },
        "463c7953be35463a8ebaa00e36e658e2": {
          "model_module": "@jupyter-widgets/controls",
          "model_name": "HBoxModel",
          "state": {
            "_view_name": "HBoxView",
            "_dom_classes": [],
            "_model_name": "HBoxModel",
            "_view_module": "@jupyter-widgets/controls",
            "_model_module_version": "1.5.0",
            "_view_count": null,
            "_view_module_version": "1.5.0",
            "box_style": "",
            "layout": "IPY_MODEL_9503d3c446884489b682817adbf54694",
            "_model_module": "@jupyter-widgets/controls",
            "children": [
              "IPY_MODEL_fcf30ac233144a1da2e520a894199dc9",
              "IPY_MODEL_52ad98475d384716b01c89626fc5527d"
            ]
          }
        },
        "9503d3c446884489b682817adbf54694": {
          "model_module": "@jupyter-widgets/base",
          "model_name": "LayoutModel",
          "state": {
            "_view_name": "LayoutView",
            "grid_template_rows": null,
            "right": null,
            "justify_content": null,
            "_view_module": "@jupyter-widgets/base",
            "overflow": null,
            "_model_module_version": "1.2.0",
            "_view_count": null,
            "flex_flow": null,
            "width": null,
            "min_width": null,
            "border": null,
            "align_items": null,
            "bottom": null,
            "_model_module": "@jupyter-widgets/base",
            "top": null,
            "grid_column": null,
            "overflow_y": null,
            "overflow_x": null,
            "grid_auto_flow": null,
            "grid_area": null,
            "grid_template_columns": null,
            "flex": null,
            "_model_name": "LayoutModel",
            "justify_items": null,
            "grid_row": null,
            "max_height": null,
            "align_content": null,
            "visibility": null,
            "align_self": null,
            "height": null,
            "min_height": null,
            "padding": null,
            "grid_auto_rows": null,
            "grid_gap": null,
            "max_width": null,
            "order": null,
            "_view_module_version": "1.2.0",
            "grid_template_areas": null,
            "object_position": null,
            "object_fit": null,
            "grid_auto_columns": null,
            "margin": null,
            "display": null,
            "left": null
          }
        },
        "fcf30ac233144a1da2e520a894199dc9": {
          "model_module": "@jupyter-widgets/controls",
          "model_name": "FloatProgressModel",
          "state": {
            "_view_name": "ProgressView",
            "style": "IPY_MODEL_2aee7e3b644845a4a8bbbf6ae4f7654f",
            "_dom_classes": [],
            "description": "Batches: 100%",
            "_model_name": "FloatProgressModel",
            "bar_style": "success",
            "max": 319,
            "_view_module": "@jupyter-widgets/controls",
            "_model_module_version": "1.5.0",
            "value": 319,
            "_view_count": null,
            "_view_module_version": "1.5.0",
            "orientation": "horizontal",
            "min": 0,
            "description_tooltip": null,
            "_model_module": "@jupyter-widgets/controls",
            "layout": "IPY_MODEL_68ae75c98fa546fda403bb97ed5901ae"
          }
        },
        "52ad98475d384716b01c89626fc5527d": {
          "model_module": "@jupyter-widgets/controls",
          "model_name": "HTMLModel",
          "state": {
            "_view_name": "HTMLView",
            "style": "IPY_MODEL_3c19a4b54d4f4667867cc2b6380b999a",
            "_dom_classes": [],
            "description": "",
            "_model_name": "HTMLModel",
            "placeholder": "​",
            "_view_module": "@jupyter-widgets/controls",
            "_model_module_version": "1.5.0",
            "value": " 319/319 [01:42&lt;00:00,  3.12it/s]",
            "_view_count": null,
            "_view_module_version": "1.5.0",
            "description_tooltip": null,
            "_model_module": "@jupyter-widgets/controls",
            "layout": "IPY_MODEL_f1848cfdb8cb4aef944a636c8b72b8b3"
          }
        },
        "2aee7e3b644845a4a8bbbf6ae4f7654f": {
          "model_module": "@jupyter-widgets/controls",
          "model_name": "ProgressStyleModel",
          "state": {
            "_view_name": "StyleView",
            "_model_name": "ProgressStyleModel",
            "description_width": "initial",
            "_view_module": "@jupyter-widgets/base",
            "_model_module_version": "1.5.0",
            "_view_count": null,
            "_view_module_version": "1.2.0",
            "bar_color": null,
            "_model_module": "@jupyter-widgets/controls"
          }
        },
        "68ae75c98fa546fda403bb97ed5901ae": {
          "model_module": "@jupyter-widgets/base",
          "model_name": "LayoutModel",
          "state": {
            "_view_name": "LayoutView",
            "grid_template_rows": null,
            "right": null,
            "justify_content": null,
            "_view_module": "@jupyter-widgets/base",
            "overflow": null,
            "_model_module_version": "1.2.0",
            "_view_count": null,
            "flex_flow": null,
            "width": null,
            "min_width": null,
            "border": null,
            "align_items": null,
            "bottom": null,
            "_model_module": "@jupyter-widgets/base",
            "top": null,
            "grid_column": null,
            "overflow_y": null,
            "overflow_x": null,
            "grid_auto_flow": null,
            "grid_area": null,
            "grid_template_columns": null,
            "flex": null,
            "_model_name": "LayoutModel",
            "justify_items": null,
            "grid_row": null,
            "max_height": null,
            "align_content": null,
            "visibility": null,
            "align_self": null,
            "height": null,
            "min_height": null,
            "padding": null,
            "grid_auto_rows": null,
            "grid_gap": null,
            "max_width": null,
            "order": null,
            "_view_module_version": "1.2.0",
            "grid_template_areas": null,
            "object_position": null,
            "object_fit": null,
            "grid_auto_columns": null,
            "margin": null,
            "display": null,
            "left": null
          }
        },
        "3c19a4b54d4f4667867cc2b6380b999a": {
          "model_module": "@jupyter-widgets/controls",
          "model_name": "DescriptionStyleModel",
          "state": {
            "_view_name": "StyleView",
            "_model_name": "DescriptionStyleModel",
            "description_width": "",
            "_view_module": "@jupyter-widgets/base",
            "_model_module_version": "1.5.0",
            "_view_count": null,
            "_view_module_version": "1.2.0",
            "_model_module": "@jupyter-widgets/controls"
          }
        },
        "f1848cfdb8cb4aef944a636c8b72b8b3": {
          "model_module": "@jupyter-widgets/base",
          "model_name": "LayoutModel",
          "state": {
            "_view_name": "LayoutView",
            "grid_template_rows": null,
            "right": null,
            "justify_content": null,
            "_view_module": "@jupyter-widgets/base",
            "overflow": null,
            "_model_module_version": "1.2.0",
            "_view_count": null,
            "flex_flow": null,
            "width": null,
            "min_width": null,
            "border": null,
            "align_items": null,
            "bottom": null,
            "_model_module": "@jupyter-widgets/base",
            "top": null,
            "grid_column": null,
            "overflow_y": null,
            "overflow_x": null,
            "grid_auto_flow": null,
            "grid_area": null,
            "grid_template_columns": null,
            "flex": null,
            "_model_name": "LayoutModel",
            "justify_items": null,
            "grid_row": null,
            "max_height": null,
            "align_content": null,
            "visibility": null,
            "align_self": null,
            "height": null,
            "min_height": null,
            "padding": null,
            "grid_auto_rows": null,
            "grid_gap": null,
            "max_width": null,
            "order": null,
            "_view_module_version": "1.2.0",
            "grid_template_areas": null,
            "object_position": null,
            "object_fit": null,
            "grid_auto_columns": null,
            "margin": null,
            "display": null,
            "left": null
          }
        },
        "763728a6a9814b6aa2e18061d1afe1ab": {
          "model_module": "@jupyter-widgets/controls",
          "model_name": "HBoxModel",
          "state": {
            "_view_name": "HBoxView",
            "_dom_classes": [],
            "_model_name": "HBoxModel",
            "_view_module": "@jupyter-widgets/controls",
            "_model_module_version": "1.5.0",
            "_view_count": null,
            "_view_module_version": "1.5.0",
            "box_style": "",
            "layout": "IPY_MODEL_024931e8ddc0499e8838ae78e352f043",
            "_model_module": "@jupyter-widgets/controls",
            "children": [
              "IPY_MODEL_767518834ed2417ba490ff8400bccce9",
              "IPY_MODEL_015c4b2ed4284b32b7d801c0f23141af"
            ]
          }
        },
        "024931e8ddc0499e8838ae78e352f043": {
          "model_module": "@jupyter-widgets/base",
          "model_name": "LayoutModel",
          "state": {
            "_view_name": "LayoutView",
            "grid_template_rows": null,
            "right": null,
            "justify_content": null,
            "_view_module": "@jupyter-widgets/base",
            "overflow": null,
            "_model_module_version": "1.2.0",
            "_view_count": null,
            "flex_flow": null,
            "width": null,
            "min_width": null,
            "border": null,
            "align_items": null,
            "bottom": null,
            "_model_module": "@jupyter-widgets/base",
            "top": null,
            "grid_column": null,
            "overflow_y": null,
            "overflow_x": null,
            "grid_auto_flow": null,
            "grid_area": null,
            "grid_template_columns": null,
            "flex": null,
            "_model_name": "LayoutModel",
            "justify_items": null,
            "grid_row": null,
            "max_height": null,
            "align_content": null,
            "visibility": null,
            "align_self": null,
            "height": null,
            "min_height": null,
            "padding": null,
            "grid_auto_rows": null,
            "grid_gap": null,
            "max_width": null,
            "order": null,
            "_view_module_version": "1.2.0",
            "grid_template_areas": null,
            "object_position": null,
            "object_fit": null,
            "grid_auto_columns": null,
            "margin": null,
            "display": null,
            "left": null
          }
        },
        "767518834ed2417ba490ff8400bccce9": {
          "model_module": "@jupyter-widgets/controls",
          "model_name": "FloatProgressModel",
          "state": {
            "_view_name": "ProgressView",
            "style": "IPY_MODEL_d343c7e094a147888f0f9697462c6022",
            "_dom_classes": [],
            "description": "Batches: 100%",
            "_model_name": "FloatProgressModel",
            "bar_style": "success",
            "max": 319,
            "_view_module": "@jupyter-widgets/controls",
            "_model_module_version": "1.5.0",
            "value": 319,
            "_view_count": null,
            "_view_module_version": "1.5.0",
            "orientation": "horizontal",
            "min": 0,
            "description_tooltip": null,
            "_model_module": "@jupyter-widgets/controls",
            "layout": "IPY_MODEL_6baee5244b534fb591121c6f741d45ef"
          }
        },
        "015c4b2ed4284b32b7d801c0f23141af": {
          "model_module": "@jupyter-widgets/controls",
          "model_name": "HTMLModel",
          "state": {
            "_view_name": "HTMLView",
            "style": "IPY_MODEL_d46c2bbb05444436af5ae93d0c282d12",
            "_dom_classes": [],
            "description": "",
            "_model_name": "HTMLModel",
            "placeholder": "​",
            "_view_module": "@jupyter-widgets/controls",
            "_model_module_version": "1.5.0",
            "value": " 319/319 [02:01&lt;00:00,  2.63it/s]",
            "_view_count": null,
            "_view_module_version": "1.5.0",
            "description_tooltip": null,
            "_model_module": "@jupyter-widgets/controls",
            "layout": "IPY_MODEL_ffcdcf10e5b645529d849f0c3b89d014"
          }
        },
        "d343c7e094a147888f0f9697462c6022": {
          "model_module": "@jupyter-widgets/controls",
          "model_name": "ProgressStyleModel",
          "state": {
            "_view_name": "StyleView",
            "_model_name": "ProgressStyleModel",
            "description_width": "initial",
            "_view_module": "@jupyter-widgets/base",
            "_model_module_version": "1.5.0",
            "_view_count": null,
            "_view_module_version": "1.2.0",
            "bar_color": null,
            "_model_module": "@jupyter-widgets/controls"
          }
        },
        "6baee5244b534fb591121c6f741d45ef": {
          "model_module": "@jupyter-widgets/base",
          "model_name": "LayoutModel",
          "state": {
            "_view_name": "LayoutView",
            "grid_template_rows": null,
            "right": null,
            "justify_content": null,
            "_view_module": "@jupyter-widgets/base",
            "overflow": null,
            "_model_module_version": "1.2.0",
            "_view_count": null,
            "flex_flow": null,
            "width": null,
            "min_width": null,
            "border": null,
            "align_items": null,
            "bottom": null,
            "_model_module": "@jupyter-widgets/base",
            "top": null,
            "grid_column": null,
            "overflow_y": null,
            "overflow_x": null,
            "grid_auto_flow": null,
            "grid_area": null,
            "grid_template_columns": null,
            "flex": null,
            "_model_name": "LayoutModel",
            "justify_items": null,
            "grid_row": null,
            "max_height": null,
            "align_content": null,
            "visibility": null,
            "align_self": null,
            "height": null,
            "min_height": null,
            "padding": null,
            "grid_auto_rows": null,
            "grid_gap": null,
            "max_width": null,
            "order": null,
            "_view_module_version": "1.2.0",
            "grid_template_areas": null,
            "object_position": null,
            "object_fit": null,
            "grid_auto_columns": null,
            "margin": null,
            "display": null,
            "left": null
          }
        },
        "d46c2bbb05444436af5ae93d0c282d12": {
          "model_module": "@jupyter-widgets/controls",
          "model_name": "DescriptionStyleModel",
          "state": {
            "_view_name": "StyleView",
            "_model_name": "DescriptionStyleModel",
            "description_width": "",
            "_view_module": "@jupyter-widgets/base",
            "_model_module_version": "1.5.0",
            "_view_count": null,
            "_view_module_version": "1.2.0",
            "_model_module": "@jupyter-widgets/controls"
          }
        },
        "ffcdcf10e5b645529d849f0c3b89d014": {
          "model_module": "@jupyter-widgets/base",
          "model_name": "LayoutModel",
          "state": {
            "_view_name": "LayoutView",
            "grid_template_rows": null,
            "right": null,
            "justify_content": null,
            "_view_module": "@jupyter-widgets/base",
            "overflow": null,
            "_model_module_version": "1.2.0",
            "_view_count": null,
            "flex_flow": null,
            "width": null,
            "min_width": null,
            "border": null,
            "align_items": null,
            "bottom": null,
            "_model_module": "@jupyter-widgets/base",
            "top": null,
            "grid_column": null,
            "overflow_y": null,
            "overflow_x": null,
            "grid_auto_flow": null,
            "grid_area": null,
            "grid_template_columns": null,
            "flex": null,
            "_model_name": "LayoutModel",
            "justify_items": null,
            "grid_row": null,
            "max_height": null,
            "align_content": null,
            "visibility": null,
            "align_self": null,
            "height": null,
            "min_height": null,
            "padding": null,
            "grid_auto_rows": null,
            "grid_gap": null,
            "max_width": null,
            "order": null,
            "_view_module_version": "1.2.0",
            "grid_template_areas": null,
            "object_position": null,
            "object_fit": null,
            "grid_auto_columns": null,
            "margin": null,
            "display": null,
            "left": null
          }
        },
        "a7dde4ad60274d4fa8454a35ad8745d6": {
          "model_module": "@jupyter-widgets/controls",
          "model_name": "HBoxModel",
          "state": {
            "_view_name": "HBoxView",
            "_dom_classes": [],
            "_model_name": "HBoxModel",
            "_view_module": "@jupyter-widgets/controls",
            "_model_module_version": "1.5.0",
            "_view_count": null,
            "_view_module_version": "1.5.0",
            "box_style": "",
            "layout": "IPY_MODEL_871449334cee4e36a868806a8d74138b",
            "_model_module": "@jupyter-widgets/controls",
            "children": [
              "IPY_MODEL_62bbf3ef6ba6442a97ccf2835e5a2eb6",
              "IPY_MODEL_2c15b066495a4e28a4b037d9b11fd7b4"
            ]
          }
        },
        "871449334cee4e36a868806a8d74138b": {
          "model_module": "@jupyter-widgets/base",
          "model_name": "LayoutModel",
          "state": {
            "_view_name": "LayoutView",
            "grid_template_rows": null,
            "right": null,
            "justify_content": null,
            "_view_module": "@jupyter-widgets/base",
            "overflow": null,
            "_model_module_version": "1.2.0",
            "_view_count": null,
            "flex_flow": null,
            "width": null,
            "min_width": null,
            "border": null,
            "align_items": null,
            "bottom": null,
            "_model_module": "@jupyter-widgets/base",
            "top": null,
            "grid_column": null,
            "overflow_y": null,
            "overflow_x": null,
            "grid_auto_flow": null,
            "grid_area": null,
            "grid_template_columns": null,
            "flex": null,
            "_model_name": "LayoutModel",
            "justify_items": null,
            "grid_row": null,
            "max_height": null,
            "align_content": null,
            "visibility": null,
            "align_self": null,
            "height": null,
            "min_height": null,
            "padding": null,
            "grid_auto_rows": null,
            "grid_gap": null,
            "max_width": null,
            "order": null,
            "_view_module_version": "1.2.0",
            "grid_template_areas": null,
            "object_position": null,
            "object_fit": null,
            "grid_auto_columns": null,
            "margin": null,
            "display": null,
            "left": null
          }
        },
        "62bbf3ef6ba6442a97ccf2835e5a2eb6": {
          "model_module": "@jupyter-widgets/controls",
          "model_name": "FloatProgressModel",
          "state": {
            "_view_name": "ProgressView",
            "style": "IPY_MODEL_2a6124ad6b014c2c97a81ae13b96292f",
            "_dom_classes": [],
            "description": "Batches: 100%",
            "_model_name": "FloatProgressModel",
            "bar_style": "success",
            "max": 319,
            "_view_module": "@jupyter-widgets/controls",
            "_model_module_version": "1.5.0",
            "value": 319,
            "_view_count": null,
            "_view_module_version": "1.5.0",
            "orientation": "horizontal",
            "min": 0,
            "description_tooltip": null,
            "_model_module": "@jupyter-widgets/controls",
            "layout": "IPY_MODEL_12a8be3ffc6d4edb8a58797fa069d507"
          }
        },
        "2c15b066495a4e28a4b037d9b11fd7b4": {
          "model_module": "@jupyter-widgets/controls",
          "model_name": "HTMLModel",
          "state": {
            "_view_name": "HTMLView",
            "style": "IPY_MODEL_b68f895304614dec9d25d3bf8af09b18",
            "_dom_classes": [],
            "description": "",
            "_model_name": "HTMLModel",
            "placeholder": "​",
            "_view_module": "@jupyter-widgets/controls",
            "_model_module_version": "1.5.0",
            "value": " 319/319 [00:46&lt;00:00,  6.87it/s]",
            "_view_count": null,
            "_view_module_version": "1.5.0",
            "description_tooltip": null,
            "_model_module": "@jupyter-widgets/controls",
            "layout": "IPY_MODEL_ef77e9e762f046559103ea7c6a621a48"
          }
        },
        "2a6124ad6b014c2c97a81ae13b96292f": {
          "model_module": "@jupyter-widgets/controls",
          "model_name": "ProgressStyleModel",
          "state": {
            "_view_name": "StyleView",
            "_model_name": "ProgressStyleModel",
            "description_width": "initial",
            "_view_module": "@jupyter-widgets/base",
            "_model_module_version": "1.5.0",
            "_view_count": null,
            "_view_module_version": "1.2.0",
            "bar_color": null,
            "_model_module": "@jupyter-widgets/controls"
          }
        },
        "12a8be3ffc6d4edb8a58797fa069d507": {
          "model_module": "@jupyter-widgets/base",
          "model_name": "LayoutModel",
          "state": {
            "_view_name": "LayoutView",
            "grid_template_rows": null,
            "right": null,
            "justify_content": null,
            "_view_module": "@jupyter-widgets/base",
            "overflow": null,
            "_model_module_version": "1.2.0",
            "_view_count": null,
            "flex_flow": null,
            "width": null,
            "min_width": null,
            "border": null,
            "align_items": null,
            "bottom": null,
            "_model_module": "@jupyter-widgets/base",
            "top": null,
            "grid_column": null,
            "overflow_y": null,
            "overflow_x": null,
            "grid_auto_flow": null,
            "grid_area": null,
            "grid_template_columns": null,
            "flex": null,
            "_model_name": "LayoutModel",
            "justify_items": null,
            "grid_row": null,
            "max_height": null,
            "align_content": null,
            "visibility": null,
            "align_self": null,
            "height": null,
            "min_height": null,
            "padding": null,
            "grid_auto_rows": null,
            "grid_gap": null,
            "max_width": null,
            "order": null,
            "_view_module_version": "1.2.0",
            "grid_template_areas": null,
            "object_position": null,
            "object_fit": null,
            "grid_auto_columns": null,
            "margin": null,
            "display": null,
            "left": null
          }
        },
        "b68f895304614dec9d25d3bf8af09b18": {
          "model_module": "@jupyter-widgets/controls",
          "model_name": "DescriptionStyleModel",
          "state": {
            "_view_name": "StyleView",
            "_model_name": "DescriptionStyleModel",
            "description_width": "",
            "_view_module": "@jupyter-widgets/base",
            "_model_module_version": "1.5.0",
            "_view_count": null,
            "_view_module_version": "1.2.0",
            "_model_module": "@jupyter-widgets/controls"
          }
        },
        "ef77e9e762f046559103ea7c6a621a48": {
          "model_module": "@jupyter-widgets/base",
          "model_name": "LayoutModel",
          "state": {
            "_view_name": "LayoutView",
            "grid_template_rows": null,
            "right": null,
            "justify_content": null,
            "_view_module": "@jupyter-widgets/base",
            "overflow": null,
            "_model_module_version": "1.2.0",
            "_view_count": null,
            "flex_flow": null,
            "width": null,
            "min_width": null,
            "border": null,
            "align_items": null,
            "bottom": null,
            "_model_module": "@jupyter-widgets/base",
            "top": null,
            "grid_column": null,
            "overflow_y": null,
            "overflow_x": null,
            "grid_auto_flow": null,
            "grid_area": null,
            "grid_template_columns": null,
            "flex": null,
            "_model_name": "LayoutModel",
            "justify_items": null,
            "grid_row": null,
            "max_height": null,
            "align_content": null,
            "visibility": null,
            "align_self": null,
            "height": null,
            "min_height": null,
            "padding": null,
            "grid_auto_rows": null,
            "grid_gap": null,
            "max_width": null,
            "order": null,
            "_view_module_version": "1.2.0",
            "grid_template_areas": null,
            "object_position": null,
            "object_fit": null,
            "grid_auto_columns": null,
            "margin": null,
            "display": null,
            "left": null
          }
        },
        "9f8784623b374dcf8c5d5cedb31e5109": {
          "model_module": "@jupyter-widgets/controls",
          "model_name": "HBoxModel",
          "state": {
            "_view_name": "HBoxView",
            "_dom_classes": [],
            "_model_name": "HBoxModel",
            "_view_module": "@jupyter-widgets/controls",
            "_model_module_version": "1.5.0",
            "_view_count": null,
            "_view_module_version": "1.5.0",
            "box_style": "",
            "layout": "IPY_MODEL_cc2d5ec9dd5b405685e62bd13a871da9",
            "_model_module": "@jupyter-widgets/controls",
            "children": [
              "IPY_MODEL_c5b1b11cd51e4e74b1207569cdca1b2d",
              "IPY_MODEL_0f1b2a8b63d04b4783b0450c40e9c78a"
            ]
          }
        },
        "cc2d5ec9dd5b405685e62bd13a871da9": {
          "model_module": "@jupyter-widgets/base",
          "model_name": "LayoutModel",
          "state": {
            "_view_name": "LayoutView",
            "grid_template_rows": null,
            "right": null,
            "justify_content": null,
            "_view_module": "@jupyter-widgets/base",
            "overflow": null,
            "_model_module_version": "1.2.0",
            "_view_count": null,
            "flex_flow": null,
            "width": null,
            "min_width": null,
            "border": null,
            "align_items": null,
            "bottom": null,
            "_model_module": "@jupyter-widgets/base",
            "top": null,
            "grid_column": null,
            "overflow_y": null,
            "overflow_x": null,
            "grid_auto_flow": null,
            "grid_area": null,
            "grid_template_columns": null,
            "flex": null,
            "_model_name": "LayoutModel",
            "justify_items": null,
            "grid_row": null,
            "max_height": null,
            "align_content": null,
            "visibility": null,
            "align_self": null,
            "height": null,
            "min_height": null,
            "padding": null,
            "grid_auto_rows": null,
            "grid_gap": null,
            "max_width": null,
            "order": null,
            "_view_module_version": "1.2.0",
            "grid_template_areas": null,
            "object_position": null,
            "object_fit": null,
            "grid_auto_columns": null,
            "margin": null,
            "display": null,
            "left": null
          }
        },
        "c5b1b11cd51e4e74b1207569cdca1b2d": {
          "model_module": "@jupyter-widgets/controls",
          "model_name": "FloatProgressModel",
          "state": {
            "_view_name": "ProgressView",
            "style": "IPY_MODEL_4b40caaad26c482086bdc16b88100498",
            "_dom_classes": [],
            "description": "Batches: 100%",
            "_model_name": "FloatProgressModel",
            "bar_style": "success",
            "max": 319,
            "_view_module": "@jupyter-widgets/controls",
            "_model_module_version": "1.5.0",
            "value": 319,
            "_view_count": null,
            "_view_module_version": "1.5.0",
            "orientation": "horizontal",
            "min": 0,
            "description_tooltip": null,
            "_model_module": "@jupyter-widgets/controls",
            "layout": "IPY_MODEL_c174376470da4d01b882de0b80dde9cc"
          }
        },
        "0f1b2a8b63d04b4783b0450c40e9c78a": {
          "model_module": "@jupyter-widgets/controls",
          "model_name": "HTMLModel",
          "state": {
            "_view_name": "HTMLView",
            "style": "IPY_MODEL_5aa0237c54c54c97b174414378455446",
            "_dom_classes": [],
            "description": "",
            "_model_name": "HTMLModel",
            "placeholder": "​",
            "_view_module": "@jupyter-widgets/controls",
            "_model_module_version": "1.5.0",
            "value": " 319/319 [02:03&lt;00:00,  2.57it/s]",
            "_view_count": null,
            "_view_module_version": "1.5.0",
            "description_tooltip": null,
            "_model_module": "@jupyter-widgets/controls",
            "layout": "IPY_MODEL_c459297415ef4a0498ada653595d9916"
          }
        },
        "4b40caaad26c482086bdc16b88100498": {
          "model_module": "@jupyter-widgets/controls",
          "model_name": "ProgressStyleModel",
          "state": {
            "_view_name": "StyleView",
            "_model_name": "ProgressStyleModel",
            "description_width": "initial",
            "_view_module": "@jupyter-widgets/base",
            "_model_module_version": "1.5.0",
            "_view_count": null,
            "_view_module_version": "1.2.0",
            "bar_color": null,
            "_model_module": "@jupyter-widgets/controls"
          }
        },
        "c174376470da4d01b882de0b80dde9cc": {
          "model_module": "@jupyter-widgets/base",
          "model_name": "LayoutModel",
          "state": {
            "_view_name": "LayoutView",
            "grid_template_rows": null,
            "right": null,
            "justify_content": null,
            "_view_module": "@jupyter-widgets/base",
            "overflow": null,
            "_model_module_version": "1.2.0",
            "_view_count": null,
            "flex_flow": null,
            "width": null,
            "min_width": null,
            "border": null,
            "align_items": null,
            "bottom": null,
            "_model_module": "@jupyter-widgets/base",
            "top": null,
            "grid_column": null,
            "overflow_y": null,
            "overflow_x": null,
            "grid_auto_flow": null,
            "grid_area": null,
            "grid_template_columns": null,
            "flex": null,
            "_model_name": "LayoutModel",
            "justify_items": null,
            "grid_row": null,
            "max_height": null,
            "align_content": null,
            "visibility": null,
            "align_self": null,
            "height": null,
            "min_height": null,
            "padding": null,
            "grid_auto_rows": null,
            "grid_gap": null,
            "max_width": null,
            "order": null,
            "_view_module_version": "1.2.0",
            "grid_template_areas": null,
            "object_position": null,
            "object_fit": null,
            "grid_auto_columns": null,
            "margin": null,
            "display": null,
            "left": null
          }
        },
        "5aa0237c54c54c97b174414378455446": {
          "model_module": "@jupyter-widgets/controls",
          "model_name": "DescriptionStyleModel",
          "state": {
            "_view_name": "StyleView",
            "_model_name": "DescriptionStyleModel",
            "description_width": "",
            "_view_module": "@jupyter-widgets/base",
            "_model_module_version": "1.5.0",
            "_view_count": null,
            "_view_module_version": "1.2.0",
            "_model_module": "@jupyter-widgets/controls"
          }
        },
        "c459297415ef4a0498ada653595d9916": {
          "model_module": "@jupyter-widgets/base",
          "model_name": "LayoutModel",
          "state": {
            "_view_name": "LayoutView",
            "grid_template_rows": null,
            "right": null,
            "justify_content": null,
            "_view_module": "@jupyter-widgets/base",
            "overflow": null,
            "_model_module_version": "1.2.0",
            "_view_count": null,
            "flex_flow": null,
            "width": null,
            "min_width": null,
            "border": null,
            "align_items": null,
            "bottom": null,
            "_model_module": "@jupyter-widgets/base",
            "top": null,
            "grid_column": null,
            "overflow_y": null,
            "overflow_x": null,
            "grid_auto_flow": null,
            "grid_area": null,
            "grid_template_columns": null,
            "flex": null,
            "_model_name": "LayoutModel",
            "justify_items": null,
            "grid_row": null,
            "max_height": null,
            "align_content": null,
            "visibility": null,
            "align_self": null,
            "height": null,
            "min_height": null,
            "padding": null,
            "grid_auto_rows": null,
            "grid_gap": null,
            "max_width": null,
            "order": null,
            "_view_module_version": "1.2.0",
            "grid_template_areas": null,
            "object_position": null,
            "object_fit": null,
            "grid_auto_columns": null,
            "margin": null,
            "display": null,
            "left": null
          }
        },
        "20ab21fe89b24fbcaed41a7a328a32e8": {
          "model_module": "@jupyter-widgets/controls",
          "model_name": "HBoxModel",
          "state": {
            "_view_name": "HBoxView",
            "_dom_classes": [],
            "_model_name": "HBoxModel",
            "_view_module": "@jupyter-widgets/controls",
            "_model_module_version": "1.5.0",
            "_view_count": null,
            "_view_module_version": "1.5.0",
            "box_style": "",
            "layout": "IPY_MODEL_2ea9ca31037d41c3b5d40943b2be95f8",
            "_model_module": "@jupyter-widgets/controls",
            "children": [
              "IPY_MODEL_d1d9d380279a451dbb4e1c32834923f2",
              "IPY_MODEL_3b2c06b8850e4092ba0fbcdbab103567"
            ]
          }
        },
        "2ea9ca31037d41c3b5d40943b2be95f8": {
          "model_module": "@jupyter-widgets/base",
          "model_name": "LayoutModel",
          "state": {
            "_view_name": "LayoutView",
            "grid_template_rows": null,
            "right": null,
            "justify_content": null,
            "_view_module": "@jupyter-widgets/base",
            "overflow": null,
            "_model_module_version": "1.2.0",
            "_view_count": null,
            "flex_flow": null,
            "width": null,
            "min_width": null,
            "border": null,
            "align_items": null,
            "bottom": null,
            "_model_module": "@jupyter-widgets/base",
            "top": null,
            "grid_column": null,
            "overflow_y": null,
            "overflow_x": null,
            "grid_auto_flow": null,
            "grid_area": null,
            "grid_template_columns": null,
            "flex": null,
            "_model_name": "LayoutModel",
            "justify_items": null,
            "grid_row": null,
            "max_height": null,
            "align_content": null,
            "visibility": null,
            "align_self": null,
            "height": null,
            "min_height": null,
            "padding": null,
            "grid_auto_rows": null,
            "grid_gap": null,
            "max_width": null,
            "order": null,
            "_view_module_version": "1.2.0",
            "grid_template_areas": null,
            "object_position": null,
            "object_fit": null,
            "grid_auto_columns": null,
            "margin": null,
            "display": null,
            "left": null
          }
        },
        "d1d9d380279a451dbb4e1c32834923f2": {
          "model_module": "@jupyter-widgets/controls",
          "model_name": "FloatProgressModel",
          "state": {
            "_view_name": "ProgressView",
            "style": "IPY_MODEL_0b159902f5db48d9bb397c30a19515e4",
            "_dom_classes": [],
            "description": "Batches: 100%",
            "_model_name": "FloatProgressModel",
            "bar_style": "success",
            "max": 319,
            "_view_module": "@jupyter-widgets/controls",
            "_model_module_version": "1.5.0",
            "value": 319,
            "_view_count": null,
            "_view_module_version": "1.5.0",
            "orientation": "horizontal",
            "min": 0,
            "description_tooltip": null,
            "_model_module": "@jupyter-widgets/controls",
            "layout": "IPY_MODEL_ca739db4b6304fafb95fe3ac9a7d7d6d"
          }
        },
        "3b2c06b8850e4092ba0fbcdbab103567": {
          "model_module": "@jupyter-widgets/controls",
          "model_name": "HTMLModel",
          "state": {
            "_view_name": "HTMLView",
            "style": "IPY_MODEL_c0d2a00e5fed4fa6bd4e7a3eb9b12e22",
            "_dom_classes": [],
            "description": "",
            "_model_name": "HTMLModel",
            "placeholder": "​",
            "_view_module": "@jupyter-widgets/controls",
            "_model_module_version": "1.5.0",
            "value": " 319/319 [00:48&lt;00:00,  6.63it/s]",
            "_view_count": null,
            "_view_module_version": "1.5.0",
            "description_tooltip": null,
            "_model_module": "@jupyter-widgets/controls",
            "layout": "IPY_MODEL_17834442f00a479791422f7840de3b3b"
          }
        },
        "0b159902f5db48d9bb397c30a19515e4": {
          "model_module": "@jupyter-widgets/controls",
          "model_name": "ProgressStyleModel",
          "state": {
            "_view_name": "StyleView",
            "_model_name": "ProgressStyleModel",
            "description_width": "initial",
            "_view_module": "@jupyter-widgets/base",
            "_model_module_version": "1.5.0",
            "_view_count": null,
            "_view_module_version": "1.2.0",
            "bar_color": null,
            "_model_module": "@jupyter-widgets/controls"
          }
        },
        "ca739db4b6304fafb95fe3ac9a7d7d6d": {
          "model_module": "@jupyter-widgets/base",
          "model_name": "LayoutModel",
          "state": {
            "_view_name": "LayoutView",
            "grid_template_rows": null,
            "right": null,
            "justify_content": null,
            "_view_module": "@jupyter-widgets/base",
            "overflow": null,
            "_model_module_version": "1.2.0",
            "_view_count": null,
            "flex_flow": null,
            "width": null,
            "min_width": null,
            "border": null,
            "align_items": null,
            "bottom": null,
            "_model_module": "@jupyter-widgets/base",
            "top": null,
            "grid_column": null,
            "overflow_y": null,
            "overflow_x": null,
            "grid_auto_flow": null,
            "grid_area": null,
            "grid_template_columns": null,
            "flex": null,
            "_model_name": "LayoutModel",
            "justify_items": null,
            "grid_row": null,
            "max_height": null,
            "align_content": null,
            "visibility": null,
            "align_self": null,
            "height": null,
            "min_height": null,
            "padding": null,
            "grid_auto_rows": null,
            "grid_gap": null,
            "max_width": null,
            "order": null,
            "_view_module_version": "1.2.0",
            "grid_template_areas": null,
            "object_position": null,
            "object_fit": null,
            "grid_auto_columns": null,
            "margin": null,
            "display": null,
            "left": null
          }
        },
        "c0d2a00e5fed4fa6bd4e7a3eb9b12e22": {
          "model_module": "@jupyter-widgets/controls",
          "model_name": "DescriptionStyleModel",
          "state": {
            "_view_name": "StyleView",
            "_model_name": "DescriptionStyleModel",
            "description_width": "",
            "_view_module": "@jupyter-widgets/base",
            "_model_module_version": "1.5.0",
            "_view_count": null,
            "_view_module_version": "1.2.0",
            "_model_module": "@jupyter-widgets/controls"
          }
        },
        "17834442f00a479791422f7840de3b3b": {
          "model_module": "@jupyter-widgets/base",
          "model_name": "LayoutModel",
          "state": {
            "_view_name": "LayoutView",
            "grid_template_rows": null,
            "right": null,
            "justify_content": null,
            "_view_module": "@jupyter-widgets/base",
            "overflow": null,
            "_model_module_version": "1.2.0",
            "_view_count": null,
            "flex_flow": null,
            "width": null,
            "min_width": null,
            "border": null,
            "align_items": null,
            "bottom": null,
            "_model_module": "@jupyter-widgets/base",
            "top": null,
            "grid_column": null,
            "overflow_y": null,
            "overflow_x": null,
            "grid_auto_flow": null,
            "grid_area": null,
            "grid_template_columns": null,
            "flex": null,
            "_model_name": "LayoutModel",
            "justify_items": null,
            "grid_row": null,
            "max_height": null,
            "align_content": null,
            "visibility": null,
            "align_self": null,
            "height": null,
            "min_height": null,
            "padding": null,
            "grid_auto_rows": null,
            "grid_gap": null,
            "max_width": null,
            "order": null,
            "_view_module_version": "1.2.0",
            "grid_template_areas": null,
            "object_position": null,
            "object_fit": null,
            "grid_auto_columns": null,
            "margin": null,
            "display": null,
            "left": null
          }
        },
        "0837d2f6955b4e6683d2828a26d0d1e3": {
          "model_module": "@jupyter-widgets/controls",
          "model_name": "HBoxModel",
          "state": {
            "_view_name": "HBoxView",
            "_dom_classes": [],
            "_model_name": "HBoxModel",
            "_view_module": "@jupyter-widgets/controls",
            "_model_module_version": "1.5.0",
            "_view_count": null,
            "_view_module_version": "1.5.0",
            "box_style": "",
            "layout": "IPY_MODEL_22d312ed05c5437eb434331656da90eb",
            "_model_module": "@jupyter-widgets/controls",
            "children": [
              "IPY_MODEL_99c461958f0e4f61ad59ca519a75b04f",
              "IPY_MODEL_f57462f5097b4f6683466a9d9886173e"
            ]
          }
        },
        "22d312ed05c5437eb434331656da90eb": {
          "model_module": "@jupyter-widgets/base",
          "model_name": "LayoutModel",
          "state": {
            "_view_name": "LayoutView",
            "grid_template_rows": null,
            "right": null,
            "justify_content": null,
            "_view_module": "@jupyter-widgets/base",
            "overflow": null,
            "_model_module_version": "1.2.0",
            "_view_count": null,
            "flex_flow": null,
            "width": null,
            "min_width": null,
            "border": null,
            "align_items": null,
            "bottom": null,
            "_model_module": "@jupyter-widgets/base",
            "top": null,
            "grid_column": null,
            "overflow_y": null,
            "overflow_x": null,
            "grid_auto_flow": null,
            "grid_area": null,
            "grid_template_columns": null,
            "flex": null,
            "_model_name": "LayoutModel",
            "justify_items": null,
            "grid_row": null,
            "max_height": null,
            "align_content": null,
            "visibility": null,
            "align_self": null,
            "height": null,
            "min_height": null,
            "padding": null,
            "grid_auto_rows": null,
            "grid_gap": null,
            "max_width": null,
            "order": null,
            "_view_module_version": "1.2.0",
            "grid_template_areas": null,
            "object_position": null,
            "object_fit": null,
            "grid_auto_columns": null,
            "margin": null,
            "display": null,
            "left": null
          }
        },
        "99c461958f0e4f61ad59ca519a75b04f": {
          "model_module": "@jupyter-widgets/controls",
          "model_name": "FloatProgressModel",
          "state": {
            "_view_name": "ProgressView",
            "style": "IPY_MODEL_9c4de266ecd9473da6d06e025001c7e5",
            "_dom_classes": [],
            "description": "Batches: 100%",
            "_model_name": "FloatProgressModel",
            "bar_style": "success",
            "max": 319,
            "_view_module": "@jupyter-widgets/controls",
            "_model_module_version": "1.5.0",
            "value": 319,
            "_view_count": null,
            "_view_module_version": "1.5.0",
            "orientation": "horizontal",
            "min": 0,
            "description_tooltip": null,
            "_model_module": "@jupyter-widgets/controls",
            "layout": "IPY_MODEL_9f37eb89c6df41968e38a171c1766e64"
          }
        },
        "f57462f5097b4f6683466a9d9886173e": {
          "model_module": "@jupyter-widgets/controls",
          "model_name": "HTMLModel",
          "state": {
            "_view_name": "HTMLView",
            "style": "IPY_MODEL_d854a85ee3ca4b32bbba25facf783a67",
            "_dom_classes": [],
            "description": "",
            "_model_name": "HTMLModel",
            "placeholder": "​",
            "_view_module": "@jupyter-widgets/controls",
            "_model_module_version": "1.5.0",
            "value": " 319/319 [01:10&lt;00:00,  4.50it/s]",
            "_view_count": null,
            "_view_module_version": "1.5.0",
            "description_tooltip": null,
            "_model_module": "@jupyter-widgets/controls",
            "layout": "IPY_MODEL_e51da513a6cd48a7b5854b1dd2f64b46"
          }
        },
        "9c4de266ecd9473da6d06e025001c7e5": {
          "model_module": "@jupyter-widgets/controls",
          "model_name": "ProgressStyleModel",
          "state": {
            "_view_name": "StyleView",
            "_model_name": "ProgressStyleModel",
            "description_width": "initial",
            "_view_module": "@jupyter-widgets/base",
            "_model_module_version": "1.5.0",
            "_view_count": null,
            "_view_module_version": "1.2.0",
            "bar_color": null,
            "_model_module": "@jupyter-widgets/controls"
          }
        },
        "9f37eb89c6df41968e38a171c1766e64": {
          "model_module": "@jupyter-widgets/base",
          "model_name": "LayoutModel",
          "state": {
            "_view_name": "LayoutView",
            "grid_template_rows": null,
            "right": null,
            "justify_content": null,
            "_view_module": "@jupyter-widgets/base",
            "overflow": null,
            "_model_module_version": "1.2.0",
            "_view_count": null,
            "flex_flow": null,
            "width": null,
            "min_width": null,
            "border": null,
            "align_items": null,
            "bottom": null,
            "_model_module": "@jupyter-widgets/base",
            "top": null,
            "grid_column": null,
            "overflow_y": null,
            "overflow_x": null,
            "grid_auto_flow": null,
            "grid_area": null,
            "grid_template_columns": null,
            "flex": null,
            "_model_name": "LayoutModel",
            "justify_items": null,
            "grid_row": null,
            "max_height": null,
            "align_content": null,
            "visibility": null,
            "align_self": null,
            "height": null,
            "min_height": null,
            "padding": null,
            "grid_auto_rows": null,
            "grid_gap": null,
            "max_width": null,
            "order": null,
            "_view_module_version": "1.2.0",
            "grid_template_areas": null,
            "object_position": null,
            "object_fit": null,
            "grid_auto_columns": null,
            "margin": null,
            "display": null,
            "left": null
          }
        },
        "d854a85ee3ca4b32bbba25facf783a67": {
          "model_module": "@jupyter-widgets/controls",
          "model_name": "DescriptionStyleModel",
          "state": {
            "_view_name": "StyleView",
            "_model_name": "DescriptionStyleModel",
            "description_width": "",
            "_view_module": "@jupyter-widgets/base",
            "_model_module_version": "1.5.0",
            "_view_count": null,
            "_view_module_version": "1.2.0",
            "_model_module": "@jupyter-widgets/controls"
          }
        },
        "e51da513a6cd48a7b5854b1dd2f64b46": {
          "model_module": "@jupyter-widgets/base",
          "model_name": "LayoutModel",
          "state": {
            "_view_name": "LayoutView",
            "grid_template_rows": null,
            "right": null,
            "justify_content": null,
            "_view_module": "@jupyter-widgets/base",
            "overflow": null,
            "_model_module_version": "1.2.0",
            "_view_count": null,
            "flex_flow": null,
            "width": null,
            "min_width": null,
            "border": null,
            "align_items": null,
            "bottom": null,
            "_model_module": "@jupyter-widgets/base",
            "top": null,
            "grid_column": null,
            "overflow_y": null,
            "overflow_x": null,
            "grid_auto_flow": null,
            "grid_area": null,
            "grid_template_columns": null,
            "flex": null,
            "_model_name": "LayoutModel",
            "justify_items": null,
            "grid_row": null,
            "max_height": null,
            "align_content": null,
            "visibility": null,
            "align_self": null,
            "height": null,
            "min_height": null,
            "padding": null,
            "grid_auto_rows": null,
            "grid_gap": null,
            "max_width": null,
            "order": null,
            "_view_module_version": "1.2.0",
            "grid_template_areas": null,
            "object_position": null,
            "object_fit": null,
            "grid_auto_columns": null,
            "margin": null,
            "display": null,
            "left": null
          }
        },
        "393a8735c50e4467b683af7f19347c88": {
          "model_module": "@jupyter-widgets/controls",
          "model_name": "HBoxModel",
          "state": {
            "_view_name": "HBoxView",
            "_dom_classes": [],
            "_model_name": "HBoxModel",
            "_view_module": "@jupyter-widgets/controls",
            "_model_module_version": "1.5.0",
            "_view_count": null,
            "_view_module_version": "1.5.0",
            "box_style": "",
            "layout": "IPY_MODEL_4e01fc97b16b4349af306a17643e2d50",
            "_model_module": "@jupyter-widgets/controls",
            "children": [
              "IPY_MODEL_fc5ef41ee3b44158a5b7c4c565040afd",
              "IPY_MODEL_ace8cd5298064ca78c396212a3e62f29"
            ]
          }
        },
        "4e01fc97b16b4349af306a17643e2d50": {
          "model_module": "@jupyter-widgets/base",
          "model_name": "LayoutModel",
          "state": {
            "_view_name": "LayoutView",
            "grid_template_rows": null,
            "right": null,
            "justify_content": null,
            "_view_module": "@jupyter-widgets/base",
            "overflow": null,
            "_model_module_version": "1.2.0",
            "_view_count": null,
            "flex_flow": null,
            "width": null,
            "min_width": null,
            "border": null,
            "align_items": null,
            "bottom": null,
            "_model_module": "@jupyter-widgets/base",
            "top": null,
            "grid_column": null,
            "overflow_y": null,
            "overflow_x": null,
            "grid_auto_flow": null,
            "grid_area": null,
            "grid_template_columns": null,
            "flex": null,
            "_model_name": "LayoutModel",
            "justify_items": null,
            "grid_row": null,
            "max_height": null,
            "align_content": null,
            "visibility": null,
            "align_self": null,
            "height": null,
            "min_height": null,
            "padding": null,
            "grid_auto_rows": null,
            "grid_gap": null,
            "max_width": null,
            "order": null,
            "_view_module_version": "1.2.0",
            "grid_template_areas": null,
            "object_position": null,
            "object_fit": null,
            "grid_auto_columns": null,
            "margin": null,
            "display": null,
            "left": null
          }
        },
        "fc5ef41ee3b44158a5b7c4c565040afd": {
          "model_module": "@jupyter-widgets/controls",
          "model_name": "FloatProgressModel",
          "state": {
            "_view_name": "ProgressView",
            "style": "IPY_MODEL_d0bcfdbc3bef48778aa210f7d66c42fb",
            "_dom_classes": [],
            "description": "Batches: 100%",
            "_model_name": "FloatProgressModel",
            "bar_style": "success",
            "max": 319,
            "_view_module": "@jupyter-widgets/controls",
            "_model_module_version": "1.5.0",
            "value": 319,
            "_view_count": null,
            "_view_module_version": "1.5.0",
            "orientation": "horizontal",
            "min": 0,
            "description_tooltip": null,
            "_model_module": "@jupyter-widgets/controls",
            "layout": "IPY_MODEL_9597ff6999bd478a9f4a7e9fadca7202"
          }
        },
        "ace8cd5298064ca78c396212a3e62f29": {
          "model_module": "@jupyter-widgets/controls",
          "model_name": "HTMLModel",
          "state": {
            "_view_name": "HTMLView",
            "style": "IPY_MODEL_a78e90473203446faf5580f8b6779ede",
            "_dom_classes": [],
            "description": "",
            "_model_name": "HTMLModel",
            "placeholder": "​",
            "_view_module": "@jupyter-widgets/controls",
            "_model_module_version": "1.5.0",
            "value": " 319/319 [01:11&lt;00:00,  4.47it/s]",
            "_view_count": null,
            "_view_module_version": "1.5.0",
            "description_tooltip": null,
            "_model_module": "@jupyter-widgets/controls",
            "layout": "IPY_MODEL_b0cb9dc1a17b4933afdf0e9a3e8d401a"
          }
        },
        "d0bcfdbc3bef48778aa210f7d66c42fb": {
          "model_module": "@jupyter-widgets/controls",
          "model_name": "ProgressStyleModel",
          "state": {
            "_view_name": "StyleView",
            "_model_name": "ProgressStyleModel",
            "description_width": "initial",
            "_view_module": "@jupyter-widgets/base",
            "_model_module_version": "1.5.0",
            "_view_count": null,
            "_view_module_version": "1.2.0",
            "bar_color": null,
            "_model_module": "@jupyter-widgets/controls"
          }
        },
        "9597ff6999bd478a9f4a7e9fadca7202": {
          "model_module": "@jupyter-widgets/base",
          "model_name": "LayoutModel",
          "state": {
            "_view_name": "LayoutView",
            "grid_template_rows": null,
            "right": null,
            "justify_content": null,
            "_view_module": "@jupyter-widgets/base",
            "overflow": null,
            "_model_module_version": "1.2.0",
            "_view_count": null,
            "flex_flow": null,
            "width": null,
            "min_width": null,
            "border": null,
            "align_items": null,
            "bottom": null,
            "_model_module": "@jupyter-widgets/base",
            "top": null,
            "grid_column": null,
            "overflow_y": null,
            "overflow_x": null,
            "grid_auto_flow": null,
            "grid_area": null,
            "grid_template_columns": null,
            "flex": null,
            "_model_name": "LayoutModel",
            "justify_items": null,
            "grid_row": null,
            "max_height": null,
            "align_content": null,
            "visibility": null,
            "align_self": null,
            "height": null,
            "min_height": null,
            "padding": null,
            "grid_auto_rows": null,
            "grid_gap": null,
            "max_width": null,
            "order": null,
            "_view_module_version": "1.2.0",
            "grid_template_areas": null,
            "object_position": null,
            "object_fit": null,
            "grid_auto_columns": null,
            "margin": null,
            "display": null,
            "left": null
          }
        },
        "a78e90473203446faf5580f8b6779ede": {
          "model_module": "@jupyter-widgets/controls",
          "model_name": "DescriptionStyleModel",
          "state": {
            "_view_name": "StyleView",
            "_model_name": "DescriptionStyleModel",
            "description_width": "",
            "_view_module": "@jupyter-widgets/base",
            "_model_module_version": "1.5.0",
            "_view_count": null,
            "_view_module_version": "1.2.0",
            "_model_module": "@jupyter-widgets/controls"
          }
        },
        "b0cb9dc1a17b4933afdf0e9a3e8d401a": {
          "model_module": "@jupyter-widgets/base",
          "model_name": "LayoutModel",
          "state": {
            "_view_name": "LayoutView",
            "grid_template_rows": null,
            "right": null,
            "justify_content": null,
            "_view_module": "@jupyter-widgets/base",
            "overflow": null,
            "_model_module_version": "1.2.0",
            "_view_count": null,
            "flex_flow": null,
            "width": null,
            "min_width": null,
            "border": null,
            "align_items": null,
            "bottom": null,
            "_model_module": "@jupyter-widgets/base",
            "top": null,
            "grid_column": null,
            "overflow_y": null,
            "overflow_x": null,
            "grid_auto_flow": null,
            "grid_area": null,
            "grid_template_columns": null,
            "flex": null,
            "_model_name": "LayoutModel",
            "justify_items": null,
            "grid_row": null,
            "max_height": null,
            "align_content": null,
            "visibility": null,
            "align_self": null,
            "height": null,
            "min_height": null,
            "padding": null,
            "grid_auto_rows": null,
            "grid_gap": null,
            "max_width": null,
            "order": null,
            "_view_module_version": "1.2.0",
            "grid_template_areas": null,
            "object_position": null,
            "object_fit": null,
            "grid_auto_columns": null,
            "margin": null,
            "display": null,
            "left": null
          }
        },
        "63c53ce80c0643ffb9d9afbeb464f654": {
          "model_module": "@jupyter-widgets/controls",
          "model_name": "HBoxModel",
          "state": {
            "_view_name": "HBoxView",
            "_dom_classes": [],
            "_model_name": "HBoxModel",
            "_view_module": "@jupyter-widgets/controls",
            "_model_module_version": "1.5.0",
            "_view_count": null,
            "_view_module_version": "1.5.0",
            "box_style": "",
            "layout": "IPY_MODEL_0b1937dae2424ae8b697de9f56c1b940",
            "_model_module": "@jupyter-widgets/controls",
            "children": [
              "IPY_MODEL_c9eb68540135447daca7b125006416b5",
              "IPY_MODEL_91502a3cb72c4c1dbcc389027ae97e46"
            ]
          }
        },
        "0b1937dae2424ae8b697de9f56c1b940": {
          "model_module": "@jupyter-widgets/base",
          "model_name": "LayoutModel",
          "state": {
            "_view_name": "LayoutView",
            "grid_template_rows": null,
            "right": null,
            "justify_content": null,
            "_view_module": "@jupyter-widgets/base",
            "overflow": null,
            "_model_module_version": "1.2.0",
            "_view_count": null,
            "flex_flow": null,
            "width": null,
            "min_width": null,
            "border": null,
            "align_items": null,
            "bottom": null,
            "_model_module": "@jupyter-widgets/base",
            "top": null,
            "grid_column": null,
            "overflow_y": null,
            "overflow_x": null,
            "grid_auto_flow": null,
            "grid_area": null,
            "grid_template_columns": null,
            "flex": null,
            "_model_name": "LayoutModel",
            "justify_items": null,
            "grid_row": null,
            "max_height": null,
            "align_content": null,
            "visibility": null,
            "align_self": null,
            "height": null,
            "min_height": null,
            "padding": null,
            "grid_auto_rows": null,
            "grid_gap": null,
            "max_width": null,
            "order": null,
            "_view_module_version": "1.2.0",
            "grid_template_areas": null,
            "object_position": null,
            "object_fit": null,
            "grid_auto_columns": null,
            "margin": null,
            "display": null,
            "left": null
          }
        },
        "c9eb68540135447daca7b125006416b5": {
          "model_module": "@jupyter-widgets/controls",
          "model_name": "FloatProgressModel",
          "state": {
            "_view_name": "ProgressView",
            "style": "IPY_MODEL_299a9a23cb434c77b9fd414f03034cdf",
            "_dom_classes": [],
            "description": "Batches: 100%",
            "_model_name": "FloatProgressModel",
            "bar_style": "success",
            "max": 319,
            "_view_module": "@jupyter-widgets/controls",
            "_model_module_version": "1.5.0",
            "value": 319,
            "_view_count": null,
            "_view_module_version": "1.5.0",
            "orientation": "horizontal",
            "min": 0,
            "description_tooltip": null,
            "_model_module": "@jupyter-widgets/controls",
            "layout": "IPY_MODEL_491ddcdcd62e451d855a62389c42addb"
          }
        },
        "91502a3cb72c4c1dbcc389027ae97e46": {
          "model_module": "@jupyter-widgets/controls",
          "model_name": "HTMLModel",
          "state": {
            "_view_name": "HTMLView",
            "style": "IPY_MODEL_f5d86145e4854f20bb76a5d9089f44ce",
            "_dom_classes": [],
            "description": "",
            "_model_name": "HTMLModel",
            "placeholder": "​",
            "_view_module": "@jupyter-widgets/controls",
            "_model_module_version": "1.5.0",
            "value": " 319/319 [01:07&lt;00:00,  4.70it/s]",
            "_view_count": null,
            "_view_module_version": "1.5.0",
            "description_tooltip": null,
            "_model_module": "@jupyter-widgets/controls",
            "layout": "IPY_MODEL_3a7481d63d3e4b0bba22087572e7242e"
          }
        },
        "299a9a23cb434c77b9fd414f03034cdf": {
          "model_module": "@jupyter-widgets/controls",
          "model_name": "ProgressStyleModel",
          "state": {
            "_view_name": "StyleView",
            "_model_name": "ProgressStyleModel",
            "description_width": "initial",
            "_view_module": "@jupyter-widgets/base",
            "_model_module_version": "1.5.0",
            "_view_count": null,
            "_view_module_version": "1.2.0",
            "bar_color": null,
            "_model_module": "@jupyter-widgets/controls"
          }
        },
        "491ddcdcd62e451d855a62389c42addb": {
          "model_module": "@jupyter-widgets/base",
          "model_name": "LayoutModel",
          "state": {
            "_view_name": "LayoutView",
            "grid_template_rows": null,
            "right": null,
            "justify_content": null,
            "_view_module": "@jupyter-widgets/base",
            "overflow": null,
            "_model_module_version": "1.2.0",
            "_view_count": null,
            "flex_flow": null,
            "width": null,
            "min_width": null,
            "border": null,
            "align_items": null,
            "bottom": null,
            "_model_module": "@jupyter-widgets/base",
            "top": null,
            "grid_column": null,
            "overflow_y": null,
            "overflow_x": null,
            "grid_auto_flow": null,
            "grid_area": null,
            "grid_template_columns": null,
            "flex": null,
            "_model_name": "LayoutModel",
            "justify_items": null,
            "grid_row": null,
            "max_height": null,
            "align_content": null,
            "visibility": null,
            "align_self": null,
            "height": null,
            "min_height": null,
            "padding": null,
            "grid_auto_rows": null,
            "grid_gap": null,
            "max_width": null,
            "order": null,
            "_view_module_version": "1.2.0",
            "grid_template_areas": null,
            "object_position": null,
            "object_fit": null,
            "grid_auto_columns": null,
            "margin": null,
            "display": null,
            "left": null
          }
        },
        "f5d86145e4854f20bb76a5d9089f44ce": {
          "model_module": "@jupyter-widgets/controls",
          "model_name": "DescriptionStyleModel",
          "state": {
            "_view_name": "StyleView",
            "_model_name": "DescriptionStyleModel",
            "description_width": "",
            "_view_module": "@jupyter-widgets/base",
            "_model_module_version": "1.5.0",
            "_view_count": null,
            "_view_module_version": "1.2.0",
            "_model_module": "@jupyter-widgets/controls"
          }
        },
        "3a7481d63d3e4b0bba22087572e7242e": {
          "model_module": "@jupyter-widgets/base",
          "model_name": "LayoutModel",
          "state": {
            "_view_name": "LayoutView",
            "grid_template_rows": null,
            "right": null,
            "justify_content": null,
            "_view_module": "@jupyter-widgets/base",
            "overflow": null,
            "_model_module_version": "1.2.0",
            "_view_count": null,
            "flex_flow": null,
            "width": null,
            "min_width": null,
            "border": null,
            "align_items": null,
            "bottom": null,
            "_model_module": "@jupyter-widgets/base",
            "top": null,
            "grid_column": null,
            "overflow_y": null,
            "overflow_x": null,
            "grid_auto_flow": null,
            "grid_area": null,
            "grid_template_columns": null,
            "flex": null,
            "_model_name": "LayoutModel",
            "justify_items": null,
            "grid_row": null,
            "max_height": null,
            "align_content": null,
            "visibility": null,
            "align_self": null,
            "height": null,
            "min_height": null,
            "padding": null,
            "grid_auto_rows": null,
            "grid_gap": null,
            "max_width": null,
            "order": null,
            "_view_module_version": "1.2.0",
            "grid_template_areas": null,
            "object_position": null,
            "object_fit": null,
            "grid_auto_columns": null,
            "margin": null,
            "display": null,
            "left": null
          }
        },
        "925e507855024e549b597becde64525f": {
          "model_module": "@jupyter-widgets/controls",
          "model_name": "HBoxModel",
          "state": {
            "_view_name": "HBoxView",
            "_dom_classes": [],
            "_model_name": "HBoxModel",
            "_view_module": "@jupyter-widgets/controls",
            "_model_module_version": "1.5.0",
            "_view_count": null,
            "_view_module_version": "1.5.0",
            "box_style": "",
            "layout": "IPY_MODEL_7d5f975253384db9b6acd26688da73a6",
            "_model_module": "@jupyter-widgets/controls",
            "children": [
              "IPY_MODEL_ba9a711a09b74eae8bf1ec457838a139",
              "IPY_MODEL_cd5755a59ece476ba63a5fc7128a28c3"
            ]
          }
        },
        "7d5f975253384db9b6acd26688da73a6": {
          "model_module": "@jupyter-widgets/base",
          "model_name": "LayoutModel",
          "state": {
            "_view_name": "LayoutView",
            "grid_template_rows": null,
            "right": null,
            "justify_content": null,
            "_view_module": "@jupyter-widgets/base",
            "overflow": null,
            "_model_module_version": "1.2.0",
            "_view_count": null,
            "flex_flow": null,
            "width": null,
            "min_width": null,
            "border": null,
            "align_items": null,
            "bottom": null,
            "_model_module": "@jupyter-widgets/base",
            "top": null,
            "grid_column": null,
            "overflow_y": null,
            "overflow_x": null,
            "grid_auto_flow": null,
            "grid_area": null,
            "grid_template_columns": null,
            "flex": null,
            "_model_name": "LayoutModel",
            "justify_items": null,
            "grid_row": null,
            "max_height": null,
            "align_content": null,
            "visibility": null,
            "align_self": null,
            "height": null,
            "min_height": null,
            "padding": null,
            "grid_auto_rows": null,
            "grid_gap": null,
            "max_width": null,
            "order": null,
            "_view_module_version": "1.2.0",
            "grid_template_areas": null,
            "object_position": null,
            "object_fit": null,
            "grid_auto_columns": null,
            "margin": null,
            "display": null,
            "left": null
          }
        },
        "ba9a711a09b74eae8bf1ec457838a139": {
          "model_module": "@jupyter-widgets/controls",
          "model_name": "FloatProgressModel",
          "state": {
            "_view_name": "ProgressView",
            "style": "IPY_MODEL_433815b42e384ea8b1ef04f0b5e2a2bb",
            "_dom_classes": [],
            "description": "Batches: 100%",
            "_model_name": "FloatProgressModel",
            "bar_style": "success",
            "max": 319,
            "_view_module": "@jupyter-widgets/controls",
            "_model_module_version": "1.5.0",
            "value": 319,
            "_view_count": null,
            "_view_module_version": "1.5.0",
            "orientation": "horizontal",
            "min": 0,
            "description_tooltip": null,
            "_model_module": "@jupyter-widgets/controls",
            "layout": "IPY_MODEL_28d4cb86a675445f8f507f38762e7a22"
          }
        },
        "cd5755a59ece476ba63a5fc7128a28c3": {
          "model_module": "@jupyter-widgets/controls",
          "model_name": "HTMLModel",
          "state": {
            "_view_name": "HTMLView",
            "style": "IPY_MODEL_98f134f375584830b1b27bafd834b288",
            "_dom_classes": [],
            "description": "",
            "_model_name": "HTMLModel",
            "placeholder": "​",
            "_view_module": "@jupyter-widgets/controls",
            "_model_module_version": "1.5.0",
            "value": " 319/319 [02:00&lt;00:00,  2.64it/s]",
            "_view_count": null,
            "_view_module_version": "1.5.0",
            "description_tooltip": null,
            "_model_module": "@jupyter-widgets/controls",
            "layout": "IPY_MODEL_269971b7dffa4da49c954a06998c92e1"
          }
        },
        "433815b42e384ea8b1ef04f0b5e2a2bb": {
          "model_module": "@jupyter-widgets/controls",
          "model_name": "ProgressStyleModel",
          "state": {
            "_view_name": "StyleView",
            "_model_name": "ProgressStyleModel",
            "description_width": "initial",
            "_view_module": "@jupyter-widgets/base",
            "_model_module_version": "1.5.0",
            "_view_count": null,
            "_view_module_version": "1.2.0",
            "bar_color": null,
            "_model_module": "@jupyter-widgets/controls"
          }
        },
        "28d4cb86a675445f8f507f38762e7a22": {
          "model_module": "@jupyter-widgets/base",
          "model_name": "LayoutModel",
          "state": {
            "_view_name": "LayoutView",
            "grid_template_rows": null,
            "right": null,
            "justify_content": null,
            "_view_module": "@jupyter-widgets/base",
            "overflow": null,
            "_model_module_version": "1.2.0",
            "_view_count": null,
            "flex_flow": null,
            "width": null,
            "min_width": null,
            "border": null,
            "align_items": null,
            "bottom": null,
            "_model_module": "@jupyter-widgets/base",
            "top": null,
            "grid_column": null,
            "overflow_y": null,
            "overflow_x": null,
            "grid_auto_flow": null,
            "grid_area": null,
            "grid_template_columns": null,
            "flex": null,
            "_model_name": "LayoutModel",
            "justify_items": null,
            "grid_row": null,
            "max_height": null,
            "align_content": null,
            "visibility": null,
            "align_self": null,
            "height": null,
            "min_height": null,
            "padding": null,
            "grid_auto_rows": null,
            "grid_gap": null,
            "max_width": null,
            "order": null,
            "_view_module_version": "1.2.0",
            "grid_template_areas": null,
            "object_position": null,
            "object_fit": null,
            "grid_auto_columns": null,
            "margin": null,
            "display": null,
            "left": null
          }
        },
        "98f134f375584830b1b27bafd834b288": {
          "model_module": "@jupyter-widgets/controls",
          "model_name": "DescriptionStyleModel",
          "state": {
            "_view_name": "StyleView",
            "_model_name": "DescriptionStyleModel",
            "description_width": "",
            "_view_module": "@jupyter-widgets/base",
            "_model_module_version": "1.5.0",
            "_view_count": null,
            "_view_module_version": "1.2.0",
            "_model_module": "@jupyter-widgets/controls"
          }
        },
        "269971b7dffa4da49c954a06998c92e1": {
          "model_module": "@jupyter-widgets/base",
          "model_name": "LayoutModel",
          "state": {
            "_view_name": "LayoutView",
            "grid_template_rows": null,
            "right": null,
            "justify_content": null,
            "_view_module": "@jupyter-widgets/base",
            "overflow": null,
            "_model_module_version": "1.2.0",
            "_view_count": null,
            "flex_flow": null,
            "width": null,
            "min_width": null,
            "border": null,
            "align_items": null,
            "bottom": null,
            "_model_module": "@jupyter-widgets/base",
            "top": null,
            "grid_column": null,
            "overflow_y": null,
            "overflow_x": null,
            "grid_auto_flow": null,
            "grid_area": null,
            "grid_template_columns": null,
            "flex": null,
            "_model_name": "LayoutModel",
            "justify_items": null,
            "grid_row": null,
            "max_height": null,
            "align_content": null,
            "visibility": null,
            "align_self": null,
            "height": null,
            "min_height": null,
            "padding": null,
            "grid_auto_rows": null,
            "grid_gap": null,
            "max_width": null,
            "order": null,
            "_view_module_version": "1.2.0",
            "grid_template_areas": null,
            "object_position": null,
            "object_fit": null,
            "grid_auto_columns": null,
            "margin": null,
            "display": null,
            "left": null
          }
        },
        "a1492fdaf954412a9808900542ed51b8": {
          "model_module": "@jupyter-widgets/controls",
          "model_name": "HBoxModel",
          "state": {
            "_view_name": "HBoxView",
            "_dom_classes": [],
            "_model_name": "HBoxModel",
            "_view_module": "@jupyter-widgets/controls",
            "_model_module_version": "1.5.0",
            "_view_count": null,
            "_view_module_version": "1.5.0",
            "box_style": "",
            "layout": "IPY_MODEL_e9ebebee8e6942d5b9ca70e71000fc64",
            "_model_module": "@jupyter-widgets/controls",
            "children": [
              "IPY_MODEL_98106ace118841f59957356777746085",
              "IPY_MODEL_f35a04dac1af4cf0b8e2c17d4d2f7fbb"
            ]
          }
        },
        "e9ebebee8e6942d5b9ca70e71000fc64": {
          "model_module": "@jupyter-widgets/base",
          "model_name": "LayoutModel",
          "state": {
            "_view_name": "LayoutView",
            "grid_template_rows": null,
            "right": null,
            "justify_content": null,
            "_view_module": "@jupyter-widgets/base",
            "overflow": null,
            "_model_module_version": "1.2.0",
            "_view_count": null,
            "flex_flow": null,
            "width": null,
            "min_width": null,
            "border": null,
            "align_items": null,
            "bottom": null,
            "_model_module": "@jupyter-widgets/base",
            "top": null,
            "grid_column": null,
            "overflow_y": null,
            "overflow_x": null,
            "grid_auto_flow": null,
            "grid_area": null,
            "grid_template_columns": null,
            "flex": null,
            "_model_name": "LayoutModel",
            "justify_items": null,
            "grid_row": null,
            "max_height": null,
            "align_content": null,
            "visibility": null,
            "align_self": null,
            "height": null,
            "min_height": null,
            "padding": null,
            "grid_auto_rows": null,
            "grid_gap": null,
            "max_width": null,
            "order": null,
            "_view_module_version": "1.2.0",
            "grid_template_areas": null,
            "object_position": null,
            "object_fit": null,
            "grid_auto_columns": null,
            "margin": null,
            "display": null,
            "left": null
          }
        },
        "98106ace118841f59957356777746085": {
          "model_module": "@jupyter-widgets/controls",
          "model_name": "FloatProgressModel",
          "state": {
            "_view_name": "ProgressView",
            "style": "IPY_MODEL_0c191b29fb594250a5d3667746527aad",
            "_dom_classes": [],
            "description": "Batches: 100%",
            "_model_name": "FloatProgressModel",
            "bar_style": "success",
            "max": 319,
            "_view_module": "@jupyter-widgets/controls",
            "_model_module_version": "1.5.0",
            "value": 319,
            "_view_count": null,
            "_view_module_version": "1.5.0",
            "orientation": "horizontal",
            "min": 0,
            "description_tooltip": null,
            "_model_module": "@jupyter-widgets/controls",
            "layout": "IPY_MODEL_bb96c826d685434791b3912abc99ba2e"
          }
        },
        "f35a04dac1af4cf0b8e2c17d4d2f7fbb": {
          "model_module": "@jupyter-widgets/controls",
          "model_name": "HTMLModel",
          "state": {
            "_view_name": "HTMLView",
            "style": "IPY_MODEL_826d90e416944fc5bc0a4d0a322d8256",
            "_dom_classes": [],
            "description": "",
            "_model_name": "HTMLModel",
            "placeholder": "​",
            "_view_module": "@jupyter-widgets/controls",
            "_model_module_version": "1.5.0",
            "value": " 319/319 [00:46&lt;00:00,  6.84it/s]",
            "_view_count": null,
            "_view_module_version": "1.5.0",
            "description_tooltip": null,
            "_model_module": "@jupyter-widgets/controls",
            "layout": "IPY_MODEL_44504e891dc44e86b3dca250bb1c3c01"
          }
        },
        "0c191b29fb594250a5d3667746527aad": {
          "model_module": "@jupyter-widgets/controls",
          "model_name": "ProgressStyleModel",
          "state": {
            "_view_name": "StyleView",
            "_model_name": "ProgressStyleModel",
            "description_width": "initial",
            "_view_module": "@jupyter-widgets/base",
            "_model_module_version": "1.5.0",
            "_view_count": null,
            "_view_module_version": "1.2.0",
            "bar_color": null,
            "_model_module": "@jupyter-widgets/controls"
          }
        },
        "bb96c826d685434791b3912abc99ba2e": {
          "model_module": "@jupyter-widgets/base",
          "model_name": "LayoutModel",
          "state": {
            "_view_name": "LayoutView",
            "grid_template_rows": null,
            "right": null,
            "justify_content": null,
            "_view_module": "@jupyter-widgets/base",
            "overflow": null,
            "_model_module_version": "1.2.0",
            "_view_count": null,
            "flex_flow": null,
            "width": null,
            "min_width": null,
            "border": null,
            "align_items": null,
            "bottom": null,
            "_model_module": "@jupyter-widgets/base",
            "top": null,
            "grid_column": null,
            "overflow_y": null,
            "overflow_x": null,
            "grid_auto_flow": null,
            "grid_area": null,
            "grid_template_columns": null,
            "flex": null,
            "_model_name": "LayoutModel",
            "justify_items": null,
            "grid_row": null,
            "max_height": null,
            "align_content": null,
            "visibility": null,
            "align_self": null,
            "height": null,
            "min_height": null,
            "padding": null,
            "grid_auto_rows": null,
            "grid_gap": null,
            "max_width": null,
            "order": null,
            "_view_module_version": "1.2.0",
            "grid_template_areas": null,
            "object_position": null,
            "object_fit": null,
            "grid_auto_columns": null,
            "margin": null,
            "display": null,
            "left": null
          }
        },
        "826d90e416944fc5bc0a4d0a322d8256": {
          "model_module": "@jupyter-widgets/controls",
          "model_name": "DescriptionStyleModel",
          "state": {
            "_view_name": "StyleView",
            "_model_name": "DescriptionStyleModel",
            "description_width": "",
            "_view_module": "@jupyter-widgets/base",
            "_model_module_version": "1.5.0",
            "_view_count": null,
            "_view_module_version": "1.2.0",
            "_model_module": "@jupyter-widgets/controls"
          }
        },
        "44504e891dc44e86b3dca250bb1c3c01": {
          "model_module": "@jupyter-widgets/base",
          "model_name": "LayoutModel",
          "state": {
            "_view_name": "LayoutView",
            "grid_template_rows": null,
            "right": null,
            "justify_content": null,
            "_view_module": "@jupyter-widgets/base",
            "overflow": null,
            "_model_module_version": "1.2.0",
            "_view_count": null,
            "flex_flow": null,
            "width": null,
            "min_width": null,
            "border": null,
            "align_items": null,
            "bottom": null,
            "_model_module": "@jupyter-widgets/base",
            "top": null,
            "grid_column": null,
            "overflow_y": null,
            "overflow_x": null,
            "grid_auto_flow": null,
            "grid_area": null,
            "grid_template_columns": null,
            "flex": null,
            "_model_name": "LayoutModel",
            "justify_items": null,
            "grid_row": null,
            "max_height": null,
            "align_content": null,
            "visibility": null,
            "align_self": null,
            "height": null,
            "min_height": null,
            "padding": null,
            "grid_auto_rows": null,
            "grid_gap": null,
            "max_width": null,
            "order": null,
            "_view_module_version": "1.2.0",
            "grid_template_areas": null,
            "object_position": null,
            "object_fit": null,
            "grid_auto_columns": null,
            "margin": null,
            "display": null,
            "left": null
          }
        },
        "bdbfb704df514a42ba51d067981b4fb2": {
          "model_module": "@jupyter-widgets/controls",
          "model_name": "HBoxModel",
          "state": {
            "_view_name": "HBoxView",
            "_dom_classes": [],
            "_model_name": "HBoxModel",
            "_view_module": "@jupyter-widgets/controls",
            "_model_module_version": "1.5.0",
            "_view_count": null,
            "_view_module_version": "1.5.0",
            "box_style": "",
            "layout": "IPY_MODEL_a18e9ef7700f4ecd936c39613da0aa89",
            "_model_module": "@jupyter-widgets/controls",
            "children": [
              "IPY_MODEL_5e521b1618134e3a8400a31c0901faea",
              "IPY_MODEL_e643da8cc2f043f691477c3367e8f32b"
            ]
          }
        },
        "a18e9ef7700f4ecd936c39613da0aa89": {
          "model_module": "@jupyter-widgets/base",
          "model_name": "LayoutModel",
          "state": {
            "_view_name": "LayoutView",
            "grid_template_rows": null,
            "right": null,
            "justify_content": null,
            "_view_module": "@jupyter-widgets/base",
            "overflow": null,
            "_model_module_version": "1.2.0",
            "_view_count": null,
            "flex_flow": null,
            "width": null,
            "min_width": null,
            "border": null,
            "align_items": null,
            "bottom": null,
            "_model_module": "@jupyter-widgets/base",
            "top": null,
            "grid_column": null,
            "overflow_y": null,
            "overflow_x": null,
            "grid_auto_flow": null,
            "grid_area": null,
            "grid_template_columns": null,
            "flex": null,
            "_model_name": "LayoutModel",
            "justify_items": null,
            "grid_row": null,
            "max_height": null,
            "align_content": null,
            "visibility": null,
            "align_self": null,
            "height": null,
            "min_height": null,
            "padding": null,
            "grid_auto_rows": null,
            "grid_gap": null,
            "max_width": null,
            "order": null,
            "_view_module_version": "1.2.0",
            "grid_template_areas": null,
            "object_position": null,
            "object_fit": null,
            "grid_auto_columns": null,
            "margin": null,
            "display": null,
            "left": null
          }
        },
        "5e521b1618134e3a8400a31c0901faea": {
          "model_module": "@jupyter-widgets/controls",
          "model_name": "FloatProgressModel",
          "state": {
            "_view_name": "ProgressView",
            "style": "IPY_MODEL_093df623f76d48099289e5bb9fcf5bce",
            "_dom_classes": [],
            "description": "Batches: 100%",
            "_model_name": "FloatProgressModel",
            "bar_style": "success",
            "max": 319,
            "_view_module": "@jupyter-widgets/controls",
            "_model_module_version": "1.5.0",
            "value": 319,
            "_view_count": null,
            "_view_module_version": "1.5.0",
            "orientation": "horizontal",
            "min": 0,
            "description_tooltip": null,
            "_model_module": "@jupyter-widgets/controls",
            "layout": "IPY_MODEL_613ab0304e204e4c819ba223419a0081"
          }
        },
        "e643da8cc2f043f691477c3367e8f32b": {
          "model_module": "@jupyter-widgets/controls",
          "model_name": "HTMLModel",
          "state": {
            "_view_name": "HTMLView",
            "style": "IPY_MODEL_4f0a7d12ce584263a4101555bdbb553a",
            "_dom_classes": [],
            "description": "",
            "_model_name": "HTMLModel",
            "placeholder": "​",
            "_view_module": "@jupyter-widgets/controls",
            "_model_module_version": "1.5.0",
            "value": " 319/319 [00:47&lt;00:00,  6.73it/s]",
            "_view_count": null,
            "_view_module_version": "1.5.0",
            "description_tooltip": null,
            "_model_module": "@jupyter-widgets/controls",
            "layout": "IPY_MODEL_917fa1acd3814b54b45315a9744e9d85"
          }
        },
        "093df623f76d48099289e5bb9fcf5bce": {
          "model_module": "@jupyter-widgets/controls",
          "model_name": "ProgressStyleModel",
          "state": {
            "_view_name": "StyleView",
            "_model_name": "ProgressStyleModel",
            "description_width": "initial",
            "_view_module": "@jupyter-widgets/base",
            "_model_module_version": "1.5.0",
            "_view_count": null,
            "_view_module_version": "1.2.0",
            "bar_color": null,
            "_model_module": "@jupyter-widgets/controls"
          }
        },
        "613ab0304e204e4c819ba223419a0081": {
          "model_module": "@jupyter-widgets/base",
          "model_name": "LayoutModel",
          "state": {
            "_view_name": "LayoutView",
            "grid_template_rows": null,
            "right": null,
            "justify_content": null,
            "_view_module": "@jupyter-widgets/base",
            "overflow": null,
            "_model_module_version": "1.2.0",
            "_view_count": null,
            "flex_flow": null,
            "width": null,
            "min_width": null,
            "border": null,
            "align_items": null,
            "bottom": null,
            "_model_module": "@jupyter-widgets/base",
            "top": null,
            "grid_column": null,
            "overflow_y": null,
            "overflow_x": null,
            "grid_auto_flow": null,
            "grid_area": null,
            "grid_template_columns": null,
            "flex": null,
            "_model_name": "LayoutModel",
            "justify_items": null,
            "grid_row": null,
            "max_height": null,
            "align_content": null,
            "visibility": null,
            "align_self": null,
            "height": null,
            "min_height": null,
            "padding": null,
            "grid_auto_rows": null,
            "grid_gap": null,
            "max_width": null,
            "order": null,
            "_view_module_version": "1.2.0",
            "grid_template_areas": null,
            "object_position": null,
            "object_fit": null,
            "grid_auto_columns": null,
            "margin": null,
            "display": null,
            "left": null
          }
        },
        "4f0a7d12ce584263a4101555bdbb553a": {
          "model_module": "@jupyter-widgets/controls",
          "model_name": "DescriptionStyleModel",
          "state": {
            "_view_name": "StyleView",
            "_model_name": "DescriptionStyleModel",
            "description_width": "",
            "_view_module": "@jupyter-widgets/base",
            "_model_module_version": "1.5.0",
            "_view_count": null,
            "_view_module_version": "1.2.0",
            "_model_module": "@jupyter-widgets/controls"
          }
        },
        "917fa1acd3814b54b45315a9744e9d85": {
          "model_module": "@jupyter-widgets/base",
          "model_name": "LayoutModel",
          "state": {
            "_view_name": "LayoutView",
            "grid_template_rows": null,
            "right": null,
            "justify_content": null,
            "_view_module": "@jupyter-widgets/base",
            "overflow": null,
            "_model_module_version": "1.2.0",
            "_view_count": null,
            "flex_flow": null,
            "width": null,
            "min_width": null,
            "border": null,
            "align_items": null,
            "bottom": null,
            "_model_module": "@jupyter-widgets/base",
            "top": null,
            "grid_column": null,
            "overflow_y": null,
            "overflow_x": null,
            "grid_auto_flow": null,
            "grid_area": null,
            "grid_template_columns": null,
            "flex": null,
            "_model_name": "LayoutModel",
            "justify_items": null,
            "grid_row": null,
            "max_height": null,
            "align_content": null,
            "visibility": null,
            "align_self": null,
            "height": null,
            "min_height": null,
            "padding": null,
            "grid_auto_rows": null,
            "grid_gap": null,
            "max_width": null,
            "order": null,
            "_view_module_version": "1.2.0",
            "grid_template_areas": null,
            "object_position": null,
            "object_fit": null,
            "grid_auto_columns": null,
            "margin": null,
            "display": null,
            "left": null
          }
        },
        "882c7749f19142be8b026362e711d87c": {
          "model_module": "@jupyter-widgets/controls",
          "model_name": "HBoxModel",
          "state": {
            "_view_name": "HBoxView",
            "_dom_classes": [],
            "_model_name": "HBoxModel",
            "_view_module": "@jupyter-widgets/controls",
            "_model_module_version": "1.5.0",
            "_view_count": null,
            "_view_module_version": "1.5.0",
            "box_style": "",
            "layout": "IPY_MODEL_4d351bc043b149c9aff71d311168939d",
            "_model_module": "@jupyter-widgets/controls",
            "children": [
              "IPY_MODEL_664a78cf166e4d6d89dcf855b78da844",
              "IPY_MODEL_64aa8092de594c78b7b5dea1b4f48a3a"
            ]
          }
        },
        "4d351bc043b149c9aff71d311168939d": {
          "model_module": "@jupyter-widgets/base",
          "model_name": "LayoutModel",
          "state": {
            "_view_name": "LayoutView",
            "grid_template_rows": null,
            "right": null,
            "justify_content": null,
            "_view_module": "@jupyter-widgets/base",
            "overflow": null,
            "_model_module_version": "1.2.0",
            "_view_count": null,
            "flex_flow": null,
            "width": null,
            "min_width": null,
            "border": null,
            "align_items": null,
            "bottom": null,
            "_model_module": "@jupyter-widgets/base",
            "top": null,
            "grid_column": null,
            "overflow_y": null,
            "overflow_x": null,
            "grid_auto_flow": null,
            "grid_area": null,
            "grid_template_columns": null,
            "flex": null,
            "_model_name": "LayoutModel",
            "justify_items": null,
            "grid_row": null,
            "max_height": null,
            "align_content": null,
            "visibility": null,
            "align_self": null,
            "height": null,
            "min_height": null,
            "padding": null,
            "grid_auto_rows": null,
            "grid_gap": null,
            "max_width": null,
            "order": null,
            "_view_module_version": "1.2.0",
            "grid_template_areas": null,
            "object_position": null,
            "object_fit": null,
            "grid_auto_columns": null,
            "margin": null,
            "display": null,
            "left": null
          }
        },
        "664a78cf166e4d6d89dcf855b78da844": {
          "model_module": "@jupyter-widgets/controls",
          "model_name": "FloatProgressModel",
          "state": {
            "_view_name": "ProgressView",
            "style": "IPY_MODEL_bc68bf797b4f44c59d7dbe9484c8ea4f",
            "_dom_classes": [],
            "description": "Batches: 100%",
            "_model_name": "FloatProgressModel",
            "bar_style": "success",
            "max": 319,
            "_view_module": "@jupyter-widgets/controls",
            "_model_module_version": "1.5.0",
            "value": 319,
            "_view_count": null,
            "_view_module_version": "1.5.0",
            "orientation": "horizontal",
            "min": 0,
            "description_tooltip": null,
            "_model_module": "@jupyter-widgets/controls",
            "layout": "IPY_MODEL_e737495f16684415a1c933c50521cb48"
          }
        },
        "64aa8092de594c78b7b5dea1b4f48a3a": {
          "model_module": "@jupyter-widgets/controls",
          "model_name": "HTMLModel",
          "state": {
            "_view_name": "HTMLView",
            "style": "IPY_MODEL_6ea5c86b095a49dcb64c1b6281a31500",
            "_dom_classes": [],
            "description": "",
            "_model_name": "HTMLModel",
            "placeholder": "​",
            "_view_module": "@jupyter-widgets/controls",
            "_model_module_version": "1.5.0",
            "value": " 319/319 [01:13&lt;00:00,  4.33it/s]",
            "_view_count": null,
            "_view_module_version": "1.5.0",
            "description_tooltip": null,
            "_model_module": "@jupyter-widgets/controls",
            "layout": "IPY_MODEL_71f95156f89d4432babc22a5a226e926"
          }
        },
        "bc68bf797b4f44c59d7dbe9484c8ea4f": {
          "model_module": "@jupyter-widgets/controls",
          "model_name": "ProgressStyleModel",
          "state": {
            "_view_name": "StyleView",
            "_model_name": "ProgressStyleModel",
            "description_width": "initial",
            "_view_module": "@jupyter-widgets/base",
            "_model_module_version": "1.5.0",
            "_view_count": null,
            "_view_module_version": "1.2.0",
            "bar_color": null,
            "_model_module": "@jupyter-widgets/controls"
          }
        },
        "e737495f16684415a1c933c50521cb48": {
          "model_module": "@jupyter-widgets/base",
          "model_name": "LayoutModel",
          "state": {
            "_view_name": "LayoutView",
            "grid_template_rows": null,
            "right": null,
            "justify_content": null,
            "_view_module": "@jupyter-widgets/base",
            "overflow": null,
            "_model_module_version": "1.2.0",
            "_view_count": null,
            "flex_flow": null,
            "width": null,
            "min_width": null,
            "border": null,
            "align_items": null,
            "bottom": null,
            "_model_module": "@jupyter-widgets/base",
            "top": null,
            "grid_column": null,
            "overflow_y": null,
            "overflow_x": null,
            "grid_auto_flow": null,
            "grid_area": null,
            "grid_template_columns": null,
            "flex": null,
            "_model_name": "LayoutModel",
            "justify_items": null,
            "grid_row": null,
            "max_height": null,
            "align_content": null,
            "visibility": null,
            "align_self": null,
            "height": null,
            "min_height": null,
            "padding": null,
            "grid_auto_rows": null,
            "grid_gap": null,
            "max_width": null,
            "order": null,
            "_view_module_version": "1.2.0",
            "grid_template_areas": null,
            "object_position": null,
            "object_fit": null,
            "grid_auto_columns": null,
            "margin": null,
            "display": null,
            "left": null
          }
        },
        "6ea5c86b095a49dcb64c1b6281a31500": {
          "model_module": "@jupyter-widgets/controls",
          "model_name": "DescriptionStyleModel",
          "state": {
            "_view_name": "StyleView",
            "_model_name": "DescriptionStyleModel",
            "description_width": "",
            "_view_module": "@jupyter-widgets/base",
            "_model_module_version": "1.5.0",
            "_view_count": null,
            "_view_module_version": "1.2.0",
            "_model_module": "@jupyter-widgets/controls"
          }
        },
        "71f95156f89d4432babc22a5a226e926": {
          "model_module": "@jupyter-widgets/base",
          "model_name": "LayoutModel",
          "state": {
            "_view_name": "LayoutView",
            "grid_template_rows": null,
            "right": null,
            "justify_content": null,
            "_view_module": "@jupyter-widgets/base",
            "overflow": null,
            "_model_module_version": "1.2.0",
            "_view_count": null,
            "flex_flow": null,
            "width": null,
            "min_width": null,
            "border": null,
            "align_items": null,
            "bottom": null,
            "_model_module": "@jupyter-widgets/base",
            "top": null,
            "grid_column": null,
            "overflow_y": null,
            "overflow_x": null,
            "grid_auto_flow": null,
            "grid_area": null,
            "grid_template_columns": null,
            "flex": null,
            "_model_name": "LayoutModel",
            "justify_items": null,
            "grid_row": null,
            "max_height": null,
            "align_content": null,
            "visibility": null,
            "align_self": null,
            "height": null,
            "min_height": null,
            "padding": null,
            "grid_auto_rows": null,
            "grid_gap": null,
            "max_width": null,
            "order": null,
            "_view_module_version": "1.2.0",
            "grid_template_areas": null,
            "object_position": null,
            "object_fit": null,
            "grid_auto_columns": null,
            "margin": null,
            "display": null,
            "left": null
          }
        },
        "3c80adcceecf4bc99afc1eae04e9ca24": {
          "model_module": "@jupyter-widgets/controls",
          "model_name": "HBoxModel",
          "state": {
            "_view_name": "HBoxView",
            "_dom_classes": [],
            "_model_name": "HBoxModel",
            "_view_module": "@jupyter-widgets/controls",
            "_model_module_version": "1.5.0",
            "_view_count": null,
            "_view_module_version": "1.5.0",
            "box_style": "",
            "layout": "IPY_MODEL_1f82d3375420435d94e1ebf34fa913e8",
            "_model_module": "@jupyter-widgets/controls",
            "children": [
              "IPY_MODEL_afeea07a8c784c5db9254c8d45ad487c",
              "IPY_MODEL_44c74ddd47614dae8cef7864c2c65097"
            ]
          }
        },
        "1f82d3375420435d94e1ebf34fa913e8": {
          "model_module": "@jupyter-widgets/base",
          "model_name": "LayoutModel",
          "state": {
            "_view_name": "LayoutView",
            "grid_template_rows": null,
            "right": null,
            "justify_content": null,
            "_view_module": "@jupyter-widgets/base",
            "overflow": null,
            "_model_module_version": "1.2.0",
            "_view_count": null,
            "flex_flow": null,
            "width": null,
            "min_width": null,
            "border": null,
            "align_items": null,
            "bottom": null,
            "_model_module": "@jupyter-widgets/base",
            "top": null,
            "grid_column": null,
            "overflow_y": null,
            "overflow_x": null,
            "grid_auto_flow": null,
            "grid_area": null,
            "grid_template_columns": null,
            "flex": null,
            "_model_name": "LayoutModel",
            "justify_items": null,
            "grid_row": null,
            "max_height": null,
            "align_content": null,
            "visibility": null,
            "align_self": null,
            "height": null,
            "min_height": null,
            "padding": null,
            "grid_auto_rows": null,
            "grid_gap": null,
            "max_width": null,
            "order": null,
            "_view_module_version": "1.2.0",
            "grid_template_areas": null,
            "object_position": null,
            "object_fit": null,
            "grid_auto_columns": null,
            "margin": null,
            "display": null,
            "left": null
          }
        },
        "afeea07a8c784c5db9254c8d45ad487c": {
          "model_module": "@jupyter-widgets/controls",
          "model_name": "FloatProgressModel",
          "state": {
            "_view_name": "ProgressView",
            "style": "IPY_MODEL_e06685b05e4e41469b68105ea3b40e07",
            "_dom_classes": [],
            "description": "Batches: 100%",
            "_model_name": "FloatProgressModel",
            "bar_style": "success",
            "max": 319,
            "_view_module": "@jupyter-widgets/controls",
            "_model_module_version": "1.5.0",
            "value": 319,
            "_view_count": null,
            "_view_module_version": "1.5.0",
            "orientation": "horizontal",
            "min": 0,
            "description_tooltip": null,
            "_model_module": "@jupyter-widgets/controls",
            "layout": "IPY_MODEL_8e2c08abddb24675ba69bc7d0215cf27"
          }
        },
        "44c74ddd47614dae8cef7864c2c65097": {
          "model_module": "@jupyter-widgets/controls",
          "model_name": "HTMLModel",
          "state": {
            "_view_name": "HTMLView",
            "style": "IPY_MODEL_00fdf775a01142c98bde2c685e6d6415",
            "_dom_classes": [],
            "description": "",
            "_model_name": "HTMLModel",
            "placeholder": "​",
            "_view_module": "@jupyter-widgets/controls",
            "_model_module_version": "1.5.0",
            "value": " 319/319 [01:13&lt;00:00,  4.31it/s]",
            "_view_count": null,
            "_view_module_version": "1.5.0",
            "description_tooltip": null,
            "_model_module": "@jupyter-widgets/controls",
            "layout": "IPY_MODEL_bfcc6b4f9d704ef588225c96fce2eef6"
          }
        },
        "e06685b05e4e41469b68105ea3b40e07": {
          "model_module": "@jupyter-widgets/controls",
          "model_name": "ProgressStyleModel",
          "state": {
            "_view_name": "StyleView",
            "_model_name": "ProgressStyleModel",
            "description_width": "initial",
            "_view_module": "@jupyter-widgets/base",
            "_model_module_version": "1.5.0",
            "_view_count": null,
            "_view_module_version": "1.2.0",
            "bar_color": null,
            "_model_module": "@jupyter-widgets/controls"
          }
        },
        "8e2c08abddb24675ba69bc7d0215cf27": {
          "model_module": "@jupyter-widgets/base",
          "model_name": "LayoutModel",
          "state": {
            "_view_name": "LayoutView",
            "grid_template_rows": null,
            "right": null,
            "justify_content": null,
            "_view_module": "@jupyter-widgets/base",
            "overflow": null,
            "_model_module_version": "1.2.0",
            "_view_count": null,
            "flex_flow": null,
            "width": null,
            "min_width": null,
            "border": null,
            "align_items": null,
            "bottom": null,
            "_model_module": "@jupyter-widgets/base",
            "top": null,
            "grid_column": null,
            "overflow_y": null,
            "overflow_x": null,
            "grid_auto_flow": null,
            "grid_area": null,
            "grid_template_columns": null,
            "flex": null,
            "_model_name": "LayoutModel",
            "justify_items": null,
            "grid_row": null,
            "max_height": null,
            "align_content": null,
            "visibility": null,
            "align_self": null,
            "height": null,
            "min_height": null,
            "padding": null,
            "grid_auto_rows": null,
            "grid_gap": null,
            "max_width": null,
            "order": null,
            "_view_module_version": "1.2.0",
            "grid_template_areas": null,
            "object_position": null,
            "object_fit": null,
            "grid_auto_columns": null,
            "margin": null,
            "display": null,
            "left": null
          }
        },
        "00fdf775a01142c98bde2c685e6d6415": {
          "model_module": "@jupyter-widgets/controls",
          "model_name": "DescriptionStyleModel",
          "state": {
            "_view_name": "StyleView",
            "_model_name": "DescriptionStyleModel",
            "description_width": "",
            "_view_module": "@jupyter-widgets/base",
            "_model_module_version": "1.5.0",
            "_view_count": null,
            "_view_module_version": "1.2.0",
            "_model_module": "@jupyter-widgets/controls"
          }
        },
        "bfcc6b4f9d704ef588225c96fce2eef6": {
          "model_module": "@jupyter-widgets/base",
          "model_name": "LayoutModel",
          "state": {
            "_view_name": "LayoutView",
            "grid_template_rows": null,
            "right": null,
            "justify_content": null,
            "_view_module": "@jupyter-widgets/base",
            "overflow": null,
            "_model_module_version": "1.2.0",
            "_view_count": null,
            "flex_flow": null,
            "width": null,
            "min_width": null,
            "border": null,
            "align_items": null,
            "bottom": null,
            "_model_module": "@jupyter-widgets/base",
            "top": null,
            "grid_column": null,
            "overflow_y": null,
            "overflow_x": null,
            "grid_auto_flow": null,
            "grid_area": null,
            "grid_template_columns": null,
            "flex": null,
            "_model_name": "LayoutModel",
            "justify_items": null,
            "grid_row": null,
            "max_height": null,
            "align_content": null,
            "visibility": null,
            "align_self": null,
            "height": null,
            "min_height": null,
            "padding": null,
            "grid_auto_rows": null,
            "grid_gap": null,
            "max_width": null,
            "order": null,
            "_view_module_version": "1.2.0",
            "grid_template_areas": null,
            "object_position": null,
            "object_fit": null,
            "grid_auto_columns": null,
            "margin": null,
            "display": null,
            "left": null
          }
        },
        "c6738b2d706447bcbb8d1c670eacf514": {
          "model_module": "@jupyter-widgets/controls",
          "model_name": "HBoxModel",
          "state": {
            "_view_name": "HBoxView",
            "_dom_classes": [],
            "_model_name": "HBoxModel",
            "_view_module": "@jupyter-widgets/controls",
            "_model_module_version": "1.5.0",
            "_view_count": null,
            "_view_module_version": "1.5.0",
            "box_style": "",
            "layout": "IPY_MODEL_43b3ef44882c40eaa177f69c7c230128",
            "_model_module": "@jupyter-widgets/controls",
            "children": [
              "IPY_MODEL_76ad02941ae24ddd845b106e29bad456",
              "IPY_MODEL_8e2997f9a9d34a7a8ce6b02757a510c3"
            ]
          }
        },
        "43b3ef44882c40eaa177f69c7c230128": {
          "model_module": "@jupyter-widgets/base",
          "model_name": "LayoutModel",
          "state": {
            "_view_name": "LayoutView",
            "grid_template_rows": null,
            "right": null,
            "justify_content": null,
            "_view_module": "@jupyter-widgets/base",
            "overflow": null,
            "_model_module_version": "1.2.0",
            "_view_count": null,
            "flex_flow": null,
            "width": null,
            "min_width": null,
            "border": null,
            "align_items": null,
            "bottom": null,
            "_model_module": "@jupyter-widgets/base",
            "top": null,
            "grid_column": null,
            "overflow_y": null,
            "overflow_x": null,
            "grid_auto_flow": null,
            "grid_area": null,
            "grid_template_columns": null,
            "flex": null,
            "_model_name": "LayoutModel",
            "justify_items": null,
            "grid_row": null,
            "max_height": null,
            "align_content": null,
            "visibility": null,
            "align_self": null,
            "height": null,
            "min_height": null,
            "padding": null,
            "grid_auto_rows": null,
            "grid_gap": null,
            "max_width": null,
            "order": null,
            "_view_module_version": "1.2.0",
            "grid_template_areas": null,
            "object_position": null,
            "object_fit": null,
            "grid_auto_columns": null,
            "margin": null,
            "display": null,
            "left": null
          }
        },
        "76ad02941ae24ddd845b106e29bad456": {
          "model_module": "@jupyter-widgets/controls",
          "model_name": "FloatProgressModel",
          "state": {
            "_view_name": "ProgressView",
            "style": "IPY_MODEL_1cb795796b524382beefaa69340be8e2",
            "_dom_classes": [],
            "description": "Batches: 100%",
            "_model_name": "FloatProgressModel",
            "bar_style": "success",
            "max": 319,
            "_view_module": "@jupyter-widgets/controls",
            "_model_module_version": "1.5.0",
            "value": 319,
            "_view_count": null,
            "_view_module_version": "1.5.0",
            "orientation": "horizontal",
            "min": 0,
            "description_tooltip": null,
            "_model_module": "@jupyter-widgets/controls",
            "layout": "IPY_MODEL_0a60e40453c842c8ab29cf3934e1579d"
          }
        },
        "8e2997f9a9d34a7a8ce6b02757a510c3": {
          "model_module": "@jupyter-widgets/controls",
          "model_name": "HTMLModel",
          "state": {
            "_view_name": "HTMLView",
            "style": "IPY_MODEL_1cea15df73314f78b81081b4881cab10",
            "_dom_classes": [],
            "description": "",
            "_model_name": "HTMLModel",
            "placeholder": "​",
            "_view_module": "@jupyter-widgets/controls",
            "_model_module_version": "1.5.0",
            "value": " 319/319 [02:03&lt;00:00,  2.59it/s]",
            "_view_count": null,
            "_view_module_version": "1.5.0",
            "description_tooltip": null,
            "_model_module": "@jupyter-widgets/controls",
            "layout": "IPY_MODEL_7be0db28f8b24cd2bfd05268ae57c025"
          }
        },
        "1cb795796b524382beefaa69340be8e2": {
          "model_module": "@jupyter-widgets/controls",
          "model_name": "ProgressStyleModel",
          "state": {
            "_view_name": "StyleView",
            "_model_name": "ProgressStyleModel",
            "description_width": "initial",
            "_view_module": "@jupyter-widgets/base",
            "_model_module_version": "1.5.0",
            "_view_count": null,
            "_view_module_version": "1.2.0",
            "bar_color": null,
            "_model_module": "@jupyter-widgets/controls"
          }
        },
        "0a60e40453c842c8ab29cf3934e1579d": {
          "model_module": "@jupyter-widgets/base",
          "model_name": "LayoutModel",
          "state": {
            "_view_name": "LayoutView",
            "grid_template_rows": null,
            "right": null,
            "justify_content": null,
            "_view_module": "@jupyter-widgets/base",
            "overflow": null,
            "_model_module_version": "1.2.0",
            "_view_count": null,
            "flex_flow": null,
            "width": null,
            "min_width": null,
            "border": null,
            "align_items": null,
            "bottom": null,
            "_model_module": "@jupyter-widgets/base",
            "top": null,
            "grid_column": null,
            "overflow_y": null,
            "overflow_x": null,
            "grid_auto_flow": null,
            "grid_area": null,
            "grid_template_columns": null,
            "flex": null,
            "_model_name": "LayoutModel",
            "justify_items": null,
            "grid_row": null,
            "max_height": null,
            "align_content": null,
            "visibility": null,
            "align_self": null,
            "height": null,
            "min_height": null,
            "padding": null,
            "grid_auto_rows": null,
            "grid_gap": null,
            "max_width": null,
            "order": null,
            "_view_module_version": "1.2.0",
            "grid_template_areas": null,
            "object_position": null,
            "object_fit": null,
            "grid_auto_columns": null,
            "margin": null,
            "display": null,
            "left": null
          }
        },
        "1cea15df73314f78b81081b4881cab10": {
          "model_module": "@jupyter-widgets/controls",
          "model_name": "DescriptionStyleModel",
          "state": {
            "_view_name": "StyleView",
            "_model_name": "DescriptionStyleModel",
            "description_width": "",
            "_view_module": "@jupyter-widgets/base",
            "_model_module_version": "1.5.0",
            "_view_count": null,
            "_view_module_version": "1.2.0",
            "_model_module": "@jupyter-widgets/controls"
          }
        },
        "7be0db28f8b24cd2bfd05268ae57c025": {
          "model_module": "@jupyter-widgets/base",
          "model_name": "LayoutModel",
          "state": {
            "_view_name": "LayoutView",
            "grid_template_rows": null,
            "right": null,
            "justify_content": null,
            "_view_module": "@jupyter-widgets/base",
            "overflow": null,
            "_model_module_version": "1.2.0",
            "_view_count": null,
            "flex_flow": null,
            "width": null,
            "min_width": null,
            "border": null,
            "align_items": null,
            "bottom": null,
            "_model_module": "@jupyter-widgets/base",
            "top": null,
            "grid_column": null,
            "overflow_y": null,
            "overflow_x": null,
            "grid_auto_flow": null,
            "grid_area": null,
            "grid_template_columns": null,
            "flex": null,
            "_model_name": "LayoutModel",
            "justify_items": null,
            "grid_row": null,
            "max_height": null,
            "align_content": null,
            "visibility": null,
            "align_self": null,
            "height": null,
            "min_height": null,
            "padding": null,
            "grid_auto_rows": null,
            "grid_gap": null,
            "max_width": null,
            "order": null,
            "_view_module_version": "1.2.0",
            "grid_template_areas": null,
            "object_position": null,
            "object_fit": null,
            "grid_auto_columns": null,
            "margin": null,
            "display": null,
            "left": null
          }
        },
        "c4c7a5a7bd8d408291b3ebff23d1c942": {
          "model_module": "@jupyter-widgets/controls",
          "model_name": "HBoxModel",
          "state": {
            "_view_name": "HBoxView",
            "_dom_classes": [],
            "_model_name": "HBoxModel",
            "_view_module": "@jupyter-widgets/controls",
            "_model_module_version": "1.5.0",
            "_view_count": null,
            "_view_module_version": "1.5.0",
            "box_style": "",
            "layout": "IPY_MODEL_3c0a80ff5263463085054479bc44fcbf",
            "_model_module": "@jupyter-widgets/controls",
            "children": [
              "IPY_MODEL_430ad351a86e4011a9f31967559b63ad",
              "IPY_MODEL_425559747a1f41168d8920e335af57f4"
            ]
          }
        },
        "3c0a80ff5263463085054479bc44fcbf": {
          "model_module": "@jupyter-widgets/base",
          "model_name": "LayoutModel",
          "state": {
            "_view_name": "LayoutView",
            "grid_template_rows": null,
            "right": null,
            "justify_content": null,
            "_view_module": "@jupyter-widgets/base",
            "overflow": null,
            "_model_module_version": "1.2.0",
            "_view_count": null,
            "flex_flow": null,
            "width": null,
            "min_width": null,
            "border": null,
            "align_items": null,
            "bottom": null,
            "_model_module": "@jupyter-widgets/base",
            "top": null,
            "grid_column": null,
            "overflow_y": null,
            "overflow_x": null,
            "grid_auto_flow": null,
            "grid_area": null,
            "grid_template_columns": null,
            "flex": null,
            "_model_name": "LayoutModel",
            "justify_items": null,
            "grid_row": null,
            "max_height": null,
            "align_content": null,
            "visibility": null,
            "align_self": null,
            "height": null,
            "min_height": null,
            "padding": null,
            "grid_auto_rows": null,
            "grid_gap": null,
            "max_width": null,
            "order": null,
            "_view_module_version": "1.2.0",
            "grid_template_areas": null,
            "object_position": null,
            "object_fit": null,
            "grid_auto_columns": null,
            "margin": null,
            "display": null,
            "left": null
          }
        },
        "430ad351a86e4011a9f31967559b63ad": {
          "model_module": "@jupyter-widgets/controls",
          "model_name": "FloatProgressModel",
          "state": {
            "_view_name": "ProgressView",
            "style": "IPY_MODEL_61f1164bf7514ca0813c608a114ad294",
            "_dom_classes": [],
            "description": "Batches: 100%",
            "_model_name": "FloatProgressModel",
            "bar_style": "success",
            "max": 319,
            "_view_module": "@jupyter-widgets/controls",
            "_model_module_version": "1.5.0",
            "value": 319,
            "_view_count": null,
            "_view_module_version": "1.5.0",
            "orientation": "horizontal",
            "min": 0,
            "description_tooltip": null,
            "_model_module": "@jupyter-widgets/controls",
            "layout": "IPY_MODEL_1734812554124ec5849569b80d06edff"
          }
        },
        "425559747a1f41168d8920e335af57f4": {
          "model_module": "@jupyter-widgets/controls",
          "model_name": "HTMLModel",
          "state": {
            "_view_name": "HTMLView",
            "style": "IPY_MODEL_51b67be4d0914d5990f7303076868cb7",
            "_dom_classes": [],
            "description": "",
            "_model_name": "HTMLModel",
            "placeholder": "​",
            "_view_module": "@jupyter-widgets/controls",
            "_model_module_version": "1.5.0",
            "value": " 319/319 [00:47&lt;00:00,  6.66it/s]",
            "_view_count": null,
            "_view_module_version": "1.5.0",
            "description_tooltip": null,
            "_model_module": "@jupyter-widgets/controls",
            "layout": "IPY_MODEL_a7fbf4b5bafc40a0bfc5f3d0a3ad6847"
          }
        },
        "61f1164bf7514ca0813c608a114ad294": {
          "model_module": "@jupyter-widgets/controls",
          "model_name": "ProgressStyleModel",
          "state": {
            "_view_name": "StyleView",
            "_model_name": "ProgressStyleModel",
            "description_width": "initial",
            "_view_module": "@jupyter-widgets/base",
            "_model_module_version": "1.5.0",
            "_view_count": null,
            "_view_module_version": "1.2.0",
            "bar_color": null,
            "_model_module": "@jupyter-widgets/controls"
          }
        },
        "1734812554124ec5849569b80d06edff": {
          "model_module": "@jupyter-widgets/base",
          "model_name": "LayoutModel",
          "state": {
            "_view_name": "LayoutView",
            "grid_template_rows": null,
            "right": null,
            "justify_content": null,
            "_view_module": "@jupyter-widgets/base",
            "overflow": null,
            "_model_module_version": "1.2.0",
            "_view_count": null,
            "flex_flow": null,
            "width": null,
            "min_width": null,
            "border": null,
            "align_items": null,
            "bottom": null,
            "_model_module": "@jupyter-widgets/base",
            "top": null,
            "grid_column": null,
            "overflow_y": null,
            "overflow_x": null,
            "grid_auto_flow": null,
            "grid_area": null,
            "grid_template_columns": null,
            "flex": null,
            "_model_name": "LayoutModel",
            "justify_items": null,
            "grid_row": null,
            "max_height": null,
            "align_content": null,
            "visibility": null,
            "align_self": null,
            "height": null,
            "min_height": null,
            "padding": null,
            "grid_auto_rows": null,
            "grid_gap": null,
            "max_width": null,
            "order": null,
            "_view_module_version": "1.2.0",
            "grid_template_areas": null,
            "object_position": null,
            "object_fit": null,
            "grid_auto_columns": null,
            "margin": null,
            "display": null,
            "left": null
          }
        },
        "51b67be4d0914d5990f7303076868cb7": {
          "model_module": "@jupyter-widgets/controls",
          "model_name": "DescriptionStyleModel",
          "state": {
            "_view_name": "StyleView",
            "_model_name": "DescriptionStyleModel",
            "description_width": "",
            "_view_module": "@jupyter-widgets/base",
            "_model_module_version": "1.5.0",
            "_view_count": null,
            "_view_module_version": "1.2.0",
            "_model_module": "@jupyter-widgets/controls"
          }
        },
        "a7fbf4b5bafc40a0bfc5f3d0a3ad6847": {
          "model_module": "@jupyter-widgets/base",
          "model_name": "LayoutModel",
          "state": {
            "_view_name": "LayoutView",
            "grid_template_rows": null,
            "right": null,
            "justify_content": null,
            "_view_module": "@jupyter-widgets/base",
            "overflow": null,
            "_model_module_version": "1.2.0",
            "_view_count": null,
            "flex_flow": null,
            "width": null,
            "min_width": null,
            "border": null,
            "align_items": null,
            "bottom": null,
            "_model_module": "@jupyter-widgets/base",
            "top": null,
            "grid_column": null,
            "overflow_y": null,
            "overflow_x": null,
            "grid_auto_flow": null,
            "grid_area": null,
            "grid_template_columns": null,
            "flex": null,
            "_model_name": "LayoutModel",
            "justify_items": null,
            "grid_row": null,
            "max_height": null,
            "align_content": null,
            "visibility": null,
            "align_self": null,
            "height": null,
            "min_height": null,
            "padding": null,
            "grid_auto_rows": null,
            "grid_gap": null,
            "max_width": null,
            "order": null,
            "_view_module_version": "1.2.0",
            "grid_template_areas": null,
            "object_position": null,
            "object_fit": null,
            "grid_auto_columns": null,
            "margin": null,
            "display": null,
            "left": null
          }
        },
        "2c93e3de682c4e20a56b771ba0f9b021": {
          "model_module": "@jupyter-widgets/controls",
          "model_name": "HBoxModel",
          "state": {
            "_view_name": "HBoxView",
            "_dom_classes": [],
            "_model_name": "HBoxModel",
            "_view_module": "@jupyter-widgets/controls",
            "_model_module_version": "1.5.0",
            "_view_count": null,
            "_view_module_version": "1.5.0",
            "box_style": "",
            "layout": "IPY_MODEL_4572ed5ec6324590bd825b9aec4d4b41",
            "_model_module": "@jupyter-widgets/controls",
            "children": [
              "IPY_MODEL_d50c548498f24bb6924f09101db96c6a",
              "IPY_MODEL_a87d058a63034a54b9fabc9015576fcd"
            ]
          }
        },
        "4572ed5ec6324590bd825b9aec4d4b41": {
          "model_module": "@jupyter-widgets/base",
          "model_name": "LayoutModel",
          "state": {
            "_view_name": "LayoutView",
            "grid_template_rows": null,
            "right": null,
            "justify_content": null,
            "_view_module": "@jupyter-widgets/base",
            "overflow": null,
            "_model_module_version": "1.2.0",
            "_view_count": null,
            "flex_flow": null,
            "width": null,
            "min_width": null,
            "border": null,
            "align_items": null,
            "bottom": null,
            "_model_module": "@jupyter-widgets/base",
            "top": null,
            "grid_column": null,
            "overflow_y": null,
            "overflow_x": null,
            "grid_auto_flow": null,
            "grid_area": null,
            "grid_template_columns": null,
            "flex": null,
            "_model_name": "LayoutModel",
            "justify_items": null,
            "grid_row": null,
            "max_height": null,
            "align_content": null,
            "visibility": null,
            "align_self": null,
            "height": null,
            "min_height": null,
            "padding": null,
            "grid_auto_rows": null,
            "grid_gap": null,
            "max_width": null,
            "order": null,
            "_view_module_version": "1.2.0",
            "grid_template_areas": null,
            "object_position": null,
            "object_fit": null,
            "grid_auto_columns": null,
            "margin": null,
            "display": null,
            "left": null
          }
        },
        "d50c548498f24bb6924f09101db96c6a": {
          "model_module": "@jupyter-widgets/controls",
          "model_name": "FloatProgressModel",
          "state": {
            "_view_name": "ProgressView",
            "style": "IPY_MODEL_4d0a42fedf1c471bbd4dc5fd63a0b965",
            "_dom_classes": [],
            "description": "Batches: 100%",
            "_model_name": "FloatProgressModel",
            "bar_style": "success",
            "max": 319,
            "_view_module": "@jupyter-widgets/controls",
            "_model_module_version": "1.5.0",
            "value": 319,
            "_view_count": null,
            "_view_module_version": "1.5.0",
            "orientation": "horizontal",
            "min": 0,
            "description_tooltip": null,
            "_model_module": "@jupyter-widgets/controls",
            "layout": "IPY_MODEL_bba4ac4bc08b47a6a0e1b386189c29ab"
          }
        },
        "a87d058a63034a54b9fabc9015576fcd": {
          "model_module": "@jupyter-widgets/controls",
          "model_name": "HTMLModel",
          "state": {
            "_view_name": "HTMLView",
            "style": "IPY_MODEL_9cd457e819654ae68c4375bce5fb0844",
            "_dom_classes": [],
            "description": "",
            "_model_name": "HTMLModel",
            "placeholder": "​",
            "_view_module": "@jupyter-widgets/controls",
            "_model_module_version": "1.5.0",
            "value": " 319/319 [01:09&lt;00:00,  4.56it/s]",
            "_view_count": null,
            "_view_module_version": "1.5.0",
            "description_tooltip": null,
            "_model_module": "@jupyter-widgets/controls",
            "layout": "IPY_MODEL_15b765cd4b6247bea95763389bfbabcf"
          }
        },
        "4d0a42fedf1c471bbd4dc5fd63a0b965": {
          "model_module": "@jupyter-widgets/controls",
          "model_name": "ProgressStyleModel",
          "state": {
            "_view_name": "StyleView",
            "_model_name": "ProgressStyleModel",
            "description_width": "initial",
            "_view_module": "@jupyter-widgets/base",
            "_model_module_version": "1.5.0",
            "_view_count": null,
            "_view_module_version": "1.2.0",
            "bar_color": null,
            "_model_module": "@jupyter-widgets/controls"
          }
        },
        "bba4ac4bc08b47a6a0e1b386189c29ab": {
          "model_module": "@jupyter-widgets/base",
          "model_name": "LayoutModel",
          "state": {
            "_view_name": "LayoutView",
            "grid_template_rows": null,
            "right": null,
            "justify_content": null,
            "_view_module": "@jupyter-widgets/base",
            "overflow": null,
            "_model_module_version": "1.2.0",
            "_view_count": null,
            "flex_flow": null,
            "width": null,
            "min_width": null,
            "border": null,
            "align_items": null,
            "bottom": null,
            "_model_module": "@jupyter-widgets/base",
            "top": null,
            "grid_column": null,
            "overflow_y": null,
            "overflow_x": null,
            "grid_auto_flow": null,
            "grid_area": null,
            "grid_template_columns": null,
            "flex": null,
            "_model_name": "LayoutModel",
            "justify_items": null,
            "grid_row": null,
            "max_height": null,
            "align_content": null,
            "visibility": null,
            "align_self": null,
            "height": null,
            "min_height": null,
            "padding": null,
            "grid_auto_rows": null,
            "grid_gap": null,
            "max_width": null,
            "order": null,
            "_view_module_version": "1.2.0",
            "grid_template_areas": null,
            "object_position": null,
            "object_fit": null,
            "grid_auto_columns": null,
            "margin": null,
            "display": null,
            "left": null
          }
        },
        "9cd457e819654ae68c4375bce5fb0844": {
          "model_module": "@jupyter-widgets/controls",
          "model_name": "DescriptionStyleModel",
          "state": {
            "_view_name": "StyleView",
            "_model_name": "DescriptionStyleModel",
            "description_width": "",
            "_view_module": "@jupyter-widgets/base",
            "_model_module_version": "1.5.0",
            "_view_count": null,
            "_view_module_version": "1.2.0",
            "_model_module": "@jupyter-widgets/controls"
          }
        },
        "15b765cd4b6247bea95763389bfbabcf": {
          "model_module": "@jupyter-widgets/base",
          "model_name": "LayoutModel",
          "state": {
            "_view_name": "LayoutView",
            "grid_template_rows": null,
            "right": null,
            "justify_content": null,
            "_view_module": "@jupyter-widgets/base",
            "overflow": null,
            "_model_module_version": "1.2.0",
            "_view_count": null,
            "flex_flow": null,
            "width": null,
            "min_width": null,
            "border": null,
            "align_items": null,
            "bottom": null,
            "_model_module": "@jupyter-widgets/base",
            "top": null,
            "grid_column": null,
            "overflow_y": null,
            "overflow_x": null,
            "grid_auto_flow": null,
            "grid_area": null,
            "grid_template_columns": null,
            "flex": null,
            "_model_name": "LayoutModel",
            "justify_items": null,
            "grid_row": null,
            "max_height": null,
            "align_content": null,
            "visibility": null,
            "align_self": null,
            "height": null,
            "min_height": null,
            "padding": null,
            "grid_auto_rows": null,
            "grid_gap": null,
            "max_width": null,
            "order": null,
            "_view_module_version": "1.2.0",
            "grid_template_areas": null,
            "object_position": null,
            "object_fit": null,
            "grid_auto_columns": null,
            "margin": null,
            "display": null,
            "left": null
          }
        },
        "e50550b02c6840b191b22646a5f247b1": {
          "model_module": "@jupyter-widgets/controls",
          "model_name": "HBoxModel",
          "state": {
            "_view_name": "HBoxView",
            "_dom_classes": [],
            "_model_name": "HBoxModel",
            "_view_module": "@jupyter-widgets/controls",
            "_model_module_version": "1.5.0",
            "_view_count": null,
            "_view_module_version": "1.5.0",
            "box_style": "",
            "layout": "IPY_MODEL_6b8ce3290eef46b28955e16aff54b179",
            "_model_module": "@jupyter-widgets/controls",
            "children": [
              "IPY_MODEL_c250279784244debb989e4269528b3ea",
              "IPY_MODEL_a25abe7a8eb74ae4982b9e6f1a5c481c"
            ]
          }
        },
        "6b8ce3290eef46b28955e16aff54b179": {
          "model_module": "@jupyter-widgets/base",
          "model_name": "LayoutModel",
          "state": {
            "_view_name": "LayoutView",
            "grid_template_rows": null,
            "right": null,
            "justify_content": null,
            "_view_module": "@jupyter-widgets/base",
            "overflow": null,
            "_model_module_version": "1.2.0",
            "_view_count": null,
            "flex_flow": null,
            "width": null,
            "min_width": null,
            "border": null,
            "align_items": null,
            "bottom": null,
            "_model_module": "@jupyter-widgets/base",
            "top": null,
            "grid_column": null,
            "overflow_y": null,
            "overflow_x": null,
            "grid_auto_flow": null,
            "grid_area": null,
            "grid_template_columns": null,
            "flex": null,
            "_model_name": "LayoutModel",
            "justify_items": null,
            "grid_row": null,
            "max_height": null,
            "align_content": null,
            "visibility": null,
            "align_self": null,
            "height": null,
            "min_height": null,
            "padding": null,
            "grid_auto_rows": null,
            "grid_gap": null,
            "max_width": null,
            "order": null,
            "_view_module_version": "1.2.0",
            "grid_template_areas": null,
            "object_position": null,
            "object_fit": null,
            "grid_auto_columns": null,
            "margin": null,
            "display": null,
            "left": null
          }
        },
        "c250279784244debb989e4269528b3ea": {
          "model_module": "@jupyter-widgets/controls",
          "model_name": "FloatProgressModel",
          "state": {
            "_view_name": "ProgressView",
            "style": "IPY_MODEL_26167c27c8094c6ba4af3d3a61da5f0a",
            "_dom_classes": [],
            "description": "Batches: 100%",
            "_model_name": "FloatProgressModel",
            "bar_style": "success",
            "max": 319,
            "_view_module": "@jupyter-widgets/controls",
            "_model_module_version": "1.5.0",
            "value": 319,
            "_view_count": null,
            "_view_module_version": "1.5.0",
            "orientation": "horizontal",
            "min": 0,
            "description_tooltip": null,
            "_model_module": "@jupyter-widgets/controls",
            "layout": "IPY_MODEL_74620a2b1cb54af6862bb1edbc280649"
          }
        },
        "a25abe7a8eb74ae4982b9e6f1a5c481c": {
          "model_module": "@jupyter-widgets/controls",
          "model_name": "HTMLModel",
          "state": {
            "_view_name": "HTMLView",
            "style": "IPY_MODEL_29b009f6c99e4e3d88c1be5bfe9a71da",
            "_dom_classes": [],
            "description": "",
            "_model_name": "HTMLModel",
            "placeholder": "​",
            "_view_module": "@jupyter-widgets/controls",
            "_model_module_version": "1.5.0",
            "value": " 319/319 [01:11&lt;00:00,  4.46it/s]",
            "_view_count": null,
            "_view_module_version": "1.5.0",
            "description_tooltip": null,
            "_model_module": "@jupyter-widgets/controls",
            "layout": "IPY_MODEL_de8bc493de024fb89b5a27b82ce1aca9"
          }
        },
        "26167c27c8094c6ba4af3d3a61da5f0a": {
          "model_module": "@jupyter-widgets/controls",
          "model_name": "ProgressStyleModel",
          "state": {
            "_view_name": "StyleView",
            "_model_name": "ProgressStyleModel",
            "description_width": "initial",
            "_view_module": "@jupyter-widgets/base",
            "_model_module_version": "1.5.0",
            "_view_count": null,
            "_view_module_version": "1.2.0",
            "bar_color": null,
            "_model_module": "@jupyter-widgets/controls"
          }
        },
        "74620a2b1cb54af6862bb1edbc280649": {
          "model_module": "@jupyter-widgets/base",
          "model_name": "LayoutModel",
          "state": {
            "_view_name": "LayoutView",
            "grid_template_rows": null,
            "right": null,
            "justify_content": null,
            "_view_module": "@jupyter-widgets/base",
            "overflow": null,
            "_model_module_version": "1.2.0",
            "_view_count": null,
            "flex_flow": null,
            "width": null,
            "min_width": null,
            "border": null,
            "align_items": null,
            "bottom": null,
            "_model_module": "@jupyter-widgets/base",
            "top": null,
            "grid_column": null,
            "overflow_y": null,
            "overflow_x": null,
            "grid_auto_flow": null,
            "grid_area": null,
            "grid_template_columns": null,
            "flex": null,
            "_model_name": "LayoutModel",
            "justify_items": null,
            "grid_row": null,
            "max_height": null,
            "align_content": null,
            "visibility": null,
            "align_self": null,
            "height": null,
            "min_height": null,
            "padding": null,
            "grid_auto_rows": null,
            "grid_gap": null,
            "max_width": null,
            "order": null,
            "_view_module_version": "1.2.0",
            "grid_template_areas": null,
            "object_position": null,
            "object_fit": null,
            "grid_auto_columns": null,
            "margin": null,
            "display": null,
            "left": null
          }
        },
        "29b009f6c99e4e3d88c1be5bfe9a71da": {
          "model_module": "@jupyter-widgets/controls",
          "model_name": "DescriptionStyleModel",
          "state": {
            "_view_name": "StyleView",
            "_model_name": "DescriptionStyleModel",
            "description_width": "",
            "_view_module": "@jupyter-widgets/base",
            "_model_module_version": "1.5.0",
            "_view_count": null,
            "_view_module_version": "1.2.0",
            "_model_module": "@jupyter-widgets/controls"
          }
        },
        "de8bc493de024fb89b5a27b82ce1aca9": {
          "model_module": "@jupyter-widgets/base",
          "model_name": "LayoutModel",
          "state": {
            "_view_name": "LayoutView",
            "grid_template_rows": null,
            "right": null,
            "justify_content": null,
            "_view_module": "@jupyter-widgets/base",
            "overflow": null,
            "_model_module_version": "1.2.0",
            "_view_count": null,
            "flex_flow": null,
            "width": null,
            "min_width": null,
            "border": null,
            "align_items": null,
            "bottom": null,
            "_model_module": "@jupyter-widgets/base",
            "top": null,
            "grid_column": null,
            "overflow_y": null,
            "overflow_x": null,
            "grid_auto_flow": null,
            "grid_area": null,
            "grid_template_columns": null,
            "flex": null,
            "_model_name": "LayoutModel",
            "justify_items": null,
            "grid_row": null,
            "max_height": null,
            "align_content": null,
            "visibility": null,
            "align_self": null,
            "height": null,
            "min_height": null,
            "padding": null,
            "grid_auto_rows": null,
            "grid_gap": null,
            "max_width": null,
            "order": null,
            "_view_module_version": "1.2.0",
            "grid_template_areas": null,
            "object_position": null,
            "object_fit": null,
            "grid_auto_columns": null,
            "margin": null,
            "display": null,
            "left": null
          }
        },
        "dbdc7f0b62294d328944f8f3fe798bdd": {
          "model_module": "@jupyter-widgets/controls",
          "model_name": "HBoxModel",
          "state": {
            "_view_name": "HBoxView",
            "_dom_classes": [],
            "_model_name": "HBoxModel",
            "_view_module": "@jupyter-widgets/controls",
            "_model_module_version": "1.5.0",
            "_view_count": null,
            "_view_module_version": "1.5.0",
            "box_style": "",
            "layout": "IPY_MODEL_e0e9bbe8da4b47ce96996d37495b00be",
            "_model_module": "@jupyter-widgets/controls",
            "children": [
              "IPY_MODEL_bd97b46f2cbd4abca46abaec91e62ab0",
              "IPY_MODEL_e24f6caba42b4343885692f04be44a6f"
            ]
          }
        },
        "e0e9bbe8da4b47ce96996d37495b00be": {
          "model_module": "@jupyter-widgets/base",
          "model_name": "LayoutModel",
          "state": {
            "_view_name": "LayoutView",
            "grid_template_rows": null,
            "right": null,
            "justify_content": null,
            "_view_module": "@jupyter-widgets/base",
            "overflow": null,
            "_model_module_version": "1.2.0",
            "_view_count": null,
            "flex_flow": null,
            "width": null,
            "min_width": null,
            "border": null,
            "align_items": null,
            "bottom": null,
            "_model_module": "@jupyter-widgets/base",
            "top": null,
            "grid_column": null,
            "overflow_y": null,
            "overflow_x": null,
            "grid_auto_flow": null,
            "grid_area": null,
            "grid_template_columns": null,
            "flex": null,
            "_model_name": "LayoutModel",
            "justify_items": null,
            "grid_row": null,
            "max_height": null,
            "align_content": null,
            "visibility": null,
            "align_self": null,
            "height": null,
            "min_height": null,
            "padding": null,
            "grid_auto_rows": null,
            "grid_gap": null,
            "max_width": null,
            "order": null,
            "_view_module_version": "1.2.0",
            "grid_template_areas": null,
            "object_position": null,
            "object_fit": null,
            "grid_auto_columns": null,
            "margin": null,
            "display": null,
            "left": null
          }
        },
        "bd97b46f2cbd4abca46abaec91e62ab0": {
          "model_module": "@jupyter-widgets/controls",
          "model_name": "FloatProgressModel",
          "state": {
            "_view_name": "ProgressView",
            "style": "IPY_MODEL_09a2205b0af0487d82305fd022dc5bd2",
            "_dom_classes": [],
            "description": "Batches: 100%",
            "_model_name": "FloatProgressModel",
            "bar_style": "success",
            "max": 319,
            "_view_module": "@jupyter-widgets/controls",
            "_model_module_version": "1.5.0",
            "value": 319,
            "_view_count": null,
            "_view_module_version": "1.5.0",
            "orientation": "horizontal",
            "min": 0,
            "description_tooltip": null,
            "_model_module": "@jupyter-widgets/controls",
            "layout": "IPY_MODEL_9c4c3c6393184dab929cfad725d75b2a"
          }
        },
        "e24f6caba42b4343885692f04be44a6f": {
          "model_module": "@jupyter-widgets/controls",
          "model_name": "HTMLModel",
          "state": {
            "_view_name": "HTMLView",
            "style": "IPY_MODEL_7bad5365b87d4ddb82155e67c79b9103",
            "_dom_classes": [],
            "description": "",
            "_model_name": "HTMLModel",
            "placeholder": "​",
            "_view_module": "@jupyter-widgets/controls",
            "_model_module_version": "1.5.0",
            "value": " 319/319 [02:00&lt;00:00,  2.65it/s]",
            "_view_count": null,
            "_view_module_version": "1.5.0",
            "description_tooltip": null,
            "_model_module": "@jupyter-widgets/controls",
            "layout": "IPY_MODEL_8e5d26ff0bfa4bbb941de261dca4e4de"
          }
        },
        "09a2205b0af0487d82305fd022dc5bd2": {
          "model_module": "@jupyter-widgets/controls",
          "model_name": "ProgressStyleModel",
          "state": {
            "_view_name": "StyleView",
            "_model_name": "ProgressStyleModel",
            "description_width": "initial",
            "_view_module": "@jupyter-widgets/base",
            "_model_module_version": "1.5.0",
            "_view_count": null,
            "_view_module_version": "1.2.0",
            "bar_color": null,
            "_model_module": "@jupyter-widgets/controls"
          }
        },
        "9c4c3c6393184dab929cfad725d75b2a": {
          "model_module": "@jupyter-widgets/base",
          "model_name": "LayoutModel",
          "state": {
            "_view_name": "LayoutView",
            "grid_template_rows": null,
            "right": null,
            "justify_content": null,
            "_view_module": "@jupyter-widgets/base",
            "overflow": null,
            "_model_module_version": "1.2.0",
            "_view_count": null,
            "flex_flow": null,
            "width": null,
            "min_width": null,
            "border": null,
            "align_items": null,
            "bottom": null,
            "_model_module": "@jupyter-widgets/base",
            "top": null,
            "grid_column": null,
            "overflow_y": null,
            "overflow_x": null,
            "grid_auto_flow": null,
            "grid_area": null,
            "grid_template_columns": null,
            "flex": null,
            "_model_name": "LayoutModel",
            "justify_items": null,
            "grid_row": null,
            "max_height": null,
            "align_content": null,
            "visibility": null,
            "align_self": null,
            "height": null,
            "min_height": null,
            "padding": null,
            "grid_auto_rows": null,
            "grid_gap": null,
            "max_width": null,
            "order": null,
            "_view_module_version": "1.2.0",
            "grid_template_areas": null,
            "object_position": null,
            "object_fit": null,
            "grid_auto_columns": null,
            "margin": null,
            "display": null,
            "left": null
          }
        },
        "7bad5365b87d4ddb82155e67c79b9103": {
          "model_module": "@jupyter-widgets/controls",
          "model_name": "DescriptionStyleModel",
          "state": {
            "_view_name": "StyleView",
            "_model_name": "DescriptionStyleModel",
            "description_width": "",
            "_view_module": "@jupyter-widgets/base",
            "_model_module_version": "1.5.0",
            "_view_count": null,
            "_view_module_version": "1.2.0",
            "_model_module": "@jupyter-widgets/controls"
          }
        },
        "8e5d26ff0bfa4bbb941de261dca4e4de": {
          "model_module": "@jupyter-widgets/base",
          "model_name": "LayoutModel",
          "state": {
            "_view_name": "LayoutView",
            "grid_template_rows": null,
            "right": null,
            "justify_content": null,
            "_view_module": "@jupyter-widgets/base",
            "overflow": null,
            "_model_module_version": "1.2.0",
            "_view_count": null,
            "flex_flow": null,
            "width": null,
            "min_width": null,
            "border": null,
            "align_items": null,
            "bottom": null,
            "_model_module": "@jupyter-widgets/base",
            "top": null,
            "grid_column": null,
            "overflow_y": null,
            "overflow_x": null,
            "grid_auto_flow": null,
            "grid_area": null,
            "grid_template_columns": null,
            "flex": null,
            "_model_name": "LayoutModel",
            "justify_items": null,
            "grid_row": null,
            "max_height": null,
            "align_content": null,
            "visibility": null,
            "align_self": null,
            "height": null,
            "min_height": null,
            "padding": null,
            "grid_auto_rows": null,
            "grid_gap": null,
            "max_width": null,
            "order": null,
            "_view_module_version": "1.2.0",
            "grid_template_areas": null,
            "object_position": null,
            "object_fit": null,
            "grid_auto_columns": null,
            "margin": null,
            "display": null,
            "left": null
          }
        },
        "5cfe3bb843c449f9ad5711f7758eed06": {
          "model_module": "@jupyter-widgets/controls",
          "model_name": "HBoxModel",
          "state": {
            "_view_name": "HBoxView",
            "_dom_classes": [],
            "_model_name": "HBoxModel",
            "_view_module": "@jupyter-widgets/controls",
            "_model_module_version": "1.5.0",
            "_view_count": null,
            "_view_module_version": "1.5.0",
            "box_style": "",
            "layout": "IPY_MODEL_331923bc8071430da35a1ddf6a11dec6",
            "_model_module": "@jupyter-widgets/controls",
            "children": [
              "IPY_MODEL_d813d203c95d45f2902866269020acb9",
              "IPY_MODEL_6197683636f64ac6bac6a20f74f18f9b"
            ]
          }
        },
        "331923bc8071430da35a1ddf6a11dec6": {
          "model_module": "@jupyter-widgets/base",
          "model_name": "LayoutModel",
          "state": {
            "_view_name": "LayoutView",
            "grid_template_rows": null,
            "right": null,
            "justify_content": null,
            "_view_module": "@jupyter-widgets/base",
            "overflow": null,
            "_model_module_version": "1.2.0",
            "_view_count": null,
            "flex_flow": null,
            "width": null,
            "min_width": null,
            "border": null,
            "align_items": null,
            "bottom": null,
            "_model_module": "@jupyter-widgets/base",
            "top": null,
            "grid_column": null,
            "overflow_y": null,
            "overflow_x": null,
            "grid_auto_flow": null,
            "grid_area": null,
            "grid_template_columns": null,
            "flex": null,
            "_model_name": "LayoutModel",
            "justify_items": null,
            "grid_row": null,
            "max_height": null,
            "align_content": null,
            "visibility": null,
            "align_self": null,
            "height": null,
            "min_height": null,
            "padding": null,
            "grid_auto_rows": null,
            "grid_gap": null,
            "max_width": null,
            "order": null,
            "_view_module_version": "1.2.0",
            "grid_template_areas": null,
            "object_position": null,
            "object_fit": null,
            "grid_auto_columns": null,
            "margin": null,
            "display": null,
            "left": null
          }
        },
        "d813d203c95d45f2902866269020acb9": {
          "model_module": "@jupyter-widgets/controls",
          "model_name": "FloatProgressModel",
          "state": {
            "_view_name": "ProgressView",
            "style": "IPY_MODEL_1b16f3652c2143998dd0fabe55fd75a7",
            "_dom_classes": [],
            "description": "Batches: 100%",
            "_model_name": "FloatProgressModel",
            "bar_style": "success",
            "max": 319,
            "_view_module": "@jupyter-widgets/controls",
            "_model_module_version": "1.5.0",
            "value": 319,
            "_view_count": null,
            "_view_module_version": "1.5.0",
            "orientation": "horizontal",
            "min": 0,
            "description_tooltip": null,
            "_model_module": "@jupyter-widgets/controls",
            "layout": "IPY_MODEL_42742cf0781945a0a90038e096a823c1"
          }
        },
        "6197683636f64ac6bac6a20f74f18f9b": {
          "model_module": "@jupyter-widgets/controls",
          "model_name": "HTMLModel",
          "state": {
            "_view_name": "HTMLView",
            "style": "IPY_MODEL_f81c83afb0404b4490793c215d740607",
            "_dom_classes": [],
            "description": "",
            "_model_name": "HTMLModel",
            "placeholder": "​",
            "_view_module": "@jupyter-widgets/controls",
            "_model_module_version": "1.5.0",
            "value": " 319/319 [02:01&lt;00:00,  2.63it/s]",
            "_view_count": null,
            "_view_module_version": "1.5.0",
            "description_tooltip": null,
            "_model_module": "@jupyter-widgets/controls",
            "layout": "IPY_MODEL_c3669f766b4b41bdb43a8f258dbb4803"
          }
        },
        "1b16f3652c2143998dd0fabe55fd75a7": {
          "model_module": "@jupyter-widgets/controls",
          "model_name": "ProgressStyleModel",
          "state": {
            "_view_name": "StyleView",
            "_model_name": "ProgressStyleModel",
            "description_width": "initial",
            "_view_module": "@jupyter-widgets/base",
            "_model_module_version": "1.5.0",
            "_view_count": null,
            "_view_module_version": "1.2.0",
            "bar_color": null,
            "_model_module": "@jupyter-widgets/controls"
          }
        },
        "42742cf0781945a0a90038e096a823c1": {
          "model_module": "@jupyter-widgets/base",
          "model_name": "LayoutModel",
          "state": {
            "_view_name": "LayoutView",
            "grid_template_rows": null,
            "right": null,
            "justify_content": null,
            "_view_module": "@jupyter-widgets/base",
            "overflow": null,
            "_model_module_version": "1.2.0",
            "_view_count": null,
            "flex_flow": null,
            "width": null,
            "min_width": null,
            "border": null,
            "align_items": null,
            "bottom": null,
            "_model_module": "@jupyter-widgets/base",
            "top": null,
            "grid_column": null,
            "overflow_y": null,
            "overflow_x": null,
            "grid_auto_flow": null,
            "grid_area": null,
            "grid_template_columns": null,
            "flex": null,
            "_model_name": "LayoutModel",
            "justify_items": null,
            "grid_row": null,
            "max_height": null,
            "align_content": null,
            "visibility": null,
            "align_self": null,
            "height": null,
            "min_height": null,
            "padding": null,
            "grid_auto_rows": null,
            "grid_gap": null,
            "max_width": null,
            "order": null,
            "_view_module_version": "1.2.0",
            "grid_template_areas": null,
            "object_position": null,
            "object_fit": null,
            "grid_auto_columns": null,
            "margin": null,
            "display": null,
            "left": null
          }
        },
        "f81c83afb0404b4490793c215d740607": {
          "model_module": "@jupyter-widgets/controls",
          "model_name": "DescriptionStyleModel",
          "state": {
            "_view_name": "StyleView",
            "_model_name": "DescriptionStyleModel",
            "description_width": "",
            "_view_module": "@jupyter-widgets/base",
            "_model_module_version": "1.5.0",
            "_view_count": null,
            "_view_module_version": "1.2.0",
            "_model_module": "@jupyter-widgets/controls"
          }
        },
        "c3669f766b4b41bdb43a8f258dbb4803": {
          "model_module": "@jupyter-widgets/base",
          "model_name": "LayoutModel",
          "state": {
            "_view_name": "LayoutView",
            "grid_template_rows": null,
            "right": null,
            "justify_content": null,
            "_view_module": "@jupyter-widgets/base",
            "overflow": null,
            "_model_module_version": "1.2.0",
            "_view_count": null,
            "flex_flow": null,
            "width": null,
            "min_width": null,
            "border": null,
            "align_items": null,
            "bottom": null,
            "_model_module": "@jupyter-widgets/base",
            "top": null,
            "grid_column": null,
            "overflow_y": null,
            "overflow_x": null,
            "grid_auto_flow": null,
            "grid_area": null,
            "grid_template_columns": null,
            "flex": null,
            "_model_name": "LayoutModel",
            "justify_items": null,
            "grid_row": null,
            "max_height": null,
            "align_content": null,
            "visibility": null,
            "align_self": null,
            "height": null,
            "min_height": null,
            "padding": null,
            "grid_auto_rows": null,
            "grid_gap": null,
            "max_width": null,
            "order": null,
            "_view_module_version": "1.2.0",
            "grid_template_areas": null,
            "object_position": null,
            "object_fit": null,
            "grid_auto_columns": null,
            "margin": null,
            "display": null,
            "left": null
          }
        },
        "0fb6b09986b04b63a6f771de82c28ab8": {
          "model_module": "@jupyter-widgets/controls",
          "model_name": "HBoxModel",
          "state": {
            "_view_name": "HBoxView",
            "_dom_classes": [],
            "_model_name": "HBoxModel",
            "_view_module": "@jupyter-widgets/controls",
            "_model_module_version": "1.5.0",
            "_view_count": null,
            "_view_module_version": "1.5.0",
            "box_style": "",
            "layout": "IPY_MODEL_82e0a02d4e75464381264e012821b626",
            "_model_module": "@jupyter-widgets/controls",
            "children": [
              "IPY_MODEL_abececef48f94d6dbe6d3a8a6a55f718",
              "IPY_MODEL_52959af7e816485eb327093f14b7d93a"
            ]
          }
        },
        "82e0a02d4e75464381264e012821b626": {
          "model_module": "@jupyter-widgets/base",
          "model_name": "LayoutModel",
          "state": {
            "_view_name": "LayoutView",
            "grid_template_rows": null,
            "right": null,
            "justify_content": null,
            "_view_module": "@jupyter-widgets/base",
            "overflow": null,
            "_model_module_version": "1.2.0",
            "_view_count": null,
            "flex_flow": null,
            "width": null,
            "min_width": null,
            "border": null,
            "align_items": null,
            "bottom": null,
            "_model_module": "@jupyter-widgets/base",
            "top": null,
            "grid_column": null,
            "overflow_y": null,
            "overflow_x": null,
            "grid_auto_flow": null,
            "grid_area": null,
            "grid_template_columns": null,
            "flex": null,
            "_model_name": "LayoutModel",
            "justify_items": null,
            "grid_row": null,
            "max_height": null,
            "align_content": null,
            "visibility": null,
            "align_self": null,
            "height": null,
            "min_height": null,
            "padding": null,
            "grid_auto_rows": null,
            "grid_gap": null,
            "max_width": null,
            "order": null,
            "_view_module_version": "1.2.0",
            "grid_template_areas": null,
            "object_position": null,
            "object_fit": null,
            "grid_auto_columns": null,
            "margin": null,
            "display": null,
            "left": null
          }
        },
        "abececef48f94d6dbe6d3a8a6a55f718": {
          "model_module": "@jupyter-widgets/controls",
          "model_name": "FloatProgressModel",
          "state": {
            "_view_name": "ProgressView",
            "style": "IPY_MODEL_4306cee5328c492a9f13d70f3d38c8b6",
            "_dom_classes": [],
            "description": "Batches: 100%",
            "_model_name": "FloatProgressModel",
            "bar_style": "success",
            "max": 319,
            "_view_module": "@jupyter-widgets/controls",
            "_model_module_version": "1.5.0",
            "value": 319,
            "_view_count": null,
            "_view_module_version": "1.5.0",
            "orientation": "horizontal",
            "min": 0,
            "description_tooltip": null,
            "_model_module": "@jupyter-widgets/controls",
            "layout": "IPY_MODEL_ed1ecaead7f4470e9a4e07d7ccb12307"
          }
        },
        "52959af7e816485eb327093f14b7d93a": {
          "model_module": "@jupyter-widgets/controls",
          "model_name": "HTMLModel",
          "state": {
            "_view_name": "HTMLView",
            "style": "IPY_MODEL_ec56d1155e72435793639545e2beaa7d",
            "_dom_classes": [],
            "description": "",
            "_model_name": "HTMLModel",
            "placeholder": "​",
            "_view_module": "@jupyter-widgets/controls",
            "_model_module_version": "1.5.0",
            "value": " 319/319 [00:47&lt;00:00,  6.75it/s]",
            "_view_count": null,
            "_view_module_version": "1.5.0",
            "description_tooltip": null,
            "_model_module": "@jupyter-widgets/controls",
            "layout": "IPY_MODEL_3122796662154714955d2fac1e22336a"
          }
        },
        "4306cee5328c492a9f13d70f3d38c8b6": {
          "model_module": "@jupyter-widgets/controls",
          "model_name": "ProgressStyleModel",
          "state": {
            "_view_name": "StyleView",
            "_model_name": "ProgressStyleModel",
            "description_width": "initial",
            "_view_module": "@jupyter-widgets/base",
            "_model_module_version": "1.5.0",
            "_view_count": null,
            "_view_module_version": "1.2.0",
            "bar_color": null,
            "_model_module": "@jupyter-widgets/controls"
          }
        },
        "ed1ecaead7f4470e9a4e07d7ccb12307": {
          "model_module": "@jupyter-widgets/base",
          "model_name": "LayoutModel",
          "state": {
            "_view_name": "LayoutView",
            "grid_template_rows": null,
            "right": null,
            "justify_content": null,
            "_view_module": "@jupyter-widgets/base",
            "overflow": null,
            "_model_module_version": "1.2.0",
            "_view_count": null,
            "flex_flow": null,
            "width": null,
            "min_width": null,
            "border": null,
            "align_items": null,
            "bottom": null,
            "_model_module": "@jupyter-widgets/base",
            "top": null,
            "grid_column": null,
            "overflow_y": null,
            "overflow_x": null,
            "grid_auto_flow": null,
            "grid_area": null,
            "grid_template_columns": null,
            "flex": null,
            "_model_name": "LayoutModel",
            "justify_items": null,
            "grid_row": null,
            "max_height": null,
            "align_content": null,
            "visibility": null,
            "align_self": null,
            "height": null,
            "min_height": null,
            "padding": null,
            "grid_auto_rows": null,
            "grid_gap": null,
            "max_width": null,
            "order": null,
            "_view_module_version": "1.2.0",
            "grid_template_areas": null,
            "object_position": null,
            "object_fit": null,
            "grid_auto_columns": null,
            "margin": null,
            "display": null,
            "left": null
          }
        },
        "ec56d1155e72435793639545e2beaa7d": {
          "model_module": "@jupyter-widgets/controls",
          "model_name": "DescriptionStyleModel",
          "state": {
            "_view_name": "StyleView",
            "_model_name": "DescriptionStyleModel",
            "description_width": "",
            "_view_module": "@jupyter-widgets/base",
            "_model_module_version": "1.5.0",
            "_view_count": null,
            "_view_module_version": "1.2.0",
            "_model_module": "@jupyter-widgets/controls"
          }
        },
        "3122796662154714955d2fac1e22336a": {
          "model_module": "@jupyter-widgets/base",
          "model_name": "LayoutModel",
          "state": {
            "_view_name": "LayoutView",
            "grid_template_rows": null,
            "right": null,
            "justify_content": null,
            "_view_module": "@jupyter-widgets/base",
            "overflow": null,
            "_model_module_version": "1.2.0",
            "_view_count": null,
            "flex_flow": null,
            "width": null,
            "min_width": null,
            "border": null,
            "align_items": null,
            "bottom": null,
            "_model_module": "@jupyter-widgets/base",
            "top": null,
            "grid_column": null,
            "overflow_y": null,
            "overflow_x": null,
            "grid_auto_flow": null,
            "grid_area": null,
            "grid_template_columns": null,
            "flex": null,
            "_model_name": "LayoutModel",
            "justify_items": null,
            "grid_row": null,
            "max_height": null,
            "align_content": null,
            "visibility": null,
            "align_self": null,
            "height": null,
            "min_height": null,
            "padding": null,
            "grid_auto_rows": null,
            "grid_gap": null,
            "max_width": null,
            "order": null,
            "_view_module_version": "1.2.0",
            "grid_template_areas": null,
            "object_position": null,
            "object_fit": null,
            "grid_auto_columns": null,
            "margin": null,
            "display": null,
            "left": null
          }
        },
        "e82890aafaf04c6385b76c8dafbb69c5": {
          "model_module": "@jupyter-widgets/controls",
          "model_name": "HBoxModel",
          "state": {
            "_view_name": "HBoxView",
            "_dom_classes": [],
            "_model_name": "HBoxModel",
            "_view_module": "@jupyter-widgets/controls",
            "_model_module_version": "1.5.0",
            "_view_count": null,
            "_view_module_version": "1.5.0",
            "box_style": "",
            "layout": "IPY_MODEL_2e3395ac154a4f5f92189b419c56c9c0",
            "_model_module": "@jupyter-widgets/controls",
            "children": [
              "IPY_MODEL_6325a0773c91446f8c880d16de3913a8",
              "IPY_MODEL_bb98e328c4f14f9a99c30a8096fd0935"
            ]
          }
        },
        "2e3395ac154a4f5f92189b419c56c9c0": {
          "model_module": "@jupyter-widgets/base",
          "model_name": "LayoutModel",
          "state": {
            "_view_name": "LayoutView",
            "grid_template_rows": null,
            "right": null,
            "justify_content": null,
            "_view_module": "@jupyter-widgets/base",
            "overflow": null,
            "_model_module_version": "1.2.0",
            "_view_count": null,
            "flex_flow": null,
            "width": null,
            "min_width": null,
            "border": null,
            "align_items": null,
            "bottom": null,
            "_model_module": "@jupyter-widgets/base",
            "top": null,
            "grid_column": null,
            "overflow_y": null,
            "overflow_x": null,
            "grid_auto_flow": null,
            "grid_area": null,
            "grid_template_columns": null,
            "flex": null,
            "_model_name": "LayoutModel",
            "justify_items": null,
            "grid_row": null,
            "max_height": null,
            "align_content": null,
            "visibility": null,
            "align_self": null,
            "height": null,
            "min_height": null,
            "padding": null,
            "grid_auto_rows": null,
            "grid_gap": null,
            "max_width": null,
            "order": null,
            "_view_module_version": "1.2.0",
            "grid_template_areas": null,
            "object_position": null,
            "object_fit": null,
            "grid_auto_columns": null,
            "margin": null,
            "display": null,
            "left": null
          }
        },
        "6325a0773c91446f8c880d16de3913a8": {
          "model_module": "@jupyter-widgets/controls",
          "model_name": "FloatProgressModel",
          "state": {
            "_view_name": "ProgressView",
            "style": "IPY_MODEL_c737e22a40d4448b918041c872594218",
            "_dom_classes": [],
            "description": "Batches: 100%",
            "_model_name": "FloatProgressModel",
            "bar_style": "success",
            "max": 319,
            "_view_module": "@jupyter-widgets/controls",
            "_model_module_version": "1.5.0",
            "value": 319,
            "_view_count": null,
            "_view_module_version": "1.5.0",
            "orientation": "horizontal",
            "min": 0,
            "description_tooltip": null,
            "_model_module": "@jupyter-widgets/controls",
            "layout": "IPY_MODEL_ddbdc27e1d604f39a8dc24137673173e"
          }
        },
        "bb98e328c4f14f9a99c30a8096fd0935": {
          "model_module": "@jupyter-widgets/controls",
          "model_name": "HTMLModel",
          "state": {
            "_view_name": "HTMLView",
            "style": "IPY_MODEL_d1010f6f3a024dc581c4d7517711997a",
            "_dom_classes": [],
            "description": "",
            "_model_name": "HTMLModel",
            "placeholder": "​",
            "_view_module": "@jupyter-widgets/controls",
            "_model_module_version": "1.5.0",
            "value": " 319/319 [01:09&lt;00:00,  4.61it/s]",
            "_view_count": null,
            "_view_module_version": "1.5.0",
            "description_tooltip": null,
            "_model_module": "@jupyter-widgets/controls",
            "layout": "IPY_MODEL_3a7dbc0ffd2b4994a30605c57d9a1162"
          }
        },
        "c737e22a40d4448b918041c872594218": {
          "model_module": "@jupyter-widgets/controls",
          "model_name": "ProgressStyleModel",
          "state": {
            "_view_name": "StyleView",
            "_model_name": "ProgressStyleModel",
            "description_width": "initial",
            "_view_module": "@jupyter-widgets/base",
            "_model_module_version": "1.5.0",
            "_view_count": null,
            "_view_module_version": "1.2.0",
            "bar_color": null,
            "_model_module": "@jupyter-widgets/controls"
          }
        },
        "ddbdc27e1d604f39a8dc24137673173e": {
          "model_module": "@jupyter-widgets/base",
          "model_name": "LayoutModel",
          "state": {
            "_view_name": "LayoutView",
            "grid_template_rows": null,
            "right": null,
            "justify_content": null,
            "_view_module": "@jupyter-widgets/base",
            "overflow": null,
            "_model_module_version": "1.2.0",
            "_view_count": null,
            "flex_flow": null,
            "width": null,
            "min_width": null,
            "border": null,
            "align_items": null,
            "bottom": null,
            "_model_module": "@jupyter-widgets/base",
            "top": null,
            "grid_column": null,
            "overflow_y": null,
            "overflow_x": null,
            "grid_auto_flow": null,
            "grid_area": null,
            "grid_template_columns": null,
            "flex": null,
            "_model_name": "LayoutModel",
            "justify_items": null,
            "grid_row": null,
            "max_height": null,
            "align_content": null,
            "visibility": null,
            "align_self": null,
            "height": null,
            "min_height": null,
            "padding": null,
            "grid_auto_rows": null,
            "grid_gap": null,
            "max_width": null,
            "order": null,
            "_view_module_version": "1.2.0",
            "grid_template_areas": null,
            "object_position": null,
            "object_fit": null,
            "grid_auto_columns": null,
            "margin": null,
            "display": null,
            "left": null
          }
        },
        "d1010f6f3a024dc581c4d7517711997a": {
          "model_module": "@jupyter-widgets/controls",
          "model_name": "DescriptionStyleModel",
          "state": {
            "_view_name": "StyleView",
            "_model_name": "DescriptionStyleModel",
            "description_width": "",
            "_view_module": "@jupyter-widgets/base",
            "_model_module_version": "1.5.0",
            "_view_count": null,
            "_view_module_version": "1.2.0",
            "_model_module": "@jupyter-widgets/controls"
          }
        },
        "3a7dbc0ffd2b4994a30605c57d9a1162": {
          "model_module": "@jupyter-widgets/base",
          "model_name": "LayoutModel",
          "state": {
            "_view_name": "LayoutView",
            "grid_template_rows": null,
            "right": null,
            "justify_content": null,
            "_view_module": "@jupyter-widgets/base",
            "overflow": null,
            "_model_module_version": "1.2.0",
            "_view_count": null,
            "flex_flow": null,
            "width": null,
            "min_width": null,
            "border": null,
            "align_items": null,
            "bottom": null,
            "_model_module": "@jupyter-widgets/base",
            "top": null,
            "grid_column": null,
            "overflow_y": null,
            "overflow_x": null,
            "grid_auto_flow": null,
            "grid_area": null,
            "grid_template_columns": null,
            "flex": null,
            "_model_name": "LayoutModel",
            "justify_items": null,
            "grid_row": null,
            "max_height": null,
            "align_content": null,
            "visibility": null,
            "align_self": null,
            "height": null,
            "min_height": null,
            "padding": null,
            "grid_auto_rows": null,
            "grid_gap": null,
            "max_width": null,
            "order": null,
            "_view_module_version": "1.2.0",
            "grid_template_areas": null,
            "object_position": null,
            "object_fit": null,
            "grid_auto_columns": null,
            "margin": null,
            "display": null,
            "left": null
          }
        },
        "200dc3a142d541d387794fa20801d34f": {
          "model_module": "@jupyter-widgets/controls",
          "model_name": "HBoxModel",
          "state": {
            "_view_name": "HBoxView",
            "_dom_classes": [],
            "_model_name": "HBoxModel",
            "_view_module": "@jupyter-widgets/controls",
            "_model_module_version": "1.5.0",
            "_view_count": null,
            "_view_module_version": "1.5.0",
            "box_style": "",
            "layout": "IPY_MODEL_9b91e5a4df414b1a8827333b63f7db00",
            "_model_module": "@jupyter-widgets/controls",
            "children": [
              "IPY_MODEL_e63d56417cc541798617a1bb07a5a73c",
              "IPY_MODEL_d3c5353bdb384a9a882169e22ae5b5ac"
            ]
          }
        },
        "9b91e5a4df414b1a8827333b63f7db00": {
          "model_module": "@jupyter-widgets/base",
          "model_name": "LayoutModel",
          "state": {
            "_view_name": "LayoutView",
            "grid_template_rows": null,
            "right": null,
            "justify_content": null,
            "_view_module": "@jupyter-widgets/base",
            "overflow": null,
            "_model_module_version": "1.2.0",
            "_view_count": null,
            "flex_flow": null,
            "width": null,
            "min_width": null,
            "border": null,
            "align_items": null,
            "bottom": null,
            "_model_module": "@jupyter-widgets/base",
            "top": null,
            "grid_column": null,
            "overflow_y": null,
            "overflow_x": null,
            "grid_auto_flow": null,
            "grid_area": null,
            "grid_template_columns": null,
            "flex": null,
            "_model_name": "LayoutModel",
            "justify_items": null,
            "grid_row": null,
            "max_height": null,
            "align_content": null,
            "visibility": null,
            "align_self": null,
            "height": null,
            "min_height": null,
            "padding": null,
            "grid_auto_rows": null,
            "grid_gap": null,
            "max_width": null,
            "order": null,
            "_view_module_version": "1.2.0",
            "grid_template_areas": null,
            "object_position": null,
            "object_fit": null,
            "grid_auto_columns": null,
            "margin": null,
            "display": null,
            "left": null
          }
        },
        "e63d56417cc541798617a1bb07a5a73c": {
          "model_module": "@jupyter-widgets/controls",
          "model_name": "FloatProgressModel",
          "state": {
            "_view_name": "ProgressView",
            "style": "IPY_MODEL_a1775f2c01254fbe9e49c5736971eb89",
            "_dom_classes": [],
            "description": "Batches: 100%",
            "_model_name": "FloatProgressModel",
            "bar_style": "success",
            "max": 319,
            "_view_module": "@jupyter-widgets/controls",
            "_model_module_version": "1.5.0",
            "value": 319,
            "_view_count": null,
            "_view_module_version": "1.5.0",
            "orientation": "horizontal",
            "min": 0,
            "description_tooltip": null,
            "_model_module": "@jupyter-widgets/controls",
            "layout": "IPY_MODEL_567d8b8479394194834ecd5c512824d1"
          }
        },
        "d3c5353bdb384a9a882169e22ae5b5ac": {
          "model_module": "@jupyter-widgets/controls",
          "model_name": "HTMLModel",
          "state": {
            "_view_name": "HTMLView",
            "style": "IPY_MODEL_3c3b84e089df47a591e3ae0daf654407",
            "_dom_classes": [],
            "description": "",
            "_model_name": "HTMLModel",
            "placeholder": "​",
            "_view_module": "@jupyter-widgets/controls",
            "_model_module_version": "1.5.0",
            "value": " 319/319 [01:59&lt;00:00,  2.67it/s]",
            "_view_count": null,
            "_view_module_version": "1.5.0",
            "description_tooltip": null,
            "_model_module": "@jupyter-widgets/controls",
            "layout": "IPY_MODEL_b2dcf472934548859c0ea38544081bfb"
          }
        },
        "a1775f2c01254fbe9e49c5736971eb89": {
          "model_module": "@jupyter-widgets/controls",
          "model_name": "ProgressStyleModel",
          "state": {
            "_view_name": "StyleView",
            "_model_name": "ProgressStyleModel",
            "description_width": "initial",
            "_view_module": "@jupyter-widgets/base",
            "_model_module_version": "1.5.0",
            "_view_count": null,
            "_view_module_version": "1.2.0",
            "bar_color": null,
            "_model_module": "@jupyter-widgets/controls"
          }
        },
        "567d8b8479394194834ecd5c512824d1": {
          "model_module": "@jupyter-widgets/base",
          "model_name": "LayoutModel",
          "state": {
            "_view_name": "LayoutView",
            "grid_template_rows": null,
            "right": null,
            "justify_content": null,
            "_view_module": "@jupyter-widgets/base",
            "overflow": null,
            "_model_module_version": "1.2.0",
            "_view_count": null,
            "flex_flow": null,
            "width": null,
            "min_width": null,
            "border": null,
            "align_items": null,
            "bottom": null,
            "_model_module": "@jupyter-widgets/base",
            "top": null,
            "grid_column": null,
            "overflow_y": null,
            "overflow_x": null,
            "grid_auto_flow": null,
            "grid_area": null,
            "grid_template_columns": null,
            "flex": null,
            "_model_name": "LayoutModel",
            "justify_items": null,
            "grid_row": null,
            "max_height": null,
            "align_content": null,
            "visibility": null,
            "align_self": null,
            "height": null,
            "min_height": null,
            "padding": null,
            "grid_auto_rows": null,
            "grid_gap": null,
            "max_width": null,
            "order": null,
            "_view_module_version": "1.2.0",
            "grid_template_areas": null,
            "object_position": null,
            "object_fit": null,
            "grid_auto_columns": null,
            "margin": null,
            "display": null,
            "left": null
          }
        },
        "3c3b84e089df47a591e3ae0daf654407": {
          "model_module": "@jupyter-widgets/controls",
          "model_name": "DescriptionStyleModel",
          "state": {
            "_view_name": "StyleView",
            "_model_name": "DescriptionStyleModel",
            "description_width": "",
            "_view_module": "@jupyter-widgets/base",
            "_model_module_version": "1.5.0",
            "_view_count": null,
            "_view_module_version": "1.2.0",
            "_model_module": "@jupyter-widgets/controls"
          }
        },
        "b2dcf472934548859c0ea38544081bfb": {
          "model_module": "@jupyter-widgets/base",
          "model_name": "LayoutModel",
          "state": {
            "_view_name": "LayoutView",
            "grid_template_rows": null,
            "right": null,
            "justify_content": null,
            "_view_module": "@jupyter-widgets/base",
            "overflow": null,
            "_model_module_version": "1.2.0",
            "_view_count": null,
            "flex_flow": null,
            "width": null,
            "min_width": null,
            "border": null,
            "align_items": null,
            "bottom": null,
            "_model_module": "@jupyter-widgets/base",
            "top": null,
            "grid_column": null,
            "overflow_y": null,
            "overflow_x": null,
            "grid_auto_flow": null,
            "grid_area": null,
            "grid_template_columns": null,
            "flex": null,
            "_model_name": "LayoutModel",
            "justify_items": null,
            "grid_row": null,
            "max_height": null,
            "align_content": null,
            "visibility": null,
            "align_self": null,
            "height": null,
            "min_height": null,
            "padding": null,
            "grid_auto_rows": null,
            "grid_gap": null,
            "max_width": null,
            "order": null,
            "_view_module_version": "1.2.0",
            "grid_template_areas": null,
            "object_position": null,
            "object_fit": null,
            "grid_auto_columns": null,
            "margin": null,
            "display": null,
            "left": null
          }
        },
        "afcb2fa02071482bb53468f6698a79c5": {
          "model_module": "@jupyter-widgets/controls",
          "model_name": "HBoxModel",
          "state": {
            "_view_name": "HBoxView",
            "_dom_classes": [],
            "_model_name": "HBoxModel",
            "_view_module": "@jupyter-widgets/controls",
            "_model_module_version": "1.5.0",
            "_view_count": null,
            "_view_module_version": "1.5.0",
            "box_style": "",
            "layout": "IPY_MODEL_409c51eb0ce745849fc679231b704dac",
            "_model_module": "@jupyter-widgets/controls",
            "children": [
              "IPY_MODEL_a35d8f380594437a8638696b42a861b7",
              "IPY_MODEL_d36f5454deed4776bad42209a3e0f492"
            ]
          }
        },
        "409c51eb0ce745849fc679231b704dac": {
          "model_module": "@jupyter-widgets/base",
          "model_name": "LayoutModel",
          "state": {
            "_view_name": "LayoutView",
            "grid_template_rows": null,
            "right": null,
            "justify_content": null,
            "_view_module": "@jupyter-widgets/base",
            "overflow": null,
            "_model_module_version": "1.2.0",
            "_view_count": null,
            "flex_flow": null,
            "width": null,
            "min_width": null,
            "border": null,
            "align_items": null,
            "bottom": null,
            "_model_module": "@jupyter-widgets/base",
            "top": null,
            "grid_column": null,
            "overflow_y": null,
            "overflow_x": null,
            "grid_auto_flow": null,
            "grid_area": null,
            "grid_template_columns": null,
            "flex": null,
            "_model_name": "LayoutModel",
            "justify_items": null,
            "grid_row": null,
            "max_height": null,
            "align_content": null,
            "visibility": null,
            "align_self": null,
            "height": null,
            "min_height": null,
            "padding": null,
            "grid_auto_rows": null,
            "grid_gap": null,
            "max_width": null,
            "order": null,
            "_view_module_version": "1.2.0",
            "grid_template_areas": null,
            "object_position": null,
            "object_fit": null,
            "grid_auto_columns": null,
            "margin": null,
            "display": null,
            "left": null
          }
        },
        "a35d8f380594437a8638696b42a861b7": {
          "model_module": "@jupyter-widgets/controls",
          "model_name": "FloatProgressModel",
          "state": {
            "_view_name": "ProgressView",
            "style": "IPY_MODEL_f9f2e1fbd4a6426f954bf07d904b5052",
            "_dom_classes": [],
            "description": "Batches: 100%",
            "_model_name": "FloatProgressModel",
            "bar_style": "success",
            "max": 319,
            "_view_module": "@jupyter-widgets/controls",
            "_model_module_version": "1.5.0",
            "value": 319,
            "_view_count": null,
            "_view_module_version": "1.5.0",
            "orientation": "horizontal",
            "min": 0,
            "description_tooltip": null,
            "_model_module": "@jupyter-widgets/controls",
            "layout": "IPY_MODEL_5d2a451cffca44178e7d1117efd52e27"
          }
        },
        "d36f5454deed4776bad42209a3e0f492": {
          "model_module": "@jupyter-widgets/controls",
          "model_name": "HTMLModel",
          "state": {
            "_view_name": "HTMLView",
            "style": "IPY_MODEL_97037daec06e452696d338bec804d6ed",
            "_dom_classes": [],
            "description": "",
            "_model_name": "HTMLModel",
            "placeholder": "​",
            "_view_module": "@jupyter-widgets/controls",
            "_model_module_version": "1.5.0",
            "value": " 319/319 [00:46&lt;00:00,  6.83it/s]",
            "_view_count": null,
            "_view_module_version": "1.5.0",
            "description_tooltip": null,
            "_model_module": "@jupyter-widgets/controls",
            "layout": "IPY_MODEL_8d7ce71289f1420cbe3ec956e440c180"
          }
        },
        "f9f2e1fbd4a6426f954bf07d904b5052": {
          "model_module": "@jupyter-widgets/controls",
          "model_name": "ProgressStyleModel",
          "state": {
            "_view_name": "StyleView",
            "_model_name": "ProgressStyleModel",
            "description_width": "initial",
            "_view_module": "@jupyter-widgets/base",
            "_model_module_version": "1.5.0",
            "_view_count": null,
            "_view_module_version": "1.2.0",
            "bar_color": null,
            "_model_module": "@jupyter-widgets/controls"
          }
        },
        "5d2a451cffca44178e7d1117efd52e27": {
          "model_module": "@jupyter-widgets/base",
          "model_name": "LayoutModel",
          "state": {
            "_view_name": "LayoutView",
            "grid_template_rows": null,
            "right": null,
            "justify_content": null,
            "_view_module": "@jupyter-widgets/base",
            "overflow": null,
            "_model_module_version": "1.2.0",
            "_view_count": null,
            "flex_flow": null,
            "width": null,
            "min_width": null,
            "border": null,
            "align_items": null,
            "bottom": null,
            "_model_module": "@jupyter-widgets/base",
            "top": null,
            "grid_column": null,
            "overflow_y": null,
            "overflow_x": null,
            "grid_auto_flow": null,
            "grid_area": null,
            "grid_template_columns": null,
            "flex": null,
            "_model_name": "LayoutModel",
            "justify_items": null,
            "grid_row": null,
            "max_height": null,
            "align_content": null,
            "visibility": null,
            "align_self": null,
            "height": null,
            "min_height": null,
            "padding": null,
            "grid_auto_rows": null,
            "grid_gap": null,
            "max_width": null,
            "order": null,
            "_view_module_version": "1.2.0",
            "grid_template_areas": null,
            "object_position": null,
            "object_fit": null,
            "grid_auto_columns": null,
            "margin": null,
            "display": null,
            "left": null
          }
        },
        "97037daec06e452696d338bec804d6ed": {
          "model_module": "@jupyter-widgets/controls",
          "model_name": "DescriptionStyleModel",
          "state": {
            "_view_name": "StyleView",
            "_model_name": "DescriptionStyleModel",
            "description_width": "",
            "_view_module": "@jupyter-widgets/base",
            "_model_module_version": "1.5.0",
            "_view_count": null,
            "_view_module_version": "1.2.0",
            "_model_module": "@jupyter-widgets/controls"
          }
        },
        "8d7ce71289f1420cbe3ec956e440c180": {
          "model_module": "@jupyter-widgets/base",
          "model_name": "LayoutModel",
          "state": {
            "_view_name": "LayoutView",
            "grid_template_rows": null,
            "right": null,
            "justify_content": null,
            "_view_module": "@jupyter-widgets/base",
            "overflow": null,
            "_model_module_version": "1.2.0",
            "_view_count": null,
            "flex_flow": null,
            "width": null,
            "min_width": null,
            "border": null,
            "align_items": null,
            "bottom": null,
            "_model_module": "@jupyter-widgets/base",
            "top": null,
            "grid_column": null,
            "overflow_y": null,
            "overflow_x": null,
            "grid_auto_flow": null,
            "grid_area": null,
            "grid_template_columns": null,
            "flex": null,
            "_model_name": "LayoutModel",
            "justify_items": null,
            "grid_row": null,
            "max_height": null,
            "align_content": null,
            "visibility": null,
            "align_self": null,
            "height": null,
            "min_height": null,
            "padding": null,
            "grid_auto_rows": null,
            "grid_gap": null,
            "max_width": null,
            "order": null,
            "_view_module_version": "1.2.0",
            "grid_template_areas": null,
            "object_position": null,
            "object_fit": null,
            "grid_auto_columns": null,
            "margin": null,
            "display": null,
            "left": null
          }
        },
        "70a32f31c22b458881b658ba451c414a": {
          "model_module": "@jupyter-widgets/controls",
          "model_name": "HBoxModel",
          "state": {
            "_view_name": "HBoxView",
            "_dom_classes": [],
            "_model_name": "HBoxModel",
            "_view_module": "@jupyter-widgets/controls",
            "_model_module_version": "1.5.0",
            "_view_count": null,
            "_view_module_version": "1.5.0",
            "box_style": "",
            "layout": "IPY_MODEL_90604448c137496ab6ee909d3d1f13fa",
            "_model_module": "@jupyter-widgets/controls",
            "children": [
              "IPY_MODEL_745a77335e3d481abad95e1c583a4b97",
              "IPY_MODEL_38bca362d8e14c158a52882af45aaf1e"
            ]
          }
        },
        "90604448c137496ab6ee909d3d1f13fa": {
          "model_module": "@jupyter-widgets/base",
          "model_name": "LayoutModel",
          "state": {
            "_view_name": "LayoutView",
            "grid_template_rows": null,
            "right": null,
            "justify_content": null,
            "_view_module": "@jupyter-widgets/base",
            "overflow": null,
            "_model_module_version": "1.2.0",
            "_view_count": null,
            "flex_flow": null,
            "width": null,
            "min_width": null,
            "border": null,
            "align_items": null,
            "bottom": null,
            "_model_module": "@jupyter-widgets/base",
            "top": null,
            "grid_column": null,
            "overflow_y": null,
            "overflow_x": null,
            "grid_auto_flow": null,
            "grid_area": null,
            "grid_template_columns": null,
            "flex": null,
            "_model_name": "LayoutModel",
            "justify_items": null,
            "grid_row": null,
            "max_height": null,
            "align_content": null,
            "visibility": null,
            "align_self": null,
            "height": null,
            "min_height": null,
            "padding": null,
            "grid_auto_rows": null,
            "grid_gap": null,
            "max_width": null,
            "order": null,
            "_view_module_version": "1.2.0",
            "grid_template_areas": null,
            "object_position": null,
            "object_fit": null,
            "grid_auto_columns": null,
            "margin": null,
            "display": null,
            "left": null
          }
        },
        "745a77335e3d481abad95e1c583a4b97": {
          "model_module": "@jupyter-widgets/controls",
          "model_name": "FloatProgressModel",
          "state": {
            "_view_name": "ProgressView",
            "style": "IPY_MODEL_316b12ed7e884132aa596751376e762c",
            "_dom_classes": [],
            "description": "Batches: 100%",
            "_model_name": "FloatProgressModel",
            "bar_style": "success",
            "max": 319,
            "_view_module": "@jupyter-widgets/controls",
            "_model_module_version": "1.5.0",
            "value": 319,
            "_view_count": null,
            "_view_module_version": "1.5.0",
            "orientation": "horizontal",
            "min": 0,
            "description_tooltip": null,
            "_model_module": "@jupyter-widgets/controls",
            "layout": "IPY_MODEL_6c8bfa9f50d34619942a89389017ae50"
          }
        },
        "38bca362d8e14c158a52882af45aaf1e": {
          "model_module": "@jupyter-widgets/controls",
          "model_name": "HTMLModel",
          "state": {
            "_view_name": "HTMLView",
            "style": "IPY_MODEL_833a34dbe46e461ebf26ea2341b98b41",
            "_dom_classes": [],
            "description": "",
            "_model_name": "HTMLModel",
            "placeholder": "​",
            "_view_module": "@jupyter-widgets/controls",
            "_model_module_version": "1.5.0",
            "value": " 319/319 [02:25&lt;00:00,  2.20it/s]",
            "_view_count": null,
            "_view_module_version": "1.5.0",
            "description_tooltip": null,
            "_model_module": "@jupyter-widgets/controls",
            "layout": "IPY_MODEL_c677bf1ff0954b2fa9198acd99523525"
          }
        },
        "316b12ed7e884132aa596751376e762c": {
          "model_module": "@jupyter-widgets/controls",
          "model_name": "ProgressStyleModel",
          "state": {
            "_view_name": "StyleView",
            "_model_name": "ProgressStyleModel",
            "description_width": "initial",
            "_view_module": "@jupyter-widgets/base",
            "_model_module_version": "1.5.0",
            "_view_count": null,
            "_view_module_version": "1.2.0",
            "bar_color": null,
            "_model_module": "@jupyter-widgets/controls"
          }
        },
        "6c8bfa9f50d34619942a89389017ae50": {
          "model_module": "@jupyter-widgets/base",
          "model_name": "LayoutModel",
          "state": {
            "_view_name": "LayoutView",
            "grid_template_rows": null,
            "right": null,
            "justify_content": null,
            "_view_module": "@jupyter-widgets/base",
            "overflow": null,
            "_model_module_version": "1.2.0",
            "_view_count": null,
            "flex_flow": null,
            "width": null,
            "min_width": null,
            "border": null,
            "align_items": null,
            "bottom": null,
            "_model_module": "@jupyter-widgets/base",
            "top": null,
            "grid_column": null,
            "overflow_y": null,
            "overflow_x": null,
            "grid_auto_flow": null,
            "grid_area": null,
            "grid_template_columns": null,
            "flex": null,
            "_model_name": "LayoutModel",
            "justify_items": null,
            "grid_row": null,
            "max_height": null,
            "align_content": null,
            "visibility": null,
            "align_self": null,
            "height": null,
            "min_height": null,
            "padding": null,
            "grid_auto_rows": null,
            "grid_gap": null,
            "max_width": null,
            "order": null,
            "_view_module_version": "1.2.0",
            "grid_template_areas": null,
            "object_position": null,
            "object_fit": null,
            "grid_auto_columns": null,
            "margin": null,
            "display": null,
            "left": null
          }
        },
        "833a34dbe46e461ebf26ea2341b98b41": {
          "model_module": "@jupyter-widgets/controls",
          "model_name": "DescriptionStyleModel",
          "state": {
            "_view_name": "StyleView",
            "_model_name": "DescriptionStyleModel",
            "description_width": "",
            "_view_module": "@jupyter-widgets/base",
            "_model_module_version": "1.5.0",
            "_view_count": null,
            "_view_module_version": "1.2.0",
            "_model_module": "@jupyter-widgets/controls"
          }
        },
        "c677bf1ff0954b2fa9198acd99523525": {
          "model_module": "@jupyter-widgets/base",
          "model_name": "LayoutModel",
          "state": {
            "_view_name": "LayoutView",
            "grid_template_rows": null,
            "right": null,
            "justify_content": null,
            "_view_module": "@jupyter-widgets/base",
            "overflow": null,
            "_model_module_version": "1.2.0",
            "_view_count": null,
            "flex_flow": null,
            "width": null,
            "min_width": null,
            "border": null,
            "align_items": null,
            "bottom": null,
            "_model_module": "@jupyter-widgets/base",
            "top": null,
            "grid_column": null,
            "overflow_y": null,
            "overflow_x": null,
            "grid_auto_flow": null,
            "grid_area": null,
            "grid_template_columns": null,
            "flex": null,
            "_model_name": "LayoutModel",
            "justify_items": null,
            "grid_row": null,
            "max_height": null,
            "align_content": null,
            "visibility": null,
            "align_self": null,
            "height": null,
            "min_height": null,
            "padding": null,
            "grid_auto_rows": null,
            "grid_gap": null,
            "max_width": null,
            "order": null,
            "_view_module_version": "1.2.0",
            "grid_template_areas": null,
            "object_position": null,
            "object_fit": null,
            "grid_auto_columns": null,
            "margin": null,
            "display": null,
            "left": null
          }
        },
        "24d54ab604134de9a3a31bed49ce7c85": {
          "model_module": "@jupyter-widgets/controls",
          "model_name": "HBoxModel",
          "state": {
            "_view_name": "HBoxView",
            "_dom_classes": [],
            "_model_name": "HBoxModel",
            "_view_module": "@jupyter-widgets/controls",
            "_model_module_version": "1.5.0",
            "_view_count": null,
            "_view_module_version": "1.5.0",
            "box_style": "",
            "layout": "IPY_MODEL_1c2439b0c49b46ac82e8ffebedca2e51",
            "_model_module": "@jupyter-widgets/controls",
            "children": [
              "IPY_MODEL_d3a59bfd31424992b8dab3f54f9166be",
              "IPY_MODEL_933c5de7ea954ef88f7cea346f12dd9e"
            ]
          }
        },
        "1c2439b0c49b46ac82e8ffebedca2e51": {
          "model_module": "@jupyter-widgets/base",
          "model_name": "LayoutModel",
          "state": {
            "_view_name": "LayoutView",
            "grid_template_rows": null,
            "right": null,
            "justify_content": null,
            "_view_module": "@jupyter-widgets/base",
            "overflow": null,
            "_model_module_version": "1.2.0",
            "_view_count": null,
            "flex_flow": null,
            "width": null,
            "min_width": null,
            "border": null,
            "align_items": null,
            "bottom": null,
            "_model_module": "@jupyter-widgets/base",
            "top": null,
            "grid_column": null,
            "overflow_y": null,
            "overflow_x": null,
            "grid_auto_flow": null,
            "grid_area": null,
            "grid_template_columns": null,
            "flex": null,
            "_model_name": "LayoutModel",
            "justify_items": null,
            "grid_row": null,
            "max_height": null,
            "align_content": null,
            "visibility": null,
            "align_self": null,
            "height": null,
            "min_height": null,
            "padding": null,
            "grid_auto_rows": null,
            "grid_gap": null,
            "max_width": null,
            "order": null,
            "_view_module_version": "1.2.0",
            "grid_template_areas": null,
            "object_position": null,
            "object_fit": null,
            "grid_auto_columns": null,
            "margin": null,
            "display": null,
            "left": null
          }
        },
        "d3a59bfd31424992b8dab3f54f9166be": {
          "model_module": "@jupyter-widgets/controls",
          "model_name": "FloatProgressModel",
          "state": {
            "_view_name": "ProgressView",
            "style": "IPY_MODEL_c622544097cb4ca2b8152a3e43822ae2",
            "_dom_classes": [],
            "description": "Batches: 100%",
            "_model_name": "FloatProgressModel",
            "bar_style": "success",
            "max": 319,
            "_view_module": "@jupyter-widgets/controls",
            "_model_module_version": "1.5.0",
            "value": 319,
            "_view_count": null,
            "_view_module_version": "1.5.0",
            "orientation": "horizontal",
            "min": 0,
            "description_tooltip": null,
            "_model_module": "@jupyter-widgets/controls",
            "layout": "IPY_MODEL_a007a94124e8466ebb0e49325744af50"
          }
        },
        "933c5de7ea954ef88f7cea346f12dd9e": {
          "model_module": "@jupyter-widgets/controls",
          "model_name": "HTMLModel",
          "state": {
            "_view_name": "HTMLView",
            "style": "IPY_MODEL_b11070bc96cc4935bfd6b8ff9a08d456",
            "_dom_classes": [],
            "description": "",
            "_model_name": "HTMLModel",
            "placeholder": "​",
            "_view_module": "@jupyter-widgets/controls",
            "_model_module_version": "1.5.0",
            "value": " 319/319 [01:11&lt;00:00,  4.49it/s]",
            "_view_count": null,
            "_view_module_version": "1.5.0",
            "description_tooltip": null,
            "_model_module": "@jupyter-widgets/controls",
            "layout": "IPY_MODEL_0c1c1c9dd3f04f9e81ad6a74feb4543b"
          }
        },
        "c622544097cb4ca2b8152a3e43822ae2": {
          "model_module": "@jupyter-widgets/controls",
          "model_name": "ProgressStyleModel",
          "state": {
            "_view_name": "StyleView",
            "_model_name": "ProgressStyleModel",
            "description_width": "initial",
            "_view_module": "@jupyter-widgets/base",
            "_model_module_version": "1.5.0",
            "_view_count": null,
            "_view_module_version": "1.2.0",
            "bar_color": null,
            "_model_module": "@jupyter-widgets/controls"
          }
        },
        "a007a94124e8466ebb0e49325744af50": {
          "model_module": "@jupyter-widgets/base",
          "model_name": "LayoutModel",
          "state": {
            "_view_name": "LayoutView",
            "grid_template_rows": null,
            "right": null,
            "justify_content": null,
            "_view_module": "@jupyter-widgets/base",
            "overflow": null,
            "_model_module_version": "1.2.0",
            "_view_count": null,
            "flex_flow": null,
            "width": null,
            "min_width": null,
            "border": null,
            "align_items": null,
            "bottom": null,
            "_model_module": "@jupyter-widgets/base",
            "top": null,
            "grid_column": null,
            "overflow_y": null,
            "overflow_x": null,
            "grid_auto_flow": null,
            "grid_area": null,
            "grid_template_columns": null,
            "flex": null,
            "_model_name": "LayoutModel",
            "justify_items": null,
            "grid_row": null,
            "max_height": null,
            "align_content": null,
            "visibility": null,
            "align_self": null,
            "height": null,
            "min_height": null,
            "padding": null,
            "grid_auto_rows": null,
            "grid_gap": null,
            "max_width": null,
            "order": null,
            "_view_module_version": "1.2.0",
            "grid_template_areas": null,
            "object_position": null,
            "object_fit": null,
            "grid_auto_columns": null,
            "margin": null,
            "display": null,
            "left": null
          }
        },
        "b11070bc96cc4935bfd6b8ff9a08d456": {
          "model_module": "@jupyter-widgets/controls",
          "model_name": "DescriptionStyleModel",
          "state": {
            "_view_name": "StyleView",
            "_model_name": "DescriptionStyleModel",
            "description_width": "",
            "_view_module": "@jupyter-widgets/base",
            "_model_module_version": "1.5.0",
            "_view_count": null,
            "_view_module_version": "1.2.0",
            "_model_module": "@jupyter-widgets/controls"
          }
        },
        "0c1c1c9dd3f04f9e81ad6a74feb4543b": {
          "model_module": "@jupyter-widgets/base",
          "model_name": "LayoutModel",
          "state": {
            "_view_name": "LayoutView",
            "grid_template_rows": null,
            "right": null,
            "justify_content": null,
            "_view_module": "@jupyter-widgets/base",
            "overflow": null,
            "_model_module_version": "1.2.0",
            "_view_count": null,
            "flex_flow": null,
            "width": null,
            "min_width": null,
            "border": null,
            "align_items": null,
            "bottom": null,
            "_model_module": "@jupyter-widgets/base",
            "top": null,
            "grid_column": null,
            "overflow_y": null,
            "overflow_x": null,
            "grid_auto_flow": null,
            "grid_area": null,
            "grid_template_columns": null,
            "flex": null,
            "_model_name": "LayoutModel",
            "justify_items": null,
            "grid_row": null,
            "max_height": null,
            "align_content": null,
            "visibility": null,
            "align_self": null,
            "height": null,
            "min_height": null,
            "padding": null,
            "grid_auto_rows": null,
            "grid_gap": null,
            "max_width": null,
            "order": null,
            "_view_module_version": "1.2.0",
            "grid_template_areas": null,
            "object_position": null,
            "object_fit": null,
            "grid_auto_columns": null,
            "margin": null,
            "display": null,
            "left": null
          }
        },
        "dc7dee66d014419784df932e027ffc0c": {
          "model_module": "@jupyter-widgets/controls",
          "model_name": "HBoxModel",
          "state": {
            "_view_name": "HBoxView",
            "_dom_classes": [],
            "_model_name": "HBoxModel",
            "_view_module": "@jupyter-widgets/controls",
            "_model_module_version": "1.5.0",
            "_view_count": null,
            "_view_module_version": "1.5.0",
            "box_style": "",
            "layout": "IPY_MODEL_eb6d04801cc74b5ba470d09319d7d3b8",
            "_model_module": "@jupyter-widgets/controls",
            "children": [
              "IPY_MODEL_0fcbbe9216254963a424ba93c7675946",
              "IPY_MODEL_5232bdacea534afa811f3b7c91427ecf"
            ]
          }
        },
        "eb6d04801cc74b5ba470d09319d7d3b8": {
          "model_module": "@jupyter-widgets/base",
          "model_name": "LayoutModel",
          "state": {
            "_view_name": "LayoutView",
            "grid_template_rows": null,
            "right": null,
            "justify_content": null,
            "_view_module": "@jupyter-widgets/base",
            "overflow": null,
            "_model_module_version": "1.2.0",
            "_view_count": null,
            "flex_flow": null,
            "width": null,
            "min_width": null,
            "border": null,
            "align_items": null,
            "bottom": null,
            "_model_module": "@jupyter-widgets/base",
            "top": null,
            "grid_column": null,
            "overflow_y": null,
            "overflow_x": null,
            "grid_auto_flow": null,
            "grid_area": null,
            "grid_template_columns": null,
            "flex": null,
            "_model_name": "LayoutModel",
            "justify_items": null,
            "grid_row": null,
            "max_height": null,
            "align_content": null,
            "visibility": null,
            "align_self": null,
            "height": null,
            "min_height": null,
            "padding": null,
            "grid_auto_rows": null,
            "grid_gap": null,
            "max_width": null,
            "order": null,
            "_view_module_version": "1.2.0",
            "grid_template_areas": null,
            "object_position": null,
            "object_fit": null,
            "grid_auto_columns": null,
            "margin": null,
            "display": null,
            "left": null
          }
        },
        "0fcbbe9216254963a424ba93c7675946": {
          "model_module": "@jupyter-widgets/controls",
          "model_name": "FloatProgressModel",
          "state": {
            "_view_name": "ProgressView",
            "style": "IPY_MODEL_49fa674324af4c93b9887acce41b7e24",
            "_dom_classes": [],
            "description": "Batches: 100%",
            "_model_name": "FloatProgressModel",
            "bar_style": "success",
            "max": 319,
            "_view_module": "@jupyter-widgets/controls",
            "_model_module_version": "1.5.0",
            "value": 319,
            "_view_count": null,
            "_view_module_version": "1.5.0",
            "orientation": "horizontal",
            "min": 0,
            "description_tooltip": null,
            "_model_module": "@jupyter-widgets/controls",
            "layout": "IPY_MODEL_57782beb4aba48c083b438808bd5470f"
          }
        },
        "5232bdacea534afa811f3b7c91427ecf": {
          "model_module": "@jupyter-widgets/controls",
          "model_name": "HTMLModel",
          "state": {
            "_view_name": "HTMLView",
            "style": "IPY_MODEL_35637d1986e94444ac3286253ea95215",
            "_dom_classes": [],
            "description": "",
            "_model_name": "HTMLModel",
            "placeholder": "​",
            "_view_module": "@jupyter-widgets/controls",
            "_model_module_version": "1.5.0",
            "value": " 319/319 [01:58&lt;00:00,  2.69it/s]",
            "_view_count": null,
            "_view_module_version": "1.5.0",
            "description_tooltip": null,
            "_model_module": "@jupyter-widgets/controls",
            "layout": "IPY_MODEL_93728f0351ff447689b6ec1aac8e2c5f"
          }
        },
        "49fa674324af4c93b9887acce41b7e24": {
          "model_module": "@jupyter-widgets/controls",
          "model_name": "ProgressStyleModel",
          "state": {
            "_view_name": "StyleView",
            "_model_name": "ProgressStyleModel",
            "description_width": "initial",
            "_view_module": "@jupyter-widgets/base",
            "_model_module_version": "1.5.0",
            "_view_count": null,
            "_view_module_version": "1.2.0",
            "bar_color": null,
            "_model_module": "@jupyter-widgets/controls"
          }
        },
        "57782beb4aba48c083b438808bd5470f": {
          "model_module": "@jupyter-widgets/base",
          "model_name": "LayoutModel",
          "state": {
            "_view_name": "LayoutView",
            "grid_template_rows": null,
            "right": null,
            "justify_content": null,
            "_view_module": "@jupyter-widgets/base",
            "overflow": null,
            "_model_module_version": "1.2.0",
            "_view_count": null,
            "flex_flow": null,
            "width": null,
            "min_width": null,
            "border": null,
            "align_items": null,
            "bottom": null,
            "_model_module": "@jupyter-widgets/base",
            "top": null,
            "grid_column": null,
            "overflow_y": null,
            "overflow_x": null,
            "grid_auto_flow": null,
            "grid_area": null,
            "grid_template_columns": null,
            "flex": null,
            "_model_name": "LayoutModel",
            "justify_items": null,
            "grid_row": null,
            "max_height": null,
            "align_content": null,
            "visibility": null,
            "align_self": null,
            "height": null,
            "min_height": null,
            "padding": null,
            "grid_auto_rows": null,
            "grid_gap": null,
            "max_width": null,
            "order": null,
            "_view_module_version": "1.2.0",
            "grid_template_areas": null,
            "object_position": null,
            "object_fit": null,
            "grid_auto_columns": null,
            "margin": null,
            "display": null,
            "left": null
          }
        },
        "35637d1986e94444ac3286253ea95215": {
          "model_module": "@jupyter-widgets/controls",
          "model_name": "DescriptionStyleModel",
          "state": {
            "_view_name": "StyleView",
            "_model_name": "DescriptionStyleModel",
            "description_width": "",
            "_view_module": "@jupyter-widgets/base",
            "_model_module_version": "1.5.0",
            "_view_count": null,
            "_view_module_version": "1.2.0",
            "_model_module": "@jupyter-widgets/controls"
          }
        },
        "93728f0351ff447689b6ec1aac8e2c5f": {
          "model_module": "@jupyter-widgets/base",
          "model_name": "LayoutModel",
          "state": {
            "_view_name": "LayoutView",
            "grid_template_rows": null,
            "right": null,
            "justify_content": null,
            "_view_module": "@jupyter-widgets/base",
            "overflow": null,
            "_model_module_version": "1.2.0",
            "_view_count": null,
            "flex_flow": null,
            "width": null,
            "min_width": null,
            "border": null,
            "align_items": null,
            "bottom": null,
            "_model_module": "@jupyter-widgets/base",
            "top": null,
            "grid_column": null,
            "overflow_y": null,
            "overflow_x": null,
            "grid_auto_flow": null,
            "grid_area": null,
            "grid_template_columns": null,
            "flex": null,
            "_model_name": "LayoutModel",
            "justify_items": null,
            "grid_row": null,
            "max_height": null,
            "align_content": null,
            "visibility": null,
            "align_self": null,
            "height": null,
            "min_height": null,
            "padding": null,
            "grid_auto_rows": null,
            "grid_gap": null,
            "max_width": null,
            "order": null,
            "_view_module_version": "1.2.0",
            "grid_template_areas": null,
            "object_position": null,
            "object_fit": null,
            "grid_auto_columns": null,
            "margin": null,
            "display": null,
            "left": null
          }
        },
        "60dfd75aa6524a14b7556898d0fb3e0d": {
          "model_module": "@jupyter-widgets/controls",
          "model_name": "HBoxModel",
          "state": {
            "_view_name": "HBoxView",
            "_dom_classes": [],
            "_model_name": "HBoxModel",
            "_view_module": "@jupyter-widgets/controls",
            "_model_module_version": "1.5.0",
            "_view_count": null,
            "_view_module_version": "1.5.0",
            "box_style": "",
            "layout": "IPY_MODEL_7e2187c5c8d74da8a1653558b520c105",
            "_model_module": "@jupyter-widgets/controls",
            "children": [
              "IPY_MODEL_af441da84c1344b88801df5375e98b5a",
              "IPY_MODEL_e7ef715b59ba433582657e29f534a823"
            ]
          }
        },
        "7e2187c5c8d74da8a1653558b520c105": {
          "model_module": "@jupyter-widgets/base",
          "model_name": "LayoutModel",
          "state": {
            "_view_name": "LayoutView",
            "grid_template_rows": null,
            "right": null,
            "justify_content": null,
            "_view_module": "@jupyter-widgets/base",
            "overflow": null,
            "_model_module_version": "1.2.0",
            "_view_count": null,
            "flex_flow": null,
            "width": null,
            "min_width": null,
            "border": null,
            "align_items": null,
            "bottom": null,
            "_model_module": "@jupyter-widgets/base",
            "top": null,
            "grid_column": null,
            "overflow_y": null,
            "overflow_x": null,
            "grid_auto_flow": null,
            "grid_area": null,
            "grid_template_columns": null,
            "flex": null,
            "_model_name": "LayoutModel",
            "justify_items": null,
            "grid_row": null,
            "max_height": null,
            "align_content": null,
            "visibility": null,
            "align_self": null,
            "height": null,
            "min_height": null,
            "padding": null,
            "grid_auto_rows": null,
            "grid_gap": null,
            "max_width": null,
            "order": null,
            "_view_module_version": "1.2.0",
            "grid_template_areas": null,
            "object_position": null,
            "object_fit": null,
            "grid_auto_columns": null,
            "margin": null,
            "display": null,
            "left": null
          }
        },
        "af441da84c1344b88801df5375e98b5a": {
          "model_module": "@jupyter-widgets/controls",
          "model_name": "FloatProgressModel",
          "state": {
            "_view_name": "ProgressView",
            "style": "IPY_MODEL_4e2ba21d53e1419fbbcfab087c3df6e1",
            "_dom_classes": [],
            "description": "Batches: 100%",
            "_model_name": "FloatProgressModel",
            "bar_style": "success",
            "max": 319,
            "_view_module": "@jupyter-widgets/controls",
            "_model_module_version": "1.5.0",
            "value": 319,
            "_view_count": null,
            "_view_module_version": "1.5.0",
            "orientation": "horizontal",
            "min": 0,
            "description_tooltip": null,
            "_model_module": "@jupyter-widgets/controls",
            "layout": "IPY_MODEL_d0b95ffc7ea8477a8d901f8e385bfb84"
          }
        },
        "e7ef715b59ba433582657e29f534a823": {
          "model_module": "@jupyter-widgets/controls",
          "model_name": "HTMLModel",
          "state": {
            "_view_name": "HTMLView",
            "style": "IPY_MODEL_400613fa0b7b4dd8a9acccd95746142a",
            "_dom_classes": [],
            "description": "",
            "_model_name": "HTMLModel",
            "placeholder": "​",
            "_view_module": "@jupyter-widgets/controls",
            "_model_module_version": "1.5.0",
            "value": " 319/319 [02:26&lt;00:00,  2.18it/s]",
            "_view_count": null,
            "_view_module_version": "1.5.0",
            "description_tooltip": null,
            "_model_module": "@jupyter-widgets/controls",
            "layout": "IPY_MODEL_b3d78cc3ef3648b69bc88db1e7ff1e28"
          }
        },
        "4e2ba21d53e1419fbbcfab087c3df6e1": {
          "model_module": "@jupyter-widgets/controls",
          "model_name": "ProgressStyleModel",
          "state": {
            "_view_name": "StyleView",
            "_model_name": "ProgressStyleModel",
            "description_width": "initial",
            "_view_module": "@jupyter-widgets/base",
            "_model_module_version": "1.5.0",
            "_view_count": null,
            "_view_module_version": "1.2.0",
            "bar_color": null,
            "_model_module": "@jupyter-widgets/controls"
          }
        },
        "d0b95ffc7ea8477a8d901f8e385bfb84": {
          "model_module": "@jupyter-widgets/base",
          "model_name": "LayoutModel",
          "state": {
            "_view_name": "LayoutView",
            "grid_template_rows": null,
            "right": null,
            "justify_content": null,
            "_view_module": "@jupyter-widgets/base",
            "overflow": null,
            "_model_module_version": "1.2.0",
            "_view_count": null,
            "flex_flow": null,
            "width": null,
            "min_width": null,
            "border": null,
            "align_items": null,
            "bottom": null,
            "_model_module": "@jupyter-widgets/base",
            "top": null,
            "grid_column": null,
            "overflow_y": null,
            "overflow_x": null,
            "grid_auto_flow": null,
            "grid_area": null,
            "grid_template_columns": null,
            "flex": null,
            "_model_name": "LayoutModel",
            "justify_items": null,
            "grid_row": null,
            "max_height": null,
            "align_content": null,
            "visibility": null,
            "align_self": null,
            "height": null,
            "min_height": null,
            "padding": null,
            "grid_auto_rows": null,
            "grid_gap": null,
            "max_width": null,
            "order": null,
            "_view_module_version": "1.2.0",
            "grid_template_areas": null,
            "object_position": null,
            "object_fit": null,
            "grid_auto_columns": null,
            "margin": null,
            "display": null,
            "left": null
          }
        },
        "400613fa0b7b4dd8a9acccd95746142a": {
          "model_module": "@jupyter-widgets/controls",
          "model_name": "DescriptionStyleModel",
          "state": {
            "_view_name": "StyleView",
            "_model_name": "DescriptionStyleModel",
            "description_width": "",
            "_view_module": "@jupyter-widgets/base",
            "_model_module_version": "1.5.0",
            "_view_count": null,
            "_view_module_version": "1.2.0",
            "_model_module": "@jupyter-widgets/controls"
          }
        },
        "b3d78cc3ef3648b69bc88db1e7ff1e28": {
          "model_module": "@jupyter-widgets/base",
          "model_name": "LayoutModel",
          "state": {
            "_view_name": "LayoutView",
            "grid_template_rows": null,
            "right": null,
            "justify_content": null,
            "_view_module": "@jupyter-widgets/base",
            "overflow": null,
            "_model_module_version": "1.2.0",
            "_view_count": null,
            "flex_flow": null,
            "width": null,
            "min_width": null,
            "border": null,
            "align_items": null,
            "bottom": null,
            "_model_module": "@jupyter-widgets/base",
            "top": null,
            "grid_column": null,
            "overflow_y": null,
            "overflow_x": null,
            "grid_auto_flow": null,
            "grid_area": null,
            "grid_template_columns": null,
            "flex": null,
            "_model_name": "LayoutModel",
            "justify_items": null,
            "grid_row": null,
            "max_height": null,
            "align_content": null,
            "visibility": null,
            "align_self": null,
            "height": null,
            "min_height": null,
            "padding": null,
            "grid_auto_rows": null,
            "grid_gap": null,
            "max_width": null,
            "order": null,
            "_view_module_version": "1.2.0",
            "grid_template_areas": null,
            "object_position": null,
            "object_fit": null,
            "grid_auto_columns": null,
            "margin": null,
            "display": null,
            "left": null
          }
        },
        "8aa5ff90f4794715b801f6798445fee4": {
          "model_module": "@jupyter-widgets/controls",
          "model_name": "HBoxModel",
          "state": {
            "_view_name": "HBoxView",
            "_dom_classes": [],
            "_model_name": "HBoxModel",
            "_view_module": "@jupyter-widgets/controls",
            "_model_module_version": "1.5.0",
            "_view_count": null,
            "_view_module_version": "1.5.0",
            "box_style": "",
            "layout": "IPY_MODEL_c21f9608bd80460fb081ae8f3a4f90dd",
            "_model_module": "@jupyter-widgets/controls",
            "children": [
              "IPY_MODEL_86b68548a0734ab1a3658a38cb7050ee",
              "IPY_MODEL_121327b0cc2246a0af3fba1bc8c07305"
            ]
          }
        },
        "c21f9608bd80460fb081ae8f3a4f90dd": {
          "model_module": "@jupyter-widgets/base",
          "model_name": "LayoutModel",
          "state": {
            "_view_name": "LayoutView",
            "grid_template_rows": null,
            "right": null,
            "justify_content": null,
            "_view_module": "@jupyter-widgets/base",
            "overflow": null,
            "_model_module_version": "1.2.0",
            "_view_count": null,
            "flex_flow": null,
            "width": null,
            "min_width": null,
            "border": null,
            "align_items": null,
            "bottom": null,
            "_model_module": "@jupyter-widgets/base",
            "top": null,
            "grid_column": null,
            "overflow_y": null,
            "overflow_x": null,
            "grid_auto_flow": null,
            "grid_area": null,
            "grid_template_columns": null,
            "flex": null,
            "_model_name": "LayoutModel",
            "justify_items": null,
            "grid_row": null,
            "max_height": null,
            "align_content": null,
            "visibility": null,
            "align_self": null,
            "height": null,
            "min_height": null,
            "padding": null,
            "grid_auto_rows": null,
            "grid_gap": null,
            "max_width": null,
            "order": null,
            "_view_module_version": "1.2.0",
            "grid_template_areas": null,
            "object_position": null,
            "object_fit": null,
            "grid_auto_columns": null,
            "margin": null,
            "display": null,
            "left": null
          }
        },
        "86b68548a0734ab1a3658a38cb7050ee": {
          "model_module": "@jupyter-widgets/controls",
          "model_name": "FloatProgressModel",
          "state": {
            "_view_name": "ProgressView",
            "style": "IPY_MODEL_1a936653bd3e49a59122f524498b69fd",
            "_dom_classes": [],
            "description": "Batches: 100%",
            "_model_name": "FloatProgressModel",
            "bar_style": "success",
            "max": 319,
            "_view_module": "@jupyter-widgets/controls",
            "_model_module_version": "1.5.0",
            "value": 319,
            "_view_count": null,
            "_view_module_version": "1.5.0",
            "orientation": "horizontal",
            "min": 0,
            "description_tooltip": null,
            "_model_module": "@jupyter-widgets/controls",
            "layout": "IPY_MODEL_509eb8e47035499590f86f09856b2652"
          }
        },
        "121327b0cc2246a0af3fba1bc8c07305": {
          "model_module": "@jupyter-widgets/controls",
          "model_name": "HTMLModel",
          "state": {
            "_view_name": "HTMLView",
            "style": "IPY_MODEL_394b6de174e142a7930e471582614dff",
            "_dom_classes": [],
            "description": "",
            "_model_name": "HTMLModel",
            "placeholder": "​",
            "_view_module": "@jupyter-widgets/controls",
            "_model_module_version": "1.5.0",
            "value": " 319/319 [01:12&lt;00:00,  4.42it/s]",
            "_view_count": null,
            "_view_module_version": "1.5.0",
            "description_tooltip": null,
            "_model_module": "@jupyter-widgets/controls",
            "layout": "IPY_MODEL_e25be458895443e2be6b10f081fe4864"
          }
        },
        "1a936653bd3e49a59122f524498b69fd": {
          "model_module": "@jupyter-widgets/controls",
          "model_name": "ProgressStyleModel",
          "state": {
            "_view_name": "StyleView",
            "_model_name": "ProgressStyleModel",
            "description_width": "initial",
            "_view_module": "@jupyter-widgets/base",
            "_model_module_version": "1.5.0",
            "_view_count": null,
            "_view_module_version": "1.2.0",
            "bar_color": null,
            "_model_module": "@jupyter-widgets/controls"
          }
        },
        "509eb8e47035499590f86f09856b2652": {
          "model_module": "@jupyter-widgets/base",
          "model_name": "LayoutModel",
          "state": {
            "_view_name": "LayoutView",
            "grid_template_rows": null,
            "right": null,
            "justify_content": null,
            "_view_module": "@jupyter-widgets/base",
            "overflow": null,
            "_model_module_version": "1.2.0",
            "_view_count": null,
            "flex_flow": null,
            "width": null,
            "min_width": null,
            "border": null,
            "align_items": null,
            "bottom": null,
            "_model_module": "@jupyter-widgets/base",
            "top": null,
            "grid_column": null,
            "overflow_y": null,
            "overflow_x": null,
            "grid_auto_flow": null,
            "grid_area": null,
            "grid_template_columns": null,
            "flex": null,
            "_model_name": "LayoutModel",
            "justify_items": null,
            "grid_row": null,
            "max_height": null,
            "align_content": null,
            "visibility": null,
            "align_self": null,
            "height": null,
            "min_height": null,
            "padding": null,
            "grid_auto_rows": null,
            "grid_gap": null,
            "max_width": null,
            "order": null,
            "_view_module_version": "1.2.0",
            "grid_template_areas": null,
            "object_position": null,
            "object_fit": null,
            "grid_auto_columns": null,
            "margin": null,
            "display": null,
            "left": null
          }
        },
        "394b6de174e142a7930e471582614dff": {
          "model_module": "@jupyter-widgets/controls",
          "model_name": "DescriptionStyleModel",
          "state": {
            "_view_name": "StyleView",
            "_model_name": "DescriptionStyleModel",
            "description_width": "",
            "_view_module": "@jupyter-widgets/base",
            "_model_module_version": "1.5.0",
            "_view_count": null,
            "_view_module_version": "1.2.0",
            "_model_module": "@jupyter-widgets/controls"
          }
        },
        "e25be458895443e2be6b10f081fe4864": {
          "model_module": "@jupyter-widgets/base",
          "model_name": "LayoutModel",
          "state": {
            "_view_name": "LayoutView",
            "grid_template_rows": null,
            "right": null,
            "justify_content": null,
            "_view_module": "@jupyter-widgets/base",
            "overflow": null,
            "_model_module_version": "1.2.0",
            "_view_count": null,
            "flex_flow": null,
            "width": null,
            "min_width": null,
            "border": null,
            "align_items": null,
            "bottom": null,
            "_model_module": "@jupyter-widgets/base",
            "top": null,
            "grid_column": null,
            "overflow_y": null,
            "overflow_x": null,
            "grid_auto_flow": null,
            "grid_area": null,
            "grid_template_columns": null,
            "flex": null,
            "_model_name": "LayoutModel",
            "justify_items": null,
            "grid_row": null,
            "max_height": null,
            "align_content": null,
            "visibility": null,
            "align_self": null,
            "height": null,
            "min_height": null,
            "padding": null,
            "grid_auto_rows": null,
            "grid_gap": null,
            "max_width": null,
            "order": null,
            "_view_module_version": "1.2.0",
            "grid_template_areas": null,
            "object_position": null,
            "object_fit": null,
            "grid_auto_columns": null,
            "margin": null,
            "display": null,
            "left": null
          }
        },
        "7c9179ec66c043c097048bf70e14c45e": {
          "model_module": "@jupyter-widgets/controls",
          "model_name": "HBoxModel",
          "state": {
            "_view_name": "HBoxView",
            "_dom_classes": [],
            "_model_name": "HBoxModel",
            "_view_module": "@jupyter-widgets/controls",
            "_model_module_version": "1.5.0",
            "_view_count": null,
            "_view_module_version": "1.5.0",
            "box_style": "",
            "layout": "IPY_MODEL_6227dc8e6cd54eba8d20042138e4f7df",
            "_model_module": "@jupyter-widgets/controls",
            "children": [
              "IPY_MODEL_3580db8799b64a2db629a6a586a1232d",
              "IPY_MODEL_ba4bbcdcb10c46dfbc74c09eb6e138b8"
            ]
          }
        },
        "6227dc8e6cd54eba8d20042138e4f7df": {
          "model_module": "@jupyter-widgets/base",
          "model_name": "LayoutModel",
          "state": {
            "_view_name": "LayoutView",
            "grid_template_rows": null,
            "right": null,
            "justify_content": null,
            "_view_module": "@jupyter-widgets/base",
            "overflow": null,
            "_model_module_version": "1.2.0",
            "_view_count": null,
            "flex_flow": null,
            "width": null,
            "min_width": null,
            "border": null,
            "align_items": null,
            "bottom": null,
            "_model_module": "@jupyter-widgets/base",
            "top": null,
            "grid_column": null,
            "overflow_y": null,
            "overflow_x": null,
            "grid_auto_flow": null,
            "grid_area": null,
            "grid_template_columns": null,
            "flex": null,
            "_model_name": "LayoutModel",
            "justify_items": null,
            "grid_row": null,
            "max_height": null,
            "align_content": null,
            "visibility": null,
            "align_self": null,
            "height": null,
            "min_height": null,
            "padding": null,
            "grid_auto_rows": null,
            "grid_gap": null,
            "max_width": null,
            "order": null,
            "_view_module_version": "1.2.0",
            "grid_template_areas": null,
            "object_position": null,
            "object_fit": null,
            "grid_auto_columns": null,
            "margin": null,
            "display": null,
            "left": null
          }
        },
        "3580db8799b64a2db629a6a586a1232d": {
          "model_module": "@jupyter-widgets/controls",
          "model_name": "FloatProgressModel",
          "state": {
            "_view_name": "ProgressView",
            "style": "IPY_MODEL_ec3f208cd35e47768ed14706f51c165a",
            "_dom_classes": [],
            "description": "Batches: 100%",
            "_model_name": "FloatProgressModel",
            "bar_style": "success",
            "max": 319,
            "_view_module": "@jupyter-widgets/controls",
            "_model_module_version": "1.5.0",
            "value": 319,
            "_view_count": null,
            "_view_module_version": "1.5.0",
            "orientation": "horizontal",
            "min": 0,
            "description_tooltip": null,
            "_model_module": "@jupyter-widgets/controls",
            "layout": "IPY_MODEL_09553f83e64e46b98b34948d1b2eec08"
          }
        },
        "ba4bbcdcb10c46dfbc74c09eb6e138b8": {
          "model_module": "@jupyter-widgets/controls",
          "model_name": "HTMLModel",
          "state": {
            "_view_name": "HTMLView",
            "style": "IPY_MODEL_7961409c6d014ec0b5426c1129f95d92",
            "_dom_classes": [],
            "description": "",
            "_model_name": "HTMLModel",
            "placeholder": "​",
            "_view_module": "@jupyter-widgets/controls",
            "_model_module_version": "1.5.0",
            "value": " 319/319 [01:57&lt;00:00,  2.71it/s]",
            "_view_count": null,
            "_view_module_version": "1.5.0",
            "description_tooltip": null,
            "_model_module": "@jupyter-widgets/controls",
            "layout": "IPY_MODEL_f4d6b09db8fa4f7ba75a339874c28406"
          }
        },
        "ec3f208cd35e47768ed14706f51c165a": {
          "model_module": "@jupyter-widgets/controls",
          "model_name": "ProgressStyleModel",
          "state": {
            "_view_name": "StyleView",
            "_model_name": "ProgressStyleModel",
            "description_width": "initial",
            "_view_module": "@jupyter-widgets/base",
            "_model_module_version": "1.5.0",
            "_view_count": null,
            "_view_module_version": "1.2.0",
            "bar_color": null,
            "_model_module": "@jupyter-widgets/controls"
          }
        },
        "09553f83e64e46b98b34948d1b2eec08": {
          "model_module": "@jupyter-widgets/base",
          "model_name": "LayoutModel",
          "state": {
            "_view_name": "LayoutView",
            "grid_template_rows": null,
            "right": null,
            "justify_content": null,
            "_view_module": "@jupyter-widgets/base",
            "overflow": null,
            "_model_module_version": "1.2.0",
            "_view_count": null,
            "flex_flow": null,
            "width": null,
            "min_width": null,
            "border": null,
            "align_items": null,
            "bottom": null,
            "_model_module": "@jupyter-widgets/base",
            "top": null,
            "grid_column": null,
            "overflow_y": null,
            "overflow_x": null,
            "grid_auto_flow": null,
            "grid_area": null,
            "grid_template_columns": null,
            "flex": null,
            "_model_name": "LayoutModel",
            "justify_items": null,
            "grid_row": null,
            "max_height": null,
            "align_content": null,
            "visibility": null,
            "align_self": null,
            "height": null,
            "min_height": null,
            "padding": null,
            "grid_auto_rows": null,
            "grid_gap": null,
            "max_width": null,
            "order": null,
            "_view_module_version": "1.2.0",
            "grid_template_areas": null,
            "object_position": null,
            "object_fit": null,
            "grid_auto_columns": null,
            "margin": null,
            "display": null,
            "left": null
          }
        },
        "7961409c6d014ec0b5426c1129f95d92": {
          "model_module": "@jupyter-widgets/controls",
          "model_name": "DescriptionStyleModel",
          "state": {
            "_view_name": "StyleView",
            "_model_name": "DescriptionStyleModel",
            "description_width": "",
            "_view_module": "@jupyter-widgets/base",
            "_model_module_version": "1.5.0",
            "_view_count": null,
            "_view_module_version": "1.2.0",
            "_model_module": "@jupyter-widgets/controls"
          }
        },
        "f4d6b09db8fa4f7ba75a339874c28406": {
          "model_module": "@jupyter-widgets/base",
          "model_name": "LayoutModel",
          "state": {
            "_view_name": "LayoutView",
            "grid_template_rows": null,
            "right": null,
            "justify_content": null,
            "_view_module": "@jupyter-widgets/base",
            "overflow": null,
            "_model_module_version": "1.2.0",
            "_view_count": null,
            "flex_flow": null,
            "width": null,
            "min_width": null,
            "border": null,
            "align_items": null,
            "bottom": null,
            "_model_module": "@jupyter-widgets/base",
            "top": null,
            "grid_column": null,
            "overflow_y": null,
            "overflow_x": null,
            "grid_auto_flow": null,
            "grid_area": null,
            "grid_template_columns": null,
            "flex": null,
            "_model_name": "LayoutModel",
            "justify_items": null,
            "grid_row": null,
            "max_height": null,
            "align_content": null,
            "visibility": null,
            "align_self": null,
            "height": null,
            "min_height": null,
            "padding": null,
            "grid_auto_rows": null,
            "grid_gap": null,
            "max_width": null,
            "order": null,
            "_view_module_version": "1.2.0",
            "grid_template_areas": null,
            "object_position": null,
            "object_fit": null,
            "grid_auto_columns": null,
            "margin": null,
            "display": null,
            "left": null
          }
        },
        "063a9b12d2e04c6ba727a0b7ee9ea65c": {
          "model_module": "@jupyter-widgets/controls",
          "model_name": "HBoxModel",
          "state": {
            "_view_name": "HBoxView",
            "_dom_classes": [],
            "_model_name": "HBoxModel",
            "_view_module": "@jupyter-widgets/controls",
            "_model_module_version": "1.5.0",
            "_view_count": null,
            "_view_module_version": "1.5.0",
            "box_style": "",
            "layout": "IPY_MODEL_5c83c2fd16af4eea801eb6017d465361",
            "_model_module": "@jupyter-widgets/controls",
            "children": [
              "IPY_MODEL_dbda44864ac94de993a746685bf3ee47",
              "IPY_MODEL_d9e4198ac78841689d418c38eb3437c9"
            ]
          }
        },
        "5c83c2fd16af4eea801eb6017d465361": {
          "model_module": "@jupyter-widgets/base",
          "model_name": "LayoutModel",
          "state": {
            "_view_name": "LayoutView",
            "grid_template_rows": null,
            "right": null,
            "justify_content": null,
            "_view_module": "@jupyter-widgets/base",
            "overflow": null,
            "_model_module_version": "1.2.0",
            "_view_count": null,
            "flex_flow": null,
            "width": null,
            "min_width": null,
            "border": null,
            "align_items": null,
            "bottom": null,
            "_model_module": "@jupyter-widgets/base",
            "top": null,
            "grid_column": null,
            "overflow_y": null,
            "overflow_x": null,
            "grid_auto_flow": null,
            "grid_area": null,
            "grid_template_columns": null,
            "flex": null,
            "_model_name": "LayoutModel",
            "justify_items": null,
            "grid_row": null,
            "max_height": null,
            "align_content": null,
            "visibility": null,
            "align_self": null,
            "height": null,
            "min_height": null,
            "padding": null,
            "grid_auto_rows": null,
            "grid_gap": null,
            "max_width": null,
            "order": null,
            "_view_module_version": "1.2.0",
            "grid_template_areas": null,
            "object_position": null,
            "object_fit": null,
            "grid_auto_columns": null,
            "margin": null,
            "display": null,
            "left": null
          }
        },
        "dbda44864ac94de993a746685bf3ee47": {
          "model_module": "@jupyter-widgets/controls",
          "model_name": "FloatProgressModel",
          "state": {
            "_view_name": "ProgressView",
            "style": "IPY_MODEL_ab736fcb7b084a74b57df31e7d1304fa",
            "_dom_classes": [],
            "description": "Batches: 100%",
            "_model_name": "FloatProgressModel",
            "bar_style": "success",
            "max": 319,
            "_view_module": "@jupyter-widgets/controls",
            "_model_module_version": "1.5.0",
            "value": 319,
            "_view_count": null,
            "_view_module_version": "1.5.0",
            "orientation": "horizontal",
            "min": 0,
            "description_tooltip": null,
            "_model_module": "@jupyter-widgets/controls",
            "layout": "IPY_MODEL_b2d4ba3502684f248cf4209c3bd5d88c"
          }
        },
        "d9e4198ac78841689d418c38eb3437c9": {
          "model_module": "@jupyter-widgets/controls",
          "model_name": "HTMLModel",
          "state": {
            "_view_name": "HTMLView",
            "style": "IPY_MODEL_5d6a1fd5983940d6b4ff838f322db987",
            "_dom_classes": [],
            "description": "",
            "_model_name": "HTMLModel",
            "placeholder": "​",
            "_view_module": "@jupyter-widgets/controls",
            "_model_module_version": "1.5.0",
            "value": " 319/319 [02:22&lt;00:00,  2.24it/s]",
            "_view_count": null,
            "_view_module_version": "1.5.0",
            "description_tooltip": null,
            "_model_module": "@jupyter-widgets/controls",
            "layout": "IPY_MODEL_a53b1436bf9f4452b1124d7924198ce5"
          }
        },
        "ab736fcb7b084a74b57df31e7d1304fa": {
          "model_module": "@jupyter-widgets/controls",
          "model_name": "ProgressStyleModel",
          "state": {
            "_view_name": "StyleView",
            "_model_name": "ProgressStyleModel",
            "description_width": "initial",
            "_view_module": "@jupyter-widgets/base",
            "_model_module_version": "1.5.0",
            "_view_count": null,
            "_view_module_version": "1.2.0",
            "bar_color": null,
            "_model_module": "@jupyter-widgets/controls"
          }
        },
        "b2d4ba3502684f248cf4209c3bd5d88c": {
          "model_module": "@jupyter-widgets/base",
          "model_name": "LayoutModel",
          "state": {
            "_view_name": "LayoutView",
            "grid_template_rows": null,
            "right": null,
            "justify_content": null,
            "_view_module": "@jupyter-widgets/base",
            "overflow": null,
            "_model_module_version": "1.2.0",
            "_view_count": null,
            "flex_flow": null,
            "width": null,
            "min_width": null,
            "border": null,
            "align_items": null,
            "bottom": null,
            "_model_module": "@jupyter-widgets/base",
            "top": null,
            "grid_column": null,
            "overflow_y": null,
            "overflow_x": null,
            "grid_auto_flow": null,
            "grid_area": null,
            "grid_template_columns": null,
            "flex": null,
            "_model_name": "LayoutModel",
            "justify_items": null,
            "grid_row": null,
            "max_height": null,
            "align_content": null,
            "visibility": null,
            "align_self": null,
            "height": null,
            "min_height": null,
            "padding": null,
            "grid_auto_rows": null,
            "grid_gap": null,
            "max_width": null,
            "order": null,
            "_view_module_version": "1.2.0",
            "grid_template_areas": null,
            "object_position": null,
            "object_fit": null,
            "grid_auto_columns": null,
            "margin": null,
            "display": null,
            "left": null
          }
        },
        "5d6a1fd5983940d6b4ff838f322db987": {
          "model_module": "@jupyter-widgets/controls",
          "model_name": "DescriptionStyleModel",
          "state": {
            "_view_name": "StyleView",
            "_model_name": "DescriptionStyleModel",
            "description_width": "",
            "_view_module": "@jupyter-widgets/base",
            "_model_module_version": "1.5.0",
            "_view_count": null,
            "_view_module_version": "1.2.0",
            "_model_module": "@jupyter-widgets/controls"
          }
        },
        "a53b1436bf9f4452b1124d7924198ce5": {
          "model_module": "@jupyter-widgets/base",
          "model_name": "LayoutModel",
          "state": {
            "_view_name": "LayoutView",
            "grid_template_rows": null,
            "right": null,
            "justify_content": null,
            "_view_module": "@jupyter-widgets/base",
            "overflow": null,
            "_model_module_version": "1.2.0",
            "_view_count": null,
            "flex_flow": null,
            "width": null,
            "min_width": null,
            "border": null,
            "align_items": null,
            "bottom": null,
            "_model_module": "@jupyter-widgets/base",
            "top": null,
            "grid_column": null,
            "overflow_y": null,
            "overflow_x": null,
            "grid_auto_flow": null,
            "grid_area": null,
            "grid_template_columns": null,
            "flex": null,
            "_model_name": "LayoutModel",
            "justify_items": null,
            "grid_row": null,
            "max_height": null,
            "align_content": null,
            "visibility": null,
            "align_self": null,
            "height": null,
            "min_height": null,
            "padding": null,
            "grid_auto_rows": null,
            "grid_gap": null,
            "max_width": null,
            "order": null,
            "_view_module_version": "1.2.0",
            "grid_template_areas": null,
            "object_position": null,
            "object_fit": null,
            "grid_auto_columns": null,
            "margin": null,
            "display": null,
            "left": null
          }
        },
        "f0b670905b294f1992176dca3c4bc2d4": {
          "model_module": "@jupyter-widgets/controls",
          "model_name": "HBoxModel",
          "state": {
            "_view_name": "HBoxView",
            "_dom_classes": [],
            "_model_name": "HBoxModel",
            "_view_module": "@jupyter-widgets/controls",
            "_model_module_version": "1.5.0",
            "_view_count": null,
            "_view_module_version": "1.5.0",
            "box_style": "",
            "layout": "IPY_MODEL_517b348154aa413e9a6b15e5b1e8e754",
            "_model_module": "@jupyter-widgets/controls",
            "children": [
              "IPY_MODEL_0d05ffeff96a426bb6d625fc595983e0",
              "IPY_MODEL_b5370f8eed5a4f6c9370424f8a156606"
            ]
          }
        },
        "517b348154aa413e9a6b15e5b1e8e754": {
          "model_module": "@jupyter-widgets/base",
          "model_name": "LayoutModel",
          "state": {
            "_view_name": "LayoutView",
            "grid_template_rows": null,
            "right": null,
            "justify_content": null,
            "_view_module": "@jupyter-widgets/base",
            "overflow": null,
            "_model_module_version": "1.2.0",
            "_view_count": null,
            "flex_flow": null,
            "width": null,
            "min_width": null,
            "border": null,
            "align_items": null,
            "bottom": null,
            "_model_module": "@jupyter-widgets/base",
            "top": null,
            "grid_column": null,
            "overflow_y": null,
            "overflow_x": null,
            "grid_auto_flow": null,
            "grid_area": null,
            "grid_template_columns": null,
            "flex": null,
            "_model_name": "LayoutModel",
            "justify_items": null,
            "grid_row": null,
            "max_height": null,
            "align_content": null,
            "visibility": null,
            "align_self": null,
            "height": null,
            "min_height": null,
            "padding": null,
            "grid_auto_rows": null,
            "grid_gap": null,
            "max_width": null,
            "order": null,
            "_view_module_version": "1.2.0",
            "grid_template_areas": null,
            "object_position": null,
            "object_fit": null,
            "grid_auto_columns": null,
            "margin": null,
            "display": null,
            "left": null
          }
        },
        "0d05ffeff96a426bb6d625fc595983e0": {
          "model_module": "@jupyter-widgets/controls",
          "model_name": "FloatProgressModel",
          "state": {
            "_view_name": "ProgressView",
            "style": "IPY_MODEL_9d10941642b14cb8a1561bfa93f6cd55",
            "_dom_classes": [],
            "description": "Batches: 100%",
            "_model_name": "FloatProgressModel",
            "bar_style": "success",
            "max": 319,
            "_view_module": "@jupyter-widgets/controls",
            "_model_module_version": "1.5.0",
            "value": 319,
            "_view_count": null,
            "_view_module_version": "1.5.0",
            "orientation": "horizontal",
            "min": 0,
            "description_tooltip": null,
            "_model_module": "@jupyter-widgets/controls",
            "layout": "IPY_MODEL_92ccd421cdb9467f92abe7677529611e"
          }
        },
        "b5370f8eed5a4f6c9370424f8a156606": {
          "model_module": "@jupyter-widgets/controls",
          "model_name": "HTMLModel",
          "state": {
            "_view_name": "HTMLView",
            "style": "IPY_MODEL_9b1a2908dc6d4b8588fde057f65a9cc9",
            "_dom_classes": [],
            "description": "",
            "_model_name": "HTMLModel",
            "placeholder": "​",
            "_view_module": "@jupyter-widgets/controls",
            "_model_module_version": "1.5.0",
            "value": " 319/319 [01:10&lt;00:00,  4.50it/s]",
            "_view_count": null,
            "_view_module_version": "1.5.0",
            "description_tooltip": null,
            "_model_module": "@jupyter-widgets/controls",
            "layout": "IPY_MODEL_1b5452ba234247a58de2de156765bb56"
          }
        },
        "9d10941642b14cb8a1561bfa93f6cd55": {
          "model_module": "@jupyter-widgets/controls",
          "model_name": "ProgressStyleModel",
          "state": {
            "_view_name": "StyleView",
            "_model_name": "ProgressStyleModel",
            "description_width": "initial",
            "_view_module": "@jupyter-widgets/base",
            "_model_module_version": "1.5.0",
            "_view_count": null,
            "_view_module_version": "1.2.0",
            "bar_color": null,
            "_model_module": "@jupyter-widgets/controls"
          }
        },
        "92ccd421cdb9467f92abe7677529611e": {
          "model_module": "@jupyter-widgets/base",
          "model_name": "LayoutModel",
          "state": {
            "_view_name": "LayoutView",
            "grid_template_rows": null,
            "right": null,
            "justify_content": null,
            "_view_module": "@jupyter-widgets/base",
            "overflow": null,
            "_model_module_version": "1.2.0",
            "_view_count": null,
            "flex_flow": null,
            "width": null,
            "min_width": null,
            "border": null,
            "align_items": null,
            "bottom": null,
            "_model_module": "@jupyter-widgets/base",
            "top": null,
            "grid_column": null,
            "overflow_y": null,
            "overflow_x": null,
            "grid_auto_flow": null,
            "grid_area": null,
            "grid_template_columns": null,
            "flex": null,
            "_model_name": "LayoutModel",
            "justify_items": null,
            "grid_row": null,
            "max_height": null,
            "align_content": null,
            "visibility": null,
            "align_self": null,
            "height": null,
            "min_height": null,
            "padding": null,
            "grid_auto_rows": null,
            "grid_gap": null,
            "max_width": null,
            "order": null,
            "_view_module_version": "1.2.0",
            "grid_template_areas": null,
            "object_position": null,
            "object_fit": null,
            "grid_auto_columns": null,
            "margin": null,
            "display": null,
            "left": null
          }
        },
        "9b1a2908dc6d4b8588fde057f65a9cc9": {
          "model_module": "@jupyter-widgets/controls",
          "model_name": "DescriptionStyleModel",
          "state": {
            "_view_name": "StyleView",
            "_model_name": "DescriptionStyleModel",
            "description_width": "",
            "_view_module": "@jupyter-widgets/base",
            "_model_module_version": "1.5.0",
            "_view_count": null,
            "_view_module_version": "1.2.0",
            "_model_module": "@jupyter-widgets/controls"
          }
        },
        "1b5452ba234247a58de2de156765bb56": {
          "model_module": "@jupyter-widgets/base",
          "model_name": "LayoutModel",
          "state": {
            "_view_name": "LayoutView",
            "grid_template_rows": null,
            "right": null,
            "justify_content": null,
            "_view_module": "@jupyter-widgets/base",
            "overflow": null,
            "_model_module_version": "1.2.0",
            "_view_count": null,
            "flex_flow": null,
            "width": null,
            "min_width": null,
            "border": null,
            "align_items": null,
            "bottom": null,
            "_model_module": "@jupyter-widgets/base",
            "top": null,
            "grid_column": null,
            "overflow_y": null,
            "overflow_x": null,
            "grid_auto_flow": null,
            "grid_area": null,
            "grid_template_columns": null,
            "flex": null,
            "_model_name": "LayoutModel",
            "justify_items": null,
            "grid_row": null,
            "max_height": null,
            "align_content": null,
            "visibility": null,
            "align_self": null,
            "height": null,
            "min_height": null,
            "padding": null,
            "grid_auto_rows": null,
            "grid_gap": null,
            "max_width": null,
            "order": null,
            "_view_module_version": "1.2.0",
            "grid_template_areas": null,
            "object_position": null,
            "object_fit": null,
            "grid_auto_columns": null,
            "margin": null,
            "display": null,
            "left": null
          }
        },
        "eba2d924445346db81c580a93d6cf021": {
          "model_module": "@jupyter-widgets/controls",
          "model_name": "HBoxModel",
          "state": {
            "_view_name": "HBoxView",
            "_dom_classes": [],
            "_model_name": "HBoxModel",
            "_view_module": "@jupyter-widgets/controls",
            "_model_module_version": "1.5.0",
            "_view_count": null,
            "_view_module_version": "1.5.0",
            "box_style": "",
            "layout": "IPY_MODEL_175913a6fb85498d930aa6659bc6827f",
            "_model_module": "@jupyter-widgets/controls",
            "children": [
              "IPY_MODEL_39665ca84dd74fcdb12d4546cd7d9ed7",
              "IPY_MODEL_039746cf816646ababd0f187bdb6a4d1"
            ]
          }
        },
        "175913a6fb85498d930aa6659bc6827f": {
          "model_module": "@jupyter-widgets/base",
          "model_name": "LayoutModel",
          "state": {
            "_view_name": "LayoutView",
            "grid_template_rows": null,
            "right": null,
            "justify_content": null,
            "_view_module": "@jupyter-widgets/base",
            "overflow": null,
            "_model_module_version": "1.2.0",
            "_view_count": null,
            "flex_flow": null,
            "width": null,
            "min_width": null,
            "border": null,
            "align_items": null,
            "bottom": null,
            "_model_module": "@jupyter-widgets/base",
            "top": null,
            "grid_column": null,
            "overflow_y": null,
            "overflow_x": null,
            "grid_auto_flow": null,
            "grid_area": null,
            "grid_template_columns": null,
            "flex": null,
            "_model_name": "LayoutModel",
            "justify_items": null,
            "grid_row": null,
            "max_height": null,
            "align_content": null,
            "visibility": null,
            "align_self": null,
            "height": null,
            "min_height": null,
            "padding": null,
            "grid_auto_rows": null,
            "grid_gap": null,
            "max_width": null,
            "order": null,
            "_view_module_version": "1.2.0",
            "grid_template_areas": null,
            "object_position": null,
            "object_fit": null,
            "grid_auto_columns": null,
            "margin": null,
            "display": null,
            "left": null
          }
        },
        "39665ca84dd74fcdb12d4546cd7d9ed7": {
          "model_module": "@jupyter-widgets/controls",
          "model_name": "FloatProgressModel",
          "state": {
            "_view_name": "ProgressView",
            "style": "IPY_MODEL_8222c7f9fa784c38975579c2bffda8c0",
            "_dom_classes": [],
            "description": "Batches: 100%",
            "_model_name": "FloatProgressModel",
            "bar_style": "success",
            "max": 319,
            "_view_module": "@jupyter-widgets/controls",
            "_model_module_version": "1.5.0",
            "value": 319,
            "_view_count": null,
            "_view_module_version": "1.5.0",
            "orientation": "horizontal",
            "min": 0,
            "description_tooltip": null,
            "_model_module": "@jupyter-widgets/controls",
            "layout": "IPY_MODEL_d810158730c4483e8907c285e52347da"
          }
        },
        "039746cf816646ababd0f187bdb6a4d1": {
          "model_module": "@jupyter-widgets/controls",
          "model_name": "HTMLModel",
          "state": {
            "_view_name": "HTMLView",
            "style": "IPY_MODEL_42b282a3824b41de8f91a0156e64d925",
            "_dom_classes": [],
            "description": "",
            "_model_name": "HTMLModel",
            "placeholder": "​",
            "_view_module": "@jupyter-widgets/controls",
            "_model_module_version": "1.5.0",
            "value": " 319/319 [02:01&lt;00:00,  2.64it/s]",
            "_view_count": null,
            "_view_module_version": "1.5.0",
            "description_tooltip": null,
            "_model_module": "@jupyter-widgets/controls",
            "layout": "IPY_MODEL_4c42dd2a9d2f4c44bb189729fc6fdf63"
          }
        },
        "8222c7f9fa784c38975579c2bffda8c0": {
          "model_module": "@jupyter-widgets/controls",
          "model_name": "ProgressStyleModel",
          "state": {
            "_view_name": "StyleView",
            "_model_name": "ProgressStyleModel",
            "description_width": "initial",
            "_view_module": "@jupyter-widgets/base",
            "_model_module_version": "1.5.0",
            "_view_count": null,
            "_view_module_version": "1.2.0",
            "bar_color": null,
            "_model_module": "@jupyter-widgets/controls"
          }
        },
        "d810158730c4483e8907c285e52347da": {
          "model_module": "@jupyter-widgets/base",
          "model_name": "LayoutModel",
          "state": {
            "_view_name": "LayoutView",
            "grid_template_rows": null,
            "right": null,
            "justify_content": null,
            "_view_module": "@jupyter-widgets/base",
            "overflow": null,
            "_model_module_version": "1.2.0",
            "_view_count": null,
            "flex_flow": null,
            "width": null,
            "min_width": null,
            "border": null,
            "align_items": null,
            "bottom": null,
            "_model_module": "@jupyter-widgets/base",
            "top": null,
            "grid_column": null,
            "overflow_y": null,
            "overflow_x": null,
            "grid_auto_flow": null,
            "grid_area": null,
            "grid_template_columns": null,
            "flex": null,
            "_model_name": "LayoutModel",
            "justify_items": null,
            "grid_row": null,
            "max_height": null,
            "align_content": null,
            "visibility": null,
            "align_self": null,
            "height": null,
            "min_height": null,
            "padding": null,
            "grid_auto_rows": null,
            "grid_gap": null,
            "max_width": null,
            "order": null,
            "_view_module_version": "1.2.0",
            "grid_template_areas": null,
            "object_position": null,
            "object_fit": null,
            "grid_auto_columns": null,
            "margin": null,
            "display": null,
            "left": null
          }
        },
        "42b282a3824b41de8f91a0156e64d925": {
          "model_module": "@jupyter-widgets/controls",
          "model_name": "DescriptionStyleModel",
          "state": {
            "_view_name": "StyleView",
            "_model_name": "DescriptionStyleModel",
            "description_width": "",
            "_view_module": "@jupyter-widgets/base",
            "_model_module_version": "1.5.0",
            "_view_count": null,
            "_view_module_version": "1.2.0",
            "_model_module": "@jupyter-widgets/controls"
          }
        },
        "4c42dd2a9d2f4c44bb189729fc6fdf63": {
          "model_module": "@jupyter-widgets/base",
          "model_name": "LayoutModel",
          "state": {
            "_view_name": "LayoutView",
            "grid_template_rows": null,
            "right": null,
            "justify_content": null,
            "_view_module": "@jupyter-widgets/base",
            "overflow": null,
            "_model_module_version": "1.2.0",
            "_view_count": null,
            "flex_flow": null,
            "width": null,
            "min_width": null,
            "border": null,
            "align_items": null,
            "bottom": null,
            "_model_module": "@jupyter-widgets/base",
            "top": null,
            "grid_column": null,
            "overflow_y": null,
            "overflow_x": null,
            "grid_auto_flow": null,
            "grid_area": null,
            "grid_template_columns": null,
            "flex": null,
            "_model_name": "LayoutModel",
            "justify_items": null,
            "grid_row": null,
            "max_height": null,
            "align_content": null,
            "visibility": null,
            "align_self": null,
            "height": null,
            "min_height": null,
            "padding": null,
            "grid_auto_rows": null,
            "grid_gap": null,
            "max_width": null,
            "order": null,
            "_view_module_version": "1.2.0",
            "grid_template_areas": null,
            "object_position": null,
            "object_fit": null,
            "grid_auto_columns": null,
            "margin": null,
            "display": null,
            "left": null
          }
        },
        "3683f29dd66f4dffbd273f9e00acc643": {
          "model_module": "@jupyter-widgets/controls",
          "model_name": "HBoxModel",
          "state": {
            "_view_name": "HBoxView",
            "_dom_classes": [],
            "_model_name": "HBoxModel",
            "_view_module": "@jupyter-widgets/controls",
            "_model_module_version": "1.5.0",
            "_view_count": null,
            "_view_module_version": "1.5.0",
            "box_style": "",
            "layout": "IPY_MODEL_6d6abbb090c34a4cab28223719706bb9",
            "_model_module": "@jupyter-widgets/controls",
            "children": [
              "IPY_MODEL_aedcd69d70854bde83be246e547b73b1",
              "IPY_MODEL_35a85d09c57f49c6aa552d20599799e6"
            ]
          }
        },
        "6d6abbb090c34a4cab28223719706bb9": {
          "model_module": "@jupyter-widgets/base",
          "model_name": "LayoutModel",
          "state": {
            "_view_name": "LayoutView",
            "grid_template_rows": null,
            "right": null,
            "justify_content": null,
            "_view_module": "@jupyter-widgets/base",
            "overflow": null,
            "_model_module_version": "1.2.0",
            "_view_count": null,
            "flex_flow": null,
            "width": null,
            "min_width": null,
            "border": null,
            "align_items": null,
            "bottom": null,
            "_model_module": "@jupyter-widgets/base",
            "top": null,
            "grid_column": null,
            "overflow_y": null,
            "overflow_x": null,
            "grid_auto_flow": null,
            "grid_area": null,
            "grid_template_columns": null,
            "flex": null,
            "_model_name": "LayoutModel",
            "justify_items": null,
            "grid_row": null,
            "max_height": null,
            "align_content": null,
            "visibility": null,
            "align_self": null,
            "height": null,
            "min_height": null,
            "padding": null,
            "grid_auto_rows": null,
            "grid_gap": null,
            "max_width": null,
            "order": null,
            "_view_module_version": "1.2.0",
            "grid_template_areas": null,
            "object_position": null,
            "object_fit": null,
            "grid_auto_columns": null,
            "margin": null,
            "display": null,
            "left": null
          }
        },
        "aedcd69d70854bde83be246e547b73b1": {
          "model_module": "@jupyter-widgets/controls",
          "model_name": "FloatProgressModel",
          "state": {
            "_view_name": "ProgressView",
            "style": "IPY_MODEL_13c070f67c3b4146bbe42720e575d81d",
            "_dom_classes": [],
            "description": "Batches: 100%",
            "_model_name": "FloatProgressModel",
            "bar_style": "success",
            "max": 319,
            "_view_module": "@jupyter-widgets/controls",
            "_model_module_version": "1.5.0",
            "value": 319,
            "_view_count": null,
            "_view_module_version": "1.5.0",
            "orientation": "horizontal",
            "min": 0,
            "description_tooltip": null,
            "_model_module": "@jupyter-widgets/controls",
            "layout": "IPY_MODEL_832b95b34e58433c982109df9a305dd8"
          }
        },
        "35a85d09c57f49c6aa552d20599799e6": {
          "model_module": "@jupyter-widgets/controls",
          "model_name": "HTMLModel",
          "state": {
            "_view_name": "HTMLView",
            "style": "IPY_MODEL_a37de77c7d674cfc8fd9e8973f200f92",
            "_dom_classes": [],
            "description": "",
            "_model_name": "HTMLModel",
            "placeholder": "​",
            "_view_module": "@jupyter-widgets/controls",
            "_model_module_version": "1.5.0",
            "value": " 319/319 [02:24&lt;00:00,  2.21it/s]",
            "_view_count": null,
            "_view_module_version": "1.5.0",
            "description_tooltip": null,
            "_model_module": "@jupyter-widgets/controls",
            "layout": "IPY_MODEL_6ef34dfafb364d819c210ee9229c2a8f"
          }
        },
        "13c070f67c3b4146bbe42720e575d81d": {
          "model_module": "@jupyter-widgets/controls",
          "model_name": "ProgressStyleModel",
          "state": {
            "_view_name": "StyleView",
            "_model_name": "ProgressStyleModel",
            "description_width": "initial",
            "_view_module": "@jupyter-widgets/base",
            "_model_module_version": "1.5.0",
            "_view_count": null,
            "_view_module_version": "1.2.0",
            "bar_color": null,
            "_model_module": "@jupyter-widgets/controls"
          }
        },
        "832b95b34e58433c982109df9a305dd8": {
          "model_module": "@jupyter-widgets/base",
          "model_name": "LayoutModel",
          "state": {
            "_view_name": "LayoutView",
            "grid_template_rows": null,
            "right": null,
            "justify_content": null,
            "_view_module": "@jupyter-widgets/base",
            "overflow": null,
            "_model_module_version": "1.2.0",
            "_view_count": null,
            "flex_flow": null,
            "width": null,
            "min_width": null,
            "border": null,
            "align_items": null,
            "bottom": null,
            "_model_module": "@jupyter-widgets/base",
            "top": null,
            "grid_column": null,
            "overflow_y": null,
            "overflow_x": null,
            "grid_auto_flow": null,
            "grid_area": null,
            "grid_template_columns": null,
            "flex": null,
            "_model_name": "LayoutModel",
            "justify_items": null,
            "grid_row": null,
            "max_height": null,
            "align_content": null,
            "visibility": null,
            "align_self": null,
            "height": null,
            "min_height": null,
            "padding": null,
            "grid_auto_rows": null,
            "grid_gap": null,
            "max_width": null,
            "order": null,
            "_view_module_version": "1.2.0",
            "grid_template_areas": null,
            "object_position": null,
            "object_fit": null,
            "grid_auto_columns": null,
            "margin": null,
            "display": null,
            "left": null
          }
        },
        "a37de77c7d674cfc8fd9e8973f200f92": {
          "model_module": "@jupyter-widgets/controls",
          "model_name": "DescriptionStyleModel",
          "state": {
            "_view_name": "StyleView",
            "_model_name": "DescriptionStyleModel",
            "description_width": "",
            "_view_module": "@jupyter-widgets/base",
            "_model_module_version": "1.5.0",
            "_view_count": null,
            "_view_module_version": "1.2.0",
            "_model_module": "@jupyter-widgets/controls"
          }
        },
        "6ef34dfafb364d819c210ee9229c2a8f": {
          "model_module": "@jupyter-widgets/base",
          "model_name": "LayoutModel",
          "state": {
            "_view_name": "LayoutView",
            "grid_template_rows": null,
            "right": null,
            "justify_content": null,
            "_view_module": "@jupyter-widgets/base",
            "overflow": null,
            "_model_module_version": "1.2.0",
            "_view_count": null,
            "flex_flow": null,
            "width": null,
            "min_width": null,
            "border": null,
            "align_items": null,
            "bottom": null,
            "_model_module": "@jupyter-widgets/base",
            "top": null,
            "grid_column": null,
            "overflow_y": null,
            "overflow_x": null,
            "grid_auto_flow": null,
            "grid_area": null,
            "grid_template_columns": null,
            "flex": null,
            "_model_name": "LayoutModel",
            "justify_items": null,
            "grid_row": null,
            "max_height": null,
            "align_content": null,
            "visibility": null,
            "align_self": null,
            "height": null,
            "min_height": null,
            "padding": null,
            "grid_auto_rows": null,
            "grid_gap": null,
            "max_width": null,
            "order": null,
            "_view_module_version": "1.2.0",
            "grid_template_areas": null,
            "object_position": null,
            "object_fit": null,
            "grid_auto_columns": null,
            "margin": null,
            "display": null,
            "left": null
          }
        },
        "2283ee506caa4e2b8f35792ef114701e": {
          "model_module": "@jupyter-widgets/controls",
          "model_name": "HBoxModel",
          "state": {
            "_view_name": "HBoxView",
            "_dom_classes": [],
            "_model_name": "HBoxModel",
            "_view_module": "@jupyter-widgets/controls",
            "_model_module_version": "1.5.0",
            "_view_count": null,
            "_view_module_version": "1.5.0",
            "box_style": "",
            "layout": "IPY_MODEL_00d2a9aee9fc4d5db7be5180bd57be7b",
            "_model_module": "@jupyter-widgets/controls",
            "children": [
              "IPY_MODEL_c899ee75e9a242af8d8537eb26a173f3",
              "IPY_MODEL_630c60472f2c4c2aaec293600e97ac94"
            ]
          }
        },
        "00d2a9aee9fc4d5db7be5180bd57be7b": {
          "model_module": "@jupyter-widgets/base",
          "model_name": "LayoutModel",
          "state": {
            "_view_name": "LayoutView",
            "grid_template_rows": null,
            "right": null,
            "justify_content": null,
            "_view_module": "@jupyter-widgets/base",
            "overflow": null,
            "_model_module_version": "1.2.0",
            "_view_count": null,
            "flex_flow": null,
            "width": null,
            "min_width": null,
            "border": null,
            "align_items": null,
            "bottom": null,
            "_model_module": "@jupyter-widgets/base",
            "top": null,
            "grid_column": null,
            "overflow_y": null,
            "overflow_x": null,
            "grid_auto_flow": null,
            "grid_area": null,
            "grid_template_columns": null,
            "flex": null,
            "_model_name": "LayoutModel",
            "justify_items": null,
            "grid_row": null,
            "max_height": null,
            "align_content": null,
            "visibility": null,
            "align_self": null,
            "height": null,
            "min_height": null,
            "padding": null,
            "grid_auto_rows": null,
            "grid_gap": null,
            "max_width": null,
            "order": null,
            "_view_module_version": "1.2.0",
            "grid_template_areas": null,
            "object_position": null,
            "object_fit": null,
            "grid_auto_columns": null,
            "margin": null,
            "display": null,
            "left": null
          }
        },
        "c899ee75e9a242af8d8537eb26a173f3": {
          "model_module": "@jupyter-widgets/controls",
          "model_name": "FloatProgressModel",
          "state": {
            "_view_name": "ProgressView",
            "style": "IPY_MODEL_ea3f6d7f399f453a9c6b4039b3765e12",
            "_dom_classes": [],
            "description": "Batches: 100%",
            "_model_name": "FloatProgressModel",
            "bar_style": "success",
            "max": 319,
            "_view_module": "@jupyter-widgets/controls",
            "_model_module_version": "1.5.0",
            "value": 319,
            "_view_count": null,
            "_view_module_version": "1.5.0",
            "orientation": "horizontal",
            "min": 0,
            "description_tooltip": null,
            "_model_module": "@jupyter-widgets/controls",
            "layout": "IPY_MODEL_0cc550a320ea48cba6dbf80c68abbffa"
          }
        },
        "630c60472f2c4c2aaec293600e97ac94": {
          "model_module": "@jupyter-widgets/controls",
          "model_name": "HTMLModel",
          "state": {
            "_view_name": "HTMLView",
            "style": "IPY_MODEL_809976bc310b41d4a8562c283224f1f1",
            "_dom_classes": [],
            "description": "",
            "_model_name": "HTMLModel",
            "placeholder": "​",
            "_view_module": "@jupyter-widgets/controls",
            "_model_module_version": "1.5.0",
            "value": " 319/319 [01:09&lt;00:00,  4.57it/s]",
            "_view_count": null,
            "_view_module_version": "1.5.0",
            "description_tooltip": null,
            "_model_module": "@jupyter-widgets/controls",
            "layout": "IPY_MODEL_1f48b694bdc7461992634b69a1124cc4"
          }
        },
        "ea3f6d7f399f453a9c6b4039b3765e12": {
          "model_module": "@jupyter-widgets/controls",
          "model_name": "ProgressStyleModel",
          "state": {
            "_view_name": "StyleView",
            "_model_name": "ProgressStyleModel",
            "description_width": "initial",
            "_view_module": "@jupyter-widgets/base",
            "_model_module_version": "1.5.0",
            "_view_count": null,
            "_view_module_version": "1.2.0",
            "bar_color": null,
            "_model_module": "@jupyter-widgets/controls"
          }
        },
        "0cc550a320ea48cba6dbf80c68abbffa": {
          "model_module": "@jupyter-widgets/base",
          "model_name": "LayoutModel",
          "state": {
            "_view_name": "LayoutView",
            "grid_template_rows": null,
            "right": null,
            "justify_content": null,
            "_view_module": "@jupyter-widgets/base",
            "overflow": null,
            "_model_module_version": "1.2.0",
            "_view_count": null,
            "flex_flow": null,
            "width": null,
            "min_width": null,
            "border": null,
            "align_items": null,
            "bottom": null,
            "_model_module": "@jupyter-widgets/base",
            "top": null,
            "grid_column": null,
            "overflow_y": null,
            "overflow_x": null,
            "grid_auto_flow": null,
            "grid_area": null,
            "grid_template_columns": null,
            "flex": null,
            "_model_name": "LayoutModel",
            "justify_items": null,
            "grid_row": null,
            "max_height": null,
            "align_content": null,
            "visibility": null,
            "align_self": null,
            "height": null,
            "min_height": null,
            "padding": null,
            "grid_auto_rows": null,
            "grid_gap": null,
            "max_width": null,
            "order": null,
            "_view_module_version": "1.2.0",
            "grid_template_areas": null,
            "object_position": null,
            "object_fit": null,
            "grid_auto_columns": null,
            "margin": null,
            "display": null,
            "left": null
          }
        },
        "809976bc310b41d4a8562c283224f1f1": {
          "model_module": "@jupyter-widgets/controls",
          "model_name": "DescriptionStyleModel",
          "state": {
            "_view_name": "StyleView",
            "_model_name": "DescriptionStyleModel",
            "description_width": "",
            "_view_module": "@jupyter-widgets/base",
            "_model_module_version": "1.5.0",
            "_view_count": null,
            "_view_module_version": "1.2.0",
            "_model_module": "@jupyter-widgets/controls"
          }
        },
        "1f48b694bdc7461992634b69a1124cc4": {
          "model_module": "@jupyter-widgets/base",
          "model_name": "LayoutModel",
          "state": {
            "_view_name": "LayoutView",
            "grid_template_rows": null,
            "right": null,
            "justify_content": null,
            "_view_module": "@jupyter-widgets/base",
            "overflow": null,
            "_model_module_version": "1.2.0",
            "_view_count": null,
            "flex_flow": null,
            "width": null,
            "min_width": null,
            "border": null,
            "align_items": null,
            "bottom": null,
            "_model_module": "@jupyter-widgets/base",
            "top": null,
            "grid_column": null,
            "overflow_y": null,
            "overflow_x": null,
            "grid_auto_flow": null,
            "grid_area": null,
            "grid_template_columns": null,
            "flex": null,
            "_model_name": "LayoutModel",
            "justify_items": null,
            "grid_row": null,
            "max_height": null,
            "align_content": null,
            "visibility": null,
            "align_self": null,
            "height": null,
            "min_height": null,
            "padding": null,
            "grid_auto_rows": null,
            "grid_gap": null,
            "max_width": null,
            "order": null,
            "_view_module_version": "1.2.0",
            "grid_template_areas": null,
            "object_position": null,
            "object_fit": null,
            "grid_auto_columns": null,
            "margin": null,
            "display": null,
            "left": null
          }
        },
        "5445e0c40f3e4398b8b32c64f9735ad2": {
          "model_module": "@jupyter-widgets/controls",
          "model_name": "HBoxModel",
          "state": {
            "_view_name": "HBoxView",
            "_dom_classes": [],
            "_model_name": "HBoxModel",
            "_view_module": "@jupyter-widgets/controls",
            "_model_module_version": "1.5.0",
            "_view_count": null,
            "_view_module_version": "1.5.0",
            "box_style": "",
            "layout": "IPY_MODEL_e142abd6c3354134926e4cff5a29d1ed",
            "_model_module": "@jupyter-widgets/controls",
            "children": [
              "IPY_MODEL_82a6d1ab936546b5b1868d558bbd278f",
              "IPY_MODEL_eb8e031a31cf4b8ba1bef1eaf4f85546"
            ]
          }
        },
        "e142abd6c3354134926e4cff5a29d1ed": {
          "model_module": "@jupyter-widgets/base",
          "model_name": "LayoutModel",
          "state": {
            "_view_name": "LayoutView",
            "grid_template_rows": null,
            "right": null,
            "justify_content": null,
            "_view_module": "@jupyter-widgets/base",
            "overflow": null,
            "_model_module_version": "1.2.0",
            "_view_count": null,
            "flex_flow": null,
            "width": null,
            "min_width": null,
            "border": null,
            "align_items": null,
            "bottom": null,
            "_model_module": "@jupyter-widgets/base",
            "top": null,
            "grid_column": null,
            "overflow_y": null,
            "overflow_x": null,
            "grid_auto_flow": null,
            "grid_area": null,
            "grid_template_columns": null,
            "flex": null,
            "_model_name": "LayoutModel",
            "justify_items": null,
            "grid_row": null,
            "max_height": null,
            "align_content": null,
            "visibility": null,
            "align_self": null,
            "height": null,
            "min_height": null,
            "padding": null,
            "grid_auto_rows": null,
            "grid_gap": null,
            "max_width": null,
            "order": null,
            "_view_module_version": "1.2.0",
            "grid_template_areas": null,
            "object_position": null,
            "object_fit": null,
            "grid_auto_columns": null,
            "margin": null,
            "display": null,
            "left": null
          }
        },
        "82a6d1ab936546b5b1868d558bbd278f": {
          "model_module": "@jupyter-widgets/controls",
          "model_name": "FloatProgressModel",
          "state": {
            "_view_name": "ProgressView",
            "style": "IPY_MODEL_2d279f3e4b4a45bb8d0ed9e7039764cb",
            "_dom_classes": [],
            "description": "Batches: 100%",
            "_model_name": "FloatProgressModel",
            "bar_style": "success",
            "max": 319,
            "_view_module": "@jupyter-widgets/controls",
            "_model_module_version": "1.5.0",
            "value": 319,
            "_view_count": null,
            "_view_module_version": "1.5.0",
            "orientation": "horizontal",
            "min": 0,
            "description_tooltip": null,
            "_model_module": "@jupyter-widgets/controls",
            "layout": "IPY_MODEL_103863384c8946ac89956d1f4f621574"
          }
        },
        "eb8e031a31cf4b8ba1bef1eaf4f85546": {
          "model_module": "@jupyter-widgets/controls",
          "model_name": "HTMLModel",
          "state": {
            "_view_name": "HTMLView",
            "style": "IPY_MODEL_7ebccf2737024e928d89bd28f5148069",
            "_dom_classes": [],
            "description": "",
            "_model_name": "HTMLModel",
            "placeholder": "​",
            "_view_module": "@jupyter-widgets/controls",
            "_model_module_version": "1.5.0",
            "value": " 319/319 [02:06&lt;00:00,  2.52it/s]",
            "_view_count": null,
            "_view_module_version": "1.5.0",
            "description_tooltip": null,
            "_model_module": "@jupyter-widgets/controls",
            "layout": "IPY_MODEL_d36ca92e2b0543f88d1c747e155ffed4"
          }
        },
        "2d279f3e4b4a45bb8d0ed9e7039764cb": {
          "model_module": "@jupyter-widgets/controls",
          "model_name": "ProgressStyleModel",
          "state": {
            "_view_name": "StyleView",
            "_model_name": "ProgressStyleModel",
            "description_width": "initial",
            "_view_module": "@jupyter-widgets/base",
            "_model_module_version": "1.5.0",
            "_view_count": null,
            "_view_module_version": "1.2.0",
            "bar_color": null,
            "_model_module": "@jupyter-widgets/controls"
          }
        },
        "103863384c8946ac89956d1f4f621574": {
          "model_module": "@jupyter-widgets/base",
          "model_name": "LayoutModel",
          "state": {
            "_view_name": "LayoutView",
            "grid_template_rows": null,
            "right": null,
            "justify_content": null,
            "_view_module": "@jupyter-widgets/base",
            "overflow": null,
            "_model_module_version": "1.2.0",
            "_view_count": null,
            "flex_flow": null,
            "width": null,
            "min_width": null,
            "border": null,
            "align_items": null,
            "bottom": null,
            "_model_module": "@jupyter-widgets/base",
            "top": null,
            "grid_column": null,
            "overflow_y": null,
            "overflow_x": null,
            "grid_auto_flow": null,
            "grid_area": null,
            "grid_template_columns": null,
            "flex": null,
            "_model_name": "LayoutModel",
            "justify_items": null,
            "grid_row": null,
            "max_height": null,
            "align_content": null,
            "visibility": null,
            "align_self": null,
            "height": null,
            "min_height": null,
            "padding": null,
            "grid_auto_rows": null,
            "grid_gap": null,
            "max_width": null,
            "order": null,
            "_view_module_version": "1.2.0",
            "grid_template_areas": null,
            "object_position": null,
            "object_fit": null,
            "grid_auto_columns": null,
            "margin": null,
            "display": null,
            "left": null
          }
        },
        "7ebccf2737024e928d89bd28f5148069": {
          "model_module": "@jupyter-widgets/controls",
          "model_name": "DescriptionStyleModel",
          "state": {
            "_view_name": "StyleView",
            "_model_name": "DescriptionStyleModel",
            "description_width": "",
            "_view_module": "@jupyter-widgets/base",
            "_model_module_version": "1.5.0",
            "_view_count": null,
            "_view_module_version": "1.2.0",
            "_model_module": "@jupyter-widgets/controls"
          }
        },
        "d36ca92e2b0543f88d1c747e155ffed4": {
          "model_module": "@jupyter-widgets/base",
          "model_name": "LayoutModel",
          "state": {
            "_view_name": "LayoutView",
            "grid_template_rows": null,
            "right": null,
            "justify_content": null,
            "_view_module": "@jupyter-widgets/base",
            "overflow": null,
            "_model_module_version": "1.2.0",
            "_view_count": null,
            "flex_flow": null,
            "width": null,
            "min_width": null,
            "border": null,
            "align_items": null,
            "bottom": null,
            "_model_module": "@jupyter-widgets/base",
            "top": null,
            "grid_column": null,
            "overflow_y": null,
            "overflow_x": null,
            "grid_auto_flow": null,
            "grid_area": null,
            "grid_template_columns": null,
            "flex": null,
            "_model_name": "LayoutModel",
            "justify_items": null,
            "grid_row": null,
            "max_height": null,
            "align_content": null,
            "visibility": null,
            "align_self": null,
            "height": null,
            "min_height": null,
            "padding": null,
            "grid_auto_rows": null,
            "grid_gap": null,
            "max_width": null,
            "order": null,
            "_view_module_version": "1.2.0",
            "grid_template_areas": null,
            "object_position": null,
            "object_fit": null,
            "grid_auto_columns": null,
            "margin": null,
            "display": null,
            "left": null
          }
        },
        "d8b57cd5761145ff85637649bb1b1fca": {
          "model_module": "@jupyter-widgets/controls",
          "model_name": "HBoxModel",
          "state": {
            "_view_name": "HBoxView",
            "_dom_classes": [],
            "_model_name": "HBoxModel",
            "_view_module": "@jupyter-widgets/controls",
            "_model_module_version": "1.5.0",
            "_view_count": null,
            "_view_module_version": "1.5.0",
            "box_style": "",
            "layout": "IPY_MODEL_b7b8fc73ed504cca8d88ca60d6718538",
            "_model_module": "@jupyter-widgets/controls",
            "children": [
              "IPY_MODEL_d190c0932c854830923ea6ee0dd2fbe1",
              "IPY_MODEL_d3dad3b2bdb64285bcf1ed68d84beece"
            ]
          }
        },
        "b7b8fc73ed504cca8d88ca60d6718538": {
          "model_module": "@jupyter-widgets/base",
          "model_name": "LayoutModel",
          "state": {
            "_view_name": "LayoutView",
            "grid_template_rows": null,
            "right": null,
            "justify_content": null,
            "_view_module": "@jupyter-widgets/base",
            "overflow": null,
            "_model_module_version": "1.2.0",
            "_view_count": null,
            "flex_flow": null,
            "width": null,
            "min_width": null,
            "border": null,
            "align_items": null,
            "bottom": null,
            "_model_module": "@jupyter-widgets/base",
            "top": null,
            "grid_column": null,
            "overflow_y": null,
            "overflow_x": null,
            "grid_auto_flow": null,
            "grid_area": null,
            "grid_template_columns": null,
            "flex": null,
            "_model_name": "LayoutModel",
            "justify_items": null,
            "grid_row": null,
            "max_height": null,
            "align_content": null,
            "visibility": null,
            "align_self": null,
            "height": null,
            "min_height": null,
            "padding": null,
            "grid_auto_rows": null,
            "grid_gap": null,
            "max_width": null,
            "order": null,
            "_view_module_version": "1.2.0",
            "grid_template_areas": null,
            "object_position": null,
            "object_fit": null,
            "grid_auto_columns": null,
            "margin": null,
            "display": null,
            "left": null
          }
        },
        "d190c0932c854830923ea6ee0dd2fbe1": {
          "model_module": "@jupyter-widgets/controls",
          "model_name": "FloatProgressModel",
          "state": {
            "_view_name": "ProgressView",
            "style": "IPY_MODEL_b7d2730b54774bd1b1c98999d2d3afbf",
            "_dom_classes": [],
            "description": "Batches: 100%",
            "_model_name": "FloatProgressModel",
            "bar_style": "success",
            "max": 319,
            "_view_module": "@jupyter-widgets/controls",
            "_model_module_version": "1.5.0",
            "value": 319,
            "_view_count": null,
            "_view_module_version": "1.5.0",
            "orientation": "horizontal",
            "min": 0,
            "description_tooltip": null,
            "_model_module": "@jupyter-widgets/controls",
            "layout": "IPY_MODEL_c6a4e0bb34d244fabd6ccd472b0b4a95"
          }
        },
        "d3dad3b2bdb64285bcf1ed68d84beece": {
          "model_module": "@jupyter-widgets/controls",
          "model_name": "HTMLModel",
          "state": {
            "_view_name": "HTMLView",
            "style": "IPY_MODEL_076f682e33a64586b0a22d603850a833",
            "_dom_classes": [],
            "description": "",
            "_model_name": "HTMLModel",
            "placeholder": "​",
            "_view_module": "@jupyter-widgets/controls",
            "_model_module_version": "1.5.0",
            "value": " 319/319 [00:53&lt;00:00,  6.01it/s]",
            "_view_count": null,
            "_view_module_version": "1.5.0",
            "description_tooltip": null,
            "_model_module": "@jupyter-widgets/controls",
            "layout": "IPY_MODEL_7a95f8ec4730400e964ea5485b2ef0fd"
          }
        },
        "b7d2730b54774bd1b1c98999d2d3afbf": {
          "model_module": "@jupyter-widgets/controls",
          "model_name": "ProgressStyleModel",
          "state": {
            "_view_name": "StyleView",
            "_model_name": "ProgressStyleModel",
            "description_width": "initial",
            "_view_module": "@jupyter-widgets/base",
            "_model_module_version": "1.5.0",
            "_view_count": null,
            "_view_module_version": "1.2.0",
            "bar_color": null,
            "_model_module": "@jupyter-widgets/controls"
          }
        },
        "c6a4e0bb34d244fabd6ccd472b0b4a95": {
          "model_module": "@jupyter-widgets/base",
          "model_name": "LayoutModel",
          "state": {
            "_view_name": "LayoutView",
            "grid_template_rows": null,
            "right": null,
            "justify_content": null,
            "_view_module": "@jupyter-widgets/base",
            "overflow": null,
            "_model_module_version": "1.2.0",
            "_view_count": null,
            "flex_flow": null,
            "width": null,
            "min_width": null,
            "border": null,
            "align_items": null,
            "bottom": null,
            "_model_module": "@jupyter-widgets/base",
            "top": null,
            "grid_column": null,
            "overflow_y": null,
            "overflow_x": null,
            "grid_auto_flow": null,
            "grid_area": null,
            "grid_template_columns": null,
            "flex": null,
            "_model_name": "LayoutModel",
            "justify_items": null,
            "grid_row": null,
            "max_height": null,
            "align_content": null,
            "visibility": null,
            "align_self": null,
            "height": null,
            "min_height": null,
            "padding": null,
            "grid_auto_rows": null,
            "grid_gap": null,
            "max_width": null,
            "order": null,
            "_view_module_version": "1.2.0",
            "grid_template_areas": null,
            "object_position": null,
            "object_fit": null,
            "grid_auto_columns": null,
            "margin": null,
            "display": null,
            "left": null
          }
        },
        "076f682e33a64586b0a22d603850a833": {
          "model_module": "@jupyter-widgets/controls",
          "model_name": "DescriptionStyleModel",
          "state": {
            "_view_name": "StyleView",
            "_model_name": "DescriptionStyleModel",
            "description_width": "",
            "_view_module": "@jupyter-widgets/base",
            "_model_module_version": "1.5.0",
            "_view_count": null,
            "_view_module_version": "1.2.0",
            "_model_module": "@jupyter-widgets/controls"
          }
        },
        "7a95f8ec4730400e964ea5485b2ef0fd": {
          "model_module": "@jupyter-widgets/base",
          "model_name": "LayoutModel",
          "state": {
            "_view_name": "LayoutView",
            "grid_template_rows": null,
            "right": null,
            "justify_content": null,
            "_view_module": "@jupyter-widgets/base",
            "overflow": null,
            "_model_module_version": "1.2.0",
            "_view_count": null,
            "flex_flow": null,
            "width": null,
            "min_width": null,
            "border": null,
            "align_items": null,
            "bottom": null,
            "_model_module": "@jupyter-widgets/base",
            "top": null,
            "grid_column": null,
            "overflow_y": null,
            "overflow_x": null,
            "grid_auto_flow": null,
            "grid_area": null,
            "grid_template_columns": null,
            "flex": null,
            "_model_name": "LayoutModel",
            "justify_items": null,
            "grid_row": null,
            "max_height": null,
            "align_content": null,
            "visibility": null,
            "align_self": null,
            "height": null,
            "min_height": null,
            "padding": null,
            "grid_auto_rows": null,
            "grid_gap": null,
            "max_width": null,
            "order": null,
            "_view_module_version": "1.2.0",
            "grid_template_areas": null,
            "object_position": null,
            "object_fit": null,
            "grid_auto_columns": null,
            "margin": null,
            "display": null,
            "left": null
          }
        },
        "06b5cd4121e648e6881f130b44c37b06": {
          "model_module": "@jupyter-widgets/controls",
          "model_name": "HBoxModel",
          "state": {
            "_view_name": "HBoxView",
            "_dom_classes": [],
            "_model_name": "HBoxModel",
            "_view_module": "@jupyter-widgets/controls",
            "_model_module_version": "1.5.0",
            "_view_count": null,
            "_view_module_version": "1.5.0",
            "box_style": "",
            "layout": "IPY_MODEL_9689b5c7283a499fa7941f43e892a1da",
            "_model_module": "@jupyter-widgets/controls",
            "children": [
              "IPY_MODEL_f0f826a002124b308e47c7e1333d5420",
              "IPY_MODEL_f225be6a7b0a4b89a8e417f7a1f542d1"
            ]
          }
        },
        "9689b5c7283a499fa7941f43e892a1da": {
          "model_module": "@jupyter-widgets/base",
          "model_name": "LayoutModel",
          "state": {
            "_view_name": "LayoutView",
            "grid_template_rows": null,
            "right": null,
            "justify_content": null,
            "_view_module": "@jupyter-widgets/base",
            "overflow": null,
            "_model_module_version": "1.2.0",
            "_view_count": null,
            "flex_flow": null,
            "width": null,
            "min_width": null,
            "border": null,
            "align_items": null,
            "bottom": null,
            "_model_module": "@jupyter-widgets/base",
            "top": null,
            "grid_column": null,
            "overflow_y": null,
            "overflow_x": null,
            "grid_auto_flow": null,
            "grid_area": null,
            "grid_template_columns": null,
            "flex": null,
            "_model_name": "LayoutModel",
            "justify_items": null,
            "grid_row": null,
            "max_height": null,
            "align_content": null,
            "visibility": null,
            "align_self": null,
            "height": null,
            "min_height": null,
            "padding": null,
            "grid_auto_rows": null,
            "grid_gap": null,
            "max_width": null,
            "order": null,
            "_view_module_version": "1.2.0",
            "grid_template_areas": null,
            "object_position": null,
            "object_fit": null,
            "grid_auto_columns": null,
            "margin": null,
            "display": null,
            "left": null
          }
        },
        "f0f826a002124b308e47c7e1333d5420": {
          "model_module": "@jupyter-widgets/controls",
          "model_name": "FloatProgressModel",
          "state": {
            "_view_name": "ProgressView",
            "style": "IPY_MODEL_b720c5a5787e4e4c9a12ff0cc4120ca8",
            "_dom_classes": [],
            "description": "Batches: 100%",
            "_model_name": "FloatProgressModel",
            "bar_style": "success",
            "max": 319,
            "_view_module": "@jupyter-widgets/controls",
            "_model_module_version": "1.5.0",
            "value": 319,
            "_view_count": null,
            "_view_module_version": "1.5.0",
            "orientation": "horizontal",
            "min": 0,
            "description_tooltip": null,
            "_model_module": "@jupyter-widgets/controls",
            "layout": "IPY_MODEL_f4067cf4c9414e25a7eb23493a8ad739"
          }
        },
        "f225be6a7b0a4b89a8e417f7a1f542d1": {
          "model_module": "@jupyter-widgets/controls",
          "model_name": "HTMLModel",
          "state": {
            "_view_name": "HTMLView",
            "style": "IPY_MODEL_2b9831154f684713b9f925ca526f69a8",
            "_dom_classes": [],
            "description": "",
            "_model_name": "HTMLModel",
            "placeholder": "​",
            "_view_module": "@jupyter-widgets/controls",
            "_model_module_version": "1.5.0",
            "value": " 319/319 [01:54&lt;00:00,  2.80it/s]",
            "_view_count": null,
            "_view_module_version": "1.5.0",
            "description_tooltip": null,
            "_model_module": "@jupyter-widgets/controls",
            "layout": "IPY_MODEL_1e4b7dff157a45f099f7e62698514cf0"
          }
        },
        "b720c5a5787e4e4c9a12ff0cc4120ca8": {
          "model_module": "@jupyter-widgets/controls",
          "model_name": "ProgressStyleModel",
          "state": {
            "_view_name": "StyleView",
            "_model_name": "ProgressStyleModel",
            "description_width": "initial",
            "_view_module": "@jupyter-widgets/base",
            "_model_module_version": "1.5.0",
            "_view_count": null,
            "_view_module_version": "1.2.0",
            "bar_color": null,
            "_model_module": "@jupyter-widgets/controls"
          }
        },
        "f4067cf4c9414e25a7eb23493a8ad739": {
          "model_module": "@jupyter-widgets/base",
          "model_name": "LayoutModel",
          "state": {
            "_view_name": "LayoutView",
            "grid_template_rows": null,
            "right": null,
            "justify_content": null,
            "_view_module": "@jupyter-widgets/base",
            "overflow": null,
            "_model_module_version": "1.2.0",
            "_view_count": null,
            "flex_flow": null,
            "width": null,
            "min_width": null,
            "border": null,
            "align_items": null,
            "bottom": null,
            "_model_module": "@jupyter-widgets/base",
            "top": null,
            "grid_column": null,
            "overflow_y": null,
            "overflow_x": null,
            "grid_auto_flow": null,
            "grid_area": null,
            "grid_template_columns": null,
            "flex": null,
            "_model_name": "LayoutModel",
            "justify_items": null,
            "grid_row": null,
            "max_height": null,
            "align_content": null,
            "visibility": null,
            "align_self": null,
            "height": null,
            "min_height": null,
            "padding": null,
            "grid_auto_rows": null,
            "grid_gap": null,
            "max_width": null,
            "order": null,
            "_view_module_version": "1.2.0",
            "grid_template_areas": null,
            "object_position": null,
            "object_fit": null,
            "grid_auto_columns": null,
            "margin": null,
            "display": null,
            "left": null
          }
        },
        "2b9831154f684713b9f925ca526f69a8": {
          "model_module": "@jupyter-widgets/controls",
          "model_name": "DescriptionStyleModel",
          "state": {
            "_view_name": "StyleView",
            "_model_name": "DescriptionStyleModel",
            "description_width": "",
            "_view_module": "@jupyter-widgets/base",
            "_model_module_version": "1.5.0",
            "_view_count": null,
            "_view_module_version": "1.2.0",
            "_model_module": "@jupyter-widgets/controls"
          }
        },
        "1e4b7dff157a45f099f7e62698514cf0": {
          "model_module": "@jupyter-widgets/base",
          "model_name": "LayoutModel",
          "state": {
            "_view_name": "LayoutView",
            "grid_template_rows": null,
            "right": null,
            "justify_content": null,
            "_view_module": "@jupyter-widgets/base",
            "overflow": null,
            "_model_module_version": "1.2.0",
            "_view_count": null,
            "flex_flow": null,
            "width": null,
            "min_width": null,
            "border": null,
            "align_items": null,
            "bottom": null,
            "_model_module": "@jupyter-widgets/base",
            "top": null,
            "grid_column": null,
            "overflow_y": null,
            "overflow_x": null,
            "grid_auto_flow": null,
            "grid_area": null,
            "grid_template_columns": null,
            "flex": null,
            "_model_name": "LayoutModel",
            "justify_items": null,
            "grid_row": null,
            "max_height": null,
            "align_content": null,
            "visibility": null,
            "align_self": null,
            "height": null,
            "min_height": null,
            "padding": null,
            "grid_auto_rows": null,
            "grid_gap": null,
            "max_width": null,
            "order": null,
            "_view_module_version": "1.2.0",
            "grid_template_areas": null,
            "object_position": null,
            "object_fit": null,
            "grid_auto_columns": null,
            "margin": null,
            "display": null,
            "left": null
          }
        },
        "d5454a5771e944c4b008f4928946fb92": {
          "model_module": "@jupyter-widgets/controls",
          "model_name": "HBoxModel",
          "state": {
            "_view_name": "HBoxView",
            "_dom_classes": [],
            "_model_name": "HBoxModel",
            "_view_module": "@jupyter-widgets/controls",
            "_model_module_version": "1.5.0",
            "_view_count": null,
            "_view_module_version": "1.5.0",
            "box_style": "",
            "layout": "IPY_MODEL_4e00fb8d34ea4597b41dc2d2f05c3489",
            "_model_module": "@jupyter-widgets/controls",
            "children": [
              "IPY_MODEL_53069544730a47c59f333ae73c806182",
              "IPY_MODEL_8362e0d87be54394af938233b8bf8ccc"
            ]
          }
        },
        "4e00fb8d34ea4597b41dc2d2f05c3489": {
          "model_module": "@jupyter-widgets/base",
          "model_name": "LayoutModel",
          "state": {
            "_view_name": "LayoutView",
            "grid_template_rows": null,
            "right": null,
            "justify_content": null,
            "_view_module": "@jupyter-widgets/base",
            "overflow": null,
            "_model_module_version": "1.2.0",
            "_view_count": null,
            "flex_flow": null,
            "width": null,
            "min_width": null,
            "border": null,
            "align_items": null,
            "bottom": null,
            "_model_module": "@jupyter-widgets/base",
            "top": null,
            "grid_column": null,
            "overflow_y": null,
            "overflow_x": null,
            "grid_auto_flow": null,
            "grid_area": null,
            "grid_template_columns": null,
            "flex": null,
            "_model_name": "LayoutModel",
            "justify_items": null,
            "grid_row": null,
            "max_height": null,
            "align_content": null,
            "visibility": null,
            "align_self": null,
            "height": null,
            "min_height": null,
            "padding": null,
            "grid_auto_rows": null,
            "grid_gap": null,
            "max_width": null,
            "order": null,
            "_view_module_version": "1.2.0",
            "grid_template_areas": null,
            "object_position": null,
            "object_fit": null,
            "grid_auto_columns": null,
            "margin": null,
            "display": null,
            "left": null
          }
        },
        "53069544730a47c59f333ae73c806182": {
          "model_module": "@jupyter-widgets/controls",
          "model_name": "FloatProgressModel",
          "state": {
            "_view_name": "ProgressView",
            "style": "IPY_MODEL_d9cfc15b283345518ef07b3728ef10e0",
            "_dom_classes": [],
            "description": "Batches: 100%",
            "_model_name": "FloatProgressModel",
            "bar_style": "success",
            "max": 319,
            "_view_module": "@jupyter-widgets/controls",
            "_model_module_version": "1.5.0",
            "value": 319,
            "_view_count": null,
            "_view_module_version": "1.5.0",
            "orientation": "horizontal",
            "min": 0,
            "description_tooltip": null,
            "_model_module": "@jupyter-widgets/controls",
            "layout": "IPY_MODEL_3e2f58217fc84cc8b4c8908152cee371"
          }
        },
        "8362e0d87be54394af938233b8bf8ccc": {
          "model_module": "@jupyter-widgets/controls",
          "model_name": "HTMLModel",
          "state": {
            "_view_name": "HTMLView",
            "style": "IPY_MODEL_590807cec53942e59146a8580f1c3267",
            "_dom_classes": [],
            "description": "",
            "_model_name": "HTMLModel",
            "placeholder": "​",
            "_view_module": "@jupyter-widgets/controls",
            "_model_module_version": "1.5.0",
            "value": " 319/319 [02:23&lt;00:00,  2.23it/s]",
            "_view_count": null,
            "_view_module_version": "1.5.0",
            "description_tooltip": null,
            "_model_module": "@jupyter-widgets/controls",
            "layout": "IPY_MODEL_9ee134c72d94411e98c1477ccbcbb433"
          }
        },
        "d9cfc15b283345518ef07b3728ef10e0": {
          "model_module": "@jupyter-widgets/controls",
          "model_name": "ProgressStyleModel",
          "state": {
            "_view_name": "StyleView",
            "_model_name": "ProgressStyleModel",
            "description_width": "initial",
            "_view_module": "@jupyter-widgets/base",
            "_model_module_version": "1.5.0",
            "_view_count": null,
            "_view_module_version": "1.2.0",
            "bar_color": null,
            "_model_module": "@jupyter-widgets/controls"
          }
        },
        "3e2f58217fc84cc8b4c8908152cee371": {
          "model_module": "@jupyter-widgets/base",
          "model_name": "LayoutModel",
          "state": {
            "_view_name": "LayoutView",
            "grid_template_rows": null,
            "right": null,
            "justify_content": null,
            "_view_module": "@jupyter-widgets/base",
            "overflow": null,
            "_model_module_version": "1.2.0",
            "_view_count": null,
            "flex_flow": null,
            "width": null,
            "min_width": null,
            "border": null,
            "align_items": null,
            "bottom": null,
            "_model_module": "@jupyter-widgets/base",
            "top": null,
            "grid_column": null,
            "overflow_y": null,
            "overflow_x": null,
            "grid_auto_flow": null,
            "grid_area": null,
            "grid_template_columns": null,
            "flex": null,
            "_model_name": "LayoutModel",
            "justify_items": null,
            "grid_row": null,
            "max_height": null,
            "align_content": null,
            "visibility": null,
            "align_self": null,
            "height": null,
            "min_height": null,
            "padding": null,
            "grid_auto_rows": null,
            "grid_gap": null,
            "max_width": null,
            "order": null,
            "_view_module_version": "1.2.0",
            "grid_template_areas": null,
            "object_position": null,
            "object_fit": null,
            "grid_auto_columns": null,
            "margin": null,
            "display": null,
            "left": null
          }
        },
        "590807cec53942e59146a8580f1c3267": {
          "model_module": "@jupyter-widgets/controls",
          "model_name": "DescriptionStyleModel",
          "state": {
            "_view_name": "StyleView",
            "_model_name": "DescriptionStyleModel",
            "description_width": "",
            "_view_module": "@jupyter-widgets/base",
            "_model_module_version": "1.5.0",
            "_view_count": null,
            "_view_module_version": "1.2.0",
            "_model_module": "@jupyter-widgets/controls"
          }
        },
        "9ee134c72d94411e98c1477ccbcbb433": {
          "model_module": "@jupyter-widgets/base",
          "model_name": "LayoutModel",
          "state": {
            "_view_name": "LayoutView",
            "grid_template_rows": null,
            "right": null,
            "justify_content": null,
            "_view_module": "@jupyter-widgets/base",
            "overflow": null,
            "_model_module_version": "1.2.0",
            "_view_count": null,
            "flex_flow": null,
            "width": null,
            "min_width": null,
            "border": null,
            "align_items": null,
            "bottom": null,
            "_model_module": "@jupyter-widgets/base",
            "top": null,
            "grid_column": null,
            "overflow_y": null,
            "overflow_x": null,
            "grid_auto_flow": null,
            "grid_area": null,
            "grid_template_columns": null,
            "flex": null,
            "_model_name": "LayoutModel",
            "justify_items": null,
            "grid_row": null,
            "max_height": null,
            "align_content": null,
            "visibility": null,
            "align_self": null,
            "height": null,
            "min_height": null,
            "padding": null,
            "grid_auto_rows": null,
            "grid_gap": null,
            "max_width": null,
            "order": null,
            "_view_module_version": "1.2.0",
            "grid_template_areas": null,
            "object_position": null,
            "object_fit": null,
            "grid_auto_columns": null,
            "margin": null,
            "display": null,
            "left": null
          }
        },
        "4ea8025b7cb34ecdaf344dc100881223": {
          "model_module": "@jupyter-widgets/controls",
          "model_name": "HBoxModel",
          "state": {
            "_view_name": "HBoxView",
            "_dom_classes": [],
            "_model_name": "HBoxModel",
            "_view_module": "@jupyter-widgets/controls",
            "_model_module_version": "1.5.0",
            "_view_count": null,
            "_view_module_version": "1.5.0",
            "box_style": "",
            "layout": "IPY_MODEL_1f0b464fd51742edb0c42c19cb528cd1",
            "_model_module": "@jupyter-widgets/controls",
            "children": [
              "IPY_MODEL_f4e5f11de70842ce85c2f27d51890022",
              "IPY_MODEL_7b412ce311254d69a933498974668614"
            ]
          }
        },
        "1f0b464fd51742edb0c42c19cb528cd1": {
          "model_module": "@jupyter-widgets/base",
          "model_name": "LayoutModel",
          "state": {
            "_view_name": "LayoutView",
            "grid_template_rows": null,
            "right": null,
            "justify_content": null,
            "_view_module": "@jupyter-widgets/base",
            "overflow": null,
            "_model_module_version": "1.2.0",
            "_view_count": null,
            "flex_flow": null,
            "width": null,
            "min_width": null,
            "border": null,
            "align_items": null,
            "bottom": null,
            "_model_module": "@jupyter-widgets/base",
            "top": null,
            "grid_column": null,
            "overflow_y": null,
            "overflow_x": null,
            "grid_auto_flow": null,
            "grid_area": null,
            "grid_template_columns": null,
            "flex": null,
            "_model_name": "LayoutModel",
            "justify_items": null,
            "grid_row": null,
            "max_height": null,
            "align_content": null,
            "visibility": null,
            "align_self": null,
            "height": null,
            "min_height": null,
            "padding": null,
            "grid_auto_rows": null,
            "grid_gap": null,
            "max_width": null,
            "order": null,
            "_view_module_version": "1.2.0",
            "grid_template_areas": null,
            "object_position": null,
            "object_fit": null,
            "grid_auto_columns": null,
            "margin": null,
            "display": null,
            "left": null
          }
        },
        "f4e5f11de70842ce85c2f27d51890022": {
          "model_module": "@jupyter-widgets/controls",
          "model_name": "FloatProgressModel",
          "state": {
            "_view_name": "ProgressView",
            "style": "IPY_MODEL_fb987e6825694e9bba80e9792661d603",
            "_dom_classes": [],
            "description": "Batches: 100%",
            "_model_name": "FloatProgressModel",
            "bar_style": "success",
            "max": 319,
            "_view_module": "@jupyter-widgets/controls",
            "_model_module_version": "1.5.0",
            "value": 319,
            "_view_count": null,
            "_view_module_version": "1.5.0",
            "orientation": "horizontal",
            "min": 0,
            "description_tooltip": null,
            "_model_module": "@jupyter-widgets/controls",
            "layout": "IPY_MODEL_763407838f7346a0a8ba33f98fe68320"
          }
        },
        "7b412ce311254d69a933498974668614": {
          "model_module": "@jupyter-widgets/controls",
          "model_name": "HTMLModel",
          "state": {
            "_view_name": "HTMLView",
            "style": "IPY_MODEL_90423e4227da4b6ba03c4418c6777682",
            "_dom_classes": [],
            "description": "",
            "_model_name": "HTMLModel",
            "placeholder": "​",
            "_view_module": "@jupyter-widgets/controls",
            "_model_module_version": "1.5.0",
            "value": " 319/319 [01:09&lt;00:00,  4.61it/s]",
            "_view_count": null,
            "_view_module_version": "1.5.0",
            "description_tooltip": null,
            "_model_module": "@jupyter-widgets/controls",
            "layout": "IPY_MODEL_ee61cab8293d49db8632c2d9abd533bb"
          }
        },
        "fb987e6825694e9bba80e9792661d603": {
          "model_module": "@jupyter-widgets/controls",
          "model_name": "ProgressStyleModel",
          "state": {
            "_view_name": "StyleView",
            "_model_name": "ProgressStyleModel",
            "description_width": "initial",
            "_view_module": "@jupyter-widgets/base",
            "_model_module_version": "1.5.0",
            "_view_count": null,
            "_view_module_version": "1.2.0",
            "bar_color": null,
            "_model_module": "@jupyter-widgets/controls"
          }
        },
        "763407838f7346a0a8ba33f98fe68320": {
          "model_module": "@jupyter-widgets/base",
          "model_name": "LayoutModel",
          "state": {
            "_view_name": "LayoutView",
            "grid_template_rows": null,
            "right": null,
            "justify_content": null,
            "_view_module": "@jupyter-widgets/base",
            "overflow": null,
            "_model_module_version": "1.2.0",
            "_view_count": null,
            "flex_flow": null,
            "width": null,
            "min_width": null,
            "border": null,
            "align_items": null,
            "bottom": null,
            "_model_module": "@jupyter-widgets/base",
            "top": null,
            "grid_column": null,
            "overflow_y": null,
            "overflow_x": null,
            "grid_auto_flow": null,
            "grid_area": null,
            "grid_template_columns": null,
            "flex": null,
            "_model_name": "LayoutModel",
            "justify_items": null,
            "grid_row": null,
            "max_height": null,
            "align_content": null,
            "visibility": null,
            "align_self": null,
            "height": null,
            "min_height": null,
            "padding": null,
            "grid_auto_rows": null,
            "grid_gap": null,
            "max_width": null,
            "order": null,
            "_view_module_version": "1.2.0",
            "grid_template_areas": null,
            "object_position": null,
            "object_fit": null,
            "grid_auto_columns": null,
            "margin": null,
            "display": null,
            "left": null
          }
        },
        "90423e4227da4b6ba03c4418c6777682": {
          "model_module": "@jupyter-widgets/controls",
          "model_name": "DescriptionStyleModel",
          "state": {
            "_view_name": "StyleView",
            "_model_name": "DescriptionStyleModel",
            "description_width": "",
            "_view_module": "@jupyter-widgets/base",
            "_model_module_version": "1.5.0",
            "_view_count": null,
            "_view_module_version": "1.2.0",
            "_model_module": "@jupyter-widgets/controls"
          }
        },
        "ee61cab8293d49db8632c2d9abd533bb": {
          "model_module": "@jupyter-widgets/base",
          "model_name": "LayoutModel",
          "state": {
            "_view_name": "LayoutView",
            "grid_template_rows": null,
            "right": null,
            "justify_content": null,
            "_view_module": "@jupyter-widgets/base",
            "overflow": null,
            "_model_module_version": "1.2.0",
            "_view_count": null,
            "flex_flow": null,
            "width": null,
            "min_width": null,
            "border": null,
            "align_items": null,
            "bottom": null,
            "_model_module": "@jupyter-widgets/base",
            "top": null,
            "grid_column": null,
            "overflow_y": null,
            "overflow_x": null,
            "grid_auto_flow": null,
            "grid_area": null,
            "grid_template_columns": null,
            "flex": null,
            "_model_name": "LayoutModel",
            "justify_items": null,
            "grid_row": null,
            "max_height": null,
            "align_content": null,
            "visibility": null,
            "align_self": null,
            "height": null,
            "min_height": null,
            "padding": null,
            "grid_auto_rows": null,
            "grid_gap": null,
            "max_width": null,
            "order": null,
            "_view_module_version": "1.2.0",
            "grid_template_areas": null,
            "object_position": null,
            "object_fit": null,
            "grid_auto_columns": null,
            "margin": null,
            "display": null,
            "left": null
          }
        },
        "fb590d1dad1946c9b89fdc587abf526a": {
          "model_module": "@jupyter-widgets/controls",
          "model_name": "HBoxModel",
          "state": {
            "_view_name": "HBoxView",
            "_dom_classes": [],
            "_model_name": "HBoxModel",
            "_view_module": "@jupyter-widgets/controls",
            "_model_module_version": "1.5.0",
            "_view_count": null,
            "_view_module_version": "1.5.0",
            "box_style": "",
            "layout": "IPY_MODEL_15947ac6175549d3926a080458fa76ea",
            "_model_module": "@jupyter-widgets/controls",
            "children": [
              "IPY_MODEL_a7b06d4d07274ad48f03b3f29c1bc313",
              "IPY_MODEL_8f7b3bc6c3294497bb50b9bb9644309c"
            ]
          }
        },
        "15947ac6175549d3926a080458fa76ea": {
          "model_module": "@jupyter-widgets/base",
          "model_name": "LayoutModel",
          "state": {
            "_view_name": "LayoutView",
            "grid_template_rows": null,
            "right": null,
            "justify_content": null,
            "_view_module": "@jupyter-widgets/base",
            "overflow": null,
            "_model_module_version": "1.2.0",
            "_view_count": null,
            "flex_flow": null,
            "width": null,
            "min_width": null,
            "border": null,
            "align_items": null,
            "bottom": null,
            "_model_module": "@jupyter-widgets/base",
            "top": null,
            "grid_column": null,
            "overflow_y": null,
            "overflow_x": null,
            "grid_auto_flow": null,
            "grid_area": null,
            "grid_template_columns": null,
            "flex": null,
            "_model_name": "LayoutModel",
            "justify_items": null,
            "grid_row": null,
            "max_height": null,
            "align_content": null,
            "visibility": null,
            "align_self": null,
            "height": null,
            "min_height": null,
            "padding": null,
            "grid_auto_rows": null,
            "grid_gap": null,
            "max_width": null,
            "order": null,
            "_view_module_version": "1.2.0",
            "grid_template_areas": null,
            "object_position": null,
            "object_fit": null,
            "grid_auto_columns": null,
            "margin": null,
            "display": null,
            "left": null
          }
        },
        "a7b06d4d07274ad48f03b3f29c1bc313": {
          "model_module": "@jupyter-widgets/controls",
          "model_name": "FloatProgressModel",
          "state": {
            "_view_name": "ProgressView",
            "style": "IPY_MODEL_a9c46f37bec14373b2d8818ec5b579c7",
            "_dom_classes": [],
            "description": "Batches: 100%",
            "_model_name": "FloatProgressModel",
            "bar_style": "success",
            "max": 319,
            "_view_module": "@jupyter-widgets/controls",
            "_model_module_version": "1.5.0",
            "value": 319,
            "_view_count": null,
            "_view_module_version": "1.5.0",
            "orientation": "horizontal",
            "min": 0,
            "description_tooltip": null,
            "_model_module": "@jupyter-widgets/controls",
            "layout": "IPY_MODEL_8af402fd57b247e4920256577075f3e3"
          }
        },
        "8f7b3bc6c3294497bb50b9bb9644309c": {
          "model_module": "@jupyter-widgets/controls",
          "model_name": "HTMLModel",
          "state": {
            "_view_name": "HTMLView",
            "style": "IPY_MODEL_b026e80b67c94497961b3e70fe9e6b9d",
            "_dom_classes": [],
            "description": "",
            "_model_name": "HTMLModel",
            "placeholder": "​",
            "_view_module": "@jupyter-widgets/controls",
            "_model_module_version": "1.5.0",
            "value": " 319/319 [02:00&lt;00:00,  2.64it/s]",
            "_view_count": null,
            "_view_module_version": "1.5.0",
            "description_tooltip": null,
            "_model_module": "@jupyter-widgets/controls",
            "layout": "IPY_MODEL_898e656c81b1468aa9f7dc7b3c6a2a25"
          }
        },
        "a9c46f37bec14373b2d8818ec5b579c7": {
          "model_module": "@jupyter-widgets/controls",
          "model_name": "ProgressStyleModel",
          "state": {
            "_view_name": "StyleView",
            "_model_name": "ProgressStyleModel",
            "description_width": "initial",
            "_view_module": "@jupyter-widgets/base",
            "_model_module_version": "1.5.0",
            "_view_count": null,
            "_view_module_version": "1.2.0",
            "bar_color": null,
            "_model_module": "@jupyter-widgets/controls"
          }
        },
        "8af402fd57b247e4920256577075f3e3": {
          "model_module": "@jupyter-widgets/base",
          "model_name": "LayoutModel",
          "state": {
            "_view_name": "LayoutView",
            "grid_template_rows": null,
            "right": null,
            "justify_content": null,
            "_view_module": "@jupyter-widgets/base",
            "overflow": null,
            "_model_module_version": "1.2.0",
            "_view_count": null,
            "flex_flow": null,
            "width": null,
            "min_width": null,
            "border": null,
            "align_items": null,
            "bottom": null,
            "_model_module": "@jupyter-widgets/base",
            "top": null,
            "grid_column": null,
            "overflow_y": null,
            "overflow_x": null,
            "grid_auto_flow": null,
            "grid_area": null,
            "grid_template_columns": null,
            "flex": null,
            "_model_name": "LayoutModel",
            "justify_items": null,
            "grid_row": null,
            "max_height": null,
            "align_content": null,
            "visibility": null,
            "align_self": null,
            "height": null,
            "min_height": null,
            "padding": null,
            "grid_auto_rows": null,
            "grid_gap": null,
            "max_width": null,
            "order": null,
            "_view_module_version": "1.2.0",
            "grid_template_areas": null,
            "object_position": null,
            "object_fit": null,
            "grid_auto_columns": null,
            "margin": null,
            "display": null,
            "left": null
          }
        },
        "b026e80b67c94497961b3e70fe9e6b9d": {
          "model_module": "@jupyter-widgets/controls",
          "model_name": "DescriptionStyleModel",
          "state": {
            "_view_name": "StyleView",
            "_model_name": "DescriptionStyleModel",
            "description_width": "",
            "_view_module": "@jupyter-widgets/base",
            "_model_module_version": "1.5.0",
            "_view_count": null,
            "_view_module_version": "1.2.0",
            "_model_module": "@jupyter-widgets/controls"
          }
        },
        "898e656c81b1468aa9f7dc7b3c6a2a25": {
          "model_module": "@jupyter-widgets/base",
          "model_name": "LayoutModel",
          "state": {
            "_view_name": "LayoutView",
            "grid_template_rows": null,
            "right": null,
            "justify_content": null,
            "_view_module": "@jupyter-widgets/base",
            "overflow": null,
            "_model_module_version": "1.2.0",
            "_view_count": null,
            "flex_flow": null,
            "width": null,
            "min_width": null,
            "border": null,
            "align_items": null,
            "bottom": null,
            "_model_module": "@jupyter-widgets/base",
            "top": null,
            "grid_column": null,
            "overflow_y": null,
            "overflow_x": null,
            "grid_auto_flow": null,
            "grid_area": null,
            "grid_template_columns": null,
            "flex": null,
            "_model_name": "LayoutModel",
            "justify_items": null,
            "grid_row": null,
            "max_height": null,
            "align_content": null,
            "visibility": null,
            "align_self": null,
            "height": null,
            "min_height": null,
            "padding": null,
            "grid_auto_rows": null,
            "grid_gap": null,
            "max_width": null,
            "order": null,
            "_view_module_version": "1.2.0",
            "grid_template_areas": null,
            "object_position": null,
            "object_fit": null,
            "grid_auto_columns": null,
            "margin": null,
            "display": null,
            "left": null
          }
        },
        "86af439703214e9693ea8061727e4d00": {
          "model_module": "@jupyter-widgets/controls",
          "model_name": "HBoxModel",
          "state": {
            "_view_name": "HBoxView",
            "_dom_classes": [],
            "_model_name": "HBoxModel",
            "_view_module": "@jupyter-widgets/controls",
            "_model_module_version": "1.5.0",
            "_view_count": null,
            "_view_module_version": "1.5.0",
            "box_style": "",
            "layout": "IPY_MODEL_6ac4a33a1b974ca4b1847b7436ae5f6f",
            "_model_module": "@jupyter-widgets/controls",
            "children": [
              "IPY_MODEL_999399ce92824bf4b9cad7f47b450598",
              "IPY_MODEL_c56add063bf040b48c500f79c1860c73"
            ]
          }
        },
        "6ac4a33a1b974ca4b1847b7436ae5f6f": {
          "model_module": "@jupyter-widgets/base",
          "model_name": "LayoutModel",
          "state": {
            "_view_name": "LayoutView",
            "grid_template_rows": null,
            "right": null,
            "justify_content": null,
            "_view_module": "@jupyter-widgets/base",
            "overflow": null,
            "_model_module_version": "1.2.0",
            "_view_count": null,
            "flex_flow": null,
            "width": null,
            "min_width": null,
            "border": null,
            "align_items": null,
            "bottom": null,
            "_model_module": "@jupyter-widgets/base",
            "top": null,
            "grid_column": null,
            "overflow_y": null,
            "overflow_x": null,
            "grid_auto_flow": null,
            "grid_area": null,
            "grid_template_columns": null,
            "flex": null,
            "_model_name": "LayoutModel",
            "justify_items": null,
            "grid_row": null,
            "max_height": null,
            "align_content": null,
            "visibility": null,
            "align_self": null,
            "height": null,
            "min_height": null,
            "padding": null,
            "grid_auto_rows": null,
            "grid_gap": null,
            "max_width": null,
            "order": null,
            "_view_module_version": "1.2.0",
            "grid_template_areas": null,
            "object_position": null,
            "object_fit": null,
            "grid_auto_columns": null,
            "margin": null,
            "display": null,
            "left": null
          }
        },
        "999399ce92824bf4b9cad7f47b450598": {
          "model_module": "@jupyter-widgets/controls",
          "model_name": "FloatProgressModel",
          "state": {
            "_view_name": "ProgressView",
            "style": "IPY_MODEL_1ee249d34100433e84dcb76cc4ef2a8d",
            "_dom_classes": [],
            "description": "Batches: 100%",
            "_model_name": "FloatProgressModel",
            "bar_style": "success",
            "max": 319,
            "_view_module": "@jupyter-widgets/controls",
            "_model_module_version": "1.5.0",
            "value": 319,
            "_view_count": null,
            "_view_module_version": "1.5.0",
            "orientation": "horizontal",
            "min": 0,
            "description_tooltip": null,
            "_model_module": "@jupyter-widgets/controls",
            "layout": "IPY_MODEL_b2280b30b62f4a4a9d2dcca36ec0c3f2"
          }
        },
        "c56add063bf040b48c500f79c1860c73": {
          "model_module": "@jupyter-widgets/controls",
          "model_name": "HTMLModel",
          "state": {
            "_view_name": "HTMLView",
            "style": "IPY_MODEL_fa3cff95f5d84b6898d645bd0312e3d5",
            "_dom_classes": [],
            "description": "",
            "_model_name": "HTMLModel",
            "placeholder": "​",
            "_view_module": "@jupyter-widgets/controls",
            "_model_module_version": "1.5.0",
            "value": " 319/319 [02:33&lt;00:00,  2.08it/s]",
            "_view_count": null,
            "_view_module_version": "1.5.0",
            "description_tooltip": null,
            "_model_module": "@jupyter-widgets/controls",
            "layout": "IPY_MODEL_963e12429faa40a5bb3622dfb99b4b61"
          }
        },
        "1ee249d34100433e84dcb76cc4ef2a8d": {
          "model_module": "@jupyter-widgets/controls",
          "model_name": "ProgressStyleModel",
          "state": {
            "_view_name": "StyleView",
            "_model_name": "ProgressStyleModel",
            "description_width": "initial",
            "_view_module": "@jupyter-widgets/base",
            "_model_module_version": "1.5.0",
            "_view_count": null,
            "_view_module_version": "1.2.0",
            "bar_color": null,
            "_model_module": "@jupyter-widgets/controls"
          }
        },
        "b2280b30b62f4a4a9d2dcca36ec0c3f2": {
          "model_module": "@jupyter-widgets/base",
          "model_name": "LayoutModel",
          "state": {
            "_view_name": "LayoutView",
            "grid_template_rows": null,
            "right": null,
            "justify_content": null,
            "_view_module": "@jupyter-widgets/base",
            "overflow": null,
            "_model_module_version": "1.2.0",
            "_view_count": null,
            "flex_flow": null,
            "width": null,
            "min_width": null,
            "border": null,
            "align_items": null,
            "bottom": null,
            "_model_module": "@jupyter-widgets/base",
            "top": null,
            "grid_column": null,
            "overflow_y": null,
            "overflow_x": null,
            "grid_auto_flow": null,
            "grid_area": null,
            "grid_template_columns": null,
            "flex": null,
            "_model_name": "LayoutModel",
            "justify_items": null,
            "grid_row": null,
            "max_height": null,
            "align_content": null,
            "visibility": null,
            "align_self": null,
            "height": null,
            "min_height": null,
            "padding": null,
            "grid_auto_rows": null,
            "grid_gap": null,
            "max_width": null,
            "order": null,
            "_view_module_version": "1.2.0",
            "grid_template_areas": null,
            "object_position": null,
            "object_fit": null,
            "grid_auto_columns": null,
            "margin": null,
            "display": null,
            "left": null
          }
        },
        "fa3cff95f5d84b6898d645bd0312e3d5": {
          "model_module": "@jupyter-widgets/controls",
          "model_name": "DescriptionStyleModel",
          "state": {
            "_view_name": "StyleView",
            "_model_name": "DescriptionStyleModel",
            "description_width": "",
            "_view_module": "@jupyter-widgets/base",
            "_model_module_version": "1.5.0",
            "_view_count": null,
            "_view_module_version": "1.2.0",
            "_model_module": "@jupyter-widgets/controls"
          }
        },
        "963e12429faa40a5bb3622dfb99b4b61": {
          "model_module": "@jupyter-widgets/base",
          "model_name": "LayoutModel",
          "state": {
            "_view_name": "LayoutView",
            "grid_template_rows": null,
            "right": null,
            "justify_content": null,
            "_view_module": "@jupyter-widgets/base",
            "overflow": null,
            "_model_module_version": "1.2.0",
            "_view_count": null,
            "flex_flow": null,
            "width": null,
            "min_width": null,
            "border": null,
            "align_items": null,
            "bottom": null,
            "_model_module": "@jupyter-widgets/base",
            "top": null,
            "grid_column": null,
            "overflow_y": null,
            "overflow_x": null,
            "grid_auto_flow": null,
            "grid_area": null,
            "grid_template_columns": null,
            "flex": null,
            "_model_name": "LayoutModel",
            "justify_items": null,
            "grid_row": null,
            "max_height": null,
            "align_content": null,
            "visibility": null,
            "align_self": null,
            "height": null,
            "min_height": null,
            "padding": null,
            "grid_auto_rows": null,
            "grid_gap": null,
            "max_width": null,
            "order": null,
            "_view_module_version": "1.2.0",
            "grid_template_areas": null,
            "object_position": null,
            "object_fit": null,
            "grid_auto_columns": null,
            "margin": null,
            "display": null,
            "left": null
          }
        },
        "4fbaaf0f7b254f0f8083f5246aaa5e64": {
          "model_module": "@jupyter-widgets/controls",
          "model_name": "HBoxModel",
          "state": {
            "_view_name": "HBoxView",
            "_dom_classes": [],
            "_model_name": "HBoxModel",
            "_view_module": "@jupyter-widgets/controls",
            "_model_module_version": "1.5.0",
            "_view_count": null,
            "_view_module_version": "1.5.0",
            "box_style": "",
            "layout": "IPY_MODEL_6723d01ddec54485b2ed8feb33ea1c66",
            "_model_module": "@jupyter-widgets/controls",
            "children": [
              "IPY_MODEL_9791279120484337be81b44857fd3dd5",
              "IPY_MODEL_add6e02aea204e87a5b6f54b93d3c843"
            ]
          }
        },
        "6723d01ddec54485b2ed8feb33ea1c66": {
          "model_module": "@jupyter-widgets/base",
          "model_name": "LayoutModel",
          "state": {
            "_view_name": "LayoutView",
            "grid_template_rows": null,
            "right": null,
            "justify_content": null,
            "_view_module": "@jupyter-widgets/base",
            "overflow": null,
            "_model_module_version": "1.2.0",
            "_view_count": null,
            "flex_flow": null,
            "width": null,
            "min_width": null,
            "border": null,
            "align_items": null,
            "bottom": null,
            "_model_module": "@jupyter-widgets/base",
            "top": null,
            "grid_column": null,
            "overflow_y": null,
            "overflow_x": null,
            "grid_auto_flow": null,
            "grid_area": null,
            "grid_template_columns": null,
            "flex": null,
            "_model_name": "LayoutModel",
            "justify_items": null,
            "grid_row": null,
            "max_height": null,
            "align_content": null,
            "visibility": null,
            "align_self": null,
            "height": null,
            "min_height": null,
            "padding": null,
            "grid_auto_rows": null,
            "grid_gap": null,
            "max_width": null,
            "order": null,
            "_view_module_version": "1.2.0",
            "grid_template_areas": null,
            "object_position": null,
            "object_fit": null,
            "grid_auto_columns": null,
            "margin": null,
            "display": null,
            "left": null
          }
        },
        "9791279120484337be81b44857fd3dd5": {
          "model_module": "@jupyter-widgets/controls",
          "model_name": "FloatProgressModel",
          "state": {
            "_view_name": "ProgressView",
            "style": "IPY_MODEL_d975f858dcb64bcbab0e574fbb430ce7",
            "_dom_classes": [],
            "description": "Batches: 100%",
            "_model_name": "FloatProgressModel",
            "bar_style": "success",
            "max": 319,
            "_view_module": "@jupyter-widgets/controls",
            "_model_module_version": "1.5.0",
            "value": 319,
            "_view_count": null,
            "_view_module_version": "1.5.0",
            "orientation": "horizontal",
            "min": 0,
            "description_tooltip": null,
            "_model_module": "@jupyter-widgets/controls",
            "layout": "IPY_MODEL_54088bb8544d4a84a5ad0c61dc9bb106"
          }
        },
        "add6e02aea204e87a5b6f54b93d3c843": {
          "model_module": "@jupyter-widgets/controls",
          "model_name": "HTMLModel",
          "state": {
            "_view_name": "HTMLView",
            "style": "IPY_MODEL_fdce71c8d0fa437db7c1618f7c8943a8",
            "_dom_classes": [],
            "description": "",
            "_model_name": "HTMLModel",
            "placeholder": "​",
            "_view_module": "@jupyter-widgets/controls",
            "_model_module_version": "1.5.0",
            "value": " 319/319 [01:14&lt;00:00,  4.29it/s]",
            "_view_count": null,
            "_view_module_version": "1.5.0",
            "description_tooltip": null,
            "_model_module": "@jupyter-widgets/controls",
            "layout": "IPY_MODEL_053f24ca77ef411c96e4181525b3fcfa"
          }
        },
        "d975f858dcb64bcbab0e574fbb430ce7": {
          "model_module": "@jupyter-widgets/controls",
          "model_name": "ProgressStyleModel",
          "state": {
            "_view_name": "StyleView",
            "_model_name": "ProgressStyleModel",
            "description_width": "initial",
            "_view_module": "@jupyter-widgets/base",
            "_model_module_version": "1.5.0",
            "_view_count": null,
            "_view_module_version": "1.2.0",
            "bar_color": null,
            "_model_module": "@jupyter-widgets/controls"
          }
        },
        "54088bb8544d4a84a5ad0c61dc9bb106": {
          "model_module": "@jupyter-widgets/base",
          "model_name": "LayoutModel",
          "state": {
            "_view_name": "LayoutView",
            "grid_template_rows": null,
            "right": null,
            "justify_content": null,
            "_view_module": "@jupyter-widgets/base",
            "overflow": null,
            "_model_module_version": "1.2.0",
            "_view_count": null,
            "flex_flow": null,
            "width": null,
            "min_width": null,
            "border": null,
            "align_items": null,
            "bottom": null,
            "_model_module": "@jupyter-widgets/base",
            "top": null,
            "grid_column": null,
            "overflow_y": null,
            "overflow_x": null,
            "grid_auto_flow": null,
            "grid_area": null,
            "grid_template_columns": null,
            "flex": null,
            "_model_name": "LayoutModel",
            "justify_items": null,
            "grid_row": null,
            "max_height": null,
            "align_content": null,
            "visibility": null,
            "align_self": null,
            "height": null,
            "min_height": null,
            "padding": null,
            "grid_auto_rows": null,
            "grid_gap": null,
            "max_width": null,
            "order": null,
            "_view_module_version": "1.2.0",
            "grid_template_areas": null,
            "object_position": null,
            "object_fit": null,
            "grid_auto_columns": null,
            "margin": null,
            "display": null,
            "left": null
          }
        },
        "fdce71c8d0fa437db7c1618f7c8943a8": {
          "model_module": "@jupyter-widgets/controls",
          "model_name": "DescriptionStyleModel",
          "state": {
            "_view_name": "StyleView",
            "_model_name": "DescriptionStyleModel",
            "description_width": "",
            "_view_module": "@jupyter-widgets/base",
            "_model_module_version": "1.5.0",
            "_view_count": null,
            "_view_module_version": "1.2.0",
            "_model_module": "@jupyter-widgets/controls"
          }
        },
        "053f24ca77ef411c96e4181525b3fcfa": {
          "model_module": "@jupyter-widgets/base",
          "model_name": "LayoutModel",
          "state": {
            "_view_name": "LayoutView",
            "grid_template_rows": null,
            "right": null,
            "justify_content": null,
            "_view_module": "@jupyter-widgets/base",
            "overflow": null,
            "_model_module_version": "1.2.0",
            "_view_count": null,
            "flex_flow": null,
            "width": null,
            "min_width": null,
            "border": null,
            "align_items": null,
            "bottom": null,
            "_model_module": "@jupyter-widgets/base",
            "top": null,
            "grid_column": null,
            "overflow_y": null,
            "overflow_x": null,
            "grid_auto_flow": null,
            "grid_area": null,
            "grid_template_columns": null,
            "flex": null,
            "_model_name": "LayoutModel",
            "justify_items": null,
            "grid_row": null,
            "max_height": null,
            "align_content": null,
            "visibility": null,
            "align_self": null,
            "height": null,
            "min_height": null,
            "padding": null,
            "grid_auto_rows": null,
            "grid_gap": null,
            "max_width": null,
            "order": null,
            "_view_module_version": "1.2.0",
            "grid_template_areas": null,
            "object_position": null,
            "object_fit": null,
            "grid_auto_columns": null,
            "margin": null,
            "display": null,
            "left": null
          }
        },
        "fe28a21250324888a6e881cda040ff47": {
          "model_module": "@jupyter-widgets/controls",
          "model_name": "HBoxModel",
          "state": {
            "_view_name": "HBoxView",
            "_dom_classes": [],
            "_model_name": "HBoxModel",
            "_view_module": "@jupyter-widgets/controls",
            "_model_module_version": "1.5.0",
            "_view_count": null,
            "_view_module_version": "1.5.0",
            "box_style": "",
            "layout": "IPY_MODEL_f00a16ed2f4d492ca7e8a12d7d39ff70",
            "_model_module": "@jupyter-widgets/controls",
            "children": [
              "IPY_MODEL_5c4d3f97819c49f7b86a59191cf3ae03",
              "IPY_MODEL_36e8a9ac46c049b0b0141f6c4b85fd77"
            ]
          }
        },
        "f00a16ed2f4d492ca7e8a12d7d39ff70": {
          "model_module": "@jupyter-widgets/base",
          "model_name": "LayoutModel",
          "state": {
            "_view_name": "LayoutView",
            "grid_template_rows": null,
            "right": null,
            "justify_content": null,
            "_view_module": "@jupyter-widgets/base",
            "overflow": null,
            "_model_module_version": "1.2.0",
            "_view_count": null,
            "flex_flow": null,
            "width": null,
            "min_width": null,
            "border": null,
            "align_items": null,
            "bottom": null,
            "_model_module": "@jupyter-widgets/base",
            "top": null,
            "grid_column": null,
            "overflow_y": null,
            "overflow_x": null,
            "grid_auto_flow": null,
            "grid_area": null,
            "grid_template_columns": null,
            "flex": null,
            "_model_name": "LayoutModel",
            "justify_items": null,
            "grid_row": null,
            "max_height": null,
            "align_content": null,
            "visibility": null,
            "align_self": null,
            "height": null,
            "min_height": null,
            "padding": null,
            "grid_auto_rows": null,
            "grid_gap": null,
            "max_width": null,
            "order": null,
            "_view_module_version": "1.2.0",
            "grid_template_areas": null,
            "object_position": null,
            "object_fit": null,
            "grid_auto_columns": null,
            "margin": null,
            "display": null,
            "left": null
          }
        },
        "5c4d3f97819c49f7b86a59191cf3ae03": {
          "model_module": "@jupyter-widgets/controls",
          "model_name": "FloatProgressModel",
          "state": {
            "_view_name": "ProgressView",
            "style": "IPY_MODEL_4983031e0c34436e99acd88834822a78",
            "_dom_classes": [],
            "description": "Batches: 100%",
            "_model_name": "FloatProgressModel",
            "bar_style": "success",
            "max": 319,
            "_view_module": "@jupyter-widgets/controls",
            "_model_module_version": "1.5.0",
            "value": 319,
            "_view_count": null,
            "_view_module_version": "1.5.0",
            "orientation": "horizontal",
            "min": 0,
            "description_tooltip": null,
            "_model_module": "@jupyter-widgets/controls",
            "layout": "IPY_MODEL_48e6f9ad62264f279a4189ae0a9fdaff"
          }
        },
        "36e8a9ac46c049b0b0141f6c4b85fd77": {
          "model_module": "@jupyter-widgets/controls",
          "model_name": "HTMLModel",
          "state": {
            "_view_name": "HTMLView",
            "style": "IPY_MODEL_a99ce519916d401ca8b3f38ca3ca5f81",
            "_dom_classes": [],
            "description": "",
            "_model_name": "HTMLModel",
            "placeholder": "​",
            "_view_module": "@jupyter-widgets/controls",
            "_model_module_version": "1.5.0",
            "value": " 319/319 [02:04&lt;00:00,  2.56it/s]",
            "_view_count": null,
            "_view_module_version": "1.5.0",
            "description_tooltip": null,
            "_model_module": "@jupyter-widgets/controls",
            "layout": "IPY_MODEL_8731c4eeb1e8451a819d5f09fa3267ea"
          }
        },
        "4983031e0c34436e99acd88834822a78": {
          "model_module": "@jupyter-widgets/controls",
          "model_name": "ProgressStyleModel",
          "state": {
            "_view_name": "StyleView",
            "_model_name": "ProgressStyleModel",
            "description_width": "initial",
            "_view_module": "@jupyter-widgets/base",
            "_model_module_version": "1.5.0",
            "_view_count": null,
            "_view_module_version": "1.2.0",
            "bar_color": null,
            "_model_module": "@jupyter-widgets/controls"
          }
        },
        "48e6f9ad62264f279a4189ae0a9fdaff": {
          "model_module": "@jupyter-widgets/base",
          "model_name": "LayoutModel",
          "state": {
            "_view_name": "LayoutView",
            "grid_template_rows": null,
            "right": null,
            "justify_content": null,
            "_view_module": "@jupyter-widgets/base",
            "overflow": null,
            "_model_module_version": "1.2.0",
            "_view_count": null,
            "flex_flow": null,
            "width": null,
            "min_width": null,
            "border": null,
            "align_items": null,
            "bottom": null,
            "_model_module": "@jupyter-widgets/base",
            "top": null,
            "grid_column": null,
            "overflow_y": null,
            "overflow_x": null,
            "grid_auto_flow": null,
            "grid_area": null,
            "grid_template_columns": null,
            "flex": null,
            "_model_name": "LayoutModel",
            "justify_items": null,
            "grid_row": null,
            "max_height": null,
            "align_content": null,
            "visibility": null,
            "align_self": null,
            "height": null,
            "min_height": null,
            "padding": null,
            "grid_auto_rows": null,
            "grid_gap": null,
            "max_width": null,
            "order": null,
            "_view_module_version": "1.2.0",
            "grid_template_areas": null,
            "object_position": null,
            "object_fit": null,
            "grid_auto_columns": null,
            "margin": null,
            "display": null,
            "left": null
          }
        },
        "a99ce519916d401ca8b3f38ca3ca5f81": {
          "model_module": "@jupyter-widgets/controls",
          "model_name": "DescriptionStyleModel",
          "state": {
            "_view_name": "StyleView",
            "_model_name": "DescriptionStyleModel",
            "description_width": "",
            "_view_module": "@jupyter-widgets/base",
            "_model_module_version": "1.5.0",
            "_view_count": null,
            "_view_module_version": "1.2.0",
            "_model_module": "@jupyter-widgets/controls"
          }
        },
        "8731c4eeb1e8451a819d5f09fa3267ea": {
          "model_module": "@jupyter-widgets/base",
          "model_name": "LayoutModel",
          "state": {
            "_view_name": "LayoutView",
            "grid_template_rows": null,
            "right": null,
            "justify_content": null,
            "_view_module": "@jupyter-widgets/base",
            "overflow": null,
            "_model_module_version": "1.2.0",
            "_view_count": null,
            "flex_flow": null,
            "width": null,
            "min_width": null,
            "border": null,
            "align_items": null,
            "bottom": null,
            "_model_module": "@jupyter-widgets/base",
            "top": null,
            "grid_column": null,
            "overflow_y": null,
            "overflow_x": null,
            "grid_auto_flow": null,
            "grid_area": null,
            "grid_template_columns": null,
            "flex": null,
            "_model_name": "LayoutModel",
            "justify_items": null,
            "grid_row": null,
            "max_height": null,
            "align_content": null,
            "visibility": null,
            "align_self": null,
            "height": null,
            "min_height": null,
            "padding": null,
            "grid_auto_rows": null,
            "grid_gap": null,
            "max_width": null,
            "order": null,
            "_view_module_version": "1.2.0",
            "grid_template_areas": null,
            "object_position": null,
            "object_fit": null,
            "grid_auto_columns": null,
            "margin": null,
            "display": null,
            "left": null
          }
        },
        "1d62ebe92b184da48f8a32980d42a047": {
          "model_module": "@jupyter-widgets/controls",
          "model_name": "HBoxModel",
          "state": {
            "_view_name": "HBoxView",
            "_dom_classes": [],
            "_model_name": "HBoxModel",
            "_view_module": "@jupyter-widgets/controls",
            "_model_module_version": "1.5.0",
            "_view_count": null,
            "_view_module_version": "1.5.0",
            "box_style": "",
            "layout": "IPY_MODEL_a907dd958a5643c69e63ec96e0123e40",
            "_model_module": "@jupyter-widgets/controls",
            "children": [
              "IPY_MODEL_bccf1745cc084d108a65c49fbd699501",
              "IPY_MODEL_75907cfce64c4992bbfac8ef05c07445"
            ]
          }
        },
        "a907dd958a5643c69e63ec96e0123e40": {
          "model_module": "@jupyter-widgets/base",
          "model_name": "LayoutModel",
          "state": {
            "_view_name": "LayoutView",
            "grid_template_rows": null,
            "right": null,
            "justify_content": null,
            "_view_module": "@jupyter-widgets/base",
            "overflow": null,
            "_model_module_version": "1.2.0",
            "_view_count": null,
            "flex_flow": null,
            "width": null,
            "min_width": null,
            "border": null,
            "align_items": null,
            "bottom": null,
            "_model_module": "@jupyter-widgets/base",
            "top": null,
            "grid_column": null,
            "overflow_y": null,
            "overflow_x": null,
            "grid_auto_flow": null,
            "grid_area": null,
            "grid_template_columns": null,
            "flex": null,
            "_model_name": "LayoutModel",
            "justify_items": null,
            "grid_row": null,
            "max_height": null,
            "align_content": null,
            "visibility": null,
            "align_self": null,
            "height": null,
            "min_height": null,
            "padding": null,
            "grid_auto_rows": null,
            "grid_gap": null,
            "max_width": null,
            "order": null,
            "_view_module_version": "1.2.0",
            "grid_template_areas": null,
            "object_position": null,
            "object_fit": null,
            "grid_auto_columns": null,
            "margin": null,
            "display": null,
            "left": null
          }
        },
        "bccf1745cc084d108a65c49fbd699501": {
          "model_module": "@jupyter-widgets/controls",
          "model_name": "FloatProgressModel",
          "state": {
            "_view_name": "ProgressView",
            "style": "IPY_MODEL_08f9acac7926432db844f3af47071a72",
            "_dom_classes": [],
            "description": "Batches: 100%",
            "_model_name": "FloatProgressModel",
            "bar_style": "success",
            "max": 319,
            "_view_module": "@jupyter-widgets/controls",
            "_model_module_version": "1.5.0",
            "value": 319,
            "_view_count": null,
            "_view_module_version": "1.5.0",
            "orientation": "horizontal",
            "min": 0,
            "description_tooltip": null,
            "_model_module": "@jupyter-widgets/controls",
            "layout": "IPY_MODEL_89933566386f43eda935c1124a88dc28"
          }
        },
        "75907cfce64c4992bbfac8ef05c07445": {
          "model_module": "@jupyter-widgets/controls",
          "model_name": "HTMLModel",
          "state": {
            "_view_name": "HTMLView",
            "style": "IPY_MODEL_fd79c7b80ecf45bb86054d4dd51a56cd",
            "_dom_classes": [],
            "description": "",
            "_model_name": "HTMLModel",
            "placeholder": "​",
            "_view_module": "@jupyter-widgets/controls",
            "_model_module_version": "1.5.0",
            "value": " 319/319 [00:48&lt;00:00,  6.54it/s]",
            "_view_count": null,
            "_view_module_version": "1.5.0",
            "description_tooltip": null,
            "_model_module": "@jupyter-widgets/controls",
            "layout": "IPY_MODEL_02c366044b5541a389b856549db34a32"
          }
        },
        "08f9acac7926432db844f3af47071a72": {
          "model_module": "@jupyter-widgets/controls",
          "model_name": "ProgressStyleModel",
          "state": {
            "_view_name": "StyleView",
            "_model_name": "ProgressStyleModel",
            "description_width": "initial",
            "_view_module": "@jupyter-widgets/base",
            "_model_module_version": "1.5.0",
            "_view_count": null,
            "_view_module_version": "1.2.0",
            "bar_color": null,
            "_model_module": "@jupyter-widgets/controls"
          }
        },
        "89933566386f43eda935c1124a88dc28": {
          "model_module": "@jupyter-widgets/base",
          "model_name": "LayoutModel",
          "state": {
            "_view_name": "LayoutView",
            "grid_template_rows": null,
            "right": null,
            "justify_content": null,
            "_view_module": "@jupyter-widgets/base",
            "overflow": null,
            "_model_module_version": "1.2.0",
            "_view_count": null,
            "flex_flow": null,
            "width": null,
            "min_width": null,
            "border": null,
            "align_items": null,
            "bottom": null,
            "_model_module": "@jupyter-widgets/base",
            "top": null,
            "grid_column": null,
            "overflow_y": null,
            "overflow_x": null,
            "grid_auto_flow": null,
            "grid_area": null,
            "grid_template_columns": null,
            "flex": null,
            "_model_name": "LayoutModel",
            "justify_items": null,
            "grid_row": null,
            "max_height": null,
            "align_content": null,
            "visibility": null,
            "align_self": null,
            "height": null,
            "min_height": null,
            "padding": null,
            "grid_auto_rows": null,
            "grid_gap": null,
            "max_width": null,
            "order": null,
            "_view_module_version": "1.2.0",
            "grid_template_areas": null,
            "object_position": null,
            "object_fit": null,
            "grid_auto_columns": null,
            "margin": null,
            "display": null,
            "left": null
          }
        },
        "fd79c7b80ecf45bb86054d4dd51a56cd": {
          "model_module": "@jupyter-widgets/controls",
          "model_name": "DescriptionStyleModel",
          "state": {
            "_view_name": "StyleView",
            "_model_name": "DescriptionStyleModel",
            "description_width": "",
            "_view_module": "@jupyter-widgets/base",
            "_model_module_version": "1.5.0",
            "_view_count": null,
            "_view_module_version": "1.2.0",
            "_model_module": "@jupyter-widgets/controls"
          }
        },
        "02c366044b5541a389b856549db34a32": {
          "model_module": "@jupyter-widgets/base",
          "model_name": "LayoutModel",
          "state": {
            "_view_name": "LayoutView",
            "grid_template_rows": null,
            "right": null,
            "justify_content": null,
            "_view_module": "@jupyter-widgets/base",
            "overflow": null,
            "_model_module_version": "1.2.0",
            "_view_count": null,
            "flex_flow": null,
            "width": null,
            "min_width": null,
            "border": null,
            "align_items": null,
            "bottom": null,
            "_model_module": "@jupyter-widgets/base",
            "top": null,
            "grid_column": null,
            "overflow_y": null,
            "overflow_x": null,
            "grid_auto_flow": null,
            "grid_area": null,
            "grid_template_columns": null,
            "flex": null,
            "_model_name": "LayoutModel",
            "justify_items": null,
            "grid_row": null,
            "max_height": null,
            "align_content": null,
            "visibility": null,
            "align_self": null,
            "height": null,
            "min_height": null,
            "padding": null,
            "grid_auto_rows": null,
            "grid_gap": null,
            "max_width": null,
            "order": null,
            "_view_module_version": "1.2.0",
            "grid_template_areas": null,
            "object_position": null,
            "object_fit": null,
            "grid_auto_columns": null,
            "margin": null,
            "display": null,
            "left": null
          }
        },
        "87ef5bf5fcfd448f95e680df5e071c22": {
          "model_module": "@jupyter-widgets/controls",
          "model_name": "HBoxModel",
          "state": {
            "_view_name": "HBoxView",
            "_dom_classes": [],
            "_model_name": "HBoxModel",
            "_view_module": "@jupyter-widgets/controls",
            "_model_module_version": "1.5.0",
            "_view_count": null,
            "_view_module_version": "1.5.0",
            "box_style": "",
            "layout": "IPY_MODEL_cb5d810ecbd54c3f833311e0a06ffeb7",
            "_model_module": "@jupyter-widgets/controls",
            "children": [
              "IPY_MODEL_81592b4c2ddd4c3b9fa55a63b0c36d28",
              "IPY_MODEL_21459b5100914b05ac3a4e066cc02755"
            ]
          }
        },
        "cb5d810ecbd54c3f833311e0a06ffeb7": {
          "model_module": "@jupyter-widgets/base",
          "model_name": "LayoutModel",
          "state": {
            "_view_name": "LayoutView",
            "grid_template_rows": null,
            "right": null,
            "justify_content": null,
            "_view_module": "@jupyter-widgets/base",
            "overflow": null,
            "_model_module_version": "1.2.0",
            "_view_count": null,
            "flex_flow": null,
            "width": null,
            "min_width": null,
            "border": null,
            "align_items": null,
            "bottom": null,
            "_model_module": "@jupyter-widgets/base",
            "top": null,
            "grid_column": null,
            "overflow_y": null,
            "overflow_x": null,
            "grid_auto_flow": null,
            "grid_area": null,
            "grid_template_columns": null,
            "flex": null,
            "_model_name": "LayoutModel",
            "justify_items": null,
            "grid_row": null,
            "max_height": null,
            "align_content": null,
            "visibility": null,
            "align_self": null,
            "height": null,
            "min_height": null,
            "padding": null,
            "grid_auto_rows": null,
            "grid_gap": null,
            "max_width": null,
            "order": null,
            "_view_module_version": "1.2.0",
            "grid_template_areas": null,
            "object_position": null,
            "object_fit": null,
            "grid_auto_columns": null,
            "margin": null,
            "display": null,
            "left": null
          }
        },
        "81592b4c2ddd4c3b9fa55a63b0c36d28": {
          "model_module": "@jupyter-widgets/controls",
          "model_name": "FloatProgressModel",
          "state": {
            "_view_name": "ProgressView",
            "style": "IPY_MODEL_f3d67052d487401e9866af7f6d5ce77b",
            "_dom_classes": [],
            "description": "Batches: 100%",
            "_model_name": "FloatProgressModel",
            "bar_style": "success",
            "max": 319,
            "_view_module": "@jupyter-widgets/controls",
            "_model_module_version": "1.5.0",
            "value": 319,
            "_view_count": null,
            "_view_module_version": "1.5.0",
            "orientation": "horizontal",
            "min": 0,
            "description_tooltip": null,
            "_model_module": "@jupyter-widgets/controls",
            "layout": "IPY_MODEL_938ffad75b6e4267839591d3eb850336"
          }
        },
        "21459b5100914b05ac3a4e066cc02755": {
          "model_module": "@jupyter-widgets/controls",
          "model_name": "HTMLModel",
          "state": {
            "_view_name": "HTMLView",
            "style": "IPY_MODEL_9171ef8ce7554a369d6fb690a559a010",
            "_dom_classes": [],
            "description": "",
            "_model_name": "HTMLModel",
            "placeholder": "​",
            "_view_module": "@jupyter-widgets/controls",
            "_model_module_version": "1.5.0",
            "value": " 319/319 [01:13&lt;00:00,  4.33it/s]",
            "_view_count": null,
            "_view_module_version": "1.5.0",
            "description_tooltip": null,
            "_model_module": "@jupyter-widgets/controls",
            "layout": "IPY_MODEL_1d7c229af76744639c4b13a7e6f48387"
          }
        },
        "f3d67052d487401e9866af7f6d5ce77b": {
          "model_module": "@jupyter-widgets/controls",
          "model_name": "ProgressStyleModel",
          "state": {
            "_view_name": "StyleView",
            "_model_name": "ProgressStyleModel",
            "description_width": "initial",
            "_view_module": "@jupyter-widgets/base",
            "_model_module_version": "1.5.0",
            "_view_count": null,
            "_view_module_version": "1.2.0",
            "bar_color": null,
            "_model_module": "@jupyter-widgets/controls"
          }
        },
        "938ffad75b6e4267839591d3eb850336": {
          "model_module": "@jupyter-widgets/base",
          "model_name": "LayoutModel",
          "state": {
            "_view_name": "LayoutView",
            "grid_template_rows": null,
            "right": null,
            "justify_content": null,
            "_view_module": "@jupyter-widgets/base",
            "overflow": null,
            "_model_module_version": "1.2.0",
            "_view_count": null,
            "flex_flow": null,
            "width": null,
            "min_width": null,
            "border": null,
            "align_items": null,
            "bottom": null,
            "_model_module": "@jupyter-widgets/base",
            "top": null,
            "grid_column": null,
            "overflow_y": null,
            "overflow_x": null,
            "grid_auto_flow": null,
            "grid_area": null,
            "grid_template_columns": null,
            "flex": null,
            "_model_name": "LayoutModel",
            "justify_items": null,
            "grid_row": null,
            "max_height": null,
            "align_content": null,
            "visibility": null,
            "align_self": null,
            "height": null,
            "min_height": null,
            "padding": null,
            "grid_auto_rows": null,
            "grid_gap": null,
            "max_width": null,
            "order": null,
            "_view_module_version": "1.2.0",
            "grid_template_areas": null,
            "object_position": null,
            "object_fit": null,
            "grid_auto_columns": null,
            "margin": null,
            "display": null,
            "left": null
          }
        },
        "9171ef8ce7554a369d6fb690a559a010": {
          "model_module": "@jupyter-widgets/controls",
          "model_name": "DescriptionStyleModel",
          "state": {
            "_view_name": "StyleView",
            "_model_name": "DescriptionStyleModel",
            "description_width": "",
            "_view_module": "@jupyter-widgets/base",
            "_model_module_version": "1.5.0",
            "_view_count": null,
            "_view_module_version": "1.2.0",
            "_model_module": "@jupyter-widgets/controls"
          }
        },
        "1d7c229af76744639c4b13a7e6f48387": {
          "model_module": "@jupyter-widgets/base",
          "model_name": "LayoutModel",
          "state": {
            "_view_name": "LayoutView",
            "grid_template_rows": null,
            "right": null,
            "justify_content": null,
            "_view_module": "@jupyter-widgets/base",
            "overflow": null,
            "_model_module_version": "1.2.0",
            "_view_count": null,
            "flex_flow": null,
            "width": null,
            "min_width": null,
            "border": null,
            "align_items": null,
            "bottom": null,
            "_model_module": "@jupyter-widgets/base",
            "top": null,
            "grid_column": null,
            "overflow_y": null,
            "overflow_x": null,
            "grid_auto_flow": null,
            "grid_area": null,
            "grid_template_columns": null,
            "flex": null,
            "_model_name": "LayoutModel",
            "justify_items": null,
            "grid_row": null,
            "max_height": null,
            "align_content": null,
            "visibility": null,
            "align_self": null,
            "height": null,
            "min_height": null,
            "padding": null,
            "grid_auto_rows": null,
            "grid_gap": null,
            "max_width": null,
            "order": null,
            "_view_module_version": "1.2.0",
            "grid_template_areas": null,
            "object_position": null,
            "object_fit": null,
            "grid_auto_columns": null,
            "margin": null,
            "display": null,
            "left": null
          }
        },
        "8ae6d426dc9442308c9e0a146a089fd1": {
          "model_module": "@jupyter-widgets/controls",
          "model_name": "HBoxModel",
          "state": {
            "_view_name": "HBoxView",
            "_dom_classes": [],
            "_model_name": "HBoxModel",
            "_view_module": "@jupyter-widgets/controls",
            "_model_module_version": "1.5.0",
            "_view_count": null,
            "_view_module_version": "1.5.0",
            "box_style": "",
            "layout": "IPY_MODEL_3483e8c64e1846609a2054127224bae9",
            "_model_module": "@jupyter-widgets/controls",
            "children": [
              "IPY_MODEL_f075b0e1bd304f4382949ac0f2fbad1f",
              "IPY_MODEL_f955fe769973473688cc6442df71fa95"
            ]
          }
        },
        "3483e8c64e1846609a2054127224bae9": {
          "model_module": "@jupyter-widgets/base",
          "model_name": "LayoutModel",
          "state": {
            "_view_name": "LayoutView",
            "grid_template_rows": null,
            "right": null,
            "justify_content": null,
            "_view_module": "@jupyter-widgets/base",
            "overflow": null,
            "_model_module_version": "1.2.0",
            "_view_count": null,
            "flex_flow": null,
            "width": null,
            "min_width": null,
            "border": null,
            "align_items": null,
            "bottom": null,
            "_model_module": "@jupyter-widgets/base",
            "top": null,
            "grid_column": null,
            "overflow_y": null,
            "overflow_x": null,
            "grid_auto_flow": null,
            "grid_area": null,
            "grid_template_columns": null,
            "flex": null,
            "_model_name": "LayoutModel",
            "justify_items": null,
            "grid_row": null,
            "max_height": null,
            "align_content": null,
            "visibility": null,
            "align_self": null,
            "height": null,
            "min_height": null,
            "padding": null,
            "grid_auto_rows": null,
            "grid_gap": null,
            "max_width": null,
            "order": null,
            "_view_module_version": "1.2.0",
            "grid_template_areas": null,
            "object_position": null,
            "object_fit": null,
            "grid_auto_columns": null,
            "margin": null,
            "display": null,
            "left": null
          }
        },
        "f075b0e1bd304f4382949ac0f2fbad1f": {
          "model_module": "@jupyter-widgets/controls",
          "model_name": "FloatProgressModel",
          "state": {
            "_view_name": "ProgressView",
            "style": "IPY_MODEL_82aa711f2b834c58a87934901a40dd32",
            "_dom_classes": [],
            "description": "Batches: 100%",
            "_model_name": "FloatProgressModel",
            "bar_style": "success",
            "max": 319,
            "_view_module": "@jupyter-widgets/controls",
            "_model_module_version": "1.5.0",
            "value": 319,
            "_view_count": null,
            "_view_module_version": "1.5.0",
            "orientation": "horizontal",
            "min": 0,
            "description_tooltip": null,
            "_model_module": "@jupyter-widgets/controls",
            "layout": "IPY_MODEL_0a76aae095b7444596c9d0d805b652da"
          }
        },
        "f955fe769973473688cc6442df71fa95": {
          "model_module": "@jupyter-widgets/controls",
          "model_name": "HTMLModel",
          "state": {
            "_view_name": "HTMLView",
            "style": "IPY_MODEL_8192cac51b42486a88af0077f7564d97",
            "_dom_classes": [],
            "description": "",
            "_model_name": "HTMLModel",
            "placeholder": "​",
            "_view_module": "@jupyter-widgets/controls",
            "_model_module_version": "1.5.0",
            "value": " 319/319 [02:34&lt;00:00,  2.06it/s]",
            "_view_count": null,
            "_view_module_version": "1.5.0",
            "description_tooltip": null,
            "_model_module": "@jupyter-widgets/controls",
            "layout": "IPY_MODEL_9c95ef17cbf541aeb6f185344c7f9d55"
          }
        },
        "82aa711f2b834c58a87934901a40dd32": {
          "model_module": "@jupyter-widgets/controls",
          "model_name": "ProgressStyleModel",
          "state": {
            "_view_name": "StyleView",
            "_model_name": "ProgressStyleModel",
            "description_width": "initial",
            "_view_module": "@jupyter-widgets/base",
            "_model_module_version": "1.5.0",
            "_view_count": null,
            "_view_module_version": "1.2.0",
            "bar_color": null,
            "_model_module": "@jupyter-widgets/controls"
          }
        },
        "0a76aae095b7444596c9d0d805b652da": {
          "model_module": "@jupyter-widgets/base",
          "model_name": "LayoutModel",
          "state": {
            "_view_name": "LayoutView",
            "grid_template_rows": null,
            "right": null,
            "justify_content": null,
            "_view_module": "@jupyter-widgets/base",
            "overflow": null,
            "_model_module_version": "1.2.0",
            "_view_count": null,
            "flex_flow": null,
            "width": null,
            "min_width": null,
            "border": null,
            "align_items": null,
            "bottom": null,
            "_model_module": "@jupyter-widgets/base",
            "top": null,
            "grid_column": null,
            "overflow_y": null,
            "overflow_x": null,
            "grid_auto_flow": null,
            "grid_area": null,
            "grid_template_columns": null,
            "flex": null,
            "_model_name": "LayoutModel",
            "justify_items": null,
            "grid_row": null,
            "max_height": null,
            "align_content": null,
            "visibility": null,
            "align_self": null,
            "height": null,
            "min_height": null,
            "padding": null,
            "grid_auto_rows": null,
            "grid_gap": null,
            "max_width": null,
            "order": null,
            "_view_module_version": "1.2.0",
            "grid_template_areas": null,
            "object_position": null,
            "object_fit": null,
            "grid_auto_columns": null,
            "margin": null,
            "display": null,
            "left": null
          }
        },
        "8192cac51b42486a88af0077f7564d97": {
          "model_module": "@jupyter-widgets/controls",
          "model_name": "DescriptionStyleModel",
          "state": {
            "_view_name": "StyleView",
            "_model_name": "DescriptionStyleModel",
            "description_width": "",
            "_view_module": "@jupyter-widgets/base",
            "_model_module_version": "1.5.0",
            "_view_count": null,
            "_view_module_version": "1.2.0",
            "_model_module": "@jupyter-widgets/controls"
          }
        },
        "9c95ef17cbf541aeb6f185344c7f9d55": {
          "model_module": "@jupyter-widgets/base",
          "model_name": "LayoutModel",
          "state": {
            "_view_name": "LayoutView",
            "grid_template_rows": null,
            "right": null,
            "justify_content": null,
            "_view_module": "@jupyter-widgets/base",
            "overflow": null,
            "_model_module_version": "1.2.0",
            "_view_count": null,
            "flex_flow": null,
            "width": null,
            "min_width": null,
            "border": null,
            "align_items": null,
            "bottom": null,
            "_model_module": "@jupyter-widgets/base",
            "top": null,
            "grid_column": null,
            "overflow_y": null,
            "overflow_x": null,
            "grid_auto_flow": null,
            "grid_area": null,
            "grid_template_columns": null,
            "flex": null,
            "_model_name": "LayoutModel",
            "justify_items": null,
            "grid_row": null,
            "max_height": null,
            "align_content": null,
            "visibility": null,
            "align_self": null,
            "height": null,
            "min_height": null,
            "padding": null,
            "grid_auto_rows": null,
            "grid_gap": null,
            "max_width": null,
            "order": null,
            "_view_module_version": "1.2.0",
            "grid_template_areas": null,
            "object_position": null,
            "object_fit": null,
            "grid_auto_columns": null,
            "margin": null,
            "display": null,
            "left": null
          }
        },
        "75125e66c23a4431b05fff61c4dc5298": {
          "model_module": "@jupyter-widgets/controls",
          "model_name": "HBoxModel",
          "state": {
            "_view_name": "HBoxView",
            "_dom_classes": [],
            "_model_name": "HBoxModel",
            "_view_module": "@jupyter-widgets/controls",
            "_model_module_version": "1.5.0",
            "_view_count": null,
            "_view_module_version": "1.5.0",
            "box_style": "",
            "layout": "IPY_MODEL_43ce7504a0284849b1ea6d2cd6276776",
            "_model_module": "@jupyter-widgets/controls",
            "children": [
              "IPY_MODEL_0645a9bfe1404ba9a9e6a675a6d089e3",
              "IPY_MODEL_8224600a093343bb9fbd6e31823d5076"
            ]
          }
        },
        "43ce7504a0284849b1ea6d2cd6276776": {
          "model_module": "@jupyter-widgets/base",
          "model_name": "LayoutModel",
          "state": {
            "_view_name": "LayoutView",
            "grid_template_rows": null,
            "right": null,
            "justify_content": null,
            "_view_module": "@jupyter-widgets/base",
            "overflow": null,
            "_model_module_version": "1.2.0",
            "_view_count": null,
            "flex_flow": null,
            "width": null,
            "min_width": null,
            "border": null,
            "align_items": null,
            "bottom": null,
            "_model_module": "@jupyter-widgets/base",
            "top": null,
            "grid_column": null,
            "overflow_y": null,
            "overflow_x": null,
            "grid_auto_flow": null,
            "grid_area": null,
            "grid_template_columns": null,
            "flex": null,
            "_model_name": "LayoutModel",
            "justify_items": null,
            "grid_row": null,
            "max_height": null,
            "align_content": null,
            "visibility": null,
            "align_self": null,
            "height": null,
            "min_height": null,
            "padding": null,
            "grid_auto_rows": null,
            "grid_gap": null,
            "max_width": null,
            "order": null,
            "_view_module_version": "1.2.0",
            "grid_template_areas": null,
            "object_position": null,
            "object_fit": null,
            "grid_auto_columns": null,
            "margin": null,
            "display": null,
            "left": null
          }
        },
        "0645a9bfe1404ba9a9e6a675a6d089e3": {
          "model_module": "@jupyter-widgets/controls",
          "model_name": "FloatProgressModel",
          "state": {
            "_view_name": "ProgressView",
            "style": "IPY_MODEL_9ee793aafe134b25a226fda31b06d531",
            "_dom_classes": [],
            "description": "Batches: 100%",
            "_model_name": "FloatProgressModel",
            "bar_style": "success",
            "max": 319,
            "_view_module": "@jupyter-widgets/controls",
            "_model_module_version": "1.5.0",
            "value": 319,
            "_view_count": null,
            "_view_module_version": "1.5.0",
            "orientation": "horizontal",
            "min": 0,
            "description_tooltip": null,
            "_model_module": "@jupyter-widgets/controls",
            "layout": "IPY_MODEL_f850f77f3d3b42218e9a0970a7ed809c"
          }
        },
        "8224600a093343bb9fbd6e31823d5076": {
          "model_module": "@jupyter-widgets/controls",
          "model_name": "HTMLModel",
          "state": {
            "_view_name": "HTMLView",
            "style": "IPY_MODEL_323a83b52414489eb7d4f8be7af4a117",
            "_dom_classes": [],
            "description": "",
            "_model_name": "HTMLModel",
            "placeholder": "​",
            "_view_module": "@jupyter-widgets/controls",
            "_model_module_version": "1.5.0",
            "value": " 319/319 [01:16&lt;00:00,  4.19it/s]",
            "_view_count": null,
            "_view_module_version": "1.5.0",
            "description_tooltip": null,
            "_model_module": "@jupyter-widgets/controls",
            "layout": "IPY_MODEL_37f3cec0adbe4bc9939f04849cd2e6c2"
          }
        },
        "9ee793aafe134b25a226fda31b06d531": {
          "model_module": "@jupyter-widgets/controls",
          "model_name": "ProgressStyleModel",
          "state": {
            "_view_name": "StyleView",
            "_model_name": "ProgressStyleModel",
            "description_width": "initial",
            "_view_module": "@jupyter-widgets/base",
            "_model_module_version": "1.5.0",
            "_view_count": null,
            "_view_module_version": "1.2.0",
            "bar_color": null,
            "_model_module": "@jupyter-widgets/controls"
          }
        },
        "f850f77f3d3b42218e9a0970a7ed809c": {
          "model_module": "@jupyter-widgets/base",
          "model_name": "LayoutModel",
          "state": {
            "_view_name": "LayoutView",
            "grid_template_rows": null,
            "right": null,
            "justify_content": null,
            "_view_module": "@jupyter-widgets/base",
            "overflow": null,
            "_model_module_version": "1.2.0",
            "_view_count": null,
            "flex_flow": null,
            "width": null,
            "min_width": null,
            "border": null,
            "align_items": null,
            "bottom": null,
            "_model_module": "@jupyter-widgets/base",
            "top": null,
            "grid_column": null,
            "overflow_y": null,
            "overflow_x": null,
            "grid_auto_flow": null,
            "grid_area": null,
            "grid_template_columns": null,
            "flex": null,
            "_model_name": "LayoutModel",
            "justify_items": null,
            "grid_row": null,
            "max_height": null,
            "align_content": null,
            "visibility": null,
            "align_self": null,
            "height": null,
            "min_height": null,
            "padding": null,
            "grid_auto_rows": null,
            "grid_gap": null,
            "max_width": null,
            "order": null,
            "_view_module_version": "1.2.0",
            "grid_template_areas": null,
            "object_position": null,
            "object_fit": null,
            "grid_auto_columns": null,
            "margin": null,
            "display": null,
            "left": null
          }
        },
        "323a83b52414489eb7d4f8be7af4a117": {
          "model_module": "@jupyter-widgets/controls",
          "model_name": "DescriptionStyleModel",
          "state": {
            "_view_name": "StyleView",
            "_model_name": "DescriptionStyleModel",
            "description_width": "",
            "_view_module": "@jupyter-widgets/base",
            "_model_module_version": "1.5.0",
            "_view_count": null,
            "_view_module_version": "1.2.0",
            "_model_module": "@jupyter-widgets/controls"
          }
        },
        "37f3cec0adbe4bc9939f04849cd2e6c2": {
          "model_module": "@jupyter-widgets/base",
          "model_name": "LayoutModel",
          "state": {
            "_view_name": "LayoutView",
            "grid_template_rows": null,
            "right": null,
            "justify_content": null,
            "_view_module": "@jupyter-widgets/base",
            "overflow": null,
            "_model_module_version": "1.2.0",
            "_view_count": null,
            "flex_flow": null,
            "width": null,
            "min_width": null,
            "border": null,
            "align_items": null,
            "bottom": null,
            "_model_module": "@jupyter-widgets/base",
            "top": null,
            "grid_column": null,
            "overflow_y": null,
            "overflow_x": null,
            "grid_auto_flow": null,
            "grid_area": null,
            "grid_template_columns": null,
            "flex": null,
            "_model_name": "LayoutModel",
            "justify_items": null,
            "grid_row": null,
            "max_height": null,
            "align_content": null,
            "visibility": null,
            "align_self": null,
            "height": null,
            "min_height": null,
            "padding": null,
            "grid_auto_rows": null,
            "grid_gap": null,
            "max_width": null,
            "order": null,
            "_view_module_version": "1.2.0",
            "grid_template_areas": null,
            "object_position": null,
            "object_fit": null,
            "grid_auto_columns": null,
            "margin": null,
            "display": null,
            "left": null
          }
        },
        "fa084529a27a4795974d4695cd6f7189": {
          "model_module": "@jupyter-widgets/controls",
          "model_name": "HBoxModel",
          "state": {
            "_view_name": "HBoxView",
            "_dom_classes": [],
            "_model_name": "HBoxModel",
            "_view_module": "@jupyter-widgets/controls",
            "_model_module_version": "1.5.0",
            "_view_count": null,
            "_view_module_version": "1.5.0",
            "box_style": "",
            "layout": "IPY_MODEL_35d77bb2cd7d4ff5b9baefcd3d3dcfb5",
            "_model_module": "@jupyter-widgets/controls",
            "children": [
              "IPY_MODEL_75add0bba8f349ebaa357f21ebad5346",
              "IPY_MODEL_97062e2a96874ad080592133f9ebb044"
            ]
          }
        },
        "35d77bb2cd7d4ff5b9baefcd3d3dcfb5": {
          "model_module": "@jupyter-widgets/base",
          "model_name": "LayoutModel",
          "state": {
            "_view_name": "LayoutView",
            "grid_template_rows": null,
            "right": null,
            "justify_content": null,
            "_view_module": "@jupyter-widgets/base",
            "overflow": null,
            "_model_module_version": "1.2.0",
            "_view_count": null,
            "flex_flow": null,
            "width": null,
            "min_width": null,
            "border": null,
            "align_items": null,
            "bottom": null,
            "_model_module": "@jupyter-widgets/base",
            "top": null,
            "grid_column": null,
            "overflow_y": null,
            "overflow_x": null,
            "grid_auto_flow": null,
            "grid_area": null,
            "grid_template_columns": null,
            "flex": null,
            "_model_name": "LayoutModel",
            "justify_items": null,
            "grid_row": null,
            "max_height": null,
            "align_content": null,
            "visibility": null,
            "align_self": null,
            "height": null,
            "min_height": null,
            "padding": null,
            "grid_auto_rows": null,
            "grid_gap": null,
            "max_width": null,
            "order": null,
            "_view_module_version": "1.2.0",
            "grid_template_areas": null,
            "object_position": null,
            "object_fit": null,
            "grid_auto_columns": null,
            "margin": null,
            "display": null,
            "left": null
          }
        },
        "75add0bba8f349ebaa357f21ebad5346": {
          "model_module": "@jupyter-widgets/controls",
          "model_name": "FloatProgressModel",
          "state": {
            "_view_name": "ProgressView",
            "style": "IPY_MODEL_044e662fd90748df8e4f6191cc7163cb",
            "_dom_classes": [],
            "description": "Batches: 100%",
            "_model_name": "FloatProgressModel",
            "bar_style": "success",
            "max": 319,
            "_view_module": "@jupyter-widgets/controls",
            "_model_module_version": "1.5.0",
            "value": 319,
            "_view_count": null,
            "_view_module_version": "1.5.0",
            "orientation": "horizontal",
            "min": 0,
            "description_tooltip": null,
            "_model_module": "@jupyter-widgets/controls",
            "layout": "IPY_MODEL_a8254c37b5944110921bc3cee5ca922a"
          }
        },
        "97062e2a96874ad080592133f9ebb044": {
          "model_module": "@jupyter-widgets/controls",
          "model_name": "HTMLModel",
          "state": {
            "_view_name": "HTMLView",
            "style": "IPY_MODEL_4000e56a4ef44c2daa190514e969fe4f",
            "_dom_classes": [],
            "description": "",
            "_model_name": "HTMLModel",
            "placeholder": "​",
            "_view_module": "@jupyter-widgets/controls",
            "_model_module_version": "1.5.0",
            "value": " 319/319 [02:10&lt;00:00,  2.45it/s]",
            "_view_count": null,
            "_view_module_version": "1.5.0",
            "description_tooltip": null,
            "_model_module": "@jupyter-widgets/controls",
            "layout": "IPY_MODEL_7d8216fab6274f208daa9583041dcf25"
          }
        },
        "044e662fd90748df8e4f6191cc7163cb": {
          "model_module": "@jupyter-widgets/controls",
          "model_name": "ProgressStyleModel",
          "state": {
            "_view_name": "StyleView",
            "_model_name": "ProgressStyleModel",
            "description_width": "initial",
            "_view_module": "@jupyter-widgets/base",
            "_model_module_version": "1.5.0",
            "_view_count": null,
            "_view_module_version": "1.2.0",
            "bar_color": null,
            "_model_module": "@jupyter-widgets/controls"
          }
        },
        "a8254c37b5944110921bc3cee5ca922a": {
          "model_module": "@jupyter-widgets/base",
          "model_name": "LayoutModel",
          "state": {
            "_view_name": "LayoutView",
            "grid_template_rows": null,
            "right": null,
            "justify_content": null,
            "_view_module": "@jupyter-widgets/base",
            "overflow": null,
            "_model_module_version": "1.2.0",
            "_view_count": null,
            "flex_flow": null,
            "width": null,
            "min_width": null,
            "border": null,
            "align_items": null,
            "bottom": null,
            "_model_module": "@jupyter-widgets/base",
            "top": null,
            "grid_column": null,
            "overflow_y": null,
            "overflow_x": null,
            "grid_auto_flow": null,
            "grid_area": null,
            "grid_template_columns": null,
            "flex": null,
            "_model_name": "LayoutModel",
            "justify_items": null,
            "grid_row": null,
            "max_height": null,
            "align_content": null,
            "visibility": null,
            "align_self": null,
            "height": null,
            "min_height": null,
            "padding": null,
            "grid_auto_rows": null,
            "grid_gap": null,
            "max_width": null,
            "order": null,
            "_view_module_version": "1.2.0",
            "grid_template_areas": null,
            "object_position": null,
            "object_fit": null,
            "grid_auto_columns": null,
            "margin": null,
            "display": null,
            "left": null
          }
        },
        "4000e56a4ef44c2daa190514e969fe4f": {
          "model_module": "@jupyter-widgets/controls",
          "model_name": "DescriptionStyleModel",
          "state": {
            "_view_name": "StyleView",
            "_model_name": "DescriptionStyleModel",
            "description_width": "",
            "_view_module": "@jupyter-widgets/base",
            "_model_module_version": "1.5.0",
            "_view_count": null,
            "_view_module_version": "1.2.0",
            "_model_module": "@jupyter-widgets/controls"
          }
        },
        "7d8216fab6274f208daa9583041dcf25": {
          "model_module": "@jupyter-widgets/base",
          "model_name": "LayoutModel",
          "state": {
            "_view_name": "LayoutView",
            "grid_template_rows": null,
            "right": null,
            "justify_content": null,
            "_view_module": "@jupyter-widgets/base",
            "overflow": null,
            "_model_module_version": "1.2.0",
            "_view_count": null,
            "flex_flow": null,
            "width": null,
            "min_width": null,
            "border": null,
            "align_items": null,
            "bottom": null,
            "_model_module": "@jupyter-widgets/base",
            "top": null,
            "grid_column": null,
            "overflow_y": null,
            "overflow_x": null,
            "grid_auto_flow": null,
            "grid_area": null,
            "grid_template_columns": null,
            "flex": null,
            "_model_name": "LayoutModel",
            "justify_items": null,
            "grid_row": null,
            "max_height": null,
            "align_content": null,
            "visibility": null,
            "align_self": null,
            "height": null,
            "min_height": null,
            "padding": null,
            "grid_auto_rows": null,
            "grid_gap": null,
            "max_width": null,
            "order": null,
            "_view_module_version": "1.2.0",
            "grid_template_areas": null,
            "object_position": null,
            "object_fit": null,
            "grid_auto_columns": null,
            "margin": null,
            "display": null,
            "left": null
          }
        },
        "1af7fa7c674f4ec48e5b85286aa6e30f": {
          "model_module": "@jupyter-widgets/controls",
          "model_name": "HBoxModel",
          "state": {
            "_view_name": "HBoxView",
            "_dom_classes": [],
            "_model_name": "HBoxModel",
            "_view_module": "@jupyter-widgets/controls",
            "_model_module_version": "1.5.0",
            "_view_count": null,
            "_view_module_version": "1.5.0",
            "box_style": "",
            "layout": "IPY_MODEL_51bcdc9a9448421cb06e79a30ec97722",
            "_model_module": "@jupyter-widgets/controls",
            "children": [
              "IPY_MODEL_106ef159caa244879e3287222429a7ea",
              "IPY_MODEL_bd3a61d593f748d7802c522053010db4"
            ]
          }
        },
        "51bcdc9a9448421cb06e79a30ec97722": {
          "model_module": "@jupyter-widgets/base",
          "model_name": "LayoutModel",
          "state": {
            "_view_name": "LayoutView",
            "grid_template_rows": null,
            "right": null,
            "justify_content": null,
            "_view_module": "@jupyter-widgets/base",
            "overflow": null,
            "_model_module_version": "1.2.0",
            "_view_count": null,
            "flex_flow": null,
            "width": null,
            "min_width": null,
            "border": null,
            "align_items": null,
            "bottom": null,
            "_model_module": "@jupyter-widgets/base",
            "top": null,
            "grid_column": null,
            "overflow_y": null,
            "overflow_x": null,
            "grid_auto_flow": null,
            "grid_area": null,
            "grid_template_columns": null,
            "flex": null,
            "_model_name": "LayoutModel",
            "justify_items": null,
            "grid_row": null,
            "max_height": null,
            "align_content": null,
            "visibility": null,
            "align_self": null,
            "height": null,
            "min_height": null,
            "padding": null,
            "grid_auto_rows": null,
            "grid_gap": null,
            "max_width": null,
            "order": null,
            "_view_module_version": "1.2.0",
            "grid_template_areas": null,
            "object_position": null,
            "object_fit": null,
            "grid_auto_columns": null,
            "margin": null,
            "display": null,
            "left": null
          }
        },
        "106ef159caa244879e3287222429a7ea": {
          "model_module": "@jupyter-widgets/controls",
          "model_name": "FloatProgressModel",
          "state": {
            "_view_name": "ProgressView",
            "style": "IPY_MODEL_d5d666ae9234421f90469a0d94dc79b1",
            "_dom_classes": [],
            "description": "Batches: 100%",
            "_model_name": "FloatProgressModel",
            "bar_style": "success",
            "max": 319,
            "_view_module": "@jupyter-widgets/controls",
            "_model_module_version": "1.5.0",
            "value": 319,
            "_view_count": null,
            "_view_module_version": "1.5.0",
            "orientation": "horizontal",
            "min": 0,
            "description_tooltip": null,
            "_model_module": "@jupyter-widgets/controls",
            "layout": "IPY_MODEL_fd46f741c76f477eaf0012f622961732"
          }
        },
        "bd3a61d593f748d7802c522053010db4": {
          "model_module": "@jupyter-widgets/controls",
          "model_name": "HTMLModel",
          "state": {
            "_view_name": "HTMLView",
            "style": "IPY_MODEL_70250e41b1c340fd81f98a8a1ae31d13",
            "_dom_classes": [],
            "description": "",
            "_model_name": "HTMLModel",
            "placeholder": "​",
            "_view_module": "@jupyter-widgets/controls",
            "_model_module_version": "1.5.0",
            "value": " 319/319 [00:49&lt;00:00,  6.47it/s]",
            "_view_count": null,
            "_view_module_version": "1.5.0",
            "description_tooltip": null,
            "_model_module": "@jupyter-widgets/controls",
            "layout": "IPY_MODEL_24935da6a49c4edd915d8ccac7cfb654"
          }
        },
        "d5d666ae9234421f90469a0d94dc79b1": {
          "model_module": "@jupyter-widgets/controls",
          "model_name": "ProgressStyleModel",
          "state": {
            "_view_name": "StyleView",
            "_model_name": "ProgressStyleModel",
            "description_width": "initial",
            "_view_module": "@jupyter-widgets/base",
            "_model_module_version": "1.5.0",
            "_view_count": null,
            "_view_module_version": "1.2.0",
            "bar_color": null,
            "_model_module": "@jupyter-widgets/controls"
          }
        },
        "fd46f741c76f477eaf0012f622961732": {
          "model_module": "@jupyter-widgets/base",
          "model_name": "LayoutModel",
          "state": {
            "_view_name": "LayoutView",
            "grid_template_rows": null,
            "right": null,
            "justify_content": null,
            "_view_module": "@jupyter-widgets/base",
            "overflow": null,
            "_model_module_version": "1.2.0",
            "_view_count": null,
            "flex_flow": null,
            "width": null,
            "min_width": null,
            "border": null,
            "align_items": null,
            "bottom": null,
            "_model_module": "@jupyter-widgets/base",
            "top": null,
            "grid_column": null,
            "overflow_y": null,
            "overflow_x": null,
            "grid_auto_flow": null,
            "grid_area": null,
            "grid_template_columns": null,
            "flex": null,
            "_model_name": "LayoutModel",
            "justify_items": null,
            "grid_row": null,
            "max_height": null,
            "align_content": null,
            "visibility": null,
            "align_self": null,
            "height": null,
            "min_height": null,
            "padding": null,
            "grid_auto_rows": null,
            "grid_gap": null,
            "max_width": null,
            "order": null,
            "_view_module_version": "1.2.0",
            "grid_template_areas": null,
            "object_position": null,
            "object_fit": null,
            "grid_auto_columns": null,
            "margin": null,
            "display": null,
            "left": null
          }
        },
        "70250e41b1c340fd81f98a8a1ae31d13": {
          "model_module": "@jupyter-widgets/controls",
          "model_name": "DescriptionStyleModel",
          "state": {
            "_view_name": "StyleView",
            "_model_name": "DescriptionStyleModel",
            "description_width": "",
            "_view_module": "@jupyter-widgets/base",
            "_model_module_version": "1.5.0",
            "_view_count": null,
            "_view_module_version": "1.2.0",
            "_model_module": "@jupyter-widgets/controls"
          }
        },
        "24935da6a49c4edd915d8ccac7cfb654": {
          "model_module": "@jupyter-widgets/base",
          "model_name": "LayoutModel",
          "state": {
            "_view_name": "LayoutView",
            "grid_template_rows": null,
            "right": null,
            "justify_content": null,
            "_view_module": "@jupyter-widgets/base",
            "overflow": null,
            "_model_module_version": "1.2.0",
            "_view_count": null,
            "flex_flow": null,
            "width": null,
            "min_width": null,
            "border": null,
            "align_items": null,
            "bottom": null,
            "_model_module": "@jupyter-widgets/base",
            "top": null,
            "grid_column": null,
            "overflow_y": null,
            "overflow_x": null,
            "grid_auto_flow": null,
            "grid_area": null,
            "grid_template_columns": null,
            "flex": null,
            "_model_name": "LayoutModel",
            "justify_items": null,
            "grid_row": null,
            "max_height": null,
            "align_content": null,
            "visibility": null,
            "align_self": null,
            "height": null,
            "min_height": null,
            "padding": null,
            "grid_auto_rows": null,
            "grid_gap": null,
            "max_width": null,
            "order": null,
            "_view_module_version": "1.2.0",
            "grid_template_areas": null,
            "object_position": null,
            "object_fit": null,
            "grid_auto_columns": null,
            "margin": null,
            "display": null,
            "left": null
          }
        },
        "efbe3a732721423cb670b3a96bfff9d5": {
          "model_module": "@jupyter-widgets/controls",
          "model_name": "HBoxModel",
          "state": {
            "_view_name": "HBoxView",
            "_dom_classes": [],
            "_model_name": "HBoxModel",
            "_view_module": "@jupyter-widgets/controls",
            "_model_module_version": "1.5.0",
            "_view_count": null,
            "_view_module_version": "1.5.0",
            "box_style": "",
            "layout": "IPY_MODEL_07ccd362705e4e3fb4ca0939f2491f91",
            "_model_module": "@jupyter-widgets/controls",
            "children": [
              "IPY_MODEL_ed77e8ccad5047478dc5efa5f813628c",
              "IPY_MODEL_3af11c1a635f429ab244d26d6669e696"
            ]
          }
        },
        "07ccd362705e4e3fb4ca0939f2491f91": {
          "model_module": "@jupyter-widgets/base",
          "model_name": "LayoutModel",
          "state": {
            "_view_name": "LayoutView",
            "grid_template_rows": null,
            "right": null,
            "justify_content": null,
            "_view_module": "@jupyter-widgets/base",
            "overflow": null,
            "_model_module_version": "1.2.0",
            "_view_count": null,
            "flex_flow": null,
            "width": null,
            "min_width": null,
            "border": null,
            "align_items": null,
            "bottom": null,
            "_model_module": "@jupyter-widgets/base",
            "top": null,
            "grid_column": null,
            "overflow_y": null,
            "overflow_x": null,
            "grid_auto_flow": null,
            "grid_area": null,
            "grid_template_columns": null,
            "flex": null,
            "_model_name": "LayoutModel",
            "justify_items": null,
            "grid_row": null,
            "max_height": null,
            "align_content": null,
            "visibility": null,
            "align_self": null,
            "height": null,
            "min_height": null,
            "padding": null,
            "grid_auto_rows": null,
            "grid_gap": null,
            "max_width": null,
            "order": null,
            "_view_module_version": "1.2.0",
            "grid_template_areas": null,
            "object_position": null,
            "object_fit": null,
            "grid_auto_columns": null,
            "margin": null,
            "display": null,
            "left": null
          }
        },
        "ed77e8ccad5047478dc5efa5f813628c": {
          "model_module": "@jupyter-widgets/controls",
          "model_name": "FloatProgressModel",
          "state": {
            "_view_name": "ProgressView",
            "style": "IPY_MODEL_f2ab54bcab5d46a9aebe79a210483c31",
            "_dom_classes": [],
            "description": "Batches: 100%",
            "_model_name": "FloatProgressModel",
            "bar_style": "success",
            "max": 319,
            "_view_module": "@jupyter-widgets/controls",
            "_model_module_version": "1.5.0",
            "value": 319,
            "_view_count": null,
            "_view_module_version": "1.5.0",
            "orientation": "horizontal",
            "min": 0,
            "description_tooltip": null,
            "_model_module": "@jupyter-widgets/controls",
            "layout": "IPY_MODEL_1181e64d833a4d3ea47c18c736ef493b"
          }
        },
        "3af11c1a635f429ab244d26d6669e696": {
          "model_module": "@jupyter-widgets/controls",
          "model_name": "HTMLModel",
          "state": {
            "_view_name": "HTMLView",
            "style": "IPY_MODEL_0130d6295e5f49908634f192a394b75b",
            "_dom_classes": [],
            "description": "",
            "_model_name": "HTMLModel",
            "placeholder": "​",
            "_view_module": "@jupyter-widgets/controls",
            "_model_module_version": "1.5.0",
            "value": " 319/319 [06:07&lt;00:00,  1.15s/it]",
            "_view_count": null,
            "_view_module_version": "1.5.0",
            "description_tooltip": null,
            "_model_module": "@jupyter-widgets/controls",
            "layout": "IPY_MODEL_7299b29a28fb4405a300266e31ce71f7"
          }
        },
        "f2ab54bcab5d46a9aebe79a210483c31": {
          "model_module": "@jupyter-widgets/controls",
          "model_name": "ProgressStyleModel",
          "state": {
            "_view_name": "StyleView",
            "_model_name": "ProgressStyleModel",
            "description_width": "initial",
            "_view_module": "@jupyter-widgets/base",
            "_model_module_version": "1.5.0",
            "_view_count": null,
            "_view_module_version": "1.2.0",
            "bar_color": null,
            "_model_module": "@jupyter-widgets/controls"
          }
        },
        "1181e64d833a4d3ea47c18c736ef493b": {
          "model_module": "@jupyter-widgets/base",
          "model_name": "LayoutModel",
          "state": {
            "_view_name": "LayoutView",
            "grid_template_rows": null,
            "right": null,
            "justify_content": null,
            "_view_module": "@jupyter-widgets/base",
            "overflow": null,
            "_model_module_version": "1.2.0",
            "_view_count": null,
            "flex_flow": null,
            "width": null,
            "min_width": null,
            "border": null,
            "align_items": null,
            "bottom": null,
            "_model_module": "@jupyter-widgets/base",
            "top": null,
            "grid_column": null,
            "overflow_y": null,
            "overflow_x": null,
            "grid_auto_flow": null,
            "grid_area": null,
            "grid_template_columns": null,
            "flex": null,
            "_model_name": "LayoutModel",
            "justify_items": null,
            "grid_row": null,
            "max_height": null,
            "align_content": null,
            "visibility": null,
            "align_self": null,
            "height": null,
            "min_height": null,
            "padding": null,
            "grid_auto_rows": null,
            "grid_gap": null,
            "max_width": null,
            "order": null,
            "_view_module_version": "1.2.0",
            "grid_template_areas": null,
            "object_position": null,
            "object_fit": null,
            "grid_auto_columns": null,
            "margin": null,
            "display": null,
            "left": null
          }
        },
        "0130d6295e5f49908634f192a394b75b": {
          "model_module": "@jupyter-widgets/controls",
          "model_name": "DescriptionStyleModel",
          "state": {
            "_view_name": "StyleView",
            "_model_name": "DescriptionStyleModel",
            "description_width": "",
            "_view_module": "@jupyter-widgets/base",
            "_model_module_version": "1.5.0",
            "_view_count": null,
            "_view_module_version": "1.2.0",
            "_model_module": "@jupyter-widgets/controls"
          }
        },
        "7299b29a28fb4405a300266e31ce71f7": {
          "model_module": "@jupyter-widgets/base",
          "model_name": "LayoutModel",
          "state": {
            "_view_name": "LayoutView",
            "grid_template_rows": null,
            "right": null,
            "justify_content": null,
            "_view_module": "@jupyter-widgets/base",
            "overflow": null,
            "_model_module_version": "1.2.0",
            "_view_count": null,
            "flex_flow": null,
            "width": null,
            "min_width": null,
            "border": null,
            "align_items": null,
            "bottom": null,
            "_model_module": "@jupyter-widgets/base",
            "top": null,
            "grid_column": null,
            "overflow_y": null,
            "overflow_x": null,
            "grid_auto_flow": null,
            "grid_area": null,
            "grid_template_columns": null,
            "flex": null,
            "_model_name": "LayoutModel",
            "justify_items": null,
            "grid_row": null,
            "max_height": null,
            "align_content": null,
            "visibility": null,
            "align_self": null,
            "height": null,
            "min_height": null,
            "padding": null,
            "grid_auto_rows": null,
            "grid_gap": null,
            "max_width": null,
            "order": null,
            "_view_module_version": "1.2.0",
            "grid_template_areas": null,
            "object_position": null,
            "object_fit": null,
            "grid_auto_columns": null,
            "margin": null,
            "display": null,
            "left": null
          }
        },
        "4ab3f96fd82b40ef9c2362fbbfa654ba": {
          "model_module": "@jupyter-widgets/controls",
          "model_name": "HBoxModel",
          "state": {
            "_view_name": "HBoxView",
            "_dom_classes": [],
            "_model_name": "HBoxModel",
            "_view_module": "@jupyter-widgets/controls",
            "_model_module_version": "1.5.0",
            "_view_count": null,
            "_view_module_version": "1.5.0",
            "box_style": "",
            "layout": "IPY_MODEL_8305b49c76424187a4e7765bcb8229e5",
            "_model_module": "@jupyter-widgets/controls",
            "children": [
              "IPY_MODEL_7c712df2202e46b4819a25eeaee7df8b",
              "IPY_MODEL_deb5b6d8ccd14cb9a84104f872117915"
            ]
          }
        },
        "8305b49c76424187a4e7765bcb8229e5": {
          "model_module": "@jupyter-widgets/base",
          "model_name": "LayoutModel",
          "state": {
            "_view_name": "LayoutView",
            "grid_template_rows": null,
            "right": null,
            "justify_content": null,
            "_view_module": "@jupyter-widgets/base",
            "overflow": null,
            "_model_module_version": "1.2.0",
            "_view_count": null,
            "flex_flow": null,
            "width": null,
            "min_width": null,
            "border": null,
            "align_items": null,
            "bottom": null,
            "_model_module": "@jupyter-widgets/base",
            "top": null,
            "grid_column": null,
            "overflow_y": null,
            "overflow_x": null,
            "grid_auto_flow": null,
            "grid_area": null,
            "grid_template_columns": null,
            "flex": null,
            "_model_name": "LayoutModel",
            "justify_items": null,
            "grid_row": null,
            "max_height": null,
            "align_content": null,
            "visibility": null,
            "align_self": null,
            "height": null,
            "min_height": null,
            "padding": null,
            "grid_auto_rows": null,
            "grid_gap": null,
            "max_width": null,
            "order": null,
            "_view_module_version": "1.2.0",
            "grid_template_areas": null,
            "object_position": null,
            "object_fit": null,
            "grid_auto_columns": null,
            "margin": null,
            "display": null,
            "left": null
          }
        },
        "7c712df2202e46b4819a25eeaee7df8b": {
          "model_module": "@jupyter-widgets/controls",
          "model_name": "FloatProgressModel",
          "state": {
            "_view_name": "ProgressView",
            "style": "IPY_MODEL_86b99eac586844308c9eddd01dce0cca",
            "_dom_classes": [],
            "description": "Epoch: 100%",
            "_model_name": "FloatProgressModel",
            "bar_style": "success",
            "max": 2,
            "_view_module": "@jupyter-widgets/controls",
            "_model_module_version": "1.5.0",
            "value": 2,
            "_view_count": null,
            "_view_module_version": "1.5.0",
            "orientation": "horizontal",
            "min": 0,
            "description_tooltip": null,
            "_model_module": "@jupyter-widgets/controls",
            "layout": "IPY_MODEL_fc0baf1941e94ef693f85d234b3d8379"
          }
        },
        "deb5b6d8ccd14cb9a84104f872117915": {
          "model_module": "@jupyter-widgets/controls",
          "model_name": "HTMLModel",
          "state": {
            "_view_name": "HTMLView",
            "style": "IPY_MODEL_2611ae95edcd47efbf40cc86d0bf5cd1",
            "_dom_classes": [],
            "description": "",
            "_model_name": "HTMLModel",
            "placeholder": "​",
            "_view_module": "@jupyter-widgets/controls",
            "_model_module_version": "1.5.0",
            "value": " 2/2 [1:06:00&lt;00:00, 1980.41s/it]",
            "_view_count": null,
            "_view_module_version": "1.5.0",
            "description_tooltip": null,
            "_model_module": "@jupyter-widgets/controls",
            "layout": "IPY_MODEL_d2f93f2618ab499783ee88be86baa50a"
          }
        },
        "86b99eac586844308c9eddd01dce0cca": {
          "model_module": "@jupyter-widgets/controls",
          "model_name": "ProgressStyleModel",
          "state": {
            "_view_name": "StyleView",
            "_model_name": "ProgressStyleModel",
            "description_width": "initial",
            "_view_module": "@jupyter-widgets/base",
            "_model_module_version": "1.5.0",
            "_view_count": null,
            "_view_module_version": "1.2.0",
            "bar_color": null,
            "_model_module": "@jupyter-widgets/controls"
          }
        },
        "fc0baf1941e94ef693f85d234b3d8379": {
          "model_module": "@jupyter-widgets/base",
          "model_name": "LayoutModel",
          "state": {
            "_view_name": "LayoutView",
            "grid_template_rows": null,
            "right": null,
            "justify_content": null,
            "_view_module": "@jupyter-widgets/base",
            "overflow": null,
            "_model_module_version": "1.2.0",
            "_view_count": null,
            "flex_flow": null,
            "width": null,
            "min_width": null,
            "border": null,
            "align_items": null,
            "bottom": null,
            "_model_module": "@jupyter-widgets/base",
            "top": null,
            "grid_column": null,
            "overflow_y": null,
            "overflow_x": null,
            "grid_auto_flow": null,
            "grid_area": null,
            "grid_template_columns": null,
            "flex": null,
            "_model_name": "LayoutModel",
            "justify_items": null,
            "grid_row": null,
            "max_height": null,
            "align_content": null,
            "visibility": null,
            "align_self": null,
            "height": null,
            "min_height": null,
            "padding": null,
            "grid_auto_rows": null,
            "grid_gap": null,
            "max_width": null,
            "order": null,
            "_view_module_version": "1.2.0",
            "grid_template_areas": null,
            "object_position": null,
            "object_fit": null,
            "grid_auto_columns": null,
            "margin": null,
            "display": null,
            "left": null
          }
        },
        "2611ae95edcd47efbf40cc86d0bf5cd1": {
          "model_module": "@jupyter-widgets/controls",
          "model_name": "DescriptionStyleModel",
          "state": {
            "_view_name": "StyleView",
            "_model_name": "DescriptionStyleModel",
            "description_width": "",
            "_view_module": "@jupyter-widgets/base",
            "_model_module_version": "1.5.0",
            "_view_count": null,
            "_view_module_version": "1.2.0",
            "_model_module": "@jupyter-widgets/controls"
          }
        },
        "d2f93f2618ab499783ee88be86baa50a": {
          "model_module": "@jupyter-widgets/base",
          "model_name": "LayoutModel",
          "state": {
            "_view_name": "LayoutView",
            "grid_template_rows": null,
            "right": null,
            "justify_content": null,
            "_view_module": "@jupyter-widgets/base",
            "overflow": null,
            "_model_module_version": "1.2.0",
            "_view_count": null,
            "flex_flow": null,
            "width": null,
            "min_width": null,
            "border": null,
            "align_items": null,
            "bottom": null,
            "_model_module": "@jupyter-widgets/base",
            "top": null,
            "grid_column": null,
            "overflow_y": null,
            "overflow_x": null,
            "grid_auto_flow": null,
            "grid_area": null,
            "grid_template_columns": null,
            "flex": null,
            "_model_name": "LayoutModel",
            "justify_items": null,
            "grid_row": null,
            "max_height": null,
            "align_content": null,
            "visibility": null,
            "align_self": null,
            "height": null,
            "min_height": null,
            "padding": null,
            "grid_auto_rows": null,
            "grid_gap": null,
            "max_width": null,
            "order": null,
            "_view_module_version": "1.2.0",
            "grid_template_areas": null,
            "object_position": null,
            "object_fit": null,
            "grid_auto_columns": null,
            "margin": null,
            "display": null,
            "left": null
          }
        },
        "c5971540e78542798590f1a776cfb8c8": {
          "model_module": "@jupyter-widgets/controls",
          "model_name": "HBoxModel",
          "state": {
            "_view_name": "HBoxView",
            "_dom_classes": [],
            "_model_name": "HBoxModel",
            "_view_module": "@jupyter-widgets/controls",
            "_model_module_version": "1.5.0",
            "_view_count": null,
            "_view_module_version": "1.5.0",
            "box_style": "",
            "layout": "IPY_MODEL_9b4295a6cf194276ae58f05f04da4a90",
            "_model_module": "@jupyter-widgets/controls",
            "children": [
              "IPY_MODEL_c0f495ee22ae49a6a93703cafdbbcab0",
              "IPY_MODEL_f5fe773994024aa69d5847709f2fd019"
            ]
          }
        },
        "9b4295a6cf194276ae58f05f04da4a90": {
          "model_module": "@jupyter-widgets/base",
          "model_name": "LayoutModel",
          "state": {
            "_view_name": "LayoutView",
            "grid_template_rows": null,
            "right": null,
            "justify_content": null,
            "_view_module": "@jupyter-widgets/base",
            "overflow": null,
            "_model_module_version": "1.2.0",
            "_view_count": null,
            "flex_flow": null,
            "width": null,
            "min_width": null,
            "border": null,
            "align_items": null,
            "bottom": null,
            "_model_module": "@jupyter-widgets/base",
            "top": null,
            "grid_column": null,
            "overflow_y": null,
            "overflow_x": null,
            "grid_auto_flow": null,
            "grid_area": null,
            "grid_template_columns": null,
            "flex": null,
            "_model_name": "LayoutModel",
            "justify_items": null,
            "grid_row": null,
            "max_height": null,
            "align_content": null,
            "visibility": null,
            "align_self": null,
            "height": null,
            "min_height": null,
            "padding": null,
            "grid_auto_rows": null,
            "grid_gap": null,
            "max_width": null,
            "order": null,
            "_view_module_version": "1.2.0",
            "grid_template_areas": null,
            "object_position": null,
            "object_fit": null,
            "grid_auto_columns": null,
            "margin": null,
            "display": null,
            "left": null
          }
        },
        "c0f495ee22ae49a6a93703cafdbbcab0": {
          "model_module": "@jupyter-widgets/controls",
          "model_name": "FloatProgressModel",
          "state": {
            "_view_name": "ProgressView",
            "style": "IPY_MODEL_8e1db24b368842469f103acf9c76c7bf",
            "_dom_classes": [],
            "description": "Iteration: 100%",
            "_model_name": "FloatProgressModel",
            "bar_style": "success",
            "max": 2500,
            "_view_module": "@jupyter-widgets/controls",
            "_model_module_version": "1.5.0",
            "value": 2500,
            "_view_count": null,
            "_view_module_version": "1.5.0",
            "orientation": "horizontal",
            "min": 0,
            "description_tooltip": null,
            "_model_module": "@jupyter-widgets/controls",
            "layout": "IPY_MODEL_03855e7255404706917f9c049f6cb878"
          }
        },
        "f5fe773994024aa69d5847709f2fd019": {
          "model_module": "@jupyter-widgets/controls",
          "model_name": "HTMLModel",
          "state": {
            "_view_name": "HTMLView",
            "style": "IPY_MODEL_04f00f3163a04055892324fc589a5e9d",
            "_dom_classes": [],
            "description": "",
            "_model_name": "HTMLModel",
            "placeholder": "​",
            "_view_module": "@jupyter-widgets/controls",
            "_model_module_version": "1.5.0",
            "value": " 2500/2500 [1:06:00&lt;00:00,  1.58s/it]",
            "_view_count": null,
            "_view_module_version": "1.5.0",
            "description_tooltip": null,
            "_model_module": "@jupyter-widgets/controls",
            "layout": "IPY_MODEL_f7b496973a974d98ae5a8f0fcfa29556"
          }
        },
        "8e1db24b368842469f103acf9c76c7bf": {
          "model_module": "@jupyter-widgets/controls",
          "model_name": "ProgressStyleModel",
          "state": {
            "_view_name": "StyleView",
            "_model_name": "ProgressStyleModel",
            "description_width": "initial",
            "_view_module": "@jupyter-widgets/base",
            "_model_module_version": "1.5.0",
            "_view_count": null,
            "_view_module_version": "1.2.0",
            "bar_color": null,
            "_model_module": "@jupyter-widgets/controls"
          }
        },
        "03855e7255404706917f9c049f6cb878": {
          "model_module": "@jupyter-widgets/base",
          "model_name": "LayoutModel",
          "state": {
            "_view_name": "LayoutView",
            "grid_template_rows": null,
            "right": null,
            "justify_content": null,
            "_view_module": "@jupyter-widgets/base",
            "overflow": null,
            "_model_module_version": "1.2.0",
            "_view_count": null,
            "flex_flow": null,
            "width": null,
            "min_width": null,
            "border": null,
            "align_items": null,
            "bottom": null,
            "_model_module": "@jupyter-widgets/base",
            "top": null,
            "grid_column": null,
            "overflow_y": null,
            "overflow_x": null,
            "grid_auto_flow": null,
            "grid_area": null,
            "grid_template_columns": null,
            "flex": null,
            "_model_name": "LayoutModel",
            "justify_items": null,
            "grid_row": null,
            "max_height": null,
            "align_content": null,
            "visibility": null,
            "align_self": null,
            "height": null,
            "min_height": null,
            "padding": null,
            "grid_auto_rows": null,
            "grid_gap": null,
            "max_width": null,
            "order": null,
            "_view_module_version": "1.2.0",
            "grid_template_areas": null,
            "object_position": null,
            "object_fit": null,
            "grid_auto_columns": null,
            "margin": null,
            "display": null,
            "left": null
          }
        },
        "04f00f3163a04055892324fc589a5e9d": {
          "model_module": "@jupyter-widgets/controls",
          "model_name": "DescriptionStyleModel",
          "state": {
            "_view_name": "StyleView",
            "_model_name": "DescriptionStyleModel",
            "description_width": "",
            "_view_module": "@jupyter-widgets/base",
            "_model_module_version": "1.5.0",
            "_view_count": null,
            "_view_module_version": "1.2.0",
            "_model_module": "@jupyter-widgets/controls"
          }
        },
        "f7b496973a974d98ae5a8f0fcfa29556": {
          "model_module": "@jupyter-widgets/base",
          "model_name": "LayoutModel",
          "state": {
            "_view_name": "LayoutView",
            "grid_template_rows": null,
            "right": null,
            "justify_content": null,
            "_view_module": "@jupyter-widgets/base",
            "overflow": null,
            "_model_module_version": "1.2.0",
            "_view_count": null,
            "flex_flow": null,
            "width": null,
            "min_width": null,
            "border": null,
            "align_items": null,
            "bottom": null,
            "_model_module": "@jupyter-widgets/base",
            "top": null,
            "grid_column": null,
            "overflow_y": null,
            "overflow_x": null,
            "grid_auto_flow": null,
            "grid_area": null,
            "grid_template_columns": null,
            "flex": null,
            "_model_name": "LayoutModel",
            "justify_items": null,
            "grid_row": null,
            "max_height": null,
            "align_content": null,
            "visibility": null,
            "align_self": null,
            "height": null,
            "min_height": null,
            "padding": null,
            "grid_auto_rows": null,
            "grid_gap": null,
            "max_width": null,
            "order": null,
            "_view_module_version": "1.2.0",
            "grid_template_areas": null,
            "object_position": null,
            "object_fit": null,
            "grid_auto_columns": null,
            "margin": null,
            "display": null,
            "left": null
          }
        },
        "555215e1b32940d1a19890455a5961ee": {
          "model_module": "@jupyter-widgets/controls",
          "model_name": "HBoxModel",
          "state": {
            "_view_name": "HBoxView",
            "_dom_classes": [],
            "_model_name": "HBoxModel",
            "_view_module": "@jupyter-widgets/controls",
            "_model_module_version": "1.5.0",
            "_view_count": null,
            "_view_module_version": "1.5.0",
            "box_style": "",
            "layout": "IPY_MODEL_9876054fcef24376b46b76b5313ed416",
            "_model_module": "@jupyter-widgets/controls",
            "children": [
              "IPY_MODEL_3e3f528fa49e45b3b4bf6c7fd21bc71a",
              "IPY_MODEL_2d08867706054060a36b8a461a595b46"
            ]
          }
        },
        "9876054fcef24376b46b76b5313ed416": {
          "model_module": "@jupyter-widgets/base",
          "model_name": "LayoutModel",
          "state": {
            "_view_name": "LayoutView",
            "grid_template_rows": null,
            "right": null,
            "justify_content": null,
            "_view_module": "@jupyter-widgets/base",
            "overflow": null,
            "_model_module_version": "1.2.0",
            "_view_count": null,
            "flex_flow": null,
            "width": null,
            "min_width": null,
            "border": null,
            "align_items": null,
            "bottom": null,
            "_model_module": "@jupyter-widgets/base",
            "top": null,
            "grid_column": null,
            "overflow_y": null,
            "overflow_x": null,
            "grid_auto_flow": null,
            "grid_area": null,
            "grid_template_columns": null,
            "flex": null,
            "_model_name": "LayoutModel",
            "justify_items": null,
            "grid_row": null,
            "max_height": null,
            "align_content": null,
            "visibility": null,
            "align_self": null,
            "height": null,
            "min_height": null,
            "padding": null,
            "grid_auto_rows": null,
            "grid_gap": null,
            "max_width": null,
            "order": null,
            "_view_module_version": "1.2.0",
            "grid_template_areas": null,
            "object_position": null,
            "object_fit": null,
            "grid_auto_columns": null,
            "margin": null,
            "display": null,
            "left": null
          }
        },
        "3e3f528fa49e45b3b4bf6c7fd21bc71a": {
          "model_module": "@jupyter-widgets/controls",
          "model_name": "FloatProgressModel",
          "state": {
            "_view_name": "ProgressView",
            "style": "IPY_MODEL_22beefe555ae4c2281e4ae59aa26d7c4",
            "_dom_classes": [],
            "description": "Iteration: 100%",
            "_model_name": "FloatProgressModel",
            "bar_style": "success",
            "max": 2500,
            "_view_module": "@jupyter-widgets/controls",
            "_model_module_version": "1.5.0",
            "value": 2500,
            "_view_count": null,
            "_view_module_version": "1.5.0",
            "orientation": "horizontal",
            "min": 0,
            "description_tooltip": null,
            "_model_module": "@jupyter-widgets/controls",
            "layout": "IPY_MODEL_218764c60d01485b8b8db3893ef994b8"
          }
        },
        "2d08867706054060a36b8a461a595b46": {
          "model_module": "@jupyter-widgets/controls",
          "model_name": "HTMLModel",
          "state": {
            "_view_name": "HTMLView",
            "style": "IPY_MODEL_6cd43262297f47fb989edd7d41dd0326",
            "_dom_classes": [],
            "description": "",
            "_model_name": "HTMLModel",
            "placeholder": "​",
            "_view_module": "@jupyter-widgets/controls",
            "_model_module_version": "1.5.0",
            "value": " 2500/2500 [37:01&lt;00:00,  1.13it/s]",
            "_view_count": null,
            "_view_module_version": "1.5.0",
            "description_tooltip": null,
            "_model_module": "@jupyter-widgets/controls",
            "layout": "IPY_MODEL_18bc92c018284b34a658581e05e65fb3"
          }
        },
        "22beefe555ae4c2281e4ae59aa26d7c4": {
          "model_module": "@jupyter-widgets/controls",
          "model_name": "ProgressStyleModel",
          "state": {
            "_view_name": "StyleView",
            "_model_name": "ProgressStyleModel",
            "description_width": "initial",
            "_view_module": "@jupyter-widgets/base",
            "_model_module_version": "1.5.0",
            "_view_count": null,
            "_view_module_version": "1.2.0",
            "bar_color": null,
            "_model_module": "@jupyter-widgets/controls"
          }
        },
        "218764c60d01485b8b8db3893ef994b8": {
          "model_module": "@jupyter-widgets/base",
          "model_name": "LayoutModel",
          "state": {
            "_view_name": "LayoutView",
            "grid_template_rows": null,
            "right": null,
            "justify_content": null,
            "_view_module": "@jupyter-widgets/base",
            "overflow": null,
            "_model_module_version": "1.2.0",
            "_view_count": null,
            "flex_flow": null,
            "width": null,
            "min_width": null,
            "border": null,
            "align_items": null,
            "bottom": null,
            "_model_module": "@jupyter-widgets/base",
            "top": null,
            "grid_column": null,
            "overflow_y": null,
            "overflow_x": null,
            "grid_auto_flow": null,
            "grid_area": null,
            "grid_template_columns": null,
            "flex": null,
            "_model_name": "LayoutModel",
            "justify_items": null,
            "grid_row": null,
            "max_height": null,
            "align_content": null,
            "visibility": null,
            "align_self": null,
            "height": null,
            "min_height": null,
            "padding": null,
            "grid_auto_rows": null,
            "grid_gap": null,
            "max_width": null,
            "order": null,
            "_view_module_version": "1.2.0",
            "grid_template_areas": null,
            "object_position": null,
            "object_fit": null,
            "grid_auto_columns": null,
            "margin": null,
            "display": null,
            "left": null
          }
        },
        "6cd43262297f47fb989edd7d41dd0326": {
          "model_module": "@jupyter-widgets/controls",
          "model_name": "DescriptionStyleModel",
          "state": {
            "_view_name": "StyleView",
            "_model_name": "DescriptionStyleModel",
            "description_width": "",
            "_view_module": "@jupyter-widgets/base",
            "_model_module_version": "1.5.0",
            "_view_count": null,
            "_view_module_version": "1.2.0",
            "_model_module": "@jupyter-widgets/controls"
          }
        },
        "18bc92c018284b34a658581e05e65fb3": {
          "model_module": "@jupyter-widgets/base",
          "model_name": "LayoutModel",
          "state": {
            "_view_name": "LayoutView",
            "grid_template_rows": null,
            "right": null,
            "justify_content": null,
            "_view_module": "@jupyter-widgets/base",
            "overflow": null,
            "_model_module_version": "1.2.0",
            "_view_count": null,
            "flex_flow": null,
            "width": null,
            "min_width": null,
            "border": null,
            "align_items": null,
            "bottom": null,
            "_model_module": "@jupyter-widgets/base",
            "top": null,
            "grid_column": null,
            "overflow_y": null,
            "overflow_x": null,
            "grid_auto_flow": null,
            "grid_area": null,
            "grid_template_columns": null,
            "flex": null,
            "_model_name": "LayoutModel",
            "justify_items": null,
            "grid_row": null,
            "max_height": null,
            "align_content": null,
            "visibility": null,
            "align_self": null,
            "height": null,
            "min_height": null,
            "padding": null,
            "grid_auto_rows": null,
            "grid_gap": null,
            "max_width": null,
            "order": null,
            "_view_module_version": "1.2.0",
            "grid_template_areas": null,
            "object_position": null,
            "object_fit": null,
            "grid_auto_columns": null,
            "margin": null,
            "display": null,
            "left": null
          }
        },
        "c7d3918c219d44d8a1317bde261af513": {
          "model_module": "@jupyter-widgets/controls",
          "model_name": "HBoxModel",
          "state": {
            "_view_name": "HBoxView",
            "_dom_classes": [],
            "_model_name": "HBoxModel",
            "_view_module": "@jupyter-widgets/controls",
            "_model_module_version": "1.5.0",
            "_view_count": null,
            "_view_module_version": "1.5.0",
            "box_style": "",
            "layout": "IPY_MODEL_074fd3aded214570acfbb5bb65fa9567",
            "_model_module": "@jupyter-widgets/controls",
            "children": [
              "IPY_MODEL_cec34603423140dba0af731b52406fa4",
              "IPY_MODEL_ea260f564e5f44ee8f22ec88f6ba0c2b"
            ]
          }
        },
        "074fd3aded214570acfbb5bb65fa9567": {
          "model_module": "@jupyter-widgets/base",
          "model_name": "LayoutModel",
          "state": {
            "_view_name": "LayoutView",
            "grid_template_rows": null,
            "right": null,
            "justify_content": null,
            "_view_module": "@jupyter-widgets/base",
            "overflow": null,
            "_model_module_version": "1.2.0",
            "_view_count": null,
            "flex_flow": null,
            "width": null,
            "min_width": null,
            "border": null,
            "align_items": null,
            "bottom": null,
            "_model_module": "@jupyter-widgets/base",
            "top": null,
            "grid_column": null,
            "overflow_y": null,
            "overflow_x": null,
            "grid_auto_flow": null,
            "grid_area": null,
            "grid_template_columns": null,
            "flex": null,
            "_model_name": "LayoutModel",
            "justify_items": null,
            "grid_row": null,
            "max_height": null,
            "align_content": null,
            "visibility": null,
            "align_self": null,
            "height": null,
            "min_height": null,
            "padding": null,
            "grid_auto_rows": null,
            "grid_gap": null,
            "max_width": null,
            "order": null,
            "_view_module_version": "1.2.0",
            "grid_template_areas": null,
            "object_position": null,
            "object_fit": null,
            "grid_auto_columns": null,
            "margin": null,
            "display": null,
            "left": null
          }
        },
        "cec34603423140dba0af731b52406fa4": {
          "model_module": "@jupyter-widgets/controls",
          "model_name": "FloatProgressModel",
          "state": {
            "_view_name": "ProgressView",
            "style": "IPY_MODEL_e60ba1b8856846d389620a5f1d693f73",
            "_dom_classes": [],
            "description": "Batches: 100%",
            "_model_name": "FloatProgressModel",
            "bar_style": "success",
            "max": 319,
            "_view_module": "@jupyter-widgets/controls",
            "_model_module_version": "1.5.0",
            "value": 319,
            "_view_count": null,
            "_view_module_version": "1.5.0",
            "orientation": "horizontal",
            "min": 0,
            "description_tooltip": null,
            "_model_module": "@jupyter-widgets/controls",
            "layout": "IPY_MODEL_b038b1601c884e7aaa06d282a4742413"
          }
        },
        "ea260f564e5f44ee8f22ec88f6ba0c2b": {
          "model_module": "@jupyter-widgets/controls",
          "model_name": "HTMLModel",
          "state": {
            "_view_name": "HTMLView",
            "style": "IPY_MODEL_5341ec27ca9f4aef90631007ce25fb46",
            "_dom_classes": [],
            "description": "",
            "_model_name": "HTMLModel",
            "placeholder": "​",
            "_view_module": "@jupyter-widgets/controls",
            "_model_module_version": "1.5.0",
            "value": " 319/319 [04:54&lt;00:00,  1.08it/s]",
            "_view_count": null,
            "_view_module_version": "1.5.0",
            "description_tooltip": null,
            "_model_module": "@jupyter-widgets/controls",
            "layout": "IPY_MODEL_0e613fbcf30641bd99844d99b86ca180"
          }
        },
        "e60ba1b8856846d389620a5f1d693f73": {
          "model_module": "@jupyter-widgets/controls",
          "model_name": "ProgressStyleModel",
          "state": {
            "_view_name": "StyleView",
            "_model_name": "ProgressStyleModel",
            "description_width": "initial",
            "_view_module": "@jupyter-widgets/base",
            "_model_module_version": "1.5.0",
            "_view_count": null,
            "_view_module_version": "1.2.0",
            "bar_color": null,
            "_model_module": "@jupyter-widgets/controls"
          }
        },
        "b038b1601c884e7aaa06d282a4742413": {
          "model_module": "@jupyter-widgets/base",
          "model_name": "LayoutModel",
          "state": {
            "_view_name": "LayoutView",
            "grid_template_rows": null,
            "right": null,
            "justify_content": null,
            "_view_module": "@jupyter-widgets/base",
            "overflow": null,
            "_model_module_version": "1.2.0",
            "_view_count": null,
            "flex_flow": null,
            "width": null,
            "min_width": null,
            "border": null,
            "align_items": null,
            "bottom": null,
            "_model_module": "@jupyter-widgets/base",
            "top": null,
            "grid_column": null,
            "overflow_y": null,
            "overflow_x": null,
            "grid_auto_flow": null,
            "grid_area": null,
            "grid_template_columns": null,
            "flex": null,
            "_model_name": "LayoutModel",
            "justify_items": null,
            "grid_row": null,
            "max_height": null,
            "align_content": null,
            "visibility": null,
            "align_self": null,
            "height": null,
            "min_height": null,
            "padding": null,
            "grid_auto_rows": null,
            "grid_gap": null,
            "max_width": null,
            "order": null,
            "_view_module_version": "1.2.0",
            "grid_template_areas": null,
            "object_position": null,
            "object_fit": null,
            "grid_auto_columns": null,
            "margin": null,
            "display": null,
            "left": null
          }
        },
        "5341ec27ca9f4aef90631007ce25fb46": {
          "model_module": "@jupyter-widgets/controls",
          "model_name": "DescriptionStyleModel",
          "state": {
            "_view_name": "StyleView",
            "_model_name": "DescriptionStyleModel",
            "description_width": "",
            "_view_module": "@jupyter-widgets/base",
            "_model_module_version": "1.5.0",
            "_view_count": null,
            "_view_module_version": "1.2.0",
            "_model_module": "@jupyter-widgets/controls"
          }
        },
        "0e613fbcf30641bd99844d99b86ca180": {
          "model_module": "@jupyter-widgets/base",
          "model_name": "LayoutModel",
          "state": {
            "_view_name": "LayoutView",
            "grid_template_rows": null,
            "right": null,
            "justify_content": null,
            "_view_module": "@jupyter-widgets/base",
            "overflow": null,
            "_model_module_version": "1.2.0",
            "_view_count": null,
            "flex_flow": null,
            "width": null,
            "min_width": null,
            "border": null,
            "align_items": null,
            "bottom": null,
            "_model_module": "@jupyter-widgets/base",
            "top": null,
            "grid_column": null,
            "overflow_y": null,
            "overflow_x": null,
            "grid_auto_flow": null,
            "grid_area": null,
            "grid_template_columns": null,
            "flex": null,
            "_model_name": "LayoutModel",
            "justify_items": null,
            "grid_row": null,
            "max_height": null,
            "align_content": null,
            "visibility": null,
            "align_self": null,
            "height": null,
            "min_height": null,
            "padding": null,
            "grid_auto_rows": null,
            "grid_gap": null,
            "max_width": null,
            "order": null,
            "_view_module_version": "1.2.0",
            "grid_template_areas": null,
            "object_position": null,
            "object_fit": null,
            "grid_auto_columns": null,
            "margin": null,
            "display": null,
            "left": null
          }
        }
      }
    }
  },
  "cells": [
    {
      "cell_type": "markdown",
      "metadata": {
        "id": "H-HA6ZqD7Yoa"
      },
      "source": [
        "# Mount Drive"
      ]
    },
    {
      "cell_type": "code",
      "metadata": {
        "id": "ekNZgUGtAGeh"
      },
      "source": [
        "%load_ext autoreload\n",
        "%autoreload 2"
      ],
      "execution_count": 1,
      "outputs": []
    },
    {
      "cell_type": "code",
      "metadata": {
        "colab": {
          "base_uri": "https://localhost:8080/"
        },
        "id": "CqTUUu2xAPtw",
        "outputId": "9e85fc03-95bb-4e1a-c390-94c086503444"
      },
      "source": [
        "from google.colab import drive\n",
        "drive.mount('/content/drive')"
      ],
      "execution_count": 3,
      "outputs": [
        {
          "output_type": "stream",
          "text": [
            "Mounted at /content/drive\n"
          ],
          "name": "stdout"
        }
      ]
    },
    {
      "cell_type": "markdown",
      "metadata": {
        "id": "pSD2O5oi68Bk"
      },
      "source": [
        "# Install BerTopic Package"
      ]
    },
    {
      "cell_type": "code",
      "metadata": {
        "id": "w12JTFZiiUiy"
      },
      "source": [
        "%%capture\n",
        "!pip3 install bertopic\n",
        "!pip3 install bertopic[visualization]"
      ],
      "execution_count": 1,
      "outputs": []
    },
    {
      "cell_type": "code",
      "metadata": {
        "id": "oq2rO02ECwXc"
      },
      "source": [
        "import numpy as np\n",
        "import sklearn\n",
        "from sklearn.metrics import silhouette_score\n",
        "from sklearn.cluster import KMeans\n",
        "from tqdm import tqdm\n",
        "from sentence_transformers import SentenceTransformer\n",
        "from bertopic import BERTopic"
      ],
      "execution_count": 2,
      "outputs": []
    },
    {
      "cell_type": "markdown",
      "metadata": {
        "id": "Mc_U8mvM7EK7"
      },
      "source": [
        "# BerTopic Toy Example"
      ]
    },
    {
      "cell_type": "code",
      "metadata": {
        "id": "AAry1Ce3kCeo",
        "colab": {
          "base_uri": "https://localhost:8080/"
        },
        "outputId": "03120b96-d03f-4568-bee6-baa9a0d61c0f"
      },
      "source": [
        "from bertopic import BERTopic\n",
        "from sklearn.datasets import fetch_20newsgroups\n",
        "import numpy as np\n",
        "\n",
        "import sklearn\n",
        "from sklearn.metrics import silhouette_score\n",
        "from sklearn.cluster import KMeans\n",
        "\n",
        "docs = fetch_20newsgroups(subset='all',  remove=('headers', 'footers', 'quotes'))['data']"
      ],
      "execution_count": null,
      "outputs": [
        {
          "output_type": "stream",
          "text": [
            "Downloading 20news dataset. This may take a few minutes.\n",
            "Downloading dataset from https://ndownloader.figshare.com/files/5975967 (14 MB)\n"
          ],
          "name": "stderr"
        }
      ]
    },
    {
      "cell_type": "code",
      "metadata": {
        "colab": {
          "base_uri": "https://localhost:8080/"
        },
        "id": "OKa2V2GEmiP2",
        "outputId": "bdbba465-cb62-45df-8201-8dc31b7d7aa6"
      },
      "source": [
        "# type(docs)\n",
        "# docs[0]\n",
        "len(docs)\n",
        "# docs[10]"
      ],
      "execution_count": null,
      "outputs": [
        {
          "output_type": "execute_result",
          "data": {
            "text/plain": [
              "18846"
            ]
          },
          "metadata": {
            "tags": []
          },
          "execution_count": 34
        }
      ]
    },
    {
      "cell_type": "code",
      "metadata": {
        "id": "Brwhl_o_pnAg",
        "colab": {
          "base_uri": "https://localhost:8080/",
          "height": 170,
          "referenced_widgets": [
            "0f545f5eec3745deb28d98ae24604f70",
            "858c68002284405e9a9a635ec0ea7a51",
            "1a08aa15bc0c40bda3894be3a1e3e205",
            "fa841a6f27f7464e8cad9c8e9249209b",
            "c3c465259c8d40fe8d8bb4ccebfeb76b",
            "45f7aaf86fe8471c9a836b4211757757",
            "add7ad32a21346cdada31d548b12bff2",
            "e9cb6ad017764c48a1b32425473bac7c",
            "5f17d669d73d4ed78a32e5a575a4f65f",
            "bf8010fba6e945fd879529bf62d0b519",
            "2b8924c122f54b9fb8ed9a0f18cf42c3",
            "4dfb5ac50f854258880c5e624aa84c28",
            "b3dd20a19b2d44958f98f6927954d307",
            "a1434a11886446c19f6700ce353a3929",
            "d9638c33d6184458ab0d26fa3ba4fd9d",
            "4ca20d66698c47f3b58e87131fed8d7e"
          ]
        },
        "outputId": "0081511d-9ae0-43dd-ee88-9f26a613dd0f"
      },
      "source": [
        "model = BERTopic(verbose=True, calculate_probabilities=True)\n",
        "topics, probabilities = model.fit_transform(docs)"
      ],
      "execution_count": null,
      "outputs": [
        {
          "output_type": "display_data",
          "data": {
            "application/vnd.jupyter.widget-view+json": {
              "model_id": "0f545f5eec3745deb28d98ae24604f70",
              "version_minor": 0,
              "version_major": 2
            },
            "text/plain": [
              "HBox(children=(FloatProgress(value=0.0, max=244715968.0), HTML(value='')))"
            ]
          },
          "metadata": {
            "tags": []
          }
        },
        {
          "output_type": "stream",
          "text": [
            "\n"
          ],
          "name": "stdout"
        },
        {
          "output_type": "display_data",
          "data": {
            "application/vnd.jupyter.widget-view+json": {
              "model_id": "5f17d669d73d4ed78a32e5a575a4f65f",
              "version_minor": 0,
              "version_major": 2
            },
            "text/plain": [
              "HBox(children=(FloatProgress(value=0.0, description='Batches', max=589.0, style=ProgressStyle(description_widt…"
            ]
          },
          "metadata": {
            "tags": []
          }
        },
        {
          "output_type": "stream",
          "text": [
            "2021-04-23 03:14:47,178 - BERTopic - Transformed documents to Embeddings\n"
          ],
          "name": "stderr"
        },
        {
          "output_type": "stream",
          "text": [
            "\n"
          ],
          "name": "stdout"
        },
        {
          "output_type": "stream",
          "text": [
            "2021-04-23 03:15:02,260 - BERTopic - Reduced dimensionality with UMAP\n",
            "2021-04-23 03:15:26,967 - BERTopic - Clustered UMAP embeddings with HDBSCAN\n"
          ],
          "name": "stderr"
        }
      ]
    },
    {
      "cell_type": "code",
      "metadata": {
        "colab": {
          "base_uri": "https://localhost:8080/",
          "height": 120,
          "referenced_widgets": [
            "1c662c47edca4b2d96ddec9e8a161437",
            "5b669b2d12174f678e8e251dd74416dc",
            "ef3ca85e01cc48648cba27d0b5a22c7f",
            "852dfc339a0640979ecd7c09ad19702c",
            "506f0e10cfbe454cb93ef1b1f972118a",
            "042eeb4f84ab4dd687a2cc74bf55d0ea",
            "87766e3c7b0349af823e2626af0bebb9",
            "ebed8ed0afda4a63a3f9fe3a303a4388"
          ]
        },
        "id": "HAso7Sk1_ueA",
        "outputId": "d7b61607-eeab-44db-c770-425b20bc07d0"
      },
      "source": [
        "from bertopic import BERTopic\n",
        "from sentence_transformers import SentenceTransformer\n",
        "\n",
        "num_doc = len(docs)\n",
        "# Prepare embeddings\n",
        "sentence_model = SentenceTransformer(\"distilbert-base-nli-mean-tokens\")\n",
        "embeddings = sentence_model.encode(docs[:num_doc], show_progress_bar=True)\n",
        "\n",
        "# Create topic model\n",
        "model = BERTopic(verbose=True, calculate_probabilities=True, nr_topics=20)\n",
        "topics, probabilities = model.fit_transform(docs[:num_doc], embeddings)"
      ],
      "execution_count": null,
      "outputs": [
        {
          "output_type": "display_data",
          "data": {
            "application/vnd.jupyter.widget-view+json": {
              "model_id": "1c662c47edca4b2d96ddec9e8a161437",
              "version_minor": 0,
              "version_major": 2
            },
            "text/plain": [
              "HBox(children=(FloatProgress(value=0.0, description='Batches', max=589.0, style=ProgressStyle(description_widt…"
            ]
          },
          "metadata": {
            "tags": []
          }
        },
        {
          "output_type": "stream",
          "text": [
            "\n"
          ],
          "name": "stdout"
        },
        {
          "output_type": "stream",
          "text": [
            "2021-04-23 03:27:19,672 - BERTopic - Reduced dimensionality with UMAP\n",
            "2021-04-23 03:27:45,074 - BERTopic - Clustered UMAP embeddings with HDBSCAN\n",
            "2021-04-23 03:27:56,435 - BERTopic - Reduced number of topics from 143 to 21\n"
          ],
          "name": "stderr"
        }
      ]
    },
    {
      "cell_type": "code",
      "metadata": {
        "colab": {
          "base_uri": "https://localhost:8080/"
        },
        "id": "FjhpPWqNBmY5",
        "outputId": "a047fd8a-e5f1-49df-bb6f-2b581734018b"
      },
      "source": [
        "embeddings.shape"
      ],
      "execution_count": null,
      "outputs": [
        {
          "output_type": "execute_result",
          "data": {
            "text/plain": [
              "(18846, 768)"
            ]
          },
          "metadata": {
            "tags": []
          },
          "execution_count": 51
        }
      ]
    },
    {
      "cell_type": "code",
      "metadata": {
        "id": "T5RgcFpEyXZN"
      },
      "source": [
        "model.get_topic_freq()"
      ],
      "execution_count": null,
      "outputs": []
    },
    {
      "cell_type": "code",
      "metadata": {
        "id": "Hrx_ei7cy5gP"
      },
      "source": [
        "model.get_topic(3)"
      ],
      "execution_count": null,
      "outputs": []
    },
    {
      "cell_type": "code",
      "metadata": {
        "id": "srf6uH-Oy8TR"
      },
      "source": [
        "model.visualize_topics()"
      ],
      "execution_count": null,
      "outputs": []
    },
    {
      "cell_type": "code",
      "metadata": {
        "colab": {
          "base_uri": "https://localhost:8080/"
        },
        "id": "IHfsESFfn7e4",
        "outputId": "6a8cd47d-269d-4892-8d6b-bdb9715ab96d"
      },
      "source": [
        "# len(topics)\n",
        "topics = np.array(topics)\n",
        "np.unique(topics)\n",
        "# list(topics)\n",
        "(topics == 4).sum()"
      ],
      "execution_count": null,
      "outputs": [
        {
          "output_type": "execute_result",
          "data": {
            "text/plain": [
              "0"
            ]
          },
          "metadata": {
            "tags": []
          },
          "execution_count": 63
        }
      ]
    },
    {
      "cell_type": "code",
      "metadata": {
        "colab": {
          "base_uri": "https://localhost:8080/"
        },
        "id": "eW8U-RVxqC9H",
        "outputId": "6568d0c7-46ad-4a50-f73c-450a379fb7a4"
      },
      "source": [
        "topics = np.array(topics)\n",
        "idx_valid = topics != -1\n",
        "# len(idx_valid)\n",
        "idx_valid.sum()"
      ],
      "execution_count": null,
      "outputs": [
        {
          "output_type": "execute_result",
          "data": {
            "text/plain": [
              "7196"
            ]
          },
          "metadata": {
            "tags": []
          },
          "execution_count": 56
        }
      ]
    },
    {
      "cell_type": "code",
      "metadata": {
        "colab": {
          "base_uri": "https://localhost:8080/"
        },
        "id": "w-CyulbBAO6h",
        "outputId": "8d844fe5-1463-4962-bad6-c5207a543b19"
      },
      "source": [
        "score = silhouette_score(embeddings[idx_valid], topics[idx_valid], metric = 'l2')\n",
        "score"
      ],
      "execution_count": null,
      "outputs": [
        {
          "output_type": "execute_result",
          "data": {
            "text/plain": [
              "0.10776254"
            ]
          },
          "metadata": {
            "tags": []
          },
          "execution_count": 64
        }
      ]
    },
    {
      "cell_type": "markdown",
      "metadata": {
        "id": "HF35zDYmABBp"
      },
      "source": [
        "# Load CORD-19 Data"
      ]
    },
    {
      "cell_type": "markdown",
      "metadata": {
        "id": "VuvqvbI_7xoR"
      },
      "source": [
        "### Load from csv - old"
      ]
    },
    {
      "cell_type": "code",
      "metadata": {
        "colab": {
          "base_uri": "https://localhost:8080/"
        },
        "id": "OA6i0eBgBs3T",
        "outputId": "10fbee59-a65d-46a8-dba9-dcbfd9f97a93"
      },
      "source": [
        "import pandas as pd\n",
        "import nltk\n",
        "nltk.download('punkt')\n",
        "nltk.download('stopwords')\n",
        "from nltk.stem.snowball import SnowballStemmer"
      ],
      "execution_count": null,
      "outputs": [
        {
          "output_type": "stream",
          "text": [
            "[nltk_data] Downloading package punkt to /root/nltk_data...\n",
            "[nltk_data]   Unzipping tokenizers/punkt.zip.\n",
            "[nltk_data] Downloading package stopwords to /root/nltk_data...\n",
            "[nltk_data]   Unzipping corpora/stopwords.zip.\n"
          ],
          "name": "stdout"
        }
      ]
    },
    {
      "cell_type": "code",
      "metadata": {
        "id": "mC6rzZA_zNLy"
      },
      "source": [
        "class DataHandler(object):\n",
        "  '''\n",
        "  Class that is used to load all the data from the CORD-19 dataset\n",
        "  '''\n",
        "  def __init__(self, filename):\n",
        "    self.filename = filename\n",
        "  \n",
        "  def read_metadata(self):\n",
        "    return pd.read_csv(self.filename, sep=',', error_bad_lines=False)"
      ],
      "execution_count": null,
      "outputs": []
    },
    {
      "cell_type": "code",
      "metadata": {
        "id": "1meqNYJCAbHf"
      },
      "source": [
        "metadata_path = \"/content/drive/MyDrive/Winter2021/EECS545/project/EECS545_fina_project/metadata.csv\""
      ],
      "execution_count": null,
      "outputs": []
    },
    {
      "cell_type": "code",
      "metadata": {
        "colab": {
          "base_uri": "https://localhost:8080/"
        },
        "id": "_O28L0KWBhEK",
        "outputId": "64696c68-3b83-4c43-d624-f023a8c05fc5"
      },
      "source": [
        "data_handler = DataHandler(metadata_path)\n",
        "df_meta = data_handler.read_metadata()"
      ],
      "execution_count": null,
      "outputs": [
        {
          "output_type": "stream",
          "text": [
            "/usr/local/lib/python3.7/dist-packages/IPython/core/interactiveshell.py:2822: DtypeWarning: Columns (1,4,5,6,13,14,15,16) have mixed types.Specify dtype option on import or set low_memory=False.\n",
            "  if self.run_code(code, result):\n"
          ],
          "name": "stderr"
        }
      ]
    },
    {
      "cell_type": "code",
      "metadata": {
        "colab": {
          "base_uri": "https://localhost:8080/"
        },
        "id": "o_48H8N0CBlA",
        "outputId": "b97a2504-1267-4f8a-91b7-45506b5a0449"
      },
      "source": [
        "df_meta.dropna(subset=['title'], inplace=True)\n",
        "df_meta.dropna(subset=['abstract'], inplace=True)\n",
        "df_meta = df_meta[df_meta['publish_time'] > '2020-00-00']\n",
        "df_meta.reset_index(inplace=True, drop=True)\n",
        "df_meta.info()"
      ],
      "execution_count": null,
      "outputs": [
        {
          "output_type": "stream",
          "text": [
            "<class 'pandas.core.frame.DataFrame'>\n",
            "RangeIndex: 163223 entries, 0 to 163222\n",
            "Data columns (total 19 columns):\n",
            " #   Column            Non-Null Count   Dtype  \n",
            "---  ------            --------------   -----  \n",
            " 0   cord_uid          163223 non-null  object \n",
            " 1   sha               100266 non-null  object \n",
            " 2   source_x          163223 non-null  object \n",
            " 3   title             163223 non-null  object \n",
            " 4   doi               137736 non-null  object \n",
            " 5   pmcid             90676 non-null   object \n",
            " 6   pubmed_id         110333 non-null  object \n",
            " 7   license           163223 non-null  object \n",
            " 8   abstract          163223 non-null  object \n",
            " 9   publish_time      163223 non-null  object \n",
            " 10  authors           162340 non-null  object \n",
            " 11  journal           144205 non-null  object \n",
            " 12  mag_id            0 non-null       float64\n",
            " 13  who_covidence_id  19693 non-null   object \n",
            " 14  arxiv_id          6270 non-null    object \n",
            " 15  pdf_json_files    100266 non-null  object \n",
            " 16  pmc_json_files    77130 non-null   object \n",
            " 17  url               144601 non-null  object \n",
            " 18  s2_id             147494 non-null  float64\n",
            "dtypes: float64(2), object(17)\n",
            "memory usage: 23.7+ MB\n"
          ],
          "name": "stdout"
        }
      ]
    },
    {
      "cell_type": "code",
      "metadata": {
        "colab": {
          "base_uri": "https://localhost:8080/",
          "height": 602
        },
        "id": "Vi9ZZifkCOy_",
        "outputId": "147e1ada-503a-47ce-dc26-54ea09cd01d9"
      },
      "source": [
        "df_meta.head()"
      ],
      "execution_count": null,
      "outputs": [
        {
          "output_type": "execute_result",
          "data": {
            "text/html": [
              "<div>\n",
              "<style scoped>\n",
              "    .dataframe tbody tr th:only-of-type {\n",
              "        vertical-align: middle;\n",
              "    }\n",
              "\n",
              "    .dataframe tbody tr th {\n",
              "        vertical-align: top;\n",
              "    }\n",
              "\n",
              "    .dataframe thead th {\n",
              "        text-align: right;\n",
              "    }\n",
              "</style>\n",
              "<table border=\"1\" class=\"dataframe\">\n",
              "  <thead>\n",
              "    <tr style=\"text-align: right;\">\n",
              "      <th></th>\n",
              "      <th>cord_uid</th>\n",
              "      <th>sha</th>\n",
              "      <th>source_x</th>\n",
              "      <th>title</th>\n",
              "      <th>doi</th>\n",
              "      <th>pmcid</th>\n",
              "      <th>pubmed_id</th>\n",
              "      <th>license</th>\n",
              "      <th>abstract</th>\n",
              "      <th>publish_time</th>\n",
              "      <th>authors</th>\n",
              "      <th>journal</th>\n",
              "      <th>mag_id</th>\n",
              "      <th>who_covidence_id</th>\n",
              "      <th>arxiv_id</th>\n",
              "      <th>pdf_json_files</th>\n",
              "      <th>pmc_json_files</th>\n",
              "      <th>url</th>\n",
              "      <th>s2_id</th>\n",
              "    </tr>\n",
              "  </thead>\n",
              "  <tbody>\n",
              "    <tr>\n",
              "      <th>0</th>\n",
              "      <td>f9tg6xsg</td>\n",
              "      <td>44449ad1cca160ce491d7624f8ae1028f3570c45</td>\n",
              "      <td>PMC</td>\n",
              "      <td>Dexmedetomidine improved renal function in pat...</td>\n",
              "      <td>10.1186/s40560-019-0415-z</td>\n",
              "      <td>PMC6939335</td>\n",
              "      <td>31908779</td>\n",
              "      <td>cc-by</td>\n",
              "      <td>BACKGROUND: Dexmedetomidine has been reported ...</td>\n",
              "      <td>2020-01-02</td>\n",
              "      <td>Nakashima, Tsuyoshi; Miyamoto, Kyohei; Shima, ...</td>\n",
              "      <td>J Intensive Care</td>\n",
              "      <td>NaN</td>\n",
              "      <td>NaN</td>\n",
              "      <td>NaN</td>\n",
              "      <td>document_parses/pdf_json/44449ad1cca160ce491d7...</td>\n",
              "      <td>document_parses/pmc_json/PMC6939335.xml.json</td>\n",
              "      <td>https://www.ncbi.nlm.nih.gov/pmc/articles/PMC6...</td>\n",
              "      <td>NaN</td>\n",
              "    </tr>\n",
              "    <tr>\n",
              "      <th>1</th>\n",
              "      <td>f73c639r</td>\n",
              "      <td>def41c08c3cb1b3752bcff34d3aed7f8486e1c86</td>\n",
              "      <td>PMC</td>\n",
              "      <td>Aortic volume determines global end-diastolic ...</td>\n",
              "      <td>10.1186/s40635-019-0284-8</td>\n",
              "      <td>PMC6940405</td>\n",
              "      <td>31897796</td>\n",
              "      <td>cc-by</td>\n",
              "      <td>BACKGROUND: Global end-diastolic volume (GEDV)...</td>\n",
              "      <td>2020-01-02</td>\n",
              "      <td>Akohov, Aleksej; Barner, Christoph; Grimmer, S...</td>\n",
              "      <td>Intensive Care Med Exp</td>\n",
              "      <td>NaN</td>\n",
              "      <td>NaN</td>\n",
              "      <td>NaN</td>\n",
              "      <td>document_parses/pdf_json/def41c08c3cb1b3752bcf...</td>\n",
              "      <td>document_parses/pmc_json/PMC6940405.xml.json</td>\n",
              "      <td>https://www.ncbi.nlm.nih.gov/pmc/articles/PMC6...</td>\n",
              "      <td>NaN</td>\n",
              "    </tr>\n",
              "    <tr>\n",
              "      <th>2</th>\n",
              "      <td>1qgpa45q</td>\n",
              "      <td>f5ae3f66face323615df39d838e056ab5fcc98df</td>\n",
              "      <td>PMC</td>\n",
              "      <td>Whole genome sequencing and phylogenetic analy...</td>\n",
              "      <td>10.1186/s12864-019-6400-z</td>\n",
              "      <td>PMC6941262</td>\n",
              "      <td>31898474</td>\n",
              "      <td>cc-by</td>\n",
              "      <td>BACKGROUND: Human metapneumovirus (HMPV) is an...</td>\n",
              "      <td>2020-01-02</td>\n",
              "      <td>Kamau, Everlyn; Oketch, John W.; de Laurent, Z...</td>\n",
              "      <td>BMC Genomics</td>\n",
              "      <td>NaN</td>\n",
              "      <td>NaN</td>\n",
              "      <td>NaN</td>\n",
              "      <td>document_parses/pdf_json/f5ae3f66face323615df3...</td>\n",
              "      <td>document_parses/pmc_json/PMC6941262.xml.json</td>\n",
              "      <td>https://www.ncbi.nlm.nih.gov/pmc/articles/PMC6...</td>\n",
              "      <td>NaN</td>\n",
              "    </tr>\n",
              "    <tr>\n",
              "      <th>3</th>\n",
              "      <td>g34f5w6b</td>\n",
              "      <td>5be75ae4e7f8c892abd8dc396b9dbd035772c84a</td>\n",
              "      <td>PMC</td>\n",
              "      <td>European intensive care physicians’ experience...</td>\n",
              "      <td>10.1186/s13756-019-0662-8</td>\n",
              "      <td>PMC6941296</td>\n",
              "      <td>31908772</td>\n",
              "      <td>cc-by</td>\n",
              "      <td>BACKGROUND: Antimicrobial resistance (AMR) com...</td>\n",
              "      <td>2020-01-02</td>\n",
              "      <td>Lepape, Alain; Jean, Astrid; De Waele, Jan; Fr...</td>\n",
              "      <td>Antimicrob Resist Infect Control</td>\n",
              "      <td>NaN</td>\n",
              "      <td>NaN</td>\n",
              "      <td>NaN</td>\n",
              "      <td>document_parses/pdf_json/5be75ae4e7f8c892abd8d...</td>\n",
              "      <td>document_parses/pmc_json/PMC6941296.xml.json</td>\n",
              "      <td>https://www.ncbi.nlm.nih.gov/pmc/articles/PMC6...</td>\n",
              "      <td>NaN</td>\n",
              "    </tr>\n",
              "    <tr>\n",
              "      <th>4</th>\n",
              "      <td>d1pd09zj</td>\n",
              "      <td>1cee4a0d0e823379ec34a462a04561bf4cd736a2</td>\n",
              "      <td>PMC</td>\n",
              "      <td>Synthetic carbohydrate-based vaccines: challen...</td>\n",
              "      <td>10.1186/s12929-019-0591-0</td>\n",
              "      <td>PMC6941340</td>\n",
              "      <td>31900143</td>\n",
              "      <td>cc-by</td>\n",
              "      <td>Glycoconjugate vaccines based on bacterial cap...</td>\n",
              "      <td>2020-01-03</td>\n",
              "      <td>Mettu, Ravinder; Chen, Chiang-Yun; Wu, Chung-Yi</td>\n",
              "      <td>J Biomed Sci</td>\n",
              "      <td>NaN</td>\n",
              "      <td>NaN</td>\n",
              "      <td>NaN</td>\n",
              "      <td>document_parses/pdf_json/1cee4a0d0e823379ec34a...</td>\n",
              "      <td>document_parses/pmc_json/PMC6941340.xml.json</td>\n",
              "      <td>https://www.ncbi.nlm.nih.gov/pmc/articles/PMC6...</td>\n",
              "      <td>NaN</td>\n",
              "    </tr>\n",
              "  </tbody>\n",
              "</table>\n",
              "</div>"
            ],
            "text/plain": [
              "   cord_uid  ... s2_id\n",
              "0  f9tg6xsg  ...   NaN\n",
              "1  f73c639r  ...   NaN\n",
              "2  1qgpa45q  ...   NaN\n",
              "3  g34f5w6b  ...   NaN\n",
              "4  d1pd09zj  ...   NaN\n",
              "\n",
              "[5 rows x 19 columns]"
            ]
          },
          "metadata": {
            "tags": []
          },
          "execution_count": 12
        }
      ]
    },
    {
      "cell_type": "code",
      "metadata": {
        "colab": {
          "base_uri": "https://localhost:8080/",
          "height": 602
        },
        "id": "t_fK-eZqCdWF",
        "outputId": "32fdda0d-b3be-406a-c4d2-22bb014a04fc"
      },
      "source": [
        "columns_to_keep = [\n",
        "            'cord_uid',\n",
        "            'sha',\n",
        "            'title',\n",
        "            'abstract',\n",
        "            'publish_time',\n",
        "            'authors',\n",
        "            'pdf_json_files',\n",
        "            'url'\n",
        "]\n",
        "df_meta_filtered = df_meta[columns_to_keep]\n",
        "df_meta_filtered.head()"
      ],
      "execution_count": null,
      "outputs": [
        {
          "output_type": "execute_result",
          "data": {
            "text/html": [
              "<div>\n",
              "<style scoped>\n",
              "    .dataframe tbody tr th:only-of-type {\n",
              "        vertical-align: middle;\n",
              "    }\n",
              "\n",
              "    .dataframe tbody tr th {\n",
              "        vertical-align: top;\n",
              "    }\n",
              "\n",
              "    .dataframe thead th {\n",
              "        text-align: right;\n",
              "    }\n",
              "</style>\n",
              "<table border=\"1\" class=\"dataframe\">\n",
              "  <thead>\n",
              "    <tr style=\"text-align: right;\">\n",
              "      <th></th>\n",
              "      <th>cord_uid</th>\n",
              "      <th>sha</th>\n",
              "      <th>title</th>\n",
              "      <th>abstract</th>\n",
              "      <th>publish_time</th>\n",
              "      <th>authors</th>\n",
              "      <th>pdf_json_files</th>\n",
              "      <th>url</th>\n",
              "    </tr>\n",
              "  </thead>\n",
              "  <tbody>\n",
              "    <tr>\n",
              "      <th>0</th>\n",
              "      <td>f9tg6xsg</td>\n",
              "      <td>44449ad1cca160ce491d7624f8ae1028f3570c45</td>\n",
              "      <td>Dexmedetomidine improved renal function in pat...</td>\n",
              "      <td>BACKGROUND: Dexmedetomidine has been reported ...</td>\n",
              "      <td>2020-01-02</td>\n",
              "      <td>Nakashima, Tsuyoshi; Miyamoto, Kyohei; Shima, ...</td>\n",
              "      <td>document_parses/pdf_json/44449ad1cca160ce491d7...</td>\n",
              "      <td>https://www.ncbi.nlm.nih.gov/pmc/articles/PMC6...</td>\n",
              "    </tr>\n",
              "    <tr>\n",
              "      <th>1</th>\n",
              "      <td>f73c639r</td>\n",
              "      <td>def41c08c3cb1b3752bcff34d3aed7f8486e1c86</td>\n",
              "      <td>Aortic volume determines global end-diastolic ...</td>\n",
              "      <td>BACKGROUND: Global end-diastolic volume (GEDV)...</td>\n",
              "      <td>2020-01-02</td>\n",
              "      <td>Akohov, Aleksej; Barner, Christoph; Grimmer, S...</td>\n",
              "      <td>document_parses/pdf_json/def41c08c3cb1b3752bcf...</td>\n",
              "      <td>https://www.ncbi.nlm.nih.gov/pmc/articles/PMC6...</td>\n",
              "    </tr>\n",
              "    <tr>\n",
              "      <th>2</th>\n",
              "      <td>1qgpa45q</td>\n",
              "      <td>f5ae3f66face323615df39d838e056ab5fcc98df</td>\n",
              "      <td>Whole genome sequencing and phylogenetic analy...</td>\n",
              "      <td>BACKGROUND: Human metapneumovirus (HMPV) is an...</td>\n",
              "      <td>2020-01-02</td>\n",
              "      <td>Kamau, Everlyn; Oketch, John W.; de Laurent, Z...</td>\n",
              "      <td>document_parses/pdf_json/f5ae3f66face323615df3...</td>\n",
              "      <td>https://www.ncbi.nlm.nih.gov/pmc/articles/PMC6...</td>\n",
              "    </tr>\n",
              "    <tr>\n",
              "      <th>3</th>\n",
              "      <td>g34f5w6b</td>\n",
              "      <td>5be75ae4e7f8c892abd8dc396b9dbd035772c84a</td>\n",
              "      <td>European intensive care physicians’ experience...</td>\n",
              "      <td>BACKGROUND: Antimicrobial resistance (AMR) com...</td>\n",
              "      <td>2020-01-02</td>\n",
              "      <td>Lepape, Alain; Jean, Astrid; De Waele, Jan; Fr...</td>\n",
              "      <td>document_parses/pdf_json/5be75ae4e7f8c892abd8d...</td>\n",
              "      <td>https://www.ncbi.nlm.nih.gov/pmc/articles/PMC6...</td>\n",
              "    </tr>\n",
              "    <tr>\n",
              "      <th>4</th>\n",
              "      <td>d1pd09zj</td>\n",
              "      <td>1cee4a0d0e823379ec34a462a04561bf4cd736a2</td>\n",
              "      <td>Synthetic carbohydrate-based vaccines: challen...</td>\n",
              "      <td>Glycoconjugate vaccines based on bacterial cap...</td>\n",
              "      <td>2020-01-03</td>\n",
              "      <td>Mettu, Ravinder; Chen, Chiang-Yun; Wu, Chung-Yi</td>\n",
              "      <td>document_parses/pdf_json/1cee4a0d0e823379ec34a...</td>\n",
              "      <td>https://www.ncbi.nlm.nih.gov/pmc/articles/PMC6...</td>\n",
              "    </tr>\n",
              "  </tbody>\n",
              "</table>\n",
              "</div>"
            ],
            "text/plain": [
              "   cord_uid  ...                                                url\n",
              "0  f9tg6xsg  ...  https://www.ncbi.nlm.nih.gov/pmc/articles/PMC6...\n",
              "1  f73c639r  ...  https://www.ncbi.nlm.nih.gov/pmc/articles/PMC6...\n",
              "2  1qgpa45q  ...  https://www.ncbi.nlm.nih.gov/pmc/articles/PMC6...\n",
              "3  g34f5w6b  ...  https://www.ncbi.nlm.nih.gov/pmc/articles/PMC6...\n",
              "4  d1pd09zj  ...  https://www.ncbi.nlm.nih.gov/pmc/articles/PMC6...\n",
              "\n",
              "[5 rows x 8 columns]"
            ]
          },
          "metadata": {
            "tags": []
          },
          "execution_count": 13
        }
      ]
    },
    {
      "cell_type": "code",
      "metadata": {
        "colab": {
          "base_uri": "https://localhost:8080/"
        },
        "id": "YxButcI-Gat4",
        "outputId": "9c5792c5-ef10-4589-dfd0-7bde3bd62916"
      },
      "source": [
        "len(df_meta_filtered)"
      ],
      "execution_count": null,
      "outputs": [
        {
          "output_type": "execute_result",
          "data": {
            "text/plain": [
              "163223"
            ]
          },
          "metadata": {
            "tags": []
          },
          "execution_count": 14
        }
      ]
    },
    {
      "cell_type": "code",
      "metadata": {
        "colab": {
          "base_uri": "https://localhost:8080/"
        },
        "id": "028yTwDeCoji",
        "outputId": "ee387860-eb74-4b1b-a1c5-73de3dc121f7"
      },
      "source": [
        "num_doc = len(df_meta_filtered)\n",
        "data_title = df_meta_filtered.loc[:num_doc,'title'].tolist()\n",
        "data_abstract = df_meta_filtered.loc[:num_doc,'abstract'].tolist()\n",
        "data_merged = []\n",
        "for i in range(len(data_title)):\n",
        "  # data_merged.append('Title: ' + data_title[i] + ' Abstract: ' + data_abstract[i])\n",
        "  data_merged.append(data_title[i] + '. ' + data_abstract[i])\n",
        "print(len(data_merged))\n",
        "df_data_merged = pd.DataFrame(data_merged, columns=['title_abstract'])\n",
        "df_data_merged.drop_duplicates(subset='title_abstract')\n",
        "df_data_merged.reset_index(drop=True, inplace=True)"
      ],
      "execution_count": null,
      "outputs": [
        {
          "output_type": "stream",
          "text": [
            "163223\n"
          ],
          "name": "stdout"
        }
      ]
    },
    {
      "cell_type": "code",
      "metadata": {
        "colab": {
          "base_uri": "https://localhost:8080/",
          "height": 142
        },
        "id": "aCBVwY1mGmjx",
        "outputId": "e254f643-6f82-4323-8193-9134de4c1a01"
      },
      "source": [
        "len(data_merged)\n",
        "data_merged[0]"
      ],
      "execution_count": null,
      "outputs": [
        {
          "output_type": "execute_result",
          "data": {
            "application/vnd.google.colaboratory.intrinsic+json": {
              "type": "string"
            },
            "text/plain": [
              "'Dexmedetomidine improved renal function in patients with severe sepsis: an exploratory analysis of a randomized controlled trial. BACKGROUND: Dexmedetomidine has been reported to improve organ dysfunction in critically ill patients. In a recent randomized controlled trial (Dexmedetomidine for Sepsis in Intensive Care Unit (ICU) Randomized Evolution [DESIRE]), we demonstrated that dexmedetomidine was associated with reduced mortality risk among patients with severe sepsis. We performed this exploratory sub-analysis to examine the mechanism underlying improved survival in patients sedated with dexmedetomidine. METHODS: The DESIRE trial compared a sedation strategy with and without dexmedetomidine among 201 mechanically ventilated adult patients with sepsis across eight ICUs in Japan. In the present study, we included 104 patients with Acute Physiology and Chronic Health Evaluation II (APACHE II) scores of ≥ 23 (54 in the dexmedetomidine [DEX] group and 50 in the non-dexmedetomidine [non-DEX] group). Initially, we compared the changes in the sequential organ failure assessment (SOFA) scores from the baseline within 6 days after randomization between groups. Subsequently, we evaluated the variables comprising the organ component of the SOFA score that showed relevant improvement in the initial comparison. RESULTS: The mean patient age was 71.0 ± 14.1 years. There was no difference in the median APACHE II score between the two groups (29 [interquartile range (IQR), 25–31] vs. 30 [IQR, 25–33]; p = 0.35). The median SOFA score at the baseline was lower in the DEX group (9 [IQR, 7–11] vs. 11 [IQR, 9–13]; p = 0.01). While the renal SOFA subscore at the baseline was similar for both groups, it significantly decreased in the DEX group on day 4 (p = 0.02). During the first 6 days, the urinary output was not significantly different (p = 0.09), but serum creatinine levels were significantly lower (p = 0.04) in the DEX group. The 28-day and in-hospital mortality rates were significantly lower in the DEX group (22% vs. 42%; p = 0.03, 28% vs. 52%; p = 0.01, respectively). CONCLUSION: A sedation strategy with dexmedetomidine is associated with improved renal function and decrease mortality rates among patients with severe sepsis. TRIAL REGISTRATION: This trial was registered on ClinicalTrials.gov (NCT01760967) on January 1, 2013.'"
            ]
          },
          "metadata": {
            "tags": []
          },
          "execution_count": 16
        }
      ]
    },
    {
      "cell_type": "markdown",
      "metadata": {
        "id": "4C2s7AtNKDnD"
      },
      "source": [
        "### Save as csv - not work"
      ]
    },
    {
      "cell_type": "code",
      "metadata": {
        "id": "y1UomC0VIqfR"
      },
      "source": [
        "import csv\n",
        "\n",
        "with open(\"all_data.csv\", \"w\", newline=\"\") as f:\n",
        "    writer = csv.writer(f)\n",
        "    writer.writerows(data_merged)"
      ],
      "execution_count": null,
      "outputs": []
    },
    {
      "cell_type": "code",
      "metadata": {
        "id": "_MEiU0O_JFYb"
      },
      "source": [
        "with open('all_data.csv', 'r') as f:\n",
        "  i = 0\n",
        "  for item in f:\n",
        "    i += 1\n",
        "    print(item)\n",
        "    if i > 10:\n",
        "      break"
      ],
      "execution_count": null,
      "outputs": []
    },
    {
      "cell_type": "code",
      "metadata": {
        "colab": {
          "base_uri": "https://localhost:8080/"
        },
        "id": "XcdEXC7iK8mq",
        "outputId": "40d245b9-24e2-4c04-ff0b-1721fca31d47"
      },
      "source": [
        "print(\"data length: \", len(lines))\n",
        "print(lines[0])\n",
        "data_merged = lines"
      ],
      "execution_count": null,
      "outputs": [
        {
          "output_type": "stream",
          "text": [
            "163223\n",
            "Dexmedetomidine improved renal function in patients with severe sepsis: an exploratory analysis of a randomized controlled trial. BACKGROUND: Dexmedetomidine has been reported to improve organ dysfunction in critically ill patients. In a recent randomized controlled trial (Dexmedetomidine for Sepsis in Intensive Care Unit (ICU) Randomized Evolution [DESIRE]), we demonstrated that dexmedetomidine was associated with reduced mortality risk among patients with severe sepsis. We performed this exploratory sub-analysis to examine the mechanism underlying improved survival in patients sedated with dexmedetomidine. METHODS: The DESIRE trial compared a sedation strategy with and without dexmedetomidine among 201 mechanically ventilated adult patients with sepsis across eight ICUs in Japan. In the present study, we included 104 patients with Acute Physiology and Chronic Health Evaluation II (APACHE II) scores of ≥ 23 (54 in the dexmedetomidine [DEX] group and 50 in the non-dexmedetomidine [non-DEX] group). Initially, we compared the changes in the sequential organ failure assessment (SOFA) scores from the baseline within 6 days after randomization between groups. Subsequently, we evaluated the variables comprising the organ component of the SOFA score that showed relevant improvement in the initial comparison. RESULTS: The mean patient age was 71.0 ± 14.1 years. There was no difference in the median APACHE II score between the two groups (29 [interquartile range (IQR), 25–31] vs. 30 [IQR, 25–33]; p = 0.35). The median SOFA score at the baseline was lower in the DEX group (9 [IQR, 7–11] vs. 11 [IQR, 9–13]; p = 0.01). While the renal SOFA subscore at the baseline was similar for both groups, it significantly decreased in the DEX group on day 4 (p = 0.02). During the first 6 days, the urinary output was not significantly different (p = 0.09), but serum creatinine levels were significantly lower (p = 0.04) in the DEX group. The 28-day and in-hospital mortality rates were significantly lower in the DEX group (22% vs. 42%; p = 0.03, 28% vs. 52%; p = 0.01, respectively). CONCLUSION: A sedation strategy with dexmedetomidine is associated with improved renal function and decrease mortality rates among patients with severe sepsis. TRIAL REGISTRATION: This trial was registered on ClinicalTrials.gov (NCT01760967) on January 1, 2013.\n",
            "\n"
          ],
          "name": "stdout"
        }
      ]
    },
    {
      "cell_type": "markdown",
      "metadata": {
        "id": "xrla9BMrKBIe"
      },
      "source": [
        "### Save as text"
      ]
    },
    {
      "cell_type": "code",
      "metadata": {
        "colab": {
          "base_uri": "https://localhost:8080/"
        },
        "id": "O9fcolG4HC6n",
        "outputId": "9b16850b-11d8-4393-df61-deae8769579b"
      },
      "source": [
        "from tqdm import tqdm\n",
        "import numpy as np\n",
        "with open('all_data.txt', 'w') as f:\n",
        "  for item in tqdm(data_merged):\n",
        "    f.write(\"%s\\n\" % item)"
      ],
      "execution_count": null,
      "outputs": [
        {
          "output_type": "stream",
          "text": [
            "100%|██████████| 163223/163223 [00:06<00:00, 25486.95it/s]\n"
          ],
          "name": "stderr"
        }
      ]
    },
    {
      "cell_type": "code",
      "metadata": {
        "id": "tg6M45LQIA5m"
      },
      "source": [
        "with open('all_data.txt', 'r') as f:\n",
        "  i = 0\n",
        "  for item in f:\n",
        "    i += 1\n",
        "    print(item)\n",
        "    if i > 10:\n",
        "      break"
      ],
      "execution_count": null,
      "outputs": []
    },
    {
      "cell_type": "markdown",
      "metadata": {
        "id": "rQUAllQ38chh"
      },
      "source": [
        "### Load from txt"
      ]
    },
    {
      "cell_type": "code",
      "metadata": {
        "colab": {
          "base_uri": "https://localhost:8080/"
        },
        "id": "T8NM4WtBHcP4",
        "outputId": "464f04f1-9981-432f-a4c0-e2571e49988c"
      },
      "source": [
        "# %cd /content/drive/MyDrive/Winter2021/EECS545/project/EECS545_fina_project/\n",
        "%cd /content/drive/MyDrive/EECS545/"
      ],
      "execution_count": 3,
      "outputs": [
        {
          "output_type": "stream",
          "text": [
            "/content/drive/MyDrive/EECS545\n"
          ],
          "name": "stdout"
        }
      ]
    },
    {
      "cell_type": "code",
      "metadata": {
        "colab": {
          "base_uri": "https://localhost:8080/"
        },
        "id": "7qZSkp-EHojF",
        "outputId": "4a266dc1-df9d-4c96-fef4-db6365c506ee"
      },
      "source": [
        "!pwd"
      ],
      "execution_count": 4,
      "outputs": [
        {
          "output_type": "stream",
          "text": [
            "/content/drive/MyDrive/EECS545\n"
          ],
          "name": "stdout"
        }
      ]
    },
    {
      "cell_type": "code",
      "metadata": {
        "id": "TEhKscA5KHff"
      },
      "source": [
        "with open('all_data.txt', 'r') as f:\n",
        "  data_merged = f.readlines()"
      ],
      "execution_count": 5,
      "outputs": []
    },
    {
      "cell_type": "markdown",
      "metadata": {
        "id": "89aWWUwBELMB"
      },
      "source": [
        "# Data Preprocessing - not used"
      ]
    },
    {
      "cell_type": "code",
      "metadata": {
        "id": "MrYFqGcsENzp"
      },
      "source": [
        "class Preprocessor(object):\n",
        "  def __init__(self, stopwords, stemmer):\n",
        "    self.stopwords = stopwords\n",
        "    self.stemmer = stemmer\n",
        "  \n",
        "  # tokenization and stemming\n",
        "  def tokenization_and_stemming(self, text):\n",
        "    tokens = []\n",
        "\n",
        "    # exclude stop words and tokenize the document, generate a list of string \n",
        "    for word in nltk.word_tokenize(text):\n",
        "        if word.lower() not in stopwords:\n",
        "            tokens.append(word.lower())\n",
        "\n",
        "    filtered_tokens = []\n",
        "    \n",
        "    # filter out any tokens not containing letters (e.g., numeric tokens, raw punctuation)\n",
        "    for token in tokens:\n",
        "        if token.isalpha():\n",
        "            filtered_tokens.append(token)\n",
        "            \n",
        "    # stemming\n",
        "    stems = [stemmer.stem(t) for t in filtered_tokens]\n",
        "    return stems\n",
        "\n",
        "  def preprocess(self, text):\n",
        "        \"\"\"\n",
        "        Main function to preprocess the text\n",
        "        \"\"\"\n",
        "        lang = self.detect_language(text)\n",
        "            \n",
        "        if lang in [\"en\", \"fr\", \"es\", \"it\", \"de\", \"pt\"]:\n",
        "            nlp = self.nlp_list[lang]\n",
        "        else:\n",
        "            nlp = self.nlp_list[self.default_language]\n",
        "            \n",
        "        # Delete some punctuation before preprocessing BUT not all of it because some can be involved in n-grams (e.g. \"-\")\n",
        "        text=re.sub(r'[!\"#$%&\\'()*+,./:;<=>?@\\[\\\\\\]^_`{|}~]',r' ',text) \n",
        "        \n",
        "        # Apply spacy to the text\n",
        "        doc = nlp(text)\n",
        "        # Lemmatization, remotion of noise (stopwords, digit, puntuaction and singol characters)\n",
        "        tokens = [\n",
        "            token.lemma_ for token in doc if\n",
        "            token.lemma_ != '-PRON-'\n",
        "            and not token.is_punct\n",
        "            and not token.is_digit\n",
        "            and not token.like_num\n",
        "            and not token.like_url\n",
        "            and not token.like_email\n",
        "            and len(token.lemma_) >= self.min_token_len and len(token.text) >= self.min_token_len\n",
        "            and token.lemma_.lower() not in self.stop_list_all and token.text.lower() not in self.stop_list_all\n",
        "        ]\n",
        "        \n",
        "        # Recreation of the text\n",
        "        text = \" \".join(tokens)\n",
        "\n",
        "        # Remove accents, normalize to ascii\n",
        "        if self.force_ascii:\n",
        "            text = normalize('NFD', text).encode('ascii', 'ignore').decode('UTF-8')\n",
        "        \n",
        "        if self.force_deaccent:\n",
        "            text = deaccent(text)\n",
        "    \n",
        "        # Remove double spaces\n",
        "        text=re.sub(r'\\s+',r' ',text)\n",
        "        \n",
        "        # Set as lowercase\n",
        "        text = text.lower().strip()"
      ],
      "execution_count": null,
      "outputs": []
    },
    {
      "cell_type": "code",
      "metadata": {
        "colab": {
          "base_uri": "https://localhost:8080/"
        },
        "id": "mXEy6UVEERjK",
        "outputId": "57384348-f0d0-4226-afde-ebc4bb58619c"
      },
      "source": [
        "# Use nltk's English stopwords.\n",
        "stopwords = nltk.corpus.stopwords.words('english') #stopwords.append(\"n't\")\n",
        "stopwords.append(\"'s\")\n",
        "stopwords.append(\"'m\")\n",
        "stopwords.append(\"br\") #html <br>\n",
        "stopwords.append(\"COVID\")\n",
        "\n",
        "print (\"We use \" + str(len(stopwords)) + \" stop-words from nltk library.\")\n",
        "print (stopwords[:10])\n",
        "\n",
        "stemmer = SnowballStemmer(\"english\")\n",
        "preprocessor = Preprocessor(stopwords, stemmer)\n",
        "tokens = preprocessor.tokenization_and_stemming(data_merged[0])\n",
        "print(tokens)"
      ],
      "execution_count": null,
      "outputs": [
        {
          "output_type": "stream",
          "text": [
            "We use 183 stop-words from nltk library.\n",
            "['i', 'me', 'my', 'myself', 'we', 'our', 'ours', 'ourselves', 'you', \"you're\"]\n",
            "['dexmedetomidin', 'improv', 'renal', 'function', 'patient', 'sever', 'sepsi', 'exploratori', 'analysi', 'random', 'control', 'trial', 'background', 'dexmedetomidin', 'report', 'improv', 'organ', 'dysfunct', 'critic', 'ill', 'patient', 'recent', 'random', 'control', 'trial', 'dexmedetomidin', 'sepsi', 'intens', 'care', 'unit', 'icu', 'random', 'evolut', 'desir', 'demonstr', 'dexmedetomidin', 'associ', 'reduc', 'mortal', 'risk', 'among', 'patient', 'sever', 'sepsi', 'perform', 'exploratori', 'examin', 'mechan', 'under', 'improv', 'surviv', 'patient', 'sedat', 'dexmedetomidin', 'method', 'desir', 'trial', 'compar', 'sedat', 'strategi', 'without', 'dexmedetomidin', 'among', 'mechan', 'ventil', 'adult', 'patient', 'sepsi', 'across', 'eight', 'icus', 'japan', 'present', 'studi', 'includ', 'patient', 'acut', 'physiolog', 'chronic', 'health', 'evalu', 'ii', 'apach', 'ii', 'score', 'dexmedetomidin', 'dex', 'group', 'group', 'initi', 'compar', 'chang', 'sequenti', 'organ', 'failur', 'assess', 'sofa', 'score', 'baselin', 'within', 'day', 'random', 'group', 'subsequ', 'evalu', 'variabl', 'compris', 'organ', 'compon', 'sofa', 'score', 'show', 'relev', 'improv', 'initi', 'comparison', 'result', 'mean', 'patient', 'age', 'year', 'differ', 'median', 'apach', 'ii', 'score', 'two', 'group', 'interquartil', 'rang', 'iqr', 'iqr', 'p', 'median', 'sofa', 'score', 'baselin', 'lower', 'dex', 'group', 'iqr', 'iqr', 'p', 'renal', 'sofa', 'subscor', 'baselin', 'similar', 'group', 'signific', 'decreas', 'dex', 'group', 'day', 'p', 'first', 'day', 'urinari', 'output', 'signific', 'differ', 'p', 'serum', 'creatinin', 'level', 'signific', 'lower', 'p', 'dex', 'group', 'mortal', 'rate', 'signific', 'lower', 'dex', 'group', 'p', 'p', 'respect', 'conclus', 'sedat', 'strategi', 'dexmedetomidin', 'associ', 'improv', 'renal', 'function', 'decreas', 'mortal', 'rate', 'among', 'patient', 'sever', 'sepsi', 'trial', 'registr', 'trial', 'regist', 'januari']\n"
          ],
          "name": "stdout"
        }
      ]
    },
    {
      "cell_type": "markdown",
      "metadata": {
        "id": "bpJdZ1JHOaxX"
      },
      "source": [
        "# Bert on all_data"
      ]
    },
    {
      "cell_type": "code",
      "metadata": {
        "colab": {
          "base_uri": "https://localhost:8080/"
        },
        "id": "Wbxe9WKaN5uE",
        "outputId": "1284d4ca-1d58-43a9-b489-0b1f68bf181b"
      },
      "source": [
        "print(type(data_merged), len(data_merged), '\\n', data_merged[10])"
      ],
      "execution_count": null,
      "outputs": [
        {
          "output_type": "stream",
          "text": [
            "<class 'list'> 163223 \n",
            " Clinical characteristics of patients with pneumonia caused by Klebsiella pneumoniae in Taiwan and prevalence of antimicrobial-resistant and hypervirulent strains: a retrospective study. BACKGROUND: We aimed to compare the clinical characteristics of patients with community-acquired pneumonia (CAP), healthcare-associated pneumonia (HCAP), and hospital-acquired pneumonia (HAP) caused by Klebsiella pneumoniae and analyze the antimicrobial resistance and proportion of hypervirluent strains of the microbial isolates. METHODS: We conducted a retrospective study on patients with pneumonia caused by K. pneumoniae at the Taipei Veterans General Hospital in Taiwan between January 2014 and December 2016. To analyze the clinical characteristics of these patients, data was extracted from their medical records. K. pneumoniae strains were subjected to antimicrobial susceptibility testing, capsular genotyping and detection of the rmpA and rmpA2 genes to identify hypervirulent strains. RESULTS: We identified 276 patients with pneumonia caused by K. pneumoniae, of which 68 (24.6%), 74 (26.8%), and 134 (48.6%) presented with CAP, HCAP, and HAP, respectively. The 28-day mortality was highest in the HAP group (39.6%), followed by the HCAP (29.7%) and CAP (27.9%) groups. The HAP group also featured the highest proportion of multi-drug resistant strains (49.3%), followed by the HCAP (36.5%) and CAP groups (10.3%), while the CAP group had the highest proportion of hypervirulent strains (79.4%), followed by the HCAP (55.4%) and HAP groups (41.0%). CONCLUSION: Pneumonia caused by K. pneumoniae was associated with a high mortality. Importantly, multi-drug resistant strains were also detected in patients with CAP. Hypervirulent strains were prevalent in all 3 groups of pneumonia patients, even in those with HAP.\n",
            "\n"
          ],
          "name": "stdout"
        }
      ]
    },
    {
      "cell_type": "code",
      "metadata": {
        "id": "tp5t3bEgOdHA"
      },
      "source": [
        "model = BERTopic(verbose=True, calculate_probabilities=True)\n",
        "topics, probabilities = model.fit_transform(data_merged)"
      ],
      "execution_count": null,
      "outputs": []
    },
    {
      "cell_type": "code",
      "metadata": {
        "id": "U7cE2fHVGm5y"
      },
      "source": [
        "from bertopic import BERTopic\n",
        "from sentence_transformers import SentenceTransformer\n",
        "from tqdm import tqdm\n",
        "\n",
        "sample_per_doc = 1000\n",
        "# Prepare embeddings\n",
        "sentence_model = SentenceTransformer(\"distilbert-base-nli-mean-tokens\", device=\"cuda\")\n",
        "embeddings = sentence_model.encode(data_merged[::sample_per_doc], show_progress_bar=True)\n",
        "\n",
        "# Create topic model\n",
        "model = BERTopic(verbose=True, calculate_probabilities=True, nr_topics=7)\n",
        "topics, probabilities = model.fit_transform(data_merged[::sample_per_doc], embeddings)"
      ],
      "execution_count": null,
      "outputs": []
    },
    {
      "cell_type": "code",
      "metadata": {
        "id": "MwixQ2_6_FtR",
        "colab": {
          "base_uri": "https://localhost:8080/",
          "height": 164
        },
        "outputId": "2bf4c5e1-ec98-441f-c171-0e4ab18eca3f"
      },
      "source": [
        "major_topic = model.get_topic_freq()[\"Topic\"][1] #.head()\n",
        "model.get_topic_freq()"
      ],
      "execution_count": null,
      "outputs": [
        {
          "output_type": "execute_result",
          "data": {
            "text/html": [
              "<div>\n",
              "<style scoped>\n",
              "    .dataframe tbody tr th:only-of-type {\n",
              "        vertical-align: middle;\n",
              "    }\n",
              "\n",
              "    .dataframe tbody tr th {\n",
              "        vertical-align: top;\n",
              "    }\n",
              "\n",
              "    .dataframe thead th {\n",
              "        text-align: right;\n",
              "    }\n",
              "</style>\n",
              "<table border=\"1\" class=\"dataframe\">\n",
              "  <thead>\n",
              "    <tr style=\"text-align: right;\">\n",
              "      <th></th>\n",
              "      <th>Topic</th>\n",
              "      <th>Count</th>\n",
              "    </tr>\n",
              "  </thead>\n",
              "  <tbody>\n",
              "    <tr>\n",
              "      <th>0</th>\n",
              "      <td>-1</td>\n",
              "      <td>96</td>\n",
              "    </tr>\n",
              "    <tr>\n",
              "      <th>1</th>\n",
              "      <td>2</td>\n",
              "      <td>26</td>\n",
              "    </tr>\n",
              "    <tr>\n",
              "      <th>2</th>\n",
              "      <td>1</td>\n",
              "      <td>23</td>\n",
              "    </tr>\n",
              "    <tr>\n",
              "      <th>3</th>\n",
              "      <td>0</td>\n",
              "      <td>19</td>\n",
              "    </tr>\n",
              "  </tbody>\n",
              "</table>\n",
              "</div>"
            ],
            "text/plain": [
              "   Topic  Count\n",
              "0     -1     96\n",
              "1      2     26\n",
              "2      1     23\n",
              "3      0     19"
            ]
          },
          "metadata": {
            "tags": []
          },
          "execution_count": 30
        }
      ]
    },
    {
      "cell_type": "code",
      "metadata": {
        "id": "jCMtoPZF_qpI"
      },
      "source": [
        "model.get_topic(major_topic)"
      ],
      "execution_count": null,
      "outputs": []
    },
    {
      "cell_type": "code",
      "metadata": {
        "id": "wqCX4pPL_8d5"
      },
      "source": [
        "model.visualize_topics()"
      ],
      "execution_count": null,
      "outputs": []
    },
    {
      "cell_type": "code",
      "metadata": {
        "id": "AhQ-XqZsM8Zh"
      },
      "source": [
        "model.visualize_distribution(probabilities[0])"
      ],
      "execution_count": null,
      "outputs": []
    },
    {
      "cell_type": "code",
      "metadata": {
        "colab": {
          "base_uri": "https://localhost:8080/"
        },
        "id": "s9ifTfNgc_4_",
        "outputId": "467d9d58-d23e-4d4b-e644-cda6bf697bd7"
      },
      "source": [
        "embeddings.shape\n",
        "np.unique(topics)"
      ],
      "execution_count": null,
      "outputs": [
        {
          "output_type": "execute_result",
          "data": {
            "text/plain": [
              "array([-1,  0,  1,  2])"
            ]
          },
          "metadata": {
            "tags": []
          },
          "execution_count": 34
        }
      ]
    },
    {
      "cell_type": "code",
      "metadata": {
        "id": "d7gENm5ldR8q"
      },
      "source": [
        "topics = np.array(topics)\n",
        "idx_valid = (topics != -1)\n",
        "# len(idx_valid)\n",
        "idx_valid.shape\n",
        "np.unique(topics[idx_valid])"
      ],
      "execution_count": null,
      "outputs": []
    },
    {
      "cell_type": "code",
      "metadata": {
        "colab": {
          "base_uri": "https://localhost:8080/"
        },
        "id": "gbphkXK0eLKj",
        "outputId": "23d8350c-008d-45db-cbdb-df7a59449322"
      },
      "source": [
        "score = silhouette_score(embeddings[idx_valid], topics[idx_valid], metric = 'l2')\n",
        "score"
      ],
      "execution_count": null,
      "outputs": [
        {
          "output_type": "execute_result",
          "data": {
            "text/plain": [
              "0.022921918"
            ]
          },
          "metadata": {
            "tags": []
          },
          "execution_count": 83
        }
      ]
    },
    {
      "cell_type": "code",
      "metadata": {
        "id": "DdEKX_w-1ReV"
      },
      "source": [
        "def silhouette_on_k_cluster(num_cluster, sample_per_doc=16, verbose=False):\n",
        "  # extract topic\n",
        "  # print(\"num_cluster: \", num_cluster)\n",
        "  # Prepare embeddings\n",
        "  sentence_model = SentenceTransformer(\"distilbert-base-nli-mean-tokens\", device=\"cuda\")\n",
        "  embeddings = sentence_model.encode(data_merged[::sample_per_doc], show_progress_bar=verbose)\n",
        "\n",
        "  # Create topic model\n",
        "  model = BERTopic(verbose=verbose, calculate_probabilities=True, nr_topics=num_cluster)\n",
        "  topics, probabilities = model.fit_transform(data_merged[::sample_per_doc], embeddings)\n",
        "\n",
        "  topics = np.array(topics)\n",
        "  idx_valid = (topics != -1)\n",
        "  score = silhouette_score(embeddings[idx_valid], topics[idx_valid], metric = 'l2')\n",
        "\n",
        "  try:\n",
        "    major_topic = model.get_topic_freq()[\"Topic\"][1]\n",
        "  except:\n",
        "    major_topic = []\n",
        "\n",
        "  return score, model.get_topic(major_topic), model"
      ],
      "execution_count": null,
      "outputs": []
    },
    {
      "cell_type": "code",
      "metadata": {
        "colab": {
          "base_uri": "https://localhost:8080/",
          "height": 1000,
          "referenced_widgets": [
            "463c7953be35463a8ebaa00e36e658e2",
            "9503d3c446884489b682817adbf54694",
            "fcf30ac233144a1da2e520a894199dc9",
            "52ad98475d384716b01c89626fc5527d",
            "2aee7e3b644845a4a8bbbf6ae4f7654f",
            "68ae75c98fa546fda403bb97ed5901ae",
            "3c19a4b54d4f4667867cc2b6380b999a",
            "f1848cfdb8cb4aef944a636c8b72b8b3",
            "763728a6a9814b6aa2e18061d1afe1ab",
            "024931e8ddc0499e8838ae78e352f043",
            "767518834ed2417ba490ff8400bccce9",
            "015c4b2ed4284b32b7d801c0f23141af",
            "d343c7e094a147888f0f9697462c6022",
            "6baee5244b534fb591121c6f741d45ef",
            "d46c2bbb05444436af5ae93d0c282d12",
            "ffcdcf10e5b645529d849f0c3b89d014",
            "a7dde4ad60274d4fa8454a35ad8745d6",
            "871449334cee4e36a868806a8d74138b",
            "62bbf3ef6ba6442a97ccf2835e5a2eb6",
            "2c15b066495a4e28a4b037d9b11fd7b4",
            "2a6124ad6b014c2c97a81ae13b96292f",
            "12a8be3ffc6d4edb8a58797fa069d507",
            "b68f895304614dec9d25d3bf8af09b18",
            "ef77e9e762f046559103ea7c6a621a48",
            "9f8784623b374dcf8c5d5cedb31e5109",
            "cc2d5ec9dd5b405685e62bd13a871da9",
            "c5b1b11cd51e4e74b1207569cdca1b2d",
            "0f1b2a8b63d04b4783b0450c40e9c78a",
            "4b40caaad26c482086bdc16b88100498",
            "c174376470da4d01b882de0b80dde9cc",
            "5aa0237c54c54c97b174414378455446",
            "c459297415ef4a0498ada653595d9916",
            "20ab21fe89b24fbcaed41a7a328a32e8",
            "2ea9ca31037d41c3b5d40943b2be95f8",
            "d1d9d380279a451dbb4e1c32834923f2",
            "3b2c06b8850e4092ba0fbcdbab103567",
            "0b159902f5db48d9bb397c30a19515e4",
            "ca739db4b6304fafb95fe3ac9a7d7d6d",
            "c0d2a00e5fed4fa6bd4e7a3eb9b12e22",
            "17834442f00a479791422f7840de3b3b",
            "0837d2f6955b4e6683d2828a26d0d1e3",
            "22d312ed05c5437eb434331656da90eb",
            "99c461958f0e4f61ad59ca519a75b04f",
            "f57462f5097b4f6683466a9d9886173e",
            "9c4de266ecd9473da6d06e025001c7e5",
            "9f37eb89c6df41968e38a171c1766e64",
            "d854a85ee3ca4b32bbba25facf783a67",
            "e51da513a6cd48a7b5854b1dd2f64b46",
            "393a8735c50e4467b683af7f19347c88",
            "4e01fc97b16b4349af306a17643e2d50",
            "fc5ef41ee3b44158a5b7c4c565040afd",
            "ace8cd5298064ca78c396212a3e62f29",
            "d0bcfdbc3bef48778aa210f7d66c42fb",
            "9597ff6999bd478a9f4a7e9fadca7202",
            "a78e90473203446faf5580f8b6779ede",
            "b0cb9dc1a17b4933afdf0e9a3e8d401a",
            "63c53ce80c0643ffb9d9afbeb464f654",
            "0b1937dae2424ae8b697de9f56c1b940",
            "c9eb68540135447daca7b125006416b5",
            "91502a3cb72c4c1dbcc389027ae97e46",
            "299a9a23cb434c77b9fd414f03034cdf",
            "491ddcdcd62e451d855a62389c42addb",
            "f5d86145e4854f20bb76a5d9089f44ce",
            "3a7481d63d3e4b0bba22087572e7242e",
            "925e507855024e549b597becde64525f",
            "7d5f975253384db9b6acd26688da73a6",
            "ba9a711a09b74eae8bf1ec457838a139",
            "cd5755a59ece476ba63a5fc7128a28c3",
            "433815b42e384ea8b1ef04f0b5e2a2bb",
            "28d4cb86a675445f8f507f38762e7a22",
            "98f134f375584830b1b27bafd834b288",
            "269971b7dffa4da49c954a06998c92e1",
            "a1492fdaf954412a9808900542ed51b8",
            "e9ebebee8e6942d5b9ca70e71000fc64",
            "98106ace118841f59957356777746085",
            "f35a04dac1af4cf0b8e2c17d4d2f7fbb",
            "0c191b29fb594250a5d3667746527aad",
            "bb96c826d685434791b3912abc99ba2e",
            "826d90e416944fc5bc0a4d0a322d8256",
            "44504e891dc44e86b3dca250bb1c3c01",
            "bdbfb704df514a42ba51d067981b4fb2",
            "a18e9ef7700f4ecd936c39613da0aa89",
            "5e521b1618134e3a8400a31c0901faea",
            "e643da8cc2f043f691477c3367e8f32b",
            "093df623f76d48099289e5bb9fcf5bce",
            "613ab0304e204e4c819ba223419a0081",
            "4f0a7d12ce584263a4101555bdbb553a",
            "917fa1acd3814b54b45315a9744e9d85",
            "882c7749f19142be8b026362e711d87c",
            "4d351bc043b149c9aff71d311168939d",
            "664a78cf166e4d6d89dcf855b78da844",
            "64aa8092de594c78b7b5dea1b4f48a3a",
            "bc68bf797b4f44c59d7dbe9484c8ea4f",
            "e737495f16684415a1c933c50521cb48",
            "6ea5c86b095a49dcb64c1b6281a31500",
            "71f95156f89d4432babc22a5a226e926",
            "3c80adcceecf4bc99afc1eae04e9ca24",
            "1f82d3375420435d94e1ebf34fa913e8",
            "afeea07a8c784c5db9254c8d45ad487c",
            "44c74ddd47614dae8cef7864c2c65097",
            "e06685b05e4e41469b68105ea3b40e07",
            "8e2c08abddb24675ba69bc7d0215cf27",
            "00fdf775a01142c98bde2c685e6d6415",
            "bfcc6b4f9d704ef588225c96fce2eef6",
            "c6738b2d706447bcbb8d1c670eacf514",
            "43b3ef44882c40eaa177f69c7c230128",
            "76ad02941ae24ddd845b106e29bad456",
            "8e2997f9a9d34a7a8ce6b02757a510c3",
            "1cb795796b524382beefaa69340be8e2",
            "0a60e40453c842c8ab29cf3934e1579d",
            "1cea15df73314f78b81081b4881cab10",
            "7be0db28f8b24cd2bfd05268ae57c025",
            "c4c7a5a7bd8d408291b3ebff23d1c942",
            "3c0a80ff5263463085054479bc44fcbf",
            "430ad351a86e4011a9f31967559b63ad",
            "425559747a1f41168d8920e335af57f4",
            "61f1164bf7514ca0813c608a114ad294",
            "1734812554124ec5849569b80d06edff",
            "51b67be4d0914d5990f7303076868cb7",
            "a7fbf4b5bafc40a0bfc5f3d0a3ad6847",
            "2c93e3de682c4e20a56b771ba0f9b021",
            "4572ed5ec6324590bd825b9aec4d4b41",
            "d50c548498f24bb6924f09101db96c6a",
            "a87d058a63034a54b9fabc9015576fcd",
            "4d0a42fedf1c471bbd4dc5fd63a0b965",
            "bba4ac4bc08b47a6a0e1b386189c29ab",
            "9cd457e819654ae68c4375bce5fb0844",
            "15b765cd4b6247bea95763389bfbabcf",
            "e50550b02c6840b191b22646a5f247b1",
            "6b8ce3290eef46b28955e16aff54b179",
            "c250279784244debb989e4269528b3ea",
            "a25abe7a8eb74ae4982b9e6f1a5c481c",
            "26167c27c8094c6ba4af3d3a61da5f0a",
            "74620a2b1cb54af6862bb1edbc280649",
            "29b009f6c99e4e3d88c1be5bfe9a71da",
            "de8bc493de024fb89b5a27b82ce1aca9",
            "dbdc7f0b62294d328944f8f3fe798bdd",
            "e0e9bbe8da4b47ce96996d37495b00be",
            "bd97b46f2cbd4abca46abaec91e62ab0",
            "e24f6caba42b4343885692f04be44a6f",
            "09a2205b0af0487d82305fd022dc5bd2",
            "9c4c3c6393184dab929cfad725d75b2a",
            "7bad5365b87d4ddb82155e67c79b9103",
            "8e5d26ff0bfa4bbb941de261dca4e4de",
            "5cfe3bb843c449f9ad5711f7758eed06",
            "331923bc8071430da35a1ddf6a11dec6",
            "d813d203c95d45f2902866269020acb9",
            "6197683636f64ac6bac6a20f74f18f9b",
            "1b16f3652c2143998dd0fabe55fd75a7",
            "42742cf0781945a0a90038e096a823c1",
            "f81c83afb0404b4490793c215d740607",
            "c3669f766b4b41bdb43a8f258dbb4803",
            "0fb6b09986b04b63a6f771de82c28ab8",
            "82e0a02d4e75464381264e012821b626",
            "abececef48f94d6dbe6d3a8a6a55f718",
            "52959af7e816485eb327093f14b7d93a",
            "4306cee5328c492a9f13d70f3d38c8b6",
            "ed1ecaead7f4470e9a4e07d7ccb12307",
            "ec56d1155e72435793639545e2beaa7d",
            "3122796662154714955d2fac1e22336a",
            "e82890aafaf04c6385b76c8dafbb69c5",
            "2e3395ac154a4f5f92189b419c56c9c0",
            "6325a0773c91446f8c880d16de3913a8",
            "bb98e328c4f14f9a99c30a8096fd0935",
            "c737e22a40d4448b918041c872594218",
            "ddbdc27e1d604f39a8dc24137673173e",
            "d1010f6f3a024dc581c4d7517711997a",
            "3a7dbc0ffd2b4994a30605c57d9a1162",
            "200dc3a142d541d387794fa20801d34f",
            "9b91e5a4df414b1a8827333b63f7db00",
            "e63d56417cc541798617a1bb07a5a73c",
            "d3c5353bdb384a9a882169e22ae5b5ac",
            "a1775f2c01254fbe9e49c5736971eb89",
            "567d8b8479394194834ecd5c512824d1",
            "3c3b84e089df47a591e3ae0daf654407",
            "b2dcf472934548859c0ea38544081bfb",
            "afcb2fa02071482bb53468f6698a79c5",
            "409c51eb0ce745849fc679231b704dac",
            "a35d8f380594437a8638696b42a861b7",
            "d36f5454deed4776bad42209a3e0f492",
            "f9f2e1fbd4a6426f954bf07d904b5052",
            "5d2a451cffca44178e7d1117efd52e27",
            "97037daec06e452696d338bec804d6ed",
            "8d7ce71289f1420cbe3ec956e440c180",
            "70a32f31c22b458881b658ba451c414a",
            "90604448c137496ab6ee909d3d1f13fa",
            "745a77335e3d481abad95e1c583a4b97",
            "38bca362d8e14c158a52882af45aaf1e",
            "316b12ed7e884132aa596751376e762c",
            "6c8bfa9f50d34619942a89389017ae50",
            "833a34dbe46e461ebf26ea2341b98b41",
            "c677bf1ff0954b2fa9198acd99523525",
            "24d54ab604134de9a3a31bed49ce7c85",
            "1c2439b0c49b46ac82e8ffebedca2e51",
            "d3a59bfd31424992b8dab3f54f9166be",
            "933c5de7ea954ef88f7cea346f12dd9e",
            "c622544097cb4ca2b8152a3e43822ae2",
            "a007a94124e8466ebb0e49325744af50",
            "b11070bc96cc4935bfd6b8ff9a08d456",
            "0c1c1c9dd3f04f9e81ad6a74feb4543b",
            "dc7dee66d014419784df932e027ffc0c",
            "eb6d04801cc74b5ba470d09319d7d3b8",
            "0fcbbe9216254963a424ba93c7675946",
            "5232bdacea534afa811f3b7c91427ecf",
            "49fa674324af4c93b9887acce41b7e24",
            "57782beb4aba48c083b438808bd5470f",
            "35637d1986e94444ac3286253ea95215",
            "93728f0351ff447689b6ec1aac8e2c5f",
            "60dfd75aa6524a14b7556898d0fb3e0d",
            "7e2187c5c8d74da8a1653558b520c105",
            "af441da84c1344b88801df5375e98b5a",
            "e7ef715b59ba433582657e29f534a823",
            "4e2ba21d53e1419fbbcfab087c3df6e1",
            "d0b95ffc7ea8477a8d901f8e385bfb84",
            "400613fa0b7b4dd8a9acccd95746142a",
            "b3d78cc3ef3648b69bc88db1e7ff1e28",
            "8aa5ff90f4794715b801f6798445fee4",
            "c21f9608bd80460fb081ae8f3a4f90dd",
            "86b68548a0734ab1a3658a38cb7050ee",
            "121327b0cc2246a0af3fba1bc8c07305",
            "1a936653bd3e49a59122f524498b69fd",
            "509eb8e47035499590f86f09856b2652",
            "394b6de174e142a7930e471582614dff",
            "e25be458895443e2be6b10f081fe4864",
            "7c9179ec66c043c097048bf70e14c45e",
            "6227dc8e6cd54eba8d20042138e4f7df",
            "3580db8799b64a2db629a6a586a1232d",
            "ba4bbcdcb10c46dfbc74c09eb6e138b8",
            "ec3f208cd35e47768ed14706f51c165a",
            "09553f83e64e46b98b34948d1b2eec08",
            "7961409c6d014ec0b5426c1129f95d92",
            "f4d6b09db8fa4f7ba75a339874c28406",
            "063a9b12d2e04c6ba727a0b7ee9ea65c",
            "5c83c2fd16af4eea801eb6017d465361",
            "dbda44864ac94de993a746685bf3ee47",
            "d9e4198ac78841689d418c38eb3437c9",
            "ab736fcb7b084a74b57df31e7d1304fa",
            "b2d4ba3502684f248cf4209c3bd5d88c",
            "5d6a1fd5983940d6b4ff838f322db987",
            "a53b1436bf9f4452b1124d7924198ce5",
            "f0b670905b294f1992176dca3c4bc2d4",
            "517b348154aa413e9a6b15e5b1e8e754",
            "0d05ffeff96a426bb6d625fc595983e0",
            "b5370f8eed5a4f6c9370424f8a156606",
            "9d10941642b14cb8a1561bfa93f6cd55",
            "92ccd421cdb9467f92abe7677529611e",
            "9b1a2908dc6d4b8588fde057f65a9cc9",
            "1b5452ba234247a58de2de156765bb56",
            "eba2d924445346db81c580a93d6cf021",
            "175913a6fb85498d930aa6659bc6827f",
            "39665ca84dd74fcdb12d4546cd7d9ed7",
            "039746cf816646ababd0f187bdb6a4d1",
            "8222c7f9fa784c38975579c2bffda8c0",
            "d810158730c4483e8907c285e52347da",
            "42b282a3824b41de8f91a0156e64d925",
            "4c42dd2a9d2f4c44bb189729fc6fdf63",
            "3683f29dd66f4dffbd273f9e00acc643",
            "6d6abbb090c34a4cab28223719706bb9",
            "aedcd69d70854bde83be246e547b73b1",
            "35a85d09c57f49c6aa552d20599799e6",
            "13c070f67c3b4146bbe42720e575d81d",
            "832b95b34e58433c982109df9a305dd8",
            "a37de77c7d674cfc8fd9e8973f200f92",
            "6ef34dfafb364d819c210ee9229c2a8f",
            "2283ee506caa4e2b8f35792ef114701e",
            "00d2a9aee9fc4d5db7be5180bd57be7b",
            "c899ee75e9a242af8d8537eb26a173f3",
            "630c60472f2c4c2aaec293600e97ac94",
            "ea3f6d7f399f453a9c6b4039b3765e12",
            "0cc550a320ea48cba6dbf80c68abbffa",
            "809976bc310b41d4a8562c283224f1f1",
            "1f48b694bdc7461992634b69a1124cc4",
            "5445e0c40f3e4398b8b32c64f9735ad2",
            "e142abd6c3354134926e4cff5a29d1ed",
            "82a6d1ab936546b5b1868d558bbd278f",
            "eb8e031a31cf4b8ba1bef1eaf4f85546",
            "2d279f3e4b4a45bb8d0ed9e7039764cb",
            "103863384c8946ac89956d1f4f621574",
            "7ebccf2737024e928d89bd28f5148069",
            "d36ca92e2b0543f88d1c747e155ffed4",
            "d8b57cd5761145ff85637649bb1b1fca",
            "b7b8fc73ed504cca8d88ca60d6718538",
            "d190c0932c854830923ea6ee0dd2fbe1",
            "d3dad3b2bdb64285bcf1ed68d84beece",
            "b7d2730b54774bd1b1c98999d2d3afbf",
            "c6a4e0bb34d244fabd6ccd472b0b4a95",
            "076f682e33a64586b0a22d603850a833",
            "7a95f8ec4730400e964ea5485b2ef0fd",
            "06b5cd4121e648e6881f130b44c37b06",
            "9689b5c7283a499fa7941f43e892a1da",
            "f0f826a002124b308e47c7e1333d5420",
            "f225be6a7b0a4b89a8e417f7a1f542d1",
            "b720c5a5787e4e4c9a12ff0cc4120ca8",
            "f4067cf4c9414e25a7eb23493a8ad739",
            "2b9831154f684713b9f925ca526f69a8",
            "1e4b7dff157a45f099f7e62698514cf0",
            "d5454a5771e944c4b008f4928946fb92",
            "4e00fb8d34ea4597b41dc2d2f05c3489",
            "53069544730a47c59f333ae73c806182",
            "8362e0d87be54394af938233b8bf8ccc",
            "d9cfc15b283345518ef07b3728ef10e0",
            "3e2f58217fc84cc8b4c8908152cee371",
            "590807cec53942e59146a8580f1c3267",
            "9ee134c72d94411e98c1477ccbcbb433",
            "4ea8025b7cb34ecdaf344dc100881223",
            "1f0b464fd51742edb0c42c19cb528cd1",
            "f4e5f11de70842ce85c2f27d51890022",
            "7b412ce311254d69a933498974668614",
            "fb987e6825694e9bba80e9792661d603",
            "763407838f7346a0a8ba33f98fe68320",
            "90423e4227da4b6ba03c4418c6777682",
            "ee61cab8293d49db8632c2d9abd533bb",
            "fb590d1dad1946c9b89fdc587abf526a",
            "15947ac6175549d3926a080458fa76ea",
            "a7b06d4d07274ad48f03b3f29c1bc313",
            "8f7b3bc6c3294497bb50b9bb9644309c",
            "a9c46f37bec14373b2d8818ec5b579c7",
            "8af402fd57b247e4920256577075f3e3",
            "b026e80b67c94497961b3e70fe9e6b9d",
            "898e656c81b1468aa9f7dc7b3c6a2a25",
            "86af439703214e9693ea8061727e4d00",
            "6ac4a33a1b974ca4b1847b7436ae5f6f",
            "999399ce92824bf4b9cad7f47b450598",
            "c56add063bf040b48c500f79c1860c73",
            "1ee249d34100433e84dcb76cc4ef2a8d",
            "b2280b30b62f4a4a9d2dcca36ec0c3f2",
            "fa3cff95f5d84b6898d645bd0312e3d5",
            "963e12429faa40a5bb3622dfb99b4b61",
            "4fbaaf0f7b254f0f8083f5246aaa5e64",
            "6723d01ddec54485b2ed8feb33ea1c66",
            "9791279120484337be81b44857fd3dd5",
            "add6e02aea204e87a5b6f54b93d3c843",
            "d975f858dcb64bcbab0e574fbb430ce7",
            "54088bb8544d4a84a5ad0c61dc9bb106",
            "fdce71c8d0fa437db7c1618f7c8943a8",
            "053f24ca77ef411c96e4181525b3fcfa",
            "fe28a21250324888a6e881cda040ff47",
            "f00a16ed2f4d492ca7e8a12d7d39ff70",
            "5c4d3f97819c49f7b86a59191cf3ae03",
            "36e8a9ac46c049b0b0141f6c4b85fd77",
            "4983031e0c34436e99acd88834822a78",
            "48e6f9ad62264f279a4189ae0a9fdaff",
            "a99ce519916d401ca8b3f38ca3ca5f81",
            "8731c4eeb1e8451a819d5f09fa3267ea",
            "1d62ebe92b184da48f8a32980d42a047",
            "a907dd958a5643c69e63ec96e0123e40",
            "bccf1745cc084d108a65c49fbd699501",
            "75907cfce64c4992bbfac8ef05c07445",
            "08f9acac7926432db844f3af47071a72",
            "89933566386f43eda935c1124a88dc28",
            "fd79c7b80ecf45bb86054d4dd51a56cd",
            "02c366044b5541a389b856549db34a32",
            "87ef5bf5fcfd448f95e680df5e071c22",
            "cb5d810ecbd54c3f833311e0a06ffeb7",
            "81592b4c2ddd4c3b9fa55a63b0c36d28",
            "21459b5100914b05ac3a4e066cc02755",
            "f3d67052d487401e9866af7f6d5ce77b",
            "938ffad75b6e4267839591d3eb850336",
            "9171ef8ce7554a369d6fb690a559a010",
            "1d7c229af76744639c4b13a7e6f48387",
            "8ae6d426dc9442308c9e0a146a089fd1",
            "3483e8c64e1846609a2054127224bae9",
            "f075b0e1bd304f4382949ac0f2fbad1f",
            "f955fe769973473688cc6442df71fa95",
            "82aa711f2b834c58a87934901a40dd32",
            "0a76aae095b7444596c9d0d805b652da",
            "8192cac51b42486a88af0077f7564d97",
            "9c95ef17cbf541aeb6f185344c7f9d55",
            "75125e66c23a4431b05fff61c4dc5298",
            "43ce7504a0284849b1ea6d2cd6276776",
            "0645a9bfe1404ba9a9e6a675a6d089e3",
            "8224600a093343bb9fbd6e31823d5076",
            "9ee793aafe134b25a226fda31b06d531",
            "f850f77f3d3b42218e9a0970a7ed809c",
            "323a83b52414489eb7d4f8be7af4a117",
            "37f3cec0adbe4bc9939f04849cd2e6c2",
            "fa084529a27a4795974d4695cd6f7189",
            "35d77bb2cd7d4ff5b9baefcd3d3dcfb5",
            "75add0bba8f349ebaa357f21ebad5346",
            "97062e2a96874ad080592133f9ebb044",
            "044e662fd90748df8e4f6191cc7163cb",
            "a8254c37b5944110921bc3cee5ca922a",
            "4000e56a4ef44c2daa190514e969fe4f",
            "7d8216fab6274f208daa9583041dcf25",
            "1af7fa7c674f4ec48e5b85286aa6e30f",
            "51bcdc9a9448421cb06e79a30ec97722",
            "106ef159caa244879e3287222429a7ea",
            "bd3a61d593f748d7802c522053010db4",
            "d5d666ae9234421f90469a0d94dc79b1",
            "fd46f741c76f477eaf0012f622961732",
            "70250e41b1c340fd81f98a8a1ae31d13",
            "24935da6a49c4edd915d8ccac7cfb654"
          ]
        },
        "id": "akEw4NqV2M_K",
        "outputId": "29a6695c-ea12-4d8c-aa93-e354ba0d89a9"
      },
      "source": [
        "test_k_list = list(range(2,51))\n",
        "score_list = []\n",
        "major_topic_list = []\n",
        "for k in tqdm(test_k_list):\n",
        "  score, major_topic_info, model = silhouette_on_k_cluster(num_cluster=k, verbose=True)\n",
        "  score_list.append(score)\n",
        "  major_topic_list.append(major_topic_info)\n",
        "  model.save(\"models/\" + str(k) + \".pth\")\n",
        "\n",
        "\n",
        "\n",
        "score_numpy = np.array(score_list)\n",
        "np.save(\"score.npy\", score_numpy)\n",
        "\n",
        "with open('major_topic.txt', 'w') as f:\n",
        "  for item in tqdm(major_topic_list):\n",
        "    f.write(\"%s\\n\" % item)\n",
        "\n",
        "import matplotlib.pyplot as plt\n",
        "plt.plot(test_k_list, score_list)"
      ],
      "execution_count": null,
      "outputs": [
        {
          "output_type": "stream",
          "text": [
            "\n",
            "\n",
            "\n",
            "\n",
            "\n",
            "  0%|          | 0/49 [00:00<?, ?it/s]\u001b[A\u001b[A\u001b[A\u001b[A\u001b[A"
          ],
          "name": "stderr"
        },
        {
          "output_type": "display_data",
          "data": {
            "application/vnd.jupyter.widget-view+json": {
              "model_id": "463c7953be35463a8ebaa00e36e658e2",
              "version_minor": 0,
              "version_major": 2
            },
            "text/plain": [
              "HBox(children=(FloatProgress(value=0.0, description='Batches', max=319.0, style=ProgressStyle(description_widt…"
            ]
          },
          "metadata": {
            "tags": []
          }
        },
        {
          "output_type": "stream",
          "text": [
            "\n"
          ],
          "name": "stdout"
        },
        {
          "output_type": "stream",
          "text": [
            "2021-04-23 19:49:16,555 - BERTopic - Reduced dimensionality with UMAP\n",
            "2021-04-23 19:49:23,565 - BERTopic - Clustered UMAP embeddings with HDBSCAN\n",
            "2021-04-23 19:49:30,916 - BERTopic - Reduced number of topics from 109 to 3\n",
            "\n",
            "\n",
            "\n",
            "\n",
            "\n",
            "  2%|▏         | 1/49 [01:12<58:03, 72.57s/it]\u001b[A\u001b[A\u001b[A\u001b[A\u001b[A"
          ],
          "name": "stderr"
        },
        {
          "output_type": "display_data",
          "data": {
            "application/vnd.jupyter.widget-view+json": {
              "model_id": "763728a6a9814b6aa2e18061d1afe1ab",
              "version_minor": 0,
              "version_major": 2
            },
            "text/plain": [
              "HBox(children=(FloatProgress(value=0.0, description='Batches', max=319.0, style=ProgressStyle(description_widt…"
            ]
          },
          "metadata": {
            "tags": []
          }
        },
        {
          "output_type": "stream",
          "text": [
            "\n"
          ],
          "name": "stdout"
        },
        {
          "output_type": "stream",
          "text": [
            "2021-04-23 19:50:29,877 - BERTopic - Reduced dimensionality with UMAP\n",
            "2021-04-23 19:50:37,559 - BERTopic - Clustered UMAP embeddings with HDBSCAN\n",
            "2021-04-23 19:50:45,451 - BERTopic - Reduced number of topics from 120 to 4\n",
            "\n",
            "\n",
            "\n",
            "\n",
            "\n",
            "  4%|▍         | 2/49 [02:27<57:21, 73.22s/it]\u001b[A\u001b[A\u001b[A\u001b[A\u001b[A"
          ],
          "name": "stderr"
        },
        {
          "output_type": "display_data",
          "data": {
            "application/vnd.jupyter.widget-view+json": {
              "model_id": "a7dde4ad60274d4fa8454a35ad8745d6",
              "version_minor": 0,
              "version_major": 2
            },
            "text/plain": [
              "HBox(children=(FloatProgress(value=0.0, description='Batches', max=319.0, style=ProgressStyle(description_widt…"
            ]
          },
          "metadata": {
            "tags": []
          }
        },
        {
          "output_type": "stream",
          "text": [
            "\n"
          ],
          "name": "stdout"
        },
        {
          "output_type": "stream",
          "text": [
            "2021-04-23 19:51:45,315 - BERTopic - Reduced dimensionality with UMAP\n",
            "2021-04-23 19:51:46,838 - BERTopic - Clustered UMAP embeddings with HDBSCAN\n",
            "2021-04-23 19:51:53,652 - BERTopic - Reduced number of topics from 7 to 5\n",
            "\n",
            "\n",
            "\n",
            "\n",
            "\n",
            "  6%|▌         | 3/49 [03:39<55:58, 73.01s/it]\u001b[A\u001b[A\u001b[A\u001b[A\u001b[A"
          ],
          "name": "stderr"
        },
        {
          "output_type": "display_data",
          "data": {
            "application/vnd.jupyter.widget-view+json": {
              "model_id": "9f8784623b374dcf8c5d5cedb31e5109",
              "version_minor": 0,
              "version_major": 2
            },
            "text/plain": [
              "HBox(children=(FloatProgress(value=0.0, description='Batches', max=319.0, style=ProgressStyle(description_widt…"
            ]
          },
          "metadata": {
            "tags": []
          }
        },
        {
          "output_type": "stream",
          "text": [
            "\n"
          ],
          "name": "stdout"
        },
        {
          "output_type": "stream",
          "text": [
            "2021-04-23 19:52:57,341 - BERTopic - Reduced dimensionality with UMAP\n",
            "2021-04-23 19:53:05,576 - BERTopic - Clustered UMAP embeddings with HDBSCAN\n",
            "2021-04-23 19:53:13,543 - BERTopic - Reduced number of topics from 125 to 6\n",
            "\n",
            "\n",
            "\n",
            "\n",
            "\n",
            "  8%|▊         | 4/49 [04:55<55:21, 73.80s/it]\u001b[A\u001b[A\u001b[A\u001b[A\u001b[A"
          ],
          "name": "stderr"
        },
        {
          "output_type": "display_data",
          "data": {
            "application/vnd.jupyter.widget-view+json": {
              "model_id": "20ab21fe89b24fbcaed41a7a328a32e8",
              "version_minor": 0,
              "version_major": 2
            },
            "text/plain": [
              "HBox(children=(FloatProgress(value=0.0, description='Batches', max=319.0, style=ProgressStyle(description_widt…"
            ]
          },
          "metadata": {
            "tags": []
          }
        },
        {
          "output_type": "stream",
          "text": [
            "\n"
          ],
          "name": "stdout"
        },
        {
          "output_type": "stream",
          "text": [
            "2021-04-23 19:54:13,603 - BERTopic - Reduced dimensionality with UMAP\n",
            "2021-04-23 19:54:20,635 - BERTopic - Clustered UMAP embeddings with HDBSCAN\n",
            "2021-04-23 19:54:28,594 - BERTopic - Reduced number of topics from 119 to 7\n",
            "\n",
            "\n",
            "\n",
            "\n",
            "\n",
            " 10%|█         | 5/49 [06:10<54:22, 74.14s/it]\u001b[A\u001b[A\u001b[A\u001b[A\u001b[A"
          ],
          "name": "stderr"
        },
        {
          "output_type": "display_data",
          "data": {
            "application/vnd.jupyter.widget-view+json": {
              "model_id": "0837d2f6955b4e6683d2828a26d0d1e3",
              "version_minor": 0,
              "version_major": 2
            },
            "text/plain": [
              "HBox(children=(FloatProgress(value=0.0, description='Batches', max=319.0, style=ProgressStyle(description_widt…"
            ]
          },
          "metadata": {
            "tags": []
          }
        },
        {
          "output_type": "stream",
          "text": [
            "\n"
          ],
          "name": "stdout"
        },
        {
          "output_type": "stream",
          "text": [
            "2021-04-23 19:55:27,590 - BERTopic - Reduced dimensionality with UMAP\n",
            "2021-04-23 19:55:36,031 - BERTopic - Clustered UMAP embeddings with HDBSCAN\n",
            "2021-04-23 19:55:44,016 - BERTopic - Reduced number of topics from 132 to 8\n",
            "\n",
            "\n",
            "\n",
            "\n",
            "\n",
            " 12%|█▏        | 6/49 [07:26<53:29, 74.64s/it]\u001b[A\u001b[A\u001b[A\u001b[A\u001b[A"
          ],
          "name": "stderr"
        },
        {
          "output_type": "display_data",
          "data": {
            "application/vnd.jupyter.widget-view+json": {
              "model_id": "393a8735c50e4467b683af7f19347c88",
              "version_minor": 0,
              "version_major": 2
            },
            "text/plain": [
              "HBox(children=(FloatProgress(value=0.0, description='Batches', max=319.0, style=ProgressStyle(description_widt…"
            ]
          },
          "metadata": {
            "tags": []
          }
        },
        {
          "output_type": "stream",
          "text": [
            "\n"
          ],
          "name": "stdout"
        },
        {
          "output_type": "stream",
          "text": [
            "2021-04-23 19:56:43,722 - BERTopic - Reduced dimensionality with UMAP\n",
            "2021-04-23 19:56:51,614 - BERTopic - Clustered UMAP embeddings with HDBSCAN\n",
            "2021-04-23 19:56:59,262 - BERTopic - Reduced number of topics from 129 to 9\n",
            "\n",
            "\n",
            "\n",
            "\n",
            "\n",
            " 14%|█▍        | 7/49 [08:41<52:20, 74.78s/it]\u001b[A\u001b[A\u001b[A\u001b[A\u001b[A"
          ],
          "name": "stderr"
        },
        {
          "output_type": "display_data",
          "data": {
            "application/vnd.jupyter.widget-view+json": {
              "model_id": "63c53ce80c0643ffb9d9afbeb464f654",
              "version_minor": 0,
              "version_major": 2
            },
            "text/plain": [
              "HBox(children=(FloatProgress(value=0.0, description='Batches', max=319.0, style=ProgressStyle(description_widt…"
            ]
          },
          "metadata": {
            "tags": []
          }
        },
        {
          "output_type": "stream",
          "text": [
            "\n"
          ],
          "name": "stdout"
        },
        {
          "output_type": "stream",
          "text": [
            "2021-04-23 19:57:58,121 - BERTopic - Reduced dimensionality with UMAP\n",
            "2021-04-23 19:57:59,508 - BERTopic - Clustered UMAP embeddings with HDBSCAN\n",
            "2021-04-23 19:58:06,115 - BERTopic - Since 9 were found, they could not be reduced to 9\n",
            "\n",
            "\n",
            "\n",
            "\n",
            "\n",
            " 16%|█▋        | 8/49 [09:52<50:23, 73.73s/it]\u001b[A\u001b[A\u001b[A\u001b[A\u001b[A"
          ],
          "name": "stderr"
        },
        {
          "output_type": "display_data",
          "data": {
            "application/vnd.jupyter.widget-view+json": {
              "model_id": "925e507855024e549b597becde64525f",
              "version_minor": 0,
              "version_major": 2
            },
            "text/plain": [
              "HBox(children=(FloatProgress(value=0.0, description='Batches', max=319.0, style=ProgressStyle(description_widt…"
            ]
          },
          "metadata": {
            "tags": []
          }
        },
        {
          "output_type": "stream",
          "text": [
            "\n"
          ],
          "name": "stdout"
        },
        {
          "output_type": "stream",
          "text": [
            "2021-04-23 19:59:09,706 - BERTopic - Reduced dimensionality with UMAP\n",
            "2021-04-23 19:59:16,751 - BERTopic - Clustered UMAP embeddings with HDBSCAN\n",
            "2021-04-23 19:59:24,749 - BERTopic - Reduced number of topics from 117 to 11\n",
            "\n",
            "\n",
            "\n",
            "\n",
            "\n",
            " 18%|█▊        | 9/49 [11:06<49:13, 73.83s/it]\u001b[A\u001b[A\u001b[A\u001b[A\u001b[A"
          ],
          "name": "stderr"
        },
        {
          "output_type": "display_data",
          "data": {
            "application/vnd.jupyter.widget-view+json": {
              "model_id": "a1492fdaf954412a9808900542ed51b8",
              "version_minor": 0,
              "version_major": 2
            },
            "text/plain": [
              "HBox(children=(FloatProgress(value=0.0, description='Batches', max=319.0, style=ProgressStyle(description_widt…"
            ]
          },
          "metadata": {
            "tags": []
          }
        },
        {
          "output_type": "stream",
          "text": [
            "\n"
          ],
          "name": "stdout"
        },
        {
          "output_type": "stream",
          "text": [
            "2021-04-23 20:00:23,868 - BERTopic - Reduced dimensionality with UMAP\n",
            "2021-04-23 20:00:29,483 - BERTopic - Clustered UMAP embeddings with HDBSCAN\n",
            "2021-04-23 20:00:37,022 - BERTopic - Reduced number of topics from 93 to 12\n",
            "\n",
            "\n",
            "\n",
            "\n",
            "\n",
            " 20%|██        | 10/49 [12:19<47:43, 73.43s/it]\u001b[A\u001b[A\u001b[A\u001b[A\u001b[A"
          ],
          "name": "stderr"
        },
        {
          "output_type": "display_data",
          "data": {
            "application/vnd.jupyter.widget-view+json": {
              "model_id": "bdbfb704df514a42ba51d067981b4fb2",
              "version_minor": 0,
              "version_major": 2
            },
            "text/plain": [
              "HBox(children=(FloatProgress(value=0.0, description='Batches', max=319.0, style=ProgressStyle(description_widt…"
            ]
          },
          "metadata": {
            "tags": []
          }
        },
        {
          "output_type": "stream",
          "text": [
            "\n"
          ],
          "name": "stdout"
        },
        {
          "output_type": "stream",
          "text": [
            "2021-04-23 20:01:36,811 - BERTopic - Reduced dimensionality with UMAP\n",
            "2021-04-23 20:01:44,154 - BERTopic - Clustered UMAP embeddings with HDBSCAN\n",
            "2021-04-23 20:01:52,282 - BERTopic - Reduced number of topics from 120 to 13\n",
            "\n",
            "\n",
            "\n",
            "\n",
            "\n",
            " 22%|██▏       | 11/49 [13:34<46:49, 73.93s/it]\u001b[A\u001b[A\u001b[A\u001b[A\u001b[A"
          ],
          "name": "stderr"
        },
        {
          "output_type": "display_data",
          "data": {
            "application/vnd.jupyter.widget-view+json": {
              "model_id": "882c7749f19142be8b026362e711d87c",
              "version_minor": 0,
              "version_major": 2
            },
            "text/plain": [
              "HBox(children=(FloatProgress(value=0.0, description='Batches', max=319.0, style=ProgressStyle(description_widt…"
            ]
          },
          "metadata": {
            "tags": []
          }
        },
        {
          "output_type": "stream",
          "text": [
            "\n"
          ],
          "name": "stdout"
        },
        {
          "output_type": "stream",
          "text": [
            "2021-04-23 20:02:52,069 - BERTopic - Reduced dimensionality with UMAP\n",
            "2021-04-23 20:03:01,214 - BERTopic - Clustered UMAP embeddings with HDBSCAN\n",
            "2021-04-23 20:03:09,306 - BERTopic - Reduced number of topics from 131 to 14\n",
            "\n",
            "\n",
            "\n",
            "\n",
            "\n",
            " 24%|██▍       | 12/49 [14:51<46:14, 75.00s/it]\u001b[A\u001b[A\u001b[A\u001b[A\u001b[A"
          ],
          "name": "stderr"
        },
        {
          "output_type": "display_data",
          "data": {
            "application/vnd.jupyter.widget-view+json": {
              "model_id": "3c80adcceecf4bc99afc1eae04e9ca24",
              "version_minor": 0,
              "version_major": 2
            },
            "text/plain": [
              "HBox(children=(FloatProgress(value=0.0, description='Batches', max=319.0, style=ProgressStyle(description_widt…"
            ]
          },
          "metadata": {
            "tags": []
          }
        },
        {
          "output_type": "stream",
          "text": [
            "\n"
          ],
          "name": "stdout"
        },
        {
          "output_type": "stream",
          "text": [
            "2021-04-23 20:04:09,532 - BERTopic - Reduced dimensionality with UMAP\n",
            "2021-04-23 20:04:18,803 - BERTopic - Clustered UMAP embeddings with HDBSCAN\n",
            "2021-04-23 20:04:26,775 - BERTopic - Reduced number of topics from 127 to 15\n",
            "\n",
            "\n",
            "\n",
            "\n",
            "\n",
            " 27%|██▋       | 13/49 [16:09<45:28, 75.80s/it]\u001b[A\u001b[A\u001b[A\u001b[A\u001b[A"
          ],
          "name": "stderr"
        },
        {
          "output_type": "display_data",
          "data": {
            "application/vnd.jupyter.widget-view+json": {
              "model_id": "c6738b2d706447bcbb8d1c670eacf514",
              "version_minor": 0,
              "version_major": 2
            },
            "text/plain": [
              "HBox(children=(FloatProgress(value=0.0, description='Batches', max=319.0, style=ProgressStyle(description_widt…"
            ]
          },
          "metadata": {
            "tags": []
          }
        },
        {
          "output_type": "stream",
          "text": [
            "\n"
          ],
          "name": "stdout"
        },
        {
          "output_type": "stream",
          "text": [
            "2021-04-23 20:05:27,625 - BERTopic - Reduced dimensionality with UMAP\n",
            "2021-04-23 20:05:34,894 - BERTopic - Clustered UMAP embeddings with HDBSCAN\n",
            "2021-04-23 20:05:42,889 - BERTopic - Reduced number of topics from 113 to 16\n",
            "\n",
            "\n",
            "\n",
            "\n",
            "\n",
            " 29%|██▊       | 14/49 [17:25<44:10, 75.74s/it]\u001b[A\u001b[A\u001b[A\u001b[A\u001b[A"
          ],
          "name": "stderr"
        },
        {
          "output_type": "display_data",
          "data": {
            "application/vnd.jupyter.widget-view+json": {
              "model_id": "c4c7a5a7bd8d408291b3ebff23d1c942",
              "version_minor": 0,
              "version_major": 2
            },
            "text/plain": [
              "HBox(children=(FloatProgress(value=0.0, description='Batches', max=319.0, style=ProgressStyle(description_widt…"
            ]
          },
          "metadata": {
            "tags": []
          }
        },
        {
          "output_type": "stream",
          "text": [
            "\n"
          ],
          "name": "stdout"
        },
        {
          "output_type": "stream",
          "text": [
            "2021-04-23 20:06:43,917 - BERTopic - Reduced dimensionality with UMAP\n",
            "2021-04-23 20:06:45,529 - BERTopic - Clustered UMAP embeddings with HDBSCAN\n",
            "2021-04-23 20:06:52,701 - BERTopic - Since 9 were found, they could not be reduced to 16\n",
            "\n",
            "\n",
            "\n",
            "\n",
            "\n",
            " 31%|███       | 15/49 [18:39<42:43, 75.41s/it]\u001b[A\u001b[A\u001b[A\u001b[A\u001b[A"
          ],
          "name": "stderr"
        },
        {
          "output_type": "display_data",
          "data": {
            "application/vnd.jupyter.widget-view+json": {
              "model_id": "2c93e3de682c4e20a56b771ba0f9b021",
              "version_minor": 0,
              "version_major": 2
            },
            "text/plain": [
              "HBox(children=(FloatProgress(value=0.0, description='Batches', max=319.0, style=ProgressStyle(description_widt…"
            ]
          },
          "metadata": {
            "tags": []
          }
        },
        {
          "output_type": "stream",
          "text": [
            "\n"
          ],
          "name": "stdout"
        },
        {
          "output_type": "stream",
          "text": [
            "2021-04-23 20:07:57,407 - BERTopic - Reduced dimensionality with UMAP\n",
            "2021-04-23 20:08:05,019 - BERTopic - Clustered UMAP embeddings with HDBSCAN\n",
            "2021-04-23 20:08:12,865 - BERTopic - Reduced number of topics from 123 to 18\n",
            "\n",
            "\n",
            "\n",
            "\n",
            "\n",
            " 33%|███▎      | 16/49 [19:55<41:34, 75.59s/it]\u001b[A\u001b[A\u001b[A\u001b[A\u001b[A"
          ],
          "name": "stderr"
        },
        {
          "output_type": "display_data",
          "data": {
            "application/vnd.jupyter.widget-view+json": {
              "model_id": "e50550b02c6840b191b22646a5f247b1",
              "version_minor": 0,
              "version_major": 2
            },
            "text/plain": [
              "HBox(children=(FloatProgress(value=0.0, description='Batches', max=319.0, style=ProgressStyle(description_widt…"
            ]
          },
          "metadata": {
            "tags": []
          }
        },
        {
          "output_type": "stream",
          "text": [
            "\n"
          ],
          "name": "stdout"
        },
        {
          "output_type": "stream",
          "text": [
            "2021-04-23 20:09:12,831 - BERTopic - Reduced dimensionality with UMAP\n",
            "2021-04-23 20:09:20,951 - BERTopic - Clustered UMAP embeddings with HDBSCAN\n",
            "2021-04-23 20:09:28,592 - BERTopic - Reduced number of topics from 123 to 19\n",
            "\n",
            "\n",
            "\n",
            "\n",
            "\n",
            " 35%|███▍      | 17/49 [21:10<40:16, 75.51s/it]\u001b[A\u001b[A\u001b[A\u001b[A\u001b[A"
          ],
          "name": "stderr"
        },
        {
          "output_type": "display_data",
          "data": {
            "application/vnd.jupyter.widget-view+json": {
              "model_id": "dbdc7f0b62294d328944f8f3fe798bdd",
              "version_minor": 0,
              "version_major": 2
            },
            "text/plain": [
              "HBox(children=(FloatProgress(value=0.0, description='Batches', max=319.0, style=ProgressStyle(description_widt…"
            ]
          },
          "metadata": {
            "tags": []
          }
        },
        {
          "output_type": "stream",
          "text": [
            "\n"
          ],
          "name": "stdout"
        },
        {
          "output_type": "stream",
          "text": [
            "2021-04-23 20:10:28,041 - BERTopic - Reduced dimensionality with UMAP\n",
            "2021-04-23 20:10:35,501 - BERTopic - Clustered UMAP embeddings with HDBSCAN\n",
            "2021-04-23 20:10:43,106 - BERTopic - Reduced number of topics from 124 to 20\n",
            "\n",
            "\n",
            "\n",
            "\n",
            "\n",
            " 37%|███▋      | 18/49 [22:25<38:46, 75.06s/it]\u001b[A\u001b[A\u001b[A\u001b[A\u001b[A"
          ],
          "name": "stderr"
        },
        {
          "output_type": "display_data",
          "data": {
            "application/vnd.jupyter.widget-view+json": {
              "model_id": "5cfe3bb843c449f9ad5711f7758eed06",
              "version_minor": 0,
              "version_major": 2
            },
            "text/plain": [
              "HBox(children=(FloatProgress(value=0.0, description='Batches', max=319.0, style=ProgressStyle(description_widt…"
            ]
          },
          "metadata": {
            "tags": []
          }
        },
        {
          "output_type": "stream",
          "text": [
            "\n"
          ],
          "name": "stdout"
        },
        {
          "output_type": "stream",
          "text": [
            "2021-04-23 20:11:42,288 - BERTopic - Reduced dimensionality with UMAP\n",
            "2021-04-23 20:11:49,641 - BERTopic - Clustered UMAP embeddings with HDBSCAN\n",
            "2021-04-23 20:11:57,093 - BERTopic - Reduced number of topics from 118 to 21\n",
            "\n",
            "\n",
            "\n",
            "\n",
            "\n",
            " 39%|███▉      | 19/49 [23:39<37:22, 74.75s/it]\u001b[A\u001b[A\u001b[A\u001b[A\u001b[A"
          ],
          "name": "stderr"
        },
        {
          "output_type": "display_data",
          "data": {
            "application/vnd.jupyter.widget-view+json": {
              "model_id": "0fb6b09986b04b63a6f771de82c28ab8",
              "version_minor": 0,
              "version_major": 2
            },
            "text/plain": [
              "HBox(children=(FloatProgress(value=0.0, description='Batches', max=319.0, style=ProgressStyle(description_widt…"
            ]
          },
          "metadata": {
            "tags": []
          }
        },
        {
          "output_type": "stream",
          "text": [
            "\n"
          ],
          "name": "stdout"
        },
        {
          "output_type": "stream",
          "text": [
            "2021-04-23 20:12:55,934 - BERTopic - Reduced dimensionality with UMAP\n",
            "2021-04-23 20:13:03,389 - BERTopic - Clustered UMAP embeddings with HDBSCAN\n",
            "2021-04-23 20:13:10,885 - BERTopic - Reduced number of topics from 132 to 22\n",
            "\n",
            "\n",
            "\n",
            "\n",
            "\n",
            " 41%|████      | 20/49 [24:52<35:58, 74.42s/it]\u001b[A\u001b[A\u001b[A\u001b[A\u001b[A"
          ],
          "name": "stderr"
        },
        {
          "output_type": "display_data",
          "data": {
            "application/vnd.jupyter.widget-view+json": {
              "model_id": "e82890aafaf04c6385b76c8dafbb69c5",
              "version_minor": 0,
              "version_major": 2
            },
            "text/plain": [
              "HBox(children=(FloatProgress(value=0.0, description='Batches', max=319.0, style=ProgressStyle(description_widt…"
            ]
          },
          "metadata": {
            "tags": []
          }
        },
        {
          "output_type": "stream",
          "text": [
            "\n"
          ],
          "name": "stdout"
        },
        {
          "output_type": "stream",
          "text": [
            "2021-04-23 20:14:09,256 - BERTopic - Reduced dimensionality with UMAP\n",
            "2021-04-23 20:14:15,701 - BERTopic - Clustered UMAP embeddings with HDBSCAN\n",
            "2021-04-23 20:14:23,078 - BERTopic - Reduced number of topics from 114 to 23\n",
            "\n",
            "\n",
            "\n",
            "\n",
            "\n",
            " 43%|████▎     | 21/49 [26:05<34:30, 73.94s/it]\u001b[A\u001b[A\u001b[A\u001b[A\u001b[A"
          ],
          "name": "stderr"
        },
        {
          "output_type": "display_data",
          "data": {
            "application/vnd.jupyter.widget-view+json": {
              "model_id": "200dc3a142d541d387794fa20801d34f",
              "version_minor": 0,
              "version_major": 2
            },
            "text/plain": [
              "HBox(children=(FloatProgress(value=0.0, description='Batches', max=319.0, style=ProgressStyle(description_widt…"
            ]
          },
          "metadata": {
            "tags": []
          }
        },
        {
          "output_type": "stream",
          "text": [
            "\n"
          ],
          "name": "stdout"
        },
        {
          "output_type": "stream",
          "text": [
            "2021-04-23 20:15:21,858 - BERTopic - Reduced dimensionality with UMAP\n",
            "2021-04-23 20:15:28,708 - BERTopic - Clustered UMAP embeddings with HDBSCAN\n",
            "2021-04-23 20:15:36,154 - BERTopic - Reduced number of topics from 111 to 24\n",
            "\n",
            "\n",
            "\n",
            "\n",
            "\n",
            " 45%|████▍     | 22/49 [27:18<33:07, 73.60s/it]\u001b[A\u001b[A\u001b[A\u001b[A\u001b[A"
          ],
          "name": "stderr"
        },
        {
          "output_type": "display_data",
          "data": {
            "application/vnd.jupyter.widget-view+json": {
              "model_id": "afcb2fa02071482bb53468f6698a79c5",
              "version_minor": 0,
              "version_major": 2
            },
            "text/plain": [
              "HBox(children=(FloatProgress(value=0.0, description='Batches', max=319.0, style=ProgressStyle(description_widt…"
            ]
          },
          "metadata": {
            "tags": []
          }
        },
        {
          "output_type": "stream",
          "text": [
            "\n"
          ],
          "name": "stdout"
        },
        {
          "output_type": "stream",
          "text": [
            "2021-04-23 20:16:35,721 - BERTopic - Reduced dimensionality with UMAP\n",
            "2021-04-23 20:16:43,234 - BERTopic - Clustered UMAP embeddings with HDBSCAN\n",
            "2021-04-23 20:16:50,793 - BERTopic - Reduced number of topics from 121 to 25\n",
            "\n",
            "\n",
            "\n",
            "\n",
            "\n",
            " 47%|████▋     | 23/49 [28:32<31:59, 73.83s/it]\u001b[A\u001b[A\u001b[A\u001b[A\u001b[A"
          ],
          "name": "stderr"
        },
        {
          "output_type": "display_data",
          "data": {
            "application/vnd.jupyter.widget-view+json": {
              "model_id": "70a32f31c22b458881b658ba451c414a",
              "version_minor": 0,
              "version_major": 2
            },
            "text/plain": [
              "HBox(children=(FloatProgress(value=0.0, description='Batches', max=319.0, style=ProgressStyle(description_widt…"
            ]
          },
          "metadata": {
            "tags": []
          }
        },
        {
          "output_type": "stream",
          "text": [
            "\n"
          ],
          "name": "stdout"
        },
        {
          "output_type": "stream",
          "text": [
            "2021-04-23 20:17:50,347 - BERTopic - Reduced dimensionality with UMAP\n",
            "2021-04-23 20:17:57,268 - BERTopic - Clustered UMAP embeddings with HDBSCAN\n",
            "2021-04-23 20:18:04,808 - BERTopic - Reduced number of topics from 122 to 26\n",
            "\n",
            "\n",
            "\n",
            "\n",
            "\n",
            " 49%|████▉     | 24/49 [29:46<30:47, 73.92s/it]\u001b[A\u001b[A\u001b[A\u001b[A\u001b[A"
          ],
          "name": "stderr"
        },
        {
          "output_type": "display_data",
          "data": {
            "application/vnd.jupyter.widget-view+json": {
              "model_id": "24d54ab604134de9a3a31bed49ce7c85",
              "version_minor": 0,
              "version_major": 2
            },
            "text/plain": [
              "HBox(children=(FloatProgress(value=0.0, description='Batches', max=319.0, style=ProgressStyle(description_widt…"
            ]
          },
          "metadata": {
            "tags": []
          }
        },
        {
          "output_type": "stream",
          "text": [
            "\n"
          ],
          "name": "stdout"
        },
        {
          "output_type": "stream",
          "text": [
            "2021-04-23 20:19:03,592 - BERTopic - Reduced dimensionality with UMAP\n",
            "2021-04-23 20:19:11,307 - BERTopic - Clustered UMAP embeddings with HDBSCAN\n",
            "2021-04-23 20:19:18,914 - BERTopic - Reduced number of topics from 118 to 27\n",
            "\n",
            "\n",
            "\n",
            "\n",
            "\n",
            " 51%|█████     | 25/49 [31:01<29:38, 74.11s/it]\u001b[A\u001b[A\u001b[A\u001b[A\u001b[A"
          ],
          "name": "stderr"
        },
        {
          "output_type": "display_data",
          "data": {
            "application/vnd.jupyter.widget-view+json": {
              "model_id": "dc7dee66d014419784df932e027ffc0c",
              "version_minor": 0,
              "version_major": 2
            },
            "text/plain": [
              "HBox(children=(FloatProgress(value=0.0, description='Batches', max=319.0, style=ProgressStyle(description_widt…"
            ]
          },
          "metadata": {
            "tags": []
          }
        },
        {
          "output_type": "stream",
          "text": [
            "\n"
          ],
          "name": "stdout"
        },
        {
          "output_type": "stream",
          "text": [
            "2021-04-23 20:20:18,322 - BERTopic - Reduced dimensionality with UMAP\n",
            "2021-04-23 20:20:19,778 - BERTopic - Clustered UMAP embeddings with HDBSCAN\n",
            "2021-04-23 20:20:26,500 - BERTopic - Since 10 were found, they could not be reduced to 27\n",
            "\n",
            "\n",
            "\n",
            "\n",
            "\n",
            " 53%|█████▎    | 26/49 [32:12<28:06, 73.32s/it]\u001b[A\u001b[A\u001b[A\u001b[A\u001b[A"
          ],
          "name": "stderr"
        },
        {
          "output_type": "display_data",
          "data": {
            "application/vnd.jupyter.widget-view+json": {
              "model_id": "60dfd75aa6524a14b7556898d0fb3e0d",
              "version_minor": 0,
              "version_major": 2
            },
            "text/plain": [
              "HBox(children=(FloatProgress(value=0.0, description='Batches', max=319.0, style=ProgressStyle(description_widt…"
            ]
          },
          "metadata": {
            "tags": []
          }
        },
        {
          "output_type": "stream",
          "text": [
            "\n"
          ],
          "name": "stdout"
        },
        {
          "output_type": "stream",
          "text": [
            "2021-04-23 20:21:30,271 - BERTopic - Reduced dimensionality with UMAP\n",
            "2021-04-23 20:21:36,918 - BERTopic - Clustered UMAP embeddings with HDBSCAN\n",
            "2021-04-23 20:21:44,515 - BERTopic - Reduced number of topics from 114 to 29\n",
            "\n",
            "\n",
            "\n",
            "\n",
            "\n",
            " 55%|█████▌    | 27/49 [33:26<26:56, 73.49s/it]\u001b[A\u001b[A\u001b[A\u001b[A\u001b[A"
          ],
          "name": "stderr"
        },
        {
          "output_type": "display_data",
          "data": {
            "application/vnd.jupyter.widget-view+json": {
              "model_id": "8aa5ff90f4794715b801f6798445fee4",
              "version_minor": 0,
              "version_major": 2
            },
            "text/plain": [
              "HBox(children=(FloatProgress(value=0.0, description='Batches', max=319.0, style=ProgressStyle(description_widt…"
            ]
          },
          "metadata": {
            "tags": []
          }
        },
        {
          "output_type": "stream",
          "text": [
            "\n"
          ],
          "name": "stdout"
        },
        {
          "output_type": "stream",
          "text": [
            "2021-04-23 20:22:44,093 - BERTopic - Reduced dimensionality with UMAP\n",
            "2021-04-23 20:22:52,408 - BERTopic - Clustered UMAP embeddings with HDBSCAN\n",
            "2021-04-23 20:23:00,059 - BERTopic - Reduced number of topics from 128 to 30\n",
            "\n",
            "\n",
            "\n",
            "\n",
            "\n",
            " 57%|█████▋    | 28/49 [34:42<25:58, 74.20s/it]\u001b[A\u001b[A\u001b[A\u001b[A\u001b[A"
          ],
          "name": "stderr"
        },
        {
          "output_type": "display_data",
          "data": {
            "application/vnd.jupyter.widget-view+json": {
              "model_id": "7c9179ec66c043c097048bf70e14c45e",
              "version_minor": 0,
              "version_major": 2
            },
            "text/plain": [
              "HBox(children=(FloatProgress(value=0.0, description='Batches', max=319.0, style=ProgressStyle(description_widt…"
            ]
          },
          "metadata": {
            "tags": []
          }
        },
        {
          "output_type": "stream",
          "text": [
            "\n"
          ],
          "name": "stdout"
        },
        {
          "output_type": "stream",
          "text": [
            "2021-04-23 20:23:59,061 - BERTopic - Reduced dimensionality with UMAP\n",
            "2021-04-23 20:24:00,483 - BERTopic - Clustered UMAP embeddings with HDBSCAN\n",
            "2021-04-23 20:24:07,070 - BERTopic - Since 8 were found, they could not be reduced to 30\n",
            "\n",
            "\n",
            "\n",
            "\n",
            "\n",
            " 59%|█████▉    | 29/49 [35:53<24:23, 73.19s/it]\u001b[A\u001b[A\u001b[A\u001b[A\u001b[A"
          ],
          "name": "stderr"
        },
        {
          "output_type": "display_data",
          "data": {
            "application/vnd.jupyter.widget-view+json": {
              "model_id": "063a9b12d2e04c6ba727a0b7ee9ea65c",
              "version_minor": 0,
              "version_major": 2
            },
            "text/plain": [
              "HBox(children=(FloatProgress(value=0.0, description='Batches', max=319.0, style=ProgressStyle(description_widt…"
            ]
          },
          "metadata": {
            "tags": []
          }
        },
        {
          "output_type": "stream",
          "text": [
            "\n"
          ],
          "name": "stdout"
        },
        {
          "output_type": "stream",
          "text": [
            "2021-04-23 20:25:10,509 - BERTopic - Reduced dimensionality with UMAP\n",
            "2021-04-23 20:25:11,930 - BERTopic - Clustered UMAP embeddings with HDBSCAN\n",
            "2021-04-23 20:25:18,521 - BERTopic - Since 8 were found, they could not be reduced to 31\n",
            "\n",
            "\n",
            "\n",
            "\n",
            "\n",
            " 61%|██████    | 30/49 [37:04<23:00, 72.64s/it]\u001b[A\u001b[A\u001b[A\u001b[A\u001b[A"
          ],
          "name": "stderr"
        },
        {
          "output_type": "display_data",
          "data": {
            "application/vnd.jupyter.widget-view+json": {
              "model_id": "f0b670905b294f1992176dca3c4bc2d4",
              "version_minor": 0,
              "version_major": 2
            },
            "text/plain": [
              "HBox(children=(FloatProgress(value=0.0, description='Batches', max=319.0, style=ProgressStyle(description_widt…"
            ]
          },
          "metadata": {
            "tags": []
          }
        },
        {
          "output_type": "stream",
          "text": [
            "\n"
          ],
          "name": "stdout"
        },
        {
          "output_type": "stream",
          "text": [
            "2021-04-23 20:26:21,391 - BERTopic - Reduced dimensionality with UMAP\n",
            "2021-04-23 20:26:29,054 - BERTopic - Clustered UMAP embeddings with HDBSCAN\n",
            "2021-04-23 20:26:36,593 - BERTopic - Reduced number of topics from 116 to 33\n",
            "\n",
            "\n",
            "\n",
            "\n",
            "\n",
            " 63%|██████▎   | 31/49 [38:19<21:57, 73.18s/it]\u001b[A\u001b[A\u001b[A\u001b[A\u001b[A"
          ],
          "name": "stderr"
        },
        {
          "output_type": "display_data",
          "data": {
            "application/vnd.jupyter.widget-view+json": {
              "model_id": "eba2d924445346db81c580a93d6cf021",
              "version_minor": 0,
              "version_major": 2
            },
            "text/plain": [
              "HBox(children=(FloatProgress(value=0.0, description='Batches', max=319.0, style=ProgressStyle(description_widt…"
            ]
          },
          "metadata": {
            "tags": []
          }
        },
        {
          "output_type": "stream",
          "text": [
            "\n"
          ],
          "name": "stdout"
        },
        {
          "output_type": "stream",
          "text": [
            "2021-04-23 20:27:36,166 - BERTopic - Reduced dimensionality with UMAP\n",
            "2021-04-23 20:27:43,350 - BERTopic - Clustered UMAP embeddings with HDBSCAN\n",
            "2021-04-23 20:27:50,853 - BERTopic - Reduced number of topics from 113 to 34\n",
            "\n",
            "\n",
            "\n",
            "\n",
            "\n",
            " 65%|██████▌   | 32/49 [39:33<20:47, 73.38s/it]\u001b[A\u001b[A\u001b[A\u001b[A\u001b[A"
          ],
          "name": "stderr"
        },
        {
          "output_type": "display_data",
          "data": {
            "application/vnd.jupyter.widget-view+json": {
              "model_id": "3683f29dd66f4dffbd273f9e00acc643",
              "version_minor": 0,
              "version_major": 2
            },
            "text/plain": [
              "HBox(children=(FloatProgress(value=0.0, description='Batches', max=319.0, style=ProgressStyle(description_widt…"
            ]
          },
          "metadata": {
            "tags": []
          }
        },
        {
          "output_type": "stream",
          "text": [
            "\n"
          ],
          "name": "stdout"
        },
        {
          "output_type": "stream",
          "text": [
            "2021-04-23 20:28:50,469 - BERTopic - Reduced dimensionality with UMAP\n",
            "2021-04-23 20:28:58,281 - BERTopic - Clustered UMAP embeddings with HDBSCAN\n",
            "2021-04-23 20:29:05,868 - BERTopic - Reduced number of topics from 128 to 35\n",
            "\n",
            "\n",
            "\n",
            "\n",
            "\n",
            " 67%|██████▋   | 33/49 [40:47<19:40, 73.80s/it]\u001b[A\u001b[A\u001b[A\u001b[A\u001b[A"
          ],
          "name": "stderr"
        },
        {
          "output_type": "display_data",
          "data": {
            "application/vnd.jupyter.widget-view+json": {
              "model_id": "2283ee506caa4e2b8f35792ef114701e",
              "version_minor": 0,
              "version_major": 2
            },
            "text/plain": [
              "HBox(children=(FloatProgress(value=0.0, description='Batches', max=319.0, style=ProgressStyle(description_widt…"
            ]
          },
          "metadata": {
            "tags": []
          }
        },
        {
          "output_type": "stream",
          "text": [
            "\n"
          ],
          "name": "stdout"
        },
        {
          "output_type": "stream",
          "text": [
            "2021-04-23 20:30:04,624 - BERTopic - Reduced dimensionality with UMAP\n",
            "2021-04-23 20:30:10,626 - BERTopic - Clustered UMAP embeddings with HDBSCAN\n",
            "2021-04-23 20:30:18,022 - BERTopic - Reduced number of topics from 105 to 36\n",
            "\n",
            "\n",
            "\n",
            "\n",
            "\n",
            " 69%|██████▉   | 34/49 [42:00<18:23, 73.60s/it]\u001b[A\u001b[A\u001b[A\u001b[A\u001b[A"
          ],
          "name": "stderr"
        },
        {
          "output_type": "display_data",
          "data": {
            "application/vnd.jupyter.widget-view+json": {
              "model_id": "5445e0c40f3e4398b8b32c64f9735ad2",
              "version_minor": 0,
              "version_major": 2
            },
            "text/plain": [
              "HBox(children=(FloatProgress(value=0.0, description='Batches', max=319.0, style=ProgressStyle(description_widt…"
            ]
          },
          "metadata": {
            "tags": []
          }
        },
        {
          "output_type": "stream",
          "text": [
            "\n"
          ],
          "name": "stdout"
        },
        {
          "output_type": "stream",
          "text": [
            "2021-04-23 20:31:17,634 - BERTopic - Reduced dimensionality with UMAP\n",
            "2021-04-23 20:31:24,797 - BERTopic - Clustered UMAP embeddings with HDBSCAN\n",
            "2021-04-23 20:31:32,337 - BERTopic - Reduced number of topics from 121 to 37\n",
            "\n",
            "\n",
            "\n",
            "\n",
            "\n",
            " 71%|███████▏  | 35/49 [43:14<17:09, 73.54s/it]\u001b[A\u001b[A\u001b[A\u001b[A\u001b[A"
          ],
          "name": "stderr"
        },
        {
          "output_type": "display_data",
          "data": {
            "application/vnd.jupyter.widget-view+json": {
              "model_id": "d8b57cd5761145ff85637649bb1b1fca",
              "version_minor": 0,
              "version_major": 2
            },
            "text/plain": [
              "HBox(children=(FloatProgress(value=0.0, description='Batches', max=319.0, style=ProgressStyle(description_widt…"
            ]
          },
          "metadata": {
            "tags": []
          }
        },
        {
          "output_type": "stream",
          "text": [
            "\n"
          ],
          "name": "stdout"
        },
        {
          "output_type": "stream",
          "text": [
            "2021-04-23 20:32:31,084 - BERTopic - Reduced dimensionality with UMAP\n",
            "2021-04-23 20:32:38,452 - BERTopic - Clustered UMAP embeddings with HDBSCAN\n",
            "2021-04-23 20:32:46,031 - BERTopic - Reduced number of topics from 122 to 38\n",
            "\n",
            "\n",
            "\n",
            "\n",
            "\n",
            " 73%|███████▎  | 36/49 [44:28<15:57, 73.64s/it]\u001b[A\u001b[A\u001b[A\u001b[A\u001b[A"
          ],
          "name": "stderr"
        },
        {
          "output_type": "display_data",
          "data": {
            "application/vnd.jupyter.widget-view+json": {
              "model_id": "06b5cd4121e648e6881f130b44c37b06",
              "version_minor": 0,
              "version_major": 2
            },
            "text/plain": [
              "HBox(children=(FloatProgress(value=0.0, description='Batches', max=319.0, style=ProgressStyle(description_widt…"
            ]
          },
          "metadata": {
            "tags": []
          }
        },
        {
          "output_type": "stream",
          "text": [
            "\n"
          ],
          "name": "stdout"
        },
        {
          "output_type": "stream",
          "text": [
            "2021-04-23 20:33:45,078 - BERTopic - Reduced dimensionality with UMAP\n",
            "2021-04-23 20:33:53,593 - BERTopic - Clustered UMAP embeddings with HDBSCAN\n",
            "2021-04-23 20:34:01,067 - BERTopic - Reduced number of topics from 127 to 39\n",
            "\n",
            "\n",
            "\n",
            "\n",
            "\n",
            " 76%|███████▌  | 37/49 [45:42<14:47, 73.96s/it]\u001b[A\u001b[A\u001b[A\u001b[A\u001b[A"
          ],
          "name": "stderr"
        },
        {
          "output_type": "display_data",
          "data": {
            "application/vnd.jupyter.widget-view+json": {
              "model_id": "d5454a5771e944c4b008f4928946fb92",
              "version_minor": 0,
              "version_major": 2
            },
            "text/plain": [
              "HBox(children=(FloatProgress(value=0.0, description='Batches', max=319.0, style=ProgressStyle(description_widt…"
            ]
          },
          "metadata": {
            "tags": []
          }
        },
        {
          "output_type": "stream",
          "text": [
            "\n"
          ],
          "name": "stdout"
        },
        {
          "output_type": "stream",
          "text": [
            "2021-04-23 20:35:00,131 - BERTopic - Reduced dimensionality with UMAP\n",
            "2021-04-23 20:35:07,180 - BERTopic - Clustered UMAP embeddings with HDBSCAN\n",
            "2021-04-23 20:35:14,648 - BERTopic - Reduced number of topics from 113 to 40\n",
            "\n",
            "\n",
            "\n",
            "\n",
            "\n",
            " 78%|███████▊  | 38/49 [46:56<13:33, 73.95s/it]\u001b[A\u001b[A\u001b[A\u001b[A\u001b[A"
          ],
          "name": "stderr"
        },
        {
          "output_type": "display_data",
          "data": {
            "application/vnd.jupyter.widget-view+json": {
              "model_id": "4ea8025b7cb34ecdaf344dc100881223",
              "version_minor": 0,
              "version_major": 2
            },
            "text/plain": [
              "HBox(children=(FloatProgress(value=0.0, description='Batches', max=319.0, style=ProgressStyle(description_widt…"
            ]
          },
          "metadata": {
            "tags": []
          }
        },
        {
          "output_type": "stream",
          "text": [
            "\n"
          ],
          "name": "stdout"
        },
        {
          "output_type": "stream",
          "text": [
            "2021-04-23 20:36:14,014 - BERTopic - Reduced dimensionality with UMAP\n",
            "2021-04-23 20:36:21,238 - BERTopic - Clustered UMAP embeddings with HDBSCAN\n",
            "2021-04-23 20:36:29,230 - BERTopic - Reduced number of topics from 112 to 41\n",
            "\n",
            "\n",
            "\n",
            "\n",
            "\n",
            " 80%|███████▉  | 39/49 [48:12<12:23, 74.32s/it]\u001b[A\u001b[A\u001b[A\u001b[A\u001b[A"
          ],
          "name": "stderr"
        },
        {
          "output_type": "display_data",
          "data": {
            "application/vnd.jupyter.widget-view+json": {
              "model_id": "fb590d1dad1946c9b89fdc587abf526a",
              "version_minor": 0,
              "version_major": 2
            },
            "text/plain": [
              "HBox(children=(FloatProgress(value=0.0, description='Batches', max=319.0, style=ProgressStyle(description_widt…"
            ]
          },
          "metadata": {
            "tags": []
          }
        },
        {
          "output_type": "stream",
          "text": [
            "\n"
          ],
          "name": "stdout"
        },
        {
          "output_type": "stream",
          "text": [
            "2021-04-23 20:37:29,563 - BERTopic - Reduced dimensionality with UMAP\n",
            "2021-04-23 20:37:36,194 - BERTopic - Clustered UMAP embeddings with HDBSCAN\n",
            "2021-04-23 20:37:43,806 - BERTopic - Reduced number of topics from 118 to 42\n",
            "\n",
            "\n",
            "\n",
            "\n",
            "\n",
            " 82%|████████▏ | 40/49 [49:25<11:07, 74.16s/it]\u001b[A\u001b[A\u001b[A\u001b[A\u001b[A"
          ],
          "name": "stderr"
        },
        {
          "output_type": "display_data",
          "data": {
            "application/vnd.jupyter.widget-view+json": {
              "model_id": "86af439703214e9693ea8061727e4d00",
              "version_minor": 0,
              "version_major": 2
            },
            "text/plain": [
              "HBox(children=(FloatProgress(value=0.0, description='Batches', max=319.0, style=ProgressStyle(description_widt…"
            ]
          },
          "metadata": {
            "tags": []
          }
        },
        {
          "output_type": "stream",
          "text": [
            "\n"
          ],
          "name": "stdout"
        },
        {
          "output_type": "stream",
          "text": [
            "2021-04-23 20:38:45,036 - BERTopic - Reduced dimensionality with UMAP\n",
            "2021-04-23 20:38:54,227 - BERTopic - Clustered UMAP embeddings with HDBSCAN\n",
            "2021-04-23 20:39:02,517 - BERTopic - Reduced number of topics from 131 to 43\n",
            "\n",
            "\n",
            "\n",
            "\n",
            "\n",
            " 84%|████████▎ | 41/49 [50:44<10:05, 75.64s/it]\u001b[A\u001b[A\u001b[A\u001b[A\u001b[A"
          ],
          "name": "stderr"
        },
        {
          "output_type": "display_data",
          "data": {
            "application/vnd.jupyter.widget-view+json": {
              "model_id": "4fbaaf0f7b254f0f8083f5246aaa5e64",
              "version_minor": 0,
              "version_major": 2
            },
            "text/plain": [
              "HBox(children=(FloatProgress(value=0.0, description='Batches', max=319.0, style=ProgressStyle(description_widt…"
            ]
          },
          "metadata": {
            "tags": []
          }
        },
        {
          "output_type": "stream",
          "text": [
            "\n"
          ],
          "name": "stdout"
        },
        {
          "output_type": "stream",
          "text": [
            "2021-04-23 20:40:04,364 - BERTopic - Reduced dimensionality with UMAP\n",
            "2021-04-23 20:40:12,634 - BERTopic - Clustered UMAP embeddings with HDBSCAN\n",
            "2021-04-23 20:40:20,769 - BERTopic - Reduced number of topics from 118 to 44\n",
            "\n",
            "\n",
            "\n",
            "\n",
            "\n",
            " 86%|████████▌ | 42/49 [52:03<08:56, 76.62s/it]\u001b[A\u001b[A\u001b[A\u001b[A\u001b[A"
          ],
          "name": "stderr"
        },
        {
          "output_type": "display_data",
          "data": {
            "application/vnd.jupyter.widget-view+json": {
              "model_id": "fe28a21250324888a6e881cda040ff47",
              "version_minor": 0,
              "version_major": 2
            },
            "text/plain": [
              "HBox(children=(FloatProgress(value=0.0, description='Batches', max=319.0, style=ProgressStyle(description_widt…"
            ]
          },
          "metadata": {
            "tags": []
          }
        },
        {
          "output_type": "stream",
          "text": [
            "\n"
          ],
          "name": "stdout"
        },
        {
          "output_type": "stream",
          "text": [
            "2021-04-23 20:41:23,082 - BERTopic - Reduced dimensionality with UMAP\n",
            "2021-04-23 20:41:24,823 - BERTopic - Clustered UMAP embeddings with HDBSCAN\n",
            "2021-04-23 20:41:32,235 - BERTopic - Since 9 were found, they could not be reduced to 44\n",
            "\n",
            "\n",
            "\n",
            "\n",
            "\n",
            " 88%|████████▊ | 43/49 [53:19<07:38, 76.33s/it]\u001b[A\u001b[A\u001b[A\u001b[A\u001b[A"
          ],
          "name": "stderr"
        },
        {
          "output_type": "display_data",
          "data": {
            "application/vnd.jupyter.widget-view+json": {
              "model_id": "1d62ebe92b184da48f8a32980d42a047",
              "version_minor": 0,
              "version_major": 2
            },
            "text/plain": [
              "HBox(children=(FloatProgress(value=0.0, description='Batches', max=319.0, style=ProgressStyle(description_widt…"
            ]
          },
          "metadata": {
            "tags": []
          }
        },
        {
          "output_type": "stream",
          "text": [
            "\n"
          ],
          "name": "stdout"
        },
        {
          "output_type": "stream",
          "text": [
            "2021-04-23 20:42:39,684 - BERTopic - Reduced dimensionality with UMAP\n",
            "2021-04-23 20:42:49,156 - BERTopic - Clustered UMAP embeddings with HDBSCAN\n",
            "2021-04-23 20:42:57,664 - BERTopic - Reduced number of topics from 122 to 46\n",
            "\n",
            "\n",
            "\n",
            "\n",
            "\n",
            " 90%|████████▉ | 44/49 [54:40<06:28, 77.78s/it]\u001b[A\u001b[A\u001b[A\u001b[A\u001b[A"
          ],
          "name": "stderr"
        },
        {
          "output_type": "display_data",
          "data": {
            "application/vnd.jupyter.widget-view+json": {
              "model_id": "87ef5bf5fcfd448f95e680df5e071c22",
              "version_minor": 0,
              "version_major": 2
            },
            "text/plain": [
              "HBox(children=(FloatProgress(value=0.0, description='Batches', max=319.0, style=ProgressStyle(description_widt…"
            ]
          },
          "metadata": {
            "tags": []
          }
        },
        {
          "output_type": "stream",
          "text": [
            "\n"
          ],
          "name": "stdout"
        },
        {
          "output_type": "stream",
          "text": [
            "2021-04-23 20:44:00,586 - BERTopic - Reduced dimensionality with UMAP\n",
            "2021-04-23 20:44:06,806 - BERTopic - Clustered UMAP embeddings with HDBSCAN\n",
            "2021-04-23 20:44:14,925 - BERTopic - Reduced number of topics from 102 to 47\n",
            "\n",
            "\n",
            "\n",
            "\n",
            "\n",
            " 92%|█████████▏| 45/49 [55:58<05:11, 77.76s/it]\u001b[A\u001b[A\u001b[A\u001b[A\u001b[A"
          ],
          "name": "stderr"
        },
        {
          "output_type": "display_data",
          "data": {
            "application/vnd.jupyter.widget-view+json": {
              "model_id": "8ae6d426dc9442308c9e0a146a089fd1",
              "version_minor": 0,
              "version_major": 2
            },
            "text/plain": [
              "HBox(children=(FloatProgress(value=0.0, description='Batches', max=319.0, style=ProgressStyle(description_widt…"
            ]
          },
          "metadata": {
            "tags": []
          }
        },
        {
          "output_type": "stream",
          "text": [
            "\n"
          ],
          "name": "stdout"
        },
        {
          "output_type": "stream",
          "text": [
            "2021-04-23 20:45:17,758 - BERTopic - Reduced dimensionality with UMAP\n",
            "2021-04-23 20:45:25,577 - BERTopic - Clustered UMAP embeddings with HDBSCAN\n",
            "2021-04-23 20:45:34,156 - BERTopic - Reduced number of topics from 113 to 48\n",
            "\n",
            "\n",
            "\n",
            "\n",
            "\n",
            " 94%|█████████▍| 46/49 [57:17<03:54, 78.06s/it]\u001b[A\u001b[A\u001b[A\u001b[A\u001b[A"
          ],
          "name": "stderr"
        },
        {
          "output_type": "display_data",
          "data": {
            "application/vnd.jupyter.widget-view+json": {
              "model_id": "75125e66c23a4431b05fff61c4dc5298",
              "version_minor": 0,
              "version_major": 2
            },
            "text/plain": [
              "HBox(children=(FloatProgress(value=0.0, description='Batches', max=319.0, style=ProgressStyle(description_widt…"
            ]
          },
          "metadata": {
            "tags": []
          }
        },
        {
          "output_type": "stream",
          "text": [
            "\n"
          ],
          "name": "stdout"
        },
        {
          "output_type": "stream",
          "text": [
            "2021-04-23 20:46:37,364 - BERTopic - Reduced dimensionality with UMAP\n",
            "2021-04-23 20:46:46,067 - BERTopic - Clustered UMAP embeddings with HDBSCAN\n",
            "2021-04-23 20:46:54,495 - BERTopic - Reduced number of topics from 119 to 49\n",
            "\n",
            "\n",
            "\n",
            "\n",
            "\n",
            " 96%|█████████▌| 47/49 [58:37<02:37, 78.84s/it]\u001b[A\u001b[A\u001b[A\u001b[A\u001b[A"
          ],
          "name": "stderr"
        },
        {
          "output_type": "display_data",
          "data": {
            "application/vnd.jupyter.widget-view+json": {
              "model_id": "fa084529a27a4795974d4695cd6f7189",
              "version_minor": 0,
              "version_major": 2
            },
            "text/plain": [
              "HBox(children=(FloatProgress(value=0.0, description='Batches', max=319.0, style=ProgressStyle(description_widt…"
            ]
          },
          "metadata": {
            "tags": []
          }
        },
        {
          "output_type": "stream",
          "text": [
            "\n"
          ],
          "name": "stdout"
        },
        {
          "output_type": "stream",
          "text": [
            "2021-04-23 20:47:57,613 - BERTopic - Reduced dimensionality with UMAP\n",
            "2021-04-23 20:48:07,065 - BERTopic - Clustered UMAP embeddings with HDBSCAN\n",
            "2021-04-23 20:48:15,961 - BERTopic - Reduced number of topics from 130 to 50\n",
            "\n",
            "\n",
            "\n",
            "\n",
            "\n",
            " 98%|█████████▊| 48/49 [59:58<01:19, 79.45s/it]\u001b[A\u001b[A\u001b[A\u001b[A\u001b[A"
          ],
          "name": "stderr"
        },
        {
          "output_type": "display_data",
          "data": {
            "application/vnd.jupyter.widget-view+json": {
              "model_id": "1af7fa7c674f4ec48e5b85286aa6e30f",
              "version_minor": 0,
              "version_major": 2
            },
            "text/plain": [
              "HBox(children=(FloatProgress(value=0.0, description='Batches', max=319.0, style=ProgressStyle(description_widt…"
            ]
          },
          "metadata": {
            "tags": []
          }
        },
        {
          "output_type": "stream",
          "text": [
            "\n"
          ],
          "name": "stdout"
        },
        {
          "output_type": "stream",
          "text": [
            "2021-04-23 20:49:19,353 - BERTopic - Reduced dimensionality with UMAP\n",
            "2021-04-23 20:49:27,101 - BERTopic - Clustered UMAP embeddings with HDBSCAN\n",
            "2021-04-23 20:49:35,376 - BERTopic - Reduced number of topics from 112 to 51\n",
            "\n",
            "\n",
            "\n",
            "\n",
            "\n",
            "100%|██████████| 49/49 [1:01:18<00:00, 75.07s/it]\n",
            "\n",
            "\n",
            "\n",
            "\n",
            "\n",
            "100%|██████████| 49/49 [00:00<00:00, 10223.90it/s]\n"
          ],
          "name": "stderr"
        },
        {
          "output_type": "execute_result",
          "data": {
            "text/plain": [
              "[<matplotlib.lines.Line2D at 0x7f645253fe90>]"
            ]
          },
          "metadata": {
            "tags": []
          },
          "execution_count": 18
        },
        {
          "output_type": "display_data",
          "data": {
            "image/png": "[encoded data removed]",
            "text/plain": [
              "<Figure size 432x288 with 1 Axes>"
            ]
          },
          "metadata": {
            "tags": [],
            "needs_background": "light"
          }
        }
      ]
    },
    {
      "cell_type": "code",
      "metadata": {
        "colab": {
          "base_uri": "https://localhost:8080/",
          "height": 507
        },
        "id": "PASnNH7XePQ7",
        "outputId": "3a2791a5-aa5a-4353-b528-8634668ee261"
      },
      "source": [
        "import matplotlib.pyplot as plt\n",
        "plt.rcParams['figure.figsize'] = (10.0, 8.0) # set default size of plots\n",
        "plt.rcParams['font.size'] = 16\n",
        "plt.rcParams['image.interpolation'] = 'nearest'\n",
        "plt.rcParams['image.cmap'] = 'gray'\n",
        "\n",
        "plt.plot(test_k_list, score_list, 'b--', marker='.', markersize=15)\n",
        "plt.xlabel(\"Number of Cluster\")\n",
        "plt.ylabel(\"Silhouette Score\")\n",
        "plt.grid()"
      ],
      "execution_count": null,
      "outputs": [
        {
          "output_type": "display_data",
          "data": {
            "image/png": "[encoded data removed]",
            "text/plain": [
              "<Figure size 720x576 with 1 Axes>"
            ]
          },
          "metadata": {
            "tags": [],
            "needs_background": "light"
          }
        }
      ]
    },
    {
      "cell_type": "code",
      "metadata": {
        "colab": {
          "base_uri": "https://localhost:8080/"
        },
        "id": "2GJuK15iin4J",
        "outputId": "fb1d0032-eae7-4494-92d8-16b4d0a5f851"
      },
      "source": [
        "idx_max = np.argmax(score_list[1:])\n",
        "idx_max = test_k_list[idx_max+1]\n",
        "print(\"max index：\", idx_max)\n",
        "print(\"max score: \", score_list[idx_max-2])"
      ],
      "execution_count": null,
      "outputs": [
        {
          "output_type": "stream",
          "text": [
            "max index： 7\n",
            "max score:  0.1085882\n"
          ],
          "name": "stdout"
        }
      ]
    },
    {
      "cell_type": "code",
      "metadata": {
        "colab": {
          "base_uri": "https://localhost:8080/"
        },
        "id": "jy9WsHpy3xUG",
        "outputId": "f7d0fbd6-ec79-4827-f7fc-cd19647eead2"
      },
      "source": [
        "score_list = np.load(\"score.npy\")\n",
        "score_list.shape"
      ],
      "execution_count": null,
      "outputs": [
        {
          "output_type": "execute_result",
          "data": {
            "text/plain": [
              "(49,)"
            ]
          },
          "metadata": {
            "tags": []
          },
          "execution_count": 35
        }
      ]
    },
    {
      "cell_type": "code",
      "metadata": {
        "colab": {
          "base_uri": "https://localhost:8080/"
        },
        "id": "euIHvNraiOMM",
        "outputId": "619dd3cc-a7ae-48a7-d8e1-f7a06855ed5f"
      },
      "source": [
        "with open('major_topic.txt', 'r') as f:\n",
        "  major_topic_loaded = f.readlines()\n",
        "major_topic_loaded"
      ],
      "execution_count": null,
      "outputs": [
        {
          "output_type": "execute_result",
          "data": {
            "text/plain": [
              "[]"
            ]
          },
          "metadata": {
            "tags": []
          },
          "execution_count": 39
        }
      ]
    },
    {
      "cell_type": "code",
      "metadata": {
        "colab": {
          "base_uri": "https://localhost:8080/"
        },
        "id": "uzaJza__ay32",
        "outputId": "05d33dfe-c1c1-4636-d4bb-95272adba17d"
      },
      "source": [
        "!pwd"
      ],
      "execution_count": null,
      "outputs": [
        {
          "output_type": "stream",
          "text": [
            "/content/drive/My Drive/EECS545\n"
          ],
          "name": "stdout"
        }
      ]
    },
    {
      "cell_type": "code",
      "metadata": {
        "id": "_ee3rxA5aeBh"
      },
      "source": [
        "model = BERTopic.load(\"models/45.pth\")"
      ],
      "execution_count": null,
      "outputs": []
    },
    {
      "cell_type": "code",
      "metadata": {
        "colab": {
          "base_uri": "https://localhost:8080/",
          "height": 667
        },
        "id": "F9YGC7o2bIP4",
        "outputId": "b1c82a1d-1c77-4bf6-af20-75491aed5c48"
      },
      "source": [
        "model.visualize_topics()"
      ],
      "execution_count": null,
      "outputs": [
        {
          "output_type": "display_data",
          "data": {
            "text/html": [
              "<html>\n",
              "<head><meta charset=\"utf-8\" /></head>\n",
              "<body>\n",
              "    <div>            <script src=\"https://cdnjs.cloudflare.com/ajax/libs/mathjax/2.7.5/MathJax.js?config=TeX-AMS-MML_SVG\"></script><script type=\"text/javascript\">if (window.MathJax) {MathJax.Hub.Config({SVG: {font: \"STIX-Web\"}});}</script>                <script type=\"text/javascript\">window.PlotlyConfig = {MathJaxConfig: 'local'};</script>\n",
              "        <script src=\"https://cdn.plot.ly/plotly-latest.min.js\"></script>                <div id=\"49167543-2e4c-4b52-971e-cd5752f7c52a\" class=\"plotly-graph-div\" style=\"height:650px; width:650px;\"></div>            <script type=\"text/javascript\">                                    window.PLOTLYENV=window.PLOTLYENV || {};                                    if (document.getElementById(\"49167543-2e4c-4b52-971e-cd5752f7c52a\")) {                    Plotly.newPlot(                        \"49167543-2e4c-4b52-971e-cd5752f7c52a\",                        [{\"customdata\": [[-0.8463248610496521, -8.104212760925293, 0, \"canada | canadian | health | homes | care\", 65], [-2.8393452167510986, 17.374755859375, 1, \"germany | german | telemedical | pandemic | care\", 37], [-3.1700351238250732, 14.86837387084961, 3, \"de | la | en | des | les\", 80], [-2.94059419631958, 14.622787475585938, 5, \"dental | dentists | aerosol | procedures | dentistry\", 42], [-8.544279098510742, -16.747854232788086, 6, \"australia | australian | health | 95 | pandemic\", 38], [-3.8510961532592773, 17.65888214111328, 7, \"pregnant | women | pregnancy | maternal | birth\", 38], [-8.45914077758789, -16.83257484436035, 9, \"japan | suicide | japanese | during | dah\", 38], [10.802535057067871, 6.082840442657471, 15, \"diabetes | type | glucose | glycemic | care\", 55], [-1.3847362995147705, 17.358476638793945, 16, \"obesity | obese | weight | risk | is\", 35], [-3.2204701900482178, 14.918883323669434, 22, \"italy | italian | was | outbreak | patients\", 58], [-3.204221487045288, 14.34136962890625, 23, \"lockdown | during | pandemic | 2020 | period\", 243], [-1.074483036994934, 1.598605751991272, 27, \"rna | viral | viruses | sarscov2 | virus\", 77], [-3.2644197940826416, 16.766698837280273, 33, \"twitter | tweets | media | social | misinformation\", 81], [7.548116207122803, 2.5814905166625977, 34, \"model | number | epidemic | we | data\", 60], [-9.018157958984375, -16.275400161743164, 39, \"students | online | learning | virtual | student\", 96], [12.537809371948242, -6.0778117179870605, 41, \"he | case | patient | report | man\", 75], [-3.2293808460235596, 13.927976608276367, 45, \"patients | were | was | with | or\", 1031], [12.54946517944336, -6.089200496673584, 47, \"woman | case | patient | she | pregnant\", 64], [-2.8644461631774902, 16.94741439819336, 52, \"vaccine | forecasting | public | cyberchondria | vaccination\", 32], [10.741060256958008, 6.144000053405762, 56, \"ventilation | lpv | patients | was | mechanical\", 56], [11.437116622924805, 5.444504737854004, 58, \"patients | vitamin | heparin | mortality | treatment\", 39], [-1.005885124206543, 1.5274015665054321, 61, \"sarscov2 | against | vaccine | drugs | are\", 171], [11.023239135742188, 5.861769199371338, 64, \"patients | ckd | were | hospitalized | with\", 48], [11.31938648223877, 5.563405513763428, 65, \"children | misc | patients | infection | severe\", 39], [7.454711437225342, 2.6756582260131836, 67, \"epidemic | model | we | dynamics | models\", 60], [-3.7608375549316406, 17.508058547973633, 72, \"cats | bat | dogs | feline | fip\", 34], [-8.795462608337402, -16.49833869934082, 74, \"students | health | mental | children | stress\", 58], [-1.2481900453567505, 17.52923011779785, 75, \"severe | sarscov2 | cells | ace2 | respiratory\", 152], [-1.5212773084640503, 17.48057746887207, 83, \"sarscov2 | virus | is | cytokine | respiratory\", 44], [-3.465505361557007, 16.957664489746094, 85, \"pandemic | health | has | outbreak | world\", 38], [-0.6787115931510925, -7.936814308166504, 88, \"energy | research | industry | technologies | as\", 55], [-0.6632635593414307, -7.921341896057129, 90, \"health | research | digital | public | care\", 47], [-8.858036041259766, -16.435821533203125, 94, \"mental | psychological | pandemic | anxiety | stress\", 67], [-0.9928105473518372, -8.250693321228027, 95, \"health | pandemic | social | crisis | public\", 91], [-3.693878412246704, 17.4250431060791, 99, \"china | 2019 | coronavirus | wuhan | december\", 48], [-3.2053816318511963, 16.94252586364746, 101, \"cases | 2020 | deaths | covid19 | transmission\", 32], [-3.1200544834136963, 17.320415496826172, 105, \"china | chinas | chinese | epidemic | on\", 82], [7.145745277404785, 2.9849462509155273, 107, \"learning | algorithm | qa | tdcs | machine\", 34], [-2.0372893810272217, 1.677259087562561, 111, \"cancer | tumor | cells | cell | immune\", 40], [-1.6113860607147217, 1.5130162239074707, 113, \"protein | viral | replication | tmprss2 | infection\", 38], [-0.8681285977363586, 2.0790884494781494, 115, \"power | by | weld | color | electrical\", 31], [7.312711715698242, 2.8170855045318604, 116, \"we | model | formula | is | see\", 125], [-1.6303272247314453, 1.4413665533065796, 117, \"signaling | neurons | cells | plasticity | cell\", 38], [-1.8616005182266235, 1.2126781940460205, 118, \"mice | expression | brain | insulin | mouse\", 42], [-0.9066583514213562, 1.9860104322433472, 120, \"as | biological | interactions | materials | synthesis\", 46]], \"hovertemplate\": \"<b>Topic %{customdata[2]}</b><br>Words: %{customdata[3]}<br>Size: %{customdata[4]}\", \"legendgroup\": \"\", \"marker\": {\"color\": \"#B0BEC5\", \"line\": {\"color\": \"DarkSlateGrey\", \"width\": 2}, \"size\": [65, 37, 80, 42, 38, 38, 38, 55, 35, 58, 243, 77, 81, 60, 96, 75, 1031, 64, 32, 56, 39, 171, 48, 39, 60, 34, 58, 152, 44, 38, 55, 47, 67, 91, 48, 32, 82, 34, 40, 38, 31, 125, 38, 42, 46], \"sizemode\": \"area\", \"sizeref\": 0.644375, \"symbol\": \"circle\"}, \"mode\": \"markers\", \"name\": \"\", \"orientation\": \"v\", \"showlegend\": false, \"type\": \"scatter\", \"x\": [-0.8463248610496521, -2.8393452167510986, -3.1700351238250732, -2.94059419631958, -8.544279098510742, -3.8510961532592773, -8.45914077758789, 10.802535057067871, -1.3847362995147705, -3.2204701900482178, -3.204221487045288, -1.074483036994934, -3.2644197940826416, 7.548116207122803, -9.018157958984375, 12.537809371948242, -3.2293808460235596, 12.54946517944336, -2.8644461631774902, 10.741060256958008, 11.437116622924805, -1.005885124206543, 11.023239135742188, 11.31938648223877, 7.454711437225342, -3.7608375549316406, -8.795462608337402, -1.2481900453567505, -1.5212773084640503, -3.465505361557007, -0.6787115931510925, -0.6632635593414307, -8.858036041259766, -0.9928105473518372, -3.693878412246704, -3.2053816318511963, -3.1200544834136963, 7.145745277404785, -2.0372893810272217, -1.6113860607147217, -0.8681285977363586, 7.312711715698242, -1.6303272247314453, -1.8616005182266235, -0.9066583514213562], \"xaxis\": \"x\", \"y\": [-8.104212760925293, 17.374755859375, 14.86837387084961, 14.622787475585938, -16.747854232788086, 17.65888214111328, -16.83257484436035, 6.082840442657471, 17.358476638793945, 14.918883323669434, 14.34136962890625, 1.598605751991272, 16.766698837280273, 2.5814905166625977, -16.275400161743164, -6.0778117179870605, 13.927976608276367, -6.089200496673584, 16.94741439819336, 6.144000053405762, 5.444504737854004, 1.5274015665054321, 5.861769199371338, 5.563405513763428, 2.6756582260131836, 17.508058547973633, -16.49833869934082, 17.52923011779785, 17.48057746887207, 16.957664489746094, -7.936814308166504, -7.921341896057129, -16.435821533203125, -8.250693321228027, 17.4250431060791, 16.94252586364746, 17.320415496826172, 2.9849462509155273, 1.677259087562561, 1.5130162239074707, 2.0790884494781494, 2.8170855045318604, 1.4413665533065796, 1.2126781940460205, 1.9860104322433472], \"yaxis\": \"y\"}],                        {\"annotations\": [{\"showarrow\": false, \"text\": \"D1\", \"x\": -10.370881652832031, \"y\": 0.47512669563293386, \"yshift\": 10}, {\"showarrow\": false, \"text\": \"D2\", \"x\": 2.030501651763916, \"xshift\": 10, \"y\": 20.307714462280273}], \"height\": 650, \"hoverlabel\": {\"bgcolor\": \"white\", \"font\": {\"family\": \"Rockwell\", \"size\": 16}}, \"legend\": {\"itemsizing\": \"constant\", \"tracegroupgap\": 0}, \"margin\": {\"t\": 60}, \"shapes\": [{\"line\": {\"color\": \"#CFD8DC\", \"width\": 2}, \"type\": \"line\", \"x0\": 2.030501651763916, \"x1\": 2.030501651763916, \"y0\": -19.357461071014406, \"y1\": 20.307714462280273}, {\"line\": {\"color\": \"#9E9E9E\", \"width\": 2}, \"type\": \"line\", \"x0\": -10.370881652832031, \"x1\": 14.431884956359863, \"y0\": 0.47512669563293386, \"y1\": 0.47512669563293386}], \"sliders\": [{\"active\": 0, \"pad\": {\"t\": 50}, \"steps\": [{\"args\": [{\"marker.color\": [[\"red\", \"#B0BEC5\", \"#B0BEC5\", \"#B0BEC5\", \"#B0BEC5\", \"#B0BEC5\", \"#B0BEC5\", \"#B0BEC5\", \"#B0BEC5\", \"#B0BEC5\", \"#B0BEC5\", \"#B0BEC5\", \"#B0BEC5\", \"#B0BEC5\", \"#B0BEC5\", \"#B0BEC5\", \"#B0BEC5\", \"#B0BEC5\", \"#B0BEC5\", \"#B0BEC5\", \"#B0BEC5\", \"#B0BEC5\", \"#B0BEC5\", \"#B0BEC5\", \"#B0BEC5\", \"#B0BEC5\", \"#B0BEC5\", \"#B0BEC5\", \"#B0BEC5\", \"#B0BEC5\", \"#B0BEC5\", \"#B0BEC5\", \"#B0BEC5\", \"#B0BEC5\", \"#B0BEC5\", \"#B0BEC5\", \"#B0BEC5\", \"#B0BEC5\", \"#B0BEC5\", \"#B0BEC5\", \"#B0BEC5\", \"#B0BEC5\", \"#B0BEC5\", \"#B0BEC5\", \"#B0BEC5\"]]}], \"label\": \"Topic 0\", \"method\": \"update\"}, {\"args\": [{\"marker.color\": [[\"#B0BEC5\", \"red\", \"#B0BEC5\", \"#B0BEC5\", \"#B0BEC5\", \"#B0BEC5\", \"#B0BEC5\", \"#B0BEC5\", \"#B0BEC5\", \"#B0BEC5\", \"#B0BEC5\", \"#B0BEC5\", \"#B0BEC5\", \"#B0BEC5\", \"#B0BEC5\", \"#B0BEC5\", \"#B0BEC5\", \"#B0BEC5\", \"#B0BEC5\", \"#B0BEC5\", \"#B0BEC5\", \"#B0BEC5\", \"#B0BEC5\", \"#B0BEC5\", \"#B0BEC5\", \"#B0BEC5\", \"#B0BEC5\", \"#B0BEC5\", \"#B0BEC5\", \"#B0BEC5\", \"#B0BEC5\", \"#B0BEC5\", \"#B0BEC5\", \"#B0BEC5\", \"#B0BEC5\", \"#B0BEC5\", \"#B0BEC5\", \"#B0BEC5\", \"#B0BEC5\", \"#B0BEC5\", \"#B0BEC5\", \"#B0BEC5\", \"#B0BEC5\", \"#B0BEC5\", \"#B0BEC5\"]]}], \"label\": \"Topic 1\", \"method\": \"update\"}, {\"args\": [{\"marker.color\": [[\"#B0BEC5\", \"#B0BEC5\", \"red\", \"#B0BEC5\", \"#B0BEC5\", \"#B0BEC5\", \"#B0BEC5\", \"#B0BEC5\", \"#B0BEC5\", \"#B0BEC5\", \"#B0BEC5\", \"#B0BEC5\", \"#B0BEC5\", \"#B0BEC5\", \"#B0BEC5\", \"#B0BEC5\", \"#B0BEC5\", \"#B0BEC5\", \"#B0BEC5\", \"#B0BEC5\", \"#B0BEC5\", \"#B0BEC5\", \"#B0BEC5\", \"#B0BEC5\", \"#B0BEC5\", \"#B0BEC5\", \"#B0BEC5\", \"#B0BEC5\", \"#B0BEC5\", \"#B0BEC5\", \"#B0BEC5\", \"#B0BEC5\", \"#B0BEC5\", \"#B0BEC5\", \"#B0BEC5\", \"#B0BEC5\", \"#B0BEC5\", \"#B0BEC5\", \"#B0BEC5\", \"#B0BEC5\", \"#B0BEC5\", \"#B0BEC5\", \"#B0BEC5\", \"#B0BEC5\", \"#B0BEC5\"]]}], \"label\": \"Topic 3\", \"method\": \"update\"}, {\"args\": [{\"marker.color\": [[\"#B0BEC5\", \"#B0BEC5\", \"#B0BEC5\", \"red\", \"#B0BEC5\", \"#B0BEC5\", \"#B0BEC5\", \"#B0BEC5\", \"#B0BEC5\", \"#B0BEC5\", \"#B0BEC5\", \"#B0BEC5\", \"#B0BEC5\", \"#B0BEC5\", \"#B0BEC5\", \"#B0BEC5\", \"#B0BEC5\", \"#B0BEC5\", \"#B0BEC5\", \"#B0BEC5\", \"#B0BEC5\", \"#B0BEC5\", \"#B0BEC5\", \"#B0BEC5\", \"#B0BEC5\", \"#B0BEC5\", \"#B0BEC5\", \"#B0BEC5\", \"#B0BEC5\", \"#B0BEC5\", \"#B0BEC5\", \"#B0BEC5\", \"#B0BEC5\", \"#B0BEC5\", \"#B0BEC5\", \"#B0BEC5\", \"#B0BEC5\", \"#B0BEC5\", \"#B0BEC5\", \"#B0BEC5\", \"#B0BEC5\", \"#B0BEC5\", \"#B0BEC5\", \"#B0BEC5\", \"#B0BEC5\"]]}], \"label\": \"Topic 5\", \"method\": \"update\"}, {\"args\": [{\"marker.color\": [[\"#B0BEC5\", \"#B0BEC5\", \"#B0BEC5\", \"#B0BEC5\", \"red\", \"#B0BEC5\", \"#B0BEC5\", \"#B0BEC5\", \"#B0BEC5\", \"#B0BEC5\", \"#B0BEC5\", \"#B0BEC5\", \"#B0BEC5\", \"#B0BEC5\", \"#B0BEC5\", \"#B0BEC5\", \"#B0BEC5\", \"#B0BEC5\", \"#B0BEC5\", \"#B0BEC5\", \"#B0BEC5\", \"#B0BEC5\", \"#B0BEC5\", \"#B0BEC5\", \"#B0BEC5\", \"#B0BEC5\", \"#B0BEC5\", \"#B0BEC5\", \"#B0BEC5\", \"#B0BEC5\", \"#B0BEC5\", \"#B0BEC5\", \"#B0BEC5\", \"#B0BEC5\", \"#B0BEC5\", \"#B0BEC5\", \"#B0BEC5\", \"#B0BEC5\", \"#B0BEC5\", \"#B0BEC5\", \"#B0BEC5\", \"#B0BEC5\", \"#B0BEC5\", \"#B0BEC5\", \"#B0BEC5\"]]}], \"label\": \"Topic 6\", \"method\": \"update\"}, {\"args\": [{\"marker.color\": [[\"#B0BEC5\", \"#B0BEC5\", \"#B0BEC5\", \"#B0BEC5\", \"#B0BEC5\", \"red\", \"#B0BEC5\", \"#B0BEC5\", \"#B0BEC5\", \"#B0BEC5\", \"#B0BEC5\", \"#B0BEC5\", \"#B0BEC5\", \"#B0BEC5\", \"#B0BEC5\", \"#B0BEC5\", \"#B0BEC5\", \"#B0BEC5\", \"#B0BEC5\", \"#B0BEC5\", \"#B0BEC5\", \"#B0BEC5\", \"#B0BEC5\", \"#B0BEC5\", \"#B0BEC5\", \"#B0BEC5\", \"#B0BEC5\", \"#B0BEC5\", \"#B0BEC5\", \"#B0BEC5\", \"#B0BEC5\", \"#B0BEC5\", \"#B0BEC5\", \"#B0BEC5\", \"#B0BEC5\", \"#B0BEC5\", \"#B0BEC5\", \"#B0BEC5\", \"#B0BEC5\", \"#B0BEC5\", \"#B0BEC5\", \"#B0BEC5\", \"#B0BEC5\", \"#B0BEC5\", \"#B0BEC5\"]]}], \"label\": \"Topic 7\", \"method\": \"update\"}, {\"args\": [{\"marker.color\": [[\"#B0BEC5\", \"#B0BEC5\", \"#B0BEC5\", \"#B0BEC5\", \"#B0BEC5\", \"#B0BEC5\", \"red\", \"#B0BEC5\", \"#B0BEC5\", \"#B0BEC5\", \"#B0BEC5\", \"#B0BEC5\", \"#B0BEC5\", \"#B0BEC5\", \"#B0BEC5\", \"#B0BEC5\", \"#B0BEC5\", \"#B0BEC5\", \"#B0BEC5\", \"#B0BEC5\", \"#B0BEC5\", \"#B0BEC5\", \"#B0BEC5\", \"#B0BEC5\", \"#B0BEC5\", \"#B0BEC5\", \"#B0BEC5\", \"#B0BEC5\", \"#B0BEC5\", \"#B0BEC5\", \"#B0BEC5\", \"#B0BEC5\", \"#B0BEC5\", \"#B0BEC5\", \"#B0BEC5\", \"#B0BEC5\", \"#B0BEC5\", \"#B0BEC5\", \"#B0BEC5\", \"#B0BEC5\", \"#B0BEC5\", \"#B0BEC5\", \"#B0BEC5\", \"#B0BEC5\", \"#B0BEC5\"]]}], \"label\": \"Topic 9\", \"method\": \"update\"}, {\"args\": [{\"marker.color\": [[\"#B0BEC5\", \"#B0BEC5\", \"#B0BEC5\", \"#B0BEC5\", \"#B0BEC5\", \"#B0BEC5\", \"#B0BEC5\", \"red\", \"#B0BEC5\", \"#B0BEC5\", \"#B0BEC5\", \"#B0BEC5\", \"#B0BEC5\", \"#B0BEC5\", \"#B0BEC5\", \"#B0BEC5\", \"#B0BEC5\", \"#B0BEC5\", \"#B0BEC5\", \"#B0BEC5\", \"#B0BEC5\", \"#B0BEC5\", \"#B0BEC5\", \"#B0BEC5\", \"#B0BEC5\", \"#B0BEC5\", \"#B0BEC5\", \"#B0BEC5\", \"#B0BEC5\", \"#B0BEC5\", \"#B0BEC5\", \"#B0BEC5\", \"#B0BEC5\", \"#B0BEC5\", \"#B0BEC5\", \"#B0BEC5\", \"#B0BEC5\", \"#B0BEC5\", \"#B0BEC5\", \"#B0BEC5\", \"#B0BEC5\", \"#B0BEC5\", \"#B0BEC5\", \"#B0BEC5\", \"#B0BEC5\"]]}], \"label\": \"Topic 15\", \"method\": \"update\"}, {\"args\": [{\"marker.color\": [[\"#B0BEC5\", \"#B0BEC5\", \"#B0BEC5\", \"#B0BEC5\", \"#B0BEC5\", \"#B0BEC5\", \"#B0BEC5\", \"#B0BEC5\", \"red\", \"#B0BEC5\", \"#B0BEC5\", \"#B0BEC5\", \"#B0BEC5\", \"#B0BEC5\", \"#B0BEC5\", \"#B0BEC5\", \"#B0BEC5\", \"#B0BEC5\", \"#B0BEC5\", \"#B0BEC5\", \"#B0BEC5\", \"#B0BEC5\", \"#B0BEC5\", \"#B0BEC5\", \"#B0BEC5\", \"#B0BEC5\", \"#B0BEC5\", \"#B0BEC5\", \"#B0BEC5\", \"#B0BEC5\", \"#B0BEC5\", \"#B0BEC5\", \"#B0BEC5\", \"#B0BEC5\", \"#B0BEC5\", \"#B0BEC5\", \"#B0BEC5\", \"#B0BEC5\", \"#B0BEC5\", \"#B0BEC5\", \"#B0BEC5\", \"#B0BEC5\", \"#B0BEC5\", \"#B0BEC5\", \"#B0BEC5\"]]}], \"label\": \"Topic 16\", \"method\": \"update\"}, {\"args\": [{\"marker.color\": [[\"#B0BEC5\", \"#B0BEC5\", \"#B0BEC5\", \"#B0BEC5\", \"#B0BEC5\", \"#B0BEC5\", \"#B0BEC5\", \"#B0BEC5\", \"#B0BEC5\", \"red\", \"#B0BEC5\", \"#B0BEC5\", \"#B0BEC5\", \"#B0BEC5\", \"#B0BEC5\", \"#B0BEC5\", \"#B0BEC5\", \"#B0BEC5\", \"#B0BEC5\", \"#B0BEC5\", \"#B0BEC5\", \"#B0BEC5\", \"#B0BEC5\", \"#B0BEC5\", \"#B0BEC5\", \"#B0BEC5\", \"#B0BEC5\", \"#B0BEC5\", \"#B0BEC5\", \"#B0BEC5\", \"#B0BEC5\", \"#B0BEC5\", \"#B0BEC5\", \"#B0BEC5\", \"#B0BEC5\", \"#B0BEC5\", \"#B0BEC5\", \"#B0BEC5\", \"#B0BEC5\", \"#B0BEC5\", \"#B0BEC5\", \"#B0BEC5\", \"#B0BEC5\", \"#B0BEC5\", \"#B0BEC5\"]]}], \"label\": \"Topic 22\", \"method\": \"update\"}, {\"args\": [{\"marker.color\": [[\"#B0BEC5\", \"#B0BEC5\", \"#B0BEC5\", \"#B0BEC5\", \"#B0BEC5\", \"#B0BEC5\", \"#B0BEC5\", \"#B0BEC5\", \"#B0BEC5\", \"#B0BEC5\", \"red\", \"#B0BEC5\", \"#B0BEC5\", \"#B0BEC5\", \"#B0BEC5\", \"#B0BEC5\", \"#B0BEC5\", \"#B0BEC5\", \"#B0BEC5\", \"#B0BEC5\", \"#B0BEC5\", \"#B0BEC5\", \"#B0BEC5\", \"#B0BEC5\", \"#B0BEC5\", \"#B0BEC5\", \"#B0BEC5\", \"#B0BEC5\", \"#B0BEC5\", \"#B0BEC5\", \"#B0BEC5\", \"#B0BEC5\", \"#B0BEC5\", \"#B0BEC5\", \"#B0BEC5\", \"#B0BEC5\", \"#B0BEC5\", \"#B0BEC5\", \"#B0BEC5\", \"#B0BEC5\", \"#B0BEC5\", \"#B0BEC5\", \"#B0BEC5\", \"#B0BEC5\", \"#B0BEC5\"]]}], \"label\": \"Topic 23\", \"method\": \"update\"}, {\"args\": [{\"marker.color\": [[\"#B0BEC5\", \"#B0BEC5\", \"#B0BEC5\", \"#B0BEC5\", \"#B0BEC5\", \"#B0BEC5\", \"#B0BEC5\", \"#B0BEC5\", \"#B0BEC5\", \"#B0BEC5\", \"#B0BEC5\", \"red\", \"#B0BEC5\", \"#B0BEC5\", \"#B0BEC5\", \"#B0BEC5\", \"#B0BEC5\", \"#B0BEC5\", \"#B0BEC5\", \"#B0BEC5\", \"#B0BEC5\", \"#B0BEC5\", \"#B0BEC5\", \"#B0BEC5\", \"#B0BEC5\", \"#B0BEC5\", \"#B0BEC5\", \"#B0BEC5\", \"#B0BEC5\", \"#B0BEC5\", \"#B0BEC5\", \"#B0BEC5\", \"#B0BEC5\", \"#B0BEC5\", \"#B0BEC5\", \"#B0BEC5\", \"#B0BEC5\", \"#B0BEC5\", \"#B0BEC5\", \"#B0BEC5\", \"#B0BEC5\", \"#B0BEC5\", \"#B0BEC5\", \"#B0BEC5\", \"#B0BEC5\"]]}], \"label\": \"Topic 27\", \"method\": \"update\"}, {\"args\": [{\"marker.color\": [[\"#B0BEC5\", \"#B0BEC5\", \"#B0BEC5\", \"#B0BEC5\", \"#B0BEC5\", \"#B0BEC5\", \"#B0BEC5\", \"#B0BEC5\", \"#B0BEC5\", \"#B0BEC5\", \"#B0BEC5\", \"#B0BEC5\", \"red\", \"#B0BEC5\", \"#B0BEC5\", \"#B0BEC5\", \"#B0BEC5\", \"#B0BEC5\", \"#B0BEC5\", \"#B0BEC5\", \"#B0BEC5\", \"#B0BEC5\", \"#B0BEC5\", \"#B0BEC5\", \"#B0BEC5\", \"#B0BEC5\", \"#B0BEC5\", \"#B0BEC5\", \"#B0BEC5\", \"#B0BEC5\", \"#B0BEC5\", \"#B0BEC5\", \"#B0BEC5\", \"#B0BEC5\", \"#B0BEC5\", \"#B0BEC5\", \"#B0BEC5\", \"#B0BEC5\", \"#B0BEC5\", \"#B0BEC5\", \"#B0BEC5\", \"#B0BEC5\", \"#B0BEC5\", \"#B0BEC5\", \"#B0BEC5\"]]}], \"label\": \"Topic 33\", \"method\": \"update\"}, {\"args\": [{\"marker.color\": [[\"#B0BEC5\", \"#B0BEC5\", \"#B0BEC5\", \"#B0BEC5\", \"#B0BEC5\", \"#B0BEC5\", \"#B0BEC5\", \"#B0BEC5\", \"#B0BEC5\", \"#B0BEC5\", \"#B0BEC5\", \"#B0BEC5\", \"#B0BEC5\", \"red\", \"#B0BEC5\", \"#B0BEC5\", \"#B0BEC5\", \"#B0BEC5\", \"#B0BEC5\", \"#B0BEC5\", \"#B0BEC5\", \"#B0BEC5\", \"#B0BEC5\", \"#B0BEC5\", \"#B0BEC5\", \"#B0BEC5\", \"#B0BEC5\", \"#B0BEC5\", \"#B0BEC5\", \"#B0BEC5\", \"#B0BEC5\", \"#B0BEC5\", \"#B0BEC5\", \"#B0BEC5\", \"#B0BEC5\", \"#B0BEC5\", \"#B0BEC5\", \"#B0BEC5\", \"#B0BEC5\", \"#B0BEC5\", \"#B0BEC5\", \"#B0BEC5\", \"#B0BEC5\", \"#B0BEC5\", \"#B0BEC5\"]]}], \"label\": \"Topic 34\", \"method\": \"update\"}, {\"args\": [{\"marker.color\": [[\"#B0BEC5\", \"#B0BEC5\", \"#B0BEC5\", \"#B0BEC5\", \"#B0BEC5\", \"#B0BEC5\", \"#B0BEC5\", \"#B0BEC5\", \"#B0BEC5\", \"#B0BEC5\", \"#B0BEC5\", \"#B0BEC5\", \"#B0BEC5\", \"#B0BEC5\", \"red\", \"#B0BEC5\", \"#B0BEC5\", \"#B0BEC5\", \"#B0BEC5\", \"#B0BEC5\", \"#B0BEC5\", \"#B0BEC5\", \"#B0BEC5\", \"#B0BEC5\", \"#B0BEC5\", \"#B0BEC5\", \"#B0BEC5\", \"#B0BEC5\", \"#B0BEC5\", \"#B0BEC5\", \"#B0BEC5\", \"#B0BEC5\", \"#B0BEC5\", \"#B0BEC5\", \"#B0BEC5\", \"#B0BEC5\", \"#B0BEC5\", \"#B0BEC5\", \"#B0BEC5\", \"#B0BEC5\", \"#B0BEC5\", \"#B0BEC5\", \"#B0BEC5\", \"#B0BEC5\", \"#B0BEC5\"]]}], \"label\": \"Topic 39\", \"method\": \"update\"}, {\"args\": [{\"marker.color\": [[\"#B0BEC5\", \"#B0BEC5\", \"#B0BEC5\", \"#B0BEC5\", \"#B0BEC5\", \"#B0BEC5\", \"#B0BEC5\", \"#B0BEC5\", \"#B0BEC5\", \"#B0BEC5\", \"#B0BEC5\", \"#B0BEC5\", \"#B0BEC5\", \"#B0BEC5\", \"#B0BEC5\", \"red\", \"#B0BEC5\", \"#B0BEC5\", \"#B0BEC5\", \"#B0BEC5\", \"#B0BEC5\", \"#B0BEC5\", \"#B0BEC5\", \"#B0BEC5\", \"#B0BEC5\", \"#B0BEC5\", \"#B0BEC5\", \"#B0BEC5\", \"#B0BEC5\", \"#B0BEC5\", \"#B0BEC5\", \"#B0BEC5\", \"#B0BEC5\", \"#B0BEC5\", \"#B0BEC5\", \"#B0BEC5\", \"#B0BEC5\", \"#B0BEC5\", \"#B0BEC5\", \"#B0BEC5\", \"#B0BEC5\", \"#B0BEC5\", \"#B0BEC5\", \"#B0BEC5\", \"#B0BEC5\"]]}], \"label\": \"Topic 41\", \"method\": \"update\"}, {\"args\": [{\"marker.color\": [[\"#B0BEC5\", \"#B0BEC5\", \"#B0BEC5\", \"#B0BEC5\", \"#B0BEC5\", \"#B0BEC5\", \"#B0BEC5\", \"#B0BEC5\", \"#B0BEC5\", \"#B0BEC5\", \"#B0BEC5\", \"#B0BEC5\", \"#B0BEC5\", \"#B0BEC5\", \"#B0BEC5\", \"#B0BEC5\", \"red\", \"#B0BEC5\", \"#B0BEC5\", \"#B0BEC5\", \"#B0BEC5\", \"#B0BEC5\", \"#B0BEC5\", \"#B0BEC5\", \"#B0BEC5\", \"#B0BEC5\", \"#B0BEC5\", \"#B0BEC5\", \"#B0BEC5\", \"#B0BEC5\", \"#B0BEC5\", \"#B0BEC5\", \"#B0BEC5\", \"#B0BEC5\", \"#B0BEC5\", \"#B0BEC5\", \"#B0BEC5\", \"#B0BEC5\", \"#B0BEC5\", \"#B0BEC5\", \"#B0BEC5\", \"#B0BEC5\", \"#B0BEC5\", \"#B0BEC5\", \"#B0BEC5\"]]}], \"label\": \"Topic 45\", \"method\": \"update\"}, {\"args\": [{\"marker.color\": [[\"#B0BEC5\", \"#B0BEC5\", \"#B0BEC5\", \"#B0BEC5\", \"#B0BEC5\", \"#B0BEC5\", \"#B0BEC5\", \"#B0BEC5\", \"#B0BEC5\", \"#B0BEC5\", \"#B0BEC5\", \"#B0BEC5\", \"#B0BEC5\", \"#B0BEC5\", \"#B0BEC5\", \"#B0BEC5\", \"#B0BEC5\", \"red\", \"#B0BEC5\", \"#B0BEC5\", \"#B0BEC5\", \"#B0BEC5\", \"#B0BEC5\", \"#B0BEC5\", \"#B0BEC5\", \"#B0BEC5\", \"#B0BEC5\", \"#B0BEC5\", \"#B0BEC5\", \"#B0BEC5\", \"#B0BEC5\", \"#B0BEC5\", \"#B0BEC5\", \"#B0BEC5\", \"#B0BEC5\", \"#B0BEC5\", \"#B0BEC5\", \"#B0BEC5\", \"#B0BEC5\", \"#B0BEC5\", \"#B0BEC5\", \"#B0BEC5\", \"#B0BEC5\", \"#B0BEC5\", \"#B0BEC5\"]]}], \"label\": \"Topic 47\", \"method\": \"update\"}, {\"args\": [{\"marker.color\": [[\"#B0BEC5\", \"#B0BEC5\", \"#B0BEC5\", \"#B0BEC5\", \"#B0BEC5\", \"#B0BEC5\", \"#B0BEC5\", \"#B0BEC5\", \"#B0BEC5\", \"#B0BEC5\", \"#B0BEC5\", \"#B0BEC5\", \"#B0BEC5\", \"#B0BEC5\", \"#B0BEC5\", \"#B0BEC5\", \"#B0BEC5\", \"#B0BEC5\", \"red\", \"#B0BEC5\", \"#B0BEC5\", \"#B0BEC5\", \"#B0BEC5\", \"#B0BEC5\", \"#B0BEC5\", \"#B0BEC5\", \"#B0BEC5\", \"#B0BEC5\", \"#B0BEC5\", \"#B0BEC5\", \"#B0BEC5\", \"#B0BEC5\", \"#B0BEC5\", \"#B0BEC5\", \"#B0BEC5\", \"#B0BEC5\", \"#B0BEC5\", \"#B0BEC5\", \"#B0BEC5\", \"#B0BEC5\", \"#B0BEC5\", \"#B0BEC5\", \"#B0BEC5\", \"#B0BEC5\", \"#B0BEC5\"]]}], \"label\": \"Topic 52\", \"method\": \"update\"}, {\"args\": [{\"marker.color\": [[\"#B0BEC5\", \"#B0BEC5\", \"#B0BEC5\", \"#B0BEC5\", \"#B0BEC5\", \"#B0BEC5\", \"#B0BEC5\", \"#B0BEC5\", \"#B0BEC5\", \"#B0BEC5\", \"#B0BEC5\", \"#B0BEC5\", \"#B0BEC5\", \"#B0BEC5\", \"#B0BEC5\", \"#B0BEC5\", \"#B0BEC5\", \"#B0BEC5\", \"#B0BEC5\", \"red\", \"#B0BEC5\", \"#B0BEC5\", \"#B0BEC5\", \"#B0BEC5\", \"#B0BEC5\", \"#B0BEC5\", \"#B0BEC5\", \"#B0BEC5\", \"#B0BEC5\", \"#B0BEC5\", \"#B0BEC5\", \"#B0BEC5\", \"#B0BEC5\", \"#B0BEC5\", \"#B0BEC5\", \"#B0BEC5\", \"#B0BEC5\", \"#B0BEC5\", \"#B0BEC5\", \"#B0BEC5\", \"#B0BEC5\", \"#B0BEC5\", \"#B0BEC5\", \"#B0BEC5\", \"#B0BEC5\"]]}], \"label\": \"Topic 56\", \"method\": \"update\"}, {\"args\": [{\"marker.color\": [[\"#B0BEC5\", \"#B0BEC5\", \"#B0BEC5\", \"#B0BEC5\", \"#B0BEC5\", \"#B0BEC5\", \"#B0BEC5\", \"#B0BEC5\", \"#B0BEC5\", \"#B0BEC5\", \"#B0BEC5\", \"#B0BEC5\", \"#B0BEC5\", \"#B0BEC5\", \"#B0BEC5\", \"#B0BEC5\", \"#B0BEC5\", \"#B0BEC5\", \"#B0BEC5\", \"#B0BEC5\", \"red\", \"#B0BEC5\", \"#B0BEC5\", \"#B0BEC5\", \"#B0BEC5\", \"#B0BEC5\", \"#B0BEC5\", \"#B0BEC5\", \"#B0BEC5\", \"#B0BEC5\", \"#B0BEC5\", \"#B0BEC5\", \"#B0BEC5\", \"#B0BEC5\", \"#B0BEC5\", \"#B0BEC5\", \"#B0BEC5\", \"#B0BEC5\", \"#B0BEC5\", \"#B0BEC5\", \"#B0BEC5\", \"#B0BEC5\", \"#B0BEC5\", \"#B0BEC5\", \"#B0BEC5\"]]}], \"label\": \"Topic 58\", \"method\": \"update\"}, {\"args\": [{\"marker.color\": [[\"#B0BEC5\", \"#B0BEC5\", \"#B0BEC5\", \"#B0BEC5\", \"#B0BEC5\", \"#B0BEC5\", \"#B0BEC5\", \"#B0BEC5\", \"#B0BEC5\", \"#B0BEC5\", \"#B0BEC5\", \"#B0BEC5\", \"#B0BEC5\", \"#B0BEC5\", \"#B0BEC5\", \"#B0BEC5\", \"#B0BEC5\", \"#B0BEC5\", \"#B0BEC5\", \"#B0BEC5\", \"#B0BEC5\", \"red\", \"#B0BEC5\", \"#B0BEC5\", \"#B0BEC5\", \"#B0BEC5\", \"#B0BEC5\", \"#B0BEC5\", \"#B0BEC5\", \"#B0BEC5\", \"#B0BEC5\", \"#B0BEC5\", \"#B0BEC5\", \"#B0BEC5\", \"#B0BEC5\", \"#B0BEC5\", \"#B0BEC5\", \"#B0BEC5\", \"#B0BEC5\", \"#B0BEC5\", \"#B0BEC5\", \"#B0BEC5\", \"#B0BEC5\", \"#B0BEC5\", \"#B0BEC5\"]]}], \"label\": \"Topic 61\", \"method\": \"update\"}, {\"args\": [{\"marker.color\": [[\"#B0BEC5\", \"#B0BEC5\", \"#B0BEC5\", \"#B0BEC5\", \"#B0BEC5\", \"#B0BEC5\", \"#B0BEC5\", \"#B0BEC5\", \"#B0BEC5\", \"#B0BEC5\", \"#B0BEC5\", \"#B0BEC5\", \"#B0BEC5\", \"#B0BEC5\", \"#B0BEC5\", \"#B0BEC5\", \"#B0BEC5\", \"#B0BEC5\", \"#B0BEC5\", \"#B0BEC5\", \"#B0BEC5\", \"#B0BEC5\", \"red\", \"#B0BEC5\", \"#B0BEC5\", \"#B0BEC5\", \"#B0BEC5\", \"#B0BEC5\", \"#B0BEC5\", \"#B0BEC5\", \"#B0BEC5\", \"#B0BEC5\", \"#B0BEC5\", \"#B0BEC5\", \"#B0BEC5\", \"#B0BEC5\", \"#B0BEC5\", \"#B0BEC5\", \"#B0BEC5\", \"#B0BEC5\", \"#B0BEC5\", \"#B0BEC5\", \"#B0BEC5\", \"#B0BEC5\", \"#B0BEC5\"]]}], \"label\": \"Topic 64\", \"method\": \"update\"}, {\"args\": [{\"marker.color\": [[\"#B0BEC5\", \"#B0BEC5\", \"#B0BEC5\", \"#B0BEC5\", \"#B0BEC5\", \"#B0BEC5\", \"#B0BEC5\", \"#B0BEC5\", \"#B0BEC5\", \"#B0BEC5\", \"#B0BEC5\", \"#B0BEC5\", \"#B0BEC5\", \"#B0BEC5\", \"#B0BEC5\", \"#B0BEC5\", \"#B0BEC5\", \"#B0BEC5\", \"#B0BEC5\", \"#B0BEC5\", \"#B0BEC5\", \"#B0BEC5\", \"#B0BEC5\", \"red\", \"#B0BEC5\", \"#B0BEC5\", \"#B0BEC5\", \"#B0BEC5\", \"#B0BEC5\", \"#B0BEC5\", \"#B0BEC5\", \"#B0BEC5\", \"#B0BEC5\", \"#B0BEC5\", \"#B0BEC5\", \"#B0BEC5\", \"#B0BEC5\", \"#B0BEC5\", \"#B0BEC5\", \"#B0BEC5\", \"#B0BEC5\", \"#B0BEC5\", \"#B0BEC5\", \"#B0BEC5\", \"#B0BEC5\"]]}], \"label\": \"Topic 65\", \"method\": \"update\"}, {\"args\": [{\"marker.color\": [[\"#B0BEC5\", \"#B0BEC5\", \"#B0BEC5\", \"#B0BEC5\", \"#B0BEC5\", \"#B0BEC5\", \"#B0BEC5\", \"#B0BEC5\", \"#B0BEC5\", \"#B0BEC5\", \"#B0BEC5\", \"#B0BEC5\", \"#B0BEC5\", \"#B0BEC5\", \"#B0BEC5\", \"#B0BEC5\", \"#B0BEC5\", \"#B0BEC5\", \"#B0BEC5\", \"#B0BEC5\", \"#B0BEC5\", \"#B0BEC5\", \"#B0BEC5\", \"#B0BEC5\", \"red\", \"#B0BEC5\", \"#B0BEC5\", \"#B0BEC5\", \"#B0BEC5\", \"#B0BEC5\", \"#B0BEC5\", \"#B0BEC5\", \"#B0BEC5\", \"#B0BEC5\", \"#B0BEC5\", \"#B0BEC5\", \"#B0BEC5\", \"#B0BEC5\", \"#B0BEC5\", \"#B0BEC5\", \"#B0BEC5\", \"#B0BEC5\", \"#B0BEC5\", \"#B0BEC5\", \"#B0BEC5\"]]}], \"label\": \"Topic 67\", \"method\": \"update\"}, {\"args\": [{\"marker.color\": [[\"#B0BEC5\", \"#B0BEC5\", \"#B0BEC5\", \"#B0BEC5\", \"#B0BEC5\", \"#B0BEC5\", \"#B0BEC5\", \"#B0BEC5\", \"#B0BEC5\", \"#B0BEC5\", \"#B0BEC5\", \"#B0BEC5\", \"#B0BEC5\", \"#B0BEC5\", \"#B0BEC5\", \"#B0BEC5\", \"#B0BEC5\", \"#B0BEC5\", \"#B0BEC5\", \"#B0BEC5\", \"#B0BEC5\", \"#B0BEC5\", \"#B0BEC5\", \"#B0BEC5\", \"#B0BEC5\", \"red\", \"#B0BEC5\", \"#B0BEC5\", \"#B0BEC5\", \"#B0BEC5\", \"#B0BEC5\", \"#B0BEC5\", \"#B0BEC5\", \"#B0BEC5\", \"#B0BEC5\", \"#B0BEC5\", \"#B0BEC5\", \"#B0BEC5\", \"#B0BEC5\", \"#B0BEC5\", \"#B0BEC5\", \"#B0BEC5\", \"#B0BEC5\", \"#B0BEC5\", \"#B0BEC5\"]]}], \"label\": \"Topic 72\", \"method\": \"update\"}, {\"args\": [{\"marker.color\": [[\"#B0BEC5\", \"#B0BEC5\", \"#B0BEC5\", \"#B0BEC5\", \"#B0BEC5\", \"#B0BEC5\", \"#B0BEC5\", \"#B0BEC5\", \"#B0BEC5\", \"#B0BEC5\", \"#B0BEC5\", \"#B0BEC5\", \"#B0BEC5\", \"#B0BEC5\", \"#B0BEC5\", \"#B0BEC5\", \"#B0BEC5\", \"#B0BEC5\", \"#B0BEC5\", \"#B0BEC5\", \"#B0BEC5\", \"#B0BEC5\", \"#B0BEC5\", \"#B0BEC5\", \"#B0BEC5\", \"#B0BEC5\", \"red\", \"#B0BEC5\", \"#B0BEC5\", \"#B0BEC5\", \"#B0BEC5\", \"#B0BEC5\", \"#B0BEC5\", \"#B0BEC5\", \"#B0BEC5\", \"#B0BEC5\", \"#B0BEC5\", \"#B0BEC5\", \"#B0BEC5\", \"#B0BEC5\", \"#B0BEC5\", \"#B0BEC5\", \"#B0BEC5\", \"#B0BEC5\", \"#B0BEC5\"]]}], \"label\": \"Topic 74\", \"method\": \"update\"}, {\"args\": [{\"marker.color\": [[\"#B0BEC5\", \"#B0BEC5\", \"#B0BEC5\", \"#B0BEC5\", \"#B0BEC5\", \"#B0BEC5\", \"#B0BEC5\", \"#B0BEC5\", \"#B0BEC5\", \"#B0BEC5\", \"#B0BEC5\", \"#B0BEC5\", \"#B0BEC5\", \"#B0BEC5\", \"#B0BEC5\", \"#B0BEC5\", \"#B0BEC5\", \"#B0BEC5\", \"#B0BEC5\", \"#B0BEC5\", \"#B0BEC5\", \"#B0BEC5\", \"#B0BEC5\", \"#B0BEC5\", \"#B0BEC5\", \"#B0BEC5\", \"#B0BEC5\", \"red\", \"#B0BEC5\", \"#B0BEC5\", \"#B0BEC5\", \"#B0BEC5\", \"#B0BEC5\", \"#B0BEC5\", \"#B0BEC5\", \"#B0BEC5\", \"#B0BEC5\", \"#B0BEC5\", \"#B0BEC5\", \"#B0BEC5\", \"#B0BEC5\", \"#B0BEC5\", \"#B0BEC5\", \"#B0BEC5\", \"#B0BEC5\"]]}], \"label\": \"Topic 75\", \"method\": \"update\"}, {\"args\": [{\"marker.color\": [[\"#B0BEC5\", \"#B0BEC5\", \"#B0BEC5\", \"#B0BEC5\", \"#B0BEC5\", \"#B0BEC5\", \"#B0BEC5\", \"#B0BEC5\", \"#B0BEC5\", \"#B0BEC5\", \"#B0BEC5\", \"#B0BEC5\", \"#B0BEC5\", \"#B0BEC5\", \"#B0BEC5\", \"#B0BEC5\", \"#B0BEC5\", \"#B0BEC5\", \"#B0BEC5\", \"#B0BEC5\", \"#B0BEC5\", \"#B0BEC5\", \"#B0BEC5\", \"#B0BEC5\", \"#B0BEC5\", \"#B0BEC5\", \"#B0BEC5\", \"#B0BEC5\", \"red\", \"#B0BEC5\", \"#B0BEC5\", \"#B0BEC5\", \"#B0BEC5\", \"#B0BEC5\", \"#B0BEC5\", \"#B0BEC5\", \"#B0BEC5\", \"#B0BEC5\", \"#B0BEC5\", \"#B0BEC5\", \"#B0BEC5\", \"#B0BEC5\", \"#B0BEC5\", \"#B0BEC5\", \"#B0BEC5\"]]}], \"label\": \"Topic 83\", \"method\": \"update\"}, {\"args\": [{\"marker.color\": [[\"#B0BEC5\", \"#B0BEC5\", \"#B0BEC5\", \"#B0BEC5\", \"#B0BEC5\", \"#B0BEC5\", \"#B0BEC5\", \"#B0BEC5\", \"#B0BEC5\", \"#B0BEC5\", \"#B0BEC5\", \"#B0BEC5\", \"#B0BEC5\", \"#B0BEC5\", \"#B0BEC5\", \"#B0BEC5\", \"#B0BEC5\", \"#B0BEC5\", \"#B0BEC5\", \"#B0BEC5\", \"#B0BEC5\", \"#B0BEC5\", \"#B0BEC5\", \"#B0BEC5\", \"#B0BEC5\", \"#B0BEC5\", \"#B0BEC5\", \"#B0BEC5\", \"#B0BEC5\", \"red\", \"#B0BEC5\", \"#B0BEC5\", \"#B0BEC5\", \"#B0BEC5\", \"#B0BEC5\", \"#B0BEC5\", \"#B0BEC5\", \"#B0BEC5\", \"#B0BEC5\", \"#B0BEC5\", \"#B0BEC5\", \"#B0BEC5\", \"#B0BEC5\", \"#B0BEC5\", \"#B0BEC5\"]]}], \"label\": \"Topic 85\", \"method\": \"update\"}, {\"args\": [{\"marker.color\": [[\"#B0BEC5\", \"#B0BEC5\", \"#B0BEC5\", \"#B0BEC5\", \"#B0BEC5\", \"#B0BEC5\", \"#B0BEC5\", \"#B0BEC5\", \"#B0BEC5\", \"#B0BEC5\", \"#B0BEC5\", \"#B0BEC5\", \"#B0BEC5\", \"#B0BEC5\", \"#B0BEC5\", \"#B0BEC5\", \"#B0BEC5\", \"#B0BEC5\", \"#B0BEC5\", \"#B0BEC5\", \"#B0BEC5\", \"#B0BEC5\", \"#B0BEC5\", \"#B0BEC5\", \"#B0BEC5\", \"#B0BEC5\", \"#B0BEC5\", \"#B0BEC5\", \"#B0BEC5\", \"#B0BEC5\", \"red\", \"#B0BEC5\", \"#B0BEC5\", \"#B0BEC5\", \"#B0BEC5\", \"#B0BEC5\", \"#B0BEC5\", \"#B0BEC5\", \"#B0BEC5\", \"#B0BEC5\", \"#B0BEC5\", \"#B0BEC5\", \"#B0BEC5\", \"#B0BEC5\", \"#B0BEC5\"]]}], \"label\": \"Topic 88\", \"method\": \"update\"}, {\"args\": [{\"marker.color\": [[\"#B0BEC5\", \"#B0BEC5\", \"#B0BEC5\", \"#B0BEC5\", \"#B0BEC5\", \"#B0BEC5\", \"#B0BEC5\", \"#B0BEC5\", \"#B0BEC5\", \"#B0BEC5\", \"#B0BEC5\", \"#B0BEC5\", \"#B0BEC5\", \"#B0BEC5\", \"#B0BEC5\", \"#B0BEC5\", \"#B0BEC5\", \"#B0BEC5\", \"#B0BEC5\", \"#B0BEC5\", \"#B0BEC5\", \"#B0BEC5\", \"#B0BEC5\", \"#B0BEC5\", \"#B0BEC5\", \"#B0BEC5\", \"#B0BEC5\", \"#B0BEC5\", \"#B0BEC5\", \"#B0BEC5\", \"#B0BEC5\", \"red\", \"#B0BEC5\", \"#B0BEC5\", \"#B0BEC5\", \"#B0BEC5\", \"#B0BEC5\", \"#B0BEC5\", \"#B0BEC5\", \"#B0BEC5\", \"#B0BEC5\", \"#B0BEC5\", \"#B0BEC5\", \"#B0BEC5\", \"#B0BEC5\"]]}], \"label\": \"Topic 90\", \"method\": \"update\"}, {\"args\": [{\"marker.color\": [[\"#B0BEC5\", \"#B0BEC5\", \"#B0BEC5\", \"#B0BEC5\", \"#B0BEC5\", \"#B0BEC5\", \"#B0BEC5\", \"#B0BEC5\", \"#B0BEC5\", \"#B0BEC5\", \"#B0BEC5\", \"#B0BEC5\", \"#B0BEC5\", \"#B0BEC5\", \"#B0BEC5\", \"#B0BEC5\", \"#B0BEC5\", \"#B0BEC5\", \"#B0BEC5\", \"#B0BEC5\", \"#B0BEC5\", \"#B0BEC5\", \"#B0BEC5\", \"#B0BEC5\", \"#B0BEC5\", \"#B0BEC5\", \"#B0BEC5\", \"#B0BEC5\", \"#B0BEC5\", \"#B0BEC5\", \"#B0BEC5\", \"#B0BEC5\", \"red\", \"#B0BEC5\", \"#B0BEC5\", \"#B0BEC5\", \"#B0BEC5\", \"#B0BEC5\", \"#B0BEC5\", \"#B0BEC5\", \"#B0BEC5\", \"#B0BEC5\", \"#B0BEC5\", \"#B0BEC5\", \"#B0BEC5\"]]}], \"label\": \"Topic 94\", \"method\": \"update\"}, {\"args\": [{\"marker.color\": [[\"#B0BEC5\", \"#B0BEC5\", \"#B0BEC5\", \"#B0BEC5\", \"#B0BEC5\", \"#B0BEC5\", \"#B0BEC5\", \"#B0BEC5\", \"#B0BEC5\", \"#B0BEC5\", \"#B0BEC5\", \"#B0BEC5\", \"#B0BEC5\", \"#B0BEC5\", \"#B0BEC5\", \"#B0BEC5\", \"#B0BEC5\", \"#B0BEC5\", \"#B0BEC5\", \"#B0BEC5\", \"#B0BEC5\", \"#B0BEC5\", \"#B0BEC5\", \"#B0BEC5\", \"#B0BEC5\", \"#B0BEC5\", \"#B0BEC5\", \"#B0BEC5\", \"#B0BEC5\", \"#B0BEC5\", \"#B0BEC5\", \"#B0BEC5\", \"#B0BEC5\", \"red\", \"#B0BEC5\", \"#B0BEC5\", \"#B0BEC5\", \"#B0BEC5\", \"#B0BEC5\", \"#B0BEC5\", \"#B0BEC5\", \"#B0BEC5\", \"#B0BEC5\", \"#B0BEC5\", \"#B0BEC5\"]]}], \"label\": \"Topic 95\", \"method\": \"update\"}, {\"args\": [{\"marker.color\": [[\"#B0BEC5\", \"#B0BEC5\", \"#B0BEC5\", \"#B0BEC5\", \"#B0BEC5\", \"#B0BEC5\", \"#B0BEC5\", \"#B0BEC5\", \"#B0BEC5\", \"#B0BEC5\", \"#B0BEC5\", \"#B0BEC5\", \"#B0BEC5\", \"#B0BEC5\", \"#B0BEC5\", \"#B0BEC5\", \"#B0BEC5\", \"#B0BEC5\", \"#B0BEC5\", \"#B0BEC5\", \"#B0BEC5\", \"#B0BEC5\", \"#B0BEC5\", \"#B0BEC5\", \"#B0BEC5\", \"#B0BEC5\", \"#B0BEC5\", \"#B0BEC5\", \"#B0BEC5\", \"#B0BEC5\", \"#B0BEC5\", \"#B0BEC5\", \"#B0BEC5\", \"#B0BEC5\", \"red\", \"#B0BEC5\", \"#B0BEC5\", \"#B0BEC5\", \"#B0BEC5\", \"#B0BEC5\", \"#B0BEC5\", \"#B0BEC5\", \"#B0BEC5\", \"#B0BEC5\", \"#B0BEC5\"]]}], \"label\": \"Topic 99\", \"method\": \"update\"}, {\"args\": [{\"marker.color\": [[\"#B0BEC5\", \"#B0BEC5\", \"#B0BEC5\", \"#B0BEC5\", \"#B0BEC5\", \"#B0BEC5\", \"#B0BEC5\", \"#B0BEC5\", \"#B0BEC5\", \"#B0BEC5\", \"#B0BEC5\", \"#B0BEC5\", \"#B0BEC5\", \"#B0BEC5\", \"#B0BEC5\", \"#B0BEC5\", \"#B0BEC5\", \"#B0BEC5\", \"#B0BEC5\", \"#B0BEC5\", \"#B0BEC5\", \"#B0BEC5\", \"#B0BEC5\", \"#B0BEC5\", \"#B0BEC5\", \"#B0BEC5\", \"#B0BEC5\", \"#B0BEC5\", \"#B0BEC5\", \"#B0BEC5\", \"#B0BEC5\", \"#B0BEC5\", \"#B0BEC5\", \"#B0BEC5\", \"#B0BEC5\", \"red\", \"#B0BEC5\", \"#B0BEC5\", \"#B0BEC5\", \"#B0BEC5\", \"#B0BEC5\", \"#B0BEC5\", \"#B0BEC5\", \"#B0BEC5\", \"#B0BEC5\"]]}], \"label\": \"Topic 101\", \"method\": \"update\"}, {\"args\": [{\"marker.color\": [[\"#B0BEC5\", \"#B0BEC5\", \"#B0BEC5\", \"#B0BEC5\", \"#B0BEC5\", \"#B0BEC5\", \"#B0BEC5\", \"#B0BEC5\", \"#B0BEC5\", \"#B0BEC5\", \"#B0BEC5\", \"#B0BEC5\", \"#B0BEC5\", \"#B0BEC5\", \"#B0BEC5\", \"#B0BEC5\", \"#B0BEC5\", \"#B0BEC5\", \"#B0BEC5\", \"#B0BEC5\", \"#B0BEC5\", \"#B0BEC5\", \"#B0BEC5\", \"#B0BEC5\", \"#B0BEC5\", \"#B0BEC5\", \"#B0BEC5\", \"#B0BEC5\", \"#B0BEC5\", \"#B0BEC5\", \"#B0BEC5\", \"#B0BEC5\", \"#B0BEC5\", \"#B0BEC5\", \"#B0BEC5\", \"#B0BEC5\", \"red\", \"#B0BEC5\", \"#B0BEC5\", \"#B0BEC5\", \"#B0BEC5\", \"#B0BEC5\", \"#B0BEC5\", \"#B0BEC5\", \"#B0BEC5\"]]}], \"label\": \"Topic 105\", \"method\": \"update\"}, {\"args\": [{\"marker.color\": [[\"#B0BEC5\", \"#B0BEC5\", \"#B0BEC5\", \"#B0BEC5\", \"#B0BEC5\", \"#B0BEC5\", \"#B0BEC5\", \"#B0BEC5\", \"#B0BEC5\", \"#B0BEC5\", \"#B0BEC5\", \"#B0BEC5\", \"#B0BEC5\", \"#B0BEC5\", \"#B0BEC5\", \"#B0BEC5\", \"#B0BEC5\", \"#B0BEC5\", \"#B0BEC5\", \"#B0BEC5\", \"#B0BEC5\", \"#B0BEC5\", \"#B0BEC5\", \"#B0BEC5\", \"#B0BEC5\", \"#B0BEC5\", \"#B0BEC5\", \"#B0BEC5\", \"#B0BEC5\", \"#B0BEC5\", \"#B0BEC5\", \"#B0BEC5\", \"#B0BEC5\", \"#B0BEC5\", \"#B0BEC5\", \"#B0BEC5\", \"#B0BEC5\", \"red\", \"#B0BEC5\", \"#B0BEC5\", \"#B0BEC5\", \"#B0BEC5\", \"#B0BEC5\", \"#B0BEC5\", \"#B0BEC5\"]]}], \"label\": \"Topic 107\", \"method\": \"update\"}, {\"args\": [{\"marker.color\": [[\"#B0BEC5\", \"#B0BEC5\", \"#B0BEC5\", \"#B0BEC5\", \"#B0BEC5\", \"#B0BEC5\", \"#B0BEC5\", \"#B0BEC5\", \"#B0BEC5\", \"#B0BEC5\", \"#B0BEC5\", \"#B0BEC5\", \"#B0BEC5\", \"#B0BEC5\", \"#B0BEC5\", \"#B0BEC5\", \"#B0BEC5\", \"#B0BEC5\", \"#B0BEC5\", \"#B0BEC5\", \"#B0BEC5\", \"#B0BEC5\", \"#B0BEC5\", \"#B0BEC5\", \"#B0BEC5\", \"#B0BEC5\", \"#B0BEC5\", \"#B0BEC5\", \"#B0BEC5\", \"#B0BEC5\", \"#B0BEC5\", \"#B0BEC5\", \"#B0BEC5\", \"#B0BEC5\", \"#B0BEC5\", \"#B0BEC5\", \"#B0BEC5\", \"#B0BEC5\", \"red\", \"#B0BEC5\", \"#B0BEC5\", \"#B0BEC5\", \"#B0BEC5\", \"#B0BEC5\", \"#B0BEC5\"]]}], \"label\": \"Topic 111\", \"method\": \"update\"}, {\"args\": [{\"marker.color\": [[\"#B0BEC5\", \"#B0BEC5\", \"#B0BEC5\", \"#B0BEC5\", \"#B0BEC5\", \"#B0BEC5\", \"#B0BEC5\", \"#B0BEC5\", \"#B0BEC5\", \"#B0BEC5\", \"#B0BEC5\", \"#B0BEC5\", \"#B0BEC5\", \"#B0BEC5\", \"#B0BEC5\", \"#B0BEC5\", \"#B0BEC5\", \"#B0BEC5\", \"#B0BEC5\", \"#B0BEC5\", \"#B0BEC5\", \"#B0BEC5\", \"#B0BEC5\", \"#B0BEC5\", \"#B0BEC5\", \"#B0BEC5\", \"#B0BEC5\", \"#B0BEC5\", \"#B0BEC5\", \"#B0BEC5\", \"#B0BEC5\", \"#B0BEC5\", \"#B0BEC5\", \"#B0BEC5\", \"#B0BEC5\", \"#B0BEC5\", \"#B0BEC5\", \"#B0BEC5\", \"#B0BEC5\", \"red\", \"#B0BEC5\", \"#B0BEC5\", \"#B0BEC5\", \"#B0BEC5\", \"#B0BEC5\"]]}], \"label\": \"Topic 113\", \"method\": \"update\"}, {\"args\": [{\"marker.color\": [[\"#B0BEC5\", \"#B0BEC5\", \"#B0BEC5\", \"#B0BEC5\", \"#B0BEC5\", \"#B0BEC5\", \"#B0BEC5\", \"#B0BEC5\", \"#B0BEC5\", \"#B0BEC5\", \"#B0BEC5\", \"#B0BEC5\", \"#B0BEC5\", \"#B0BEC5\", \"#B0BEC5\", \"#B0BEC5\", \"#B0BEC5\", \"#B0BEC5\", \"#B0BEC5\", \"#B0BEC5\", \"#B0BEC5\", \"#B0BEC5\", \"#B0BEC5\", \"#B0BEC5\", \"#B0BEC5\", \"#B0BEC5\", \"#B0BEC5\", \"#B0BEC5\", \"#B0BEC5\", \"#B0BEC5\", \"#B0BEC5\", \"#B0BEC5\", \"#B0BEC5\", \"#B0BEC5\", \"#B0BEC5\", \"#B0BEC5\", \"#B0BEC5\", \"#B0BEC5\", \"#B0BEC5\", \"#B0BEC5\", \"red\", \"#B0BEC5\", \"#B0BEC5\", \"#B0BEC5\", \"#B0BEC5\"]]}], \"label\": \"Topic 115\", \"method\": \"update\"}, {\"args\": [{\"marker.color\": [[\"#B0BEC5\", \"#B0BEC5\", \"#B0BEC5\", \"#B0BEC5\", \"#B0BEC5\", \"#B0BEC5\", \"#B0BEC5\", \"#B0BEC5\", \"#B0BEC5\", \"#B0BEC5\", \"#B0BEC5\", \"#B0BEC5\", \"#B0BEC5\", \"#B0BEC5\", \"#B0BEC5\", \"#B0BEC5\", \"#B0BEC5\", \"#B0BEC5\", \"#B0BEC5\", \"#B0BEC5\", \"#B0BEC5\", \"#B0BEC5\", \"#B0BEC5\", \"#B0BEC5\", \"#B0BEC5\", \"#B0BEC5\", \"#B0BEC5\", \"#B0BEC5\", \"#B0BEC5\", \"#B0BEC5\", \"#B0BEC5\", \"#B0BEC5\", \"#B0BEC5\", \"#B0BEC5\", \"#B0BEC5\", \"#B0BEC5\", \"#B0BEC5\", \"#B0BEC5\", \"#B0BEC5\", \"#B0BEC5\", \"#B0BEC5\", \"red\", \"#B0BEC5\", \"#B0BEC5\", \"#B0BEC5\"]]}], \"label\": \"Topic 116\", \"method\": \"update\"}, {\"args\": [{\"marker.color\": [[\"#B0BEC5\", \"#B0BEC5\", \"#B0BEC5\", \"#B0BEC5\", \"#B0BEC5\", \"#B0BEC5\", \"#B0BEC5\", \"#B0BEC5\", \"#B0BEC5\", \"#B0BEC5\", \"#B0BEC5\", \"#B0BEC5\", \"#B0BEC5\", \"#B0BEC5\", \"#B0BEC5\", \"#B0BEC5\", \"#B0BEC5\", \"#B0BEC5\", \"#B0BEC5\", \"#B0BEC5\", \"#B0BEC5\", \"#B0BEC5\", \"#B0BEC5\", \"#B0BEC5\", \"#B0BEC5\", \"#B0BEC5\", \"#B0BEC5\", \"#B0BEC5\", \"#B0BEC5\", \"#B0BEC5\", \"#B0BEC5\", \"#B0BEC5\", \"#B0BEC5\", \"#B0BEC5\", \"#B0BEC5\", \"#B0BEC5\", \"#B0BEC5\", \"#B0BEC5\", \"#B0BEC5\", \"#B0BEC5\", \"#B0BEC5\", \"#B0BEC5\", \"red\", \"#B0BEC5\", \"#B0BEC5\"]]}], \"label\": \"Topic 117\", \"method\": \"update\"}, {\"args\": [{\"marker.color\": [[\"#B0BEC5\", \"#B0BEC5\", \"#B0BEC5\", \"#B0BEC5\", \"#B0BEC5\", \"#B0BEC5\", \"#B0BEC5\", \"#B0BEC5\", \"#B0BEC5\", \"#B0BEC5\", \"#B0BEC5\", \"#B0BEC5\", \"#B0BEC5\", \"#B0BEC5\", \"#B0BEC5\", \"#B0BEC5\", \"#B0BEC5\", \"#B0BEC5\", \"#B0BEC5\", \"#B0BEC5\", \"#B0BEC5\", \"#B0BEC5\", \"#B0BEC5\", \"#B0BEC5\", \"#B0BEC5\", \"#B0BEC5\", \"#B0BEC5\", \"#B0BEC5\", \"#B0BEC5\", \"#B0BEC5\", \"#B0BEC5\", \"#B0BEC5\", \"#B0BEC5\", \"#B0BEC5\", \"#B0BEC5\", \"#B0BEC5\", \"#B0BEC5\", \"#B0BEC5\", \"#B0BEC5\", \"#B0BEC5\", \"#B0BEC5\", \"#B0BEC5\", \"#B0BEC5\", \"red\", \"#B0BEC5\"]]}], \"label\": \"Topic 118\", \"method\": \"update\"}, {\"args\": [{\"marker.color\": [[\"#B0BEC5\", \"#B0BEC5\", \"#B0BEC5\", \"#B0BEC5\", \"#B0BEC5\", \"#B0BEC5\", \"#B0BEC5\", \"#B0BEC5\", \"#B0BEC5\", \"#B0BEC5\", \"#B0BEC5\", \"#B0BEC5\", \"#B0BEC5\", \"#B0BEC5\", \"#B0BEC5\", \"#B0BEC5\", \"#B0BEC5\", \"#B0BEC5\", \"#B0BEC5\", \"#B0BEC5\", \"#B0BEC5\", \"#B0BEC5\", \"#B0BEC5\", \"#B0BEC5\", \"#B0BEC5\", \"#B0BEC5\", \"#B0BEC5\", \"#B0BEC5\", \"#B0BEC5\", \"#B0BEC5\", \"#B0BEC5\", \"#B0BEC5\", \"#B0BEC5\", \"#B0BEC5\", \"#B0BEC5\", \"#B0BEC5\", \"#B0BEC5\", \"#B0BEC5\", \"#B0BEC5\", \"#B0BEC5\", \"#B0BEC5\", \"#B0BEC5\", \"#B0BEC5\", \"#B0BEC5\", \"red\"]]}], \"label\": \"Topic 120\", \"method\": \"update\"}]}], \"template\": {\"data\": {\"bar\": [{\"error_x\": {\"color\": \"rgb(36,36,36)\"}, \"error_y\": {\"color\": \"rgb(36,36,36)\"}, \"marker\": {\"line\": {\"color\": \"white\", \"width\": 0.5}}, \"type\": \"bar\"}], \"barpolar\": [{\"marker\": {\"line\": {\"color\": \"white\", \"width\": 0.5}}, \"type\": \"barpolar\"}], \"carpet\": [{\"aaxis\": {\"endlinecolor\": \"rgb(36,36,36)\", \"gridcolor\": \"white\", \"linecolor\": \"white\", \"minorgridcolor\": \"white\", \"startlinecolor\": \"rgb(36,36,36)\"}, \"baxis\": {\"endlinecolor\": \"rgb(36,36,36)\", \"gridcolor\": \"white\", \"linecolor\": \"white\", \"minorgridcolor\": \"white\", \"startlinecolor\": \"rgb(36,36,36)\"}, \"type\": \"carpet\"}], \"choropleth\": [{\"colorbar\": {\"outlinewidth\": 1, \"tickcolor\": \"rgb(36,36,36)\", \"ticks\": \"outside\"}, \"type\": \"choropleth\"}], \"contour\": [{\"colorbar\": {\"outlinewidth\": 1, \"tickcolor\": \"rgb(36,36,36)\", \"ticks\": \"outside\"}, \"colorscale\": [[0.0, \"#440154\"], [0.1111111111111111, \"#482878\"], [0.2222222222222222, \"#3e4989\"], [0.3333333333333333, \"#31688e\"], [0.4444444444444444, \"#26828e\"], [0.5555555555555556, \"#1f9e89\"], [0.6666666666666666, \"#35b779\"], [0.7777777777777778, \"#6ece58\"], [0.8888888888888888, \"#b5de2b\"], [1.0, \"#fde725\"]], \"type\": \"contour\"}], \"contourcarpet\": [{\"colorbar\": {\"outlinewidth\": 1, \"tickcolor\": \"rgb(36,36,36)\", \"ticks\": \"outside\"}, \"type\": \"contourcarpet\"}], \"heatmap\": [{\"colorbar\": {\"outlinewidth\": 1, \"tickcolor\": \"rgb(36,36,36)\", \"ticks\": \"outside\"}, \"colorscale\": [[0.0, \"#440154\"], [0.1111111111111111, \"#482878\"], [0.2222222222222222, \"#3e4989\"], [0.3333333333333333, \"#31688e\"], [0.4444444444444444, \"#26828e\"], [0.5555555555555556, \"#1f9e89\"], [0.6666666666666666, \"#35b779\"], [0.7777777777777778, \"#6ece58\"], [0.8888888888888888, \"#b5de2b\"], [1.0, \"#fde725\"]], \"type\": \"heatmap\"}], \"heatmapgl\": [{\"colorbar\": {\"outlinewidth\": 1, \"tickcolor\": \"rgb(36,36,36)\", \"ticks\": \"outside\"}, \"colorscale\": [[0.0, \"#440154\"], [0.1111111111111111, \"#482878\"], [0.2222222222222222, \"#3e4989\"], [0.3333333333333333, \"#31688e\"], [0.4444444444444444, \"#26828e\"], [0.5555555555555556, \"#1f9e89\"], [0.6666666666666666, \"#35b779\"], [0.7777777777777778, \"#6ece58\"], [0.8888888888888888, \"#b5de2b\"], [1.0, \"#fde725\"]], \"type\": \"heatmapgl\"}], \"histogram\": [{\"marker\": {\"line\": {\"color\": \"white\", \"width\": 0.6}}, \"type\": \"histogram\"}], \"histogram2d\": [{\"colorbar\": {\"outlinewidth\": 1, \"tickcolor\": \"rgb(36,36,36)\", \"ticks\": \"outside\"}, \"colorscale\": [[0.0, \"#440154\"], [0.1111111111111111, \"#482878\"], [0.2222222222222222, \"#3e4989\"], [0.3333333333333333, \"#31688e\"], [0.4444444444444444, \"#26828e\"], [0.5555555555555556, \"#1f9e89\"], [0.6666666666666666, \"#35b779\"], [0.7777777777777778, \"#6ece58\"], [0.8888888888888888, \"#b5de2b\"], [1.0, \"#fde725\"]], \"type\": \"histogram2d\"}], \"histogram2dcontour\": [{\"colorbar\": {\"outlinewidth\": 1, \"tickcolor\": \"rgb(36,36,36)\", \"ticks\": \"outside\"}, \"colorscale\": [[0.0, \"#440154\"], [0.1111111111111111, \"#482878\"], [0.2222222222222222, \"#3e4989\"], [0.3333333333333333, \"#31688e\"], [0.4444444444444444, \"#26828e\"], [0.5555555555555556, \"#1f9e89\"], [0.6666666666666666, \"#35b779\"], [0.7777777777777778, \"#6ece58\"], [0.8888888888888888, \"#b5de2b\"], [1.0, \"#fde725\"]], \"type\": \"histogram2dcontour\"}], \"mesh3d\": [{\"colorbar\": {\"outlinewidth\": 1, \"tickcolor\": \"rgb(36,36,36)\", \"ticks\": \"outside\"}, \"type\": \"mesh3d\"}], \"parcoords\": [{\"line\": {\"colorbar\": {\"outlinewidth\": 1, \"tickcolor\": \"rgb(36,36,36)\", \"ticks\": \"outside\"}}, \"type\": \"parcoords\"}], \"pie\": [{\"automargin\": true, \"type\": \"pie\"}], \"scatter\": [{\"marker\": {\"colorbar\": {\"outlinewidth\": 1, \"tickcolor\": \"rgb(36,36,36)\", \"ticks\": \"outside\"}}, \"type\": \"scatter\"}], \"scatter3d\": [{\"line\": {\"colorbar\": {\"outlinewidth\": 1, \"tickcolor\": \"rgb(36,36,36)\", \"ticks\": \"outside\"}}, \"marker\": {\"colorbar\": {\"outlinewidth\": 1, \"tickcolor\": \"rgb(36,36,36)\", \"ticks\": \"outside\"}}, \"type\": \"scatter3d\"}], \"scattercarpet\": [{\"marker\": {\"colorbar\": {\"outlinewidth\": 1, \"tickcolor\": \"rgb(36,36,36)\", \"ticks\": \"outside\"}}, \"type\": \"scattercarpet\"}], \"scattergeo\": [{\"marker\": {\"colorbar\": {\"outlinewidth\": 1, \"tickcolor\": \"rgb(36,36,36)\", \"ticks\": \"outside\"}}, \"type\": \"scattergeo\"}], \"scattergl\": [{\"marker\": {\"colorbar\": {\"outlinewidth\": 1, \"tickcolor\": \"rgb(36,36,36)\", \"ticks\": \"outside\"}}, \"type\": \"scattergl\"}], \"scattermapbox\": [{\"marker\": {\"colorbar\": {\"outlinewidth\": 1, \"tickcolor\": \"rgb(36,36,36)\", \"ticks\": \"outside\"}}, \"type\": \"scattermapbox\"}], \"scatterpolar\": [{\"marker\": {\"colorbar\": {\"outlinewidth\": 1, \"tickcolor\": \"rgb(36,36,36)\", \"ticks\": \"outside\"}}, \"type\": \"scatterpolar\"}], \"scatterpolargl\": [{\"marker\": {\"colorbar\": {\"outlinewidth\": 1, \"tickcolor\": \"rgb(36,36,36)\", \"ticks\": \"outside\"}}, \"type\": \"scatterpolargl\"}], \"scatterternary\": [{\"marker\": {\"colorbar\": {\"outlinewidth\": 1, \"tickcolor\": \"rgb(36,36,36)\", \"ticks\": \"outside\"}}, \"type\": \"scatterternary\"}], \"surface\": [{\"colorbar\": {\"outlinewidth\": 1, \"tickcolor\": \"rgb(36,36,36)\", \"ticks\": \"outside\"}, \"colorscale\": [[0.0, \"#440154\"], [0.1111111111111111, \"#482878\"], [0.2222222222222222, \"#3e4989\"], [0.3333333333333333, \"#31688e\"], [0.4444444444444444, \"#26828e\"], [0.5555555555555556, \"#1f9e89\"], [0.6666666666666666, \"#35b779\"], [0.7777777777777778, \"#6ece58\"], [0.8888888888888888, \"#b5de2b\"], [1.0, \"#fde725\"]], \"type\": \"surface\"}], \"table\": [{\"cells\": {\"fill\": {\"color\": \"rgb(237,237,237)\"}, \"line\": {\"color\": \"white\"}}, \"header\": {\"fill\": {\"color\": \"rgb(217,217,217)\"}, \"line\": {\"color\": \"white\"}}, \"type\": \"table\"}]}, \"layout\": {\"annotationdefaults\": {\"arrowhead\": 0, \"arrowwidth\": 1}, \"autotypenumbers\": \"strict\", \"coloraxis\": {\"colorbar\": {\"outlinewidth\": 1, \"tickcolor\": \"rgb(36,36,36)\", \"ticks\": \"outside\"}}, \"colorscale\": {\"diverging\": [[0.0, \"rgb(103,0,31)\"], [0.1, \"rgb(178,24,43)\"], [0.2, \"rgb(214,96,77)\"], [0.3, \"rgb(244,165,130)\"], [0.4, \"rgb(253,219,199)\"], [0.5, \"rgb(247,247,247)\"], [0.6, \"rgb(209,229,240)\"], [0.7, \"rgb(146,197,222)\"], [0.8, \"rgb(67,147,195)\"], [0.9, \"rgb(33,102,172)\"], [1.0, \"rgb(5,48,97)\"]], \"sequential\": [[0.0, \"#440154\"], [0.1111111111111111, \"#482878\"], [0.2222222222222222, \"#3e4989\"], [0.3333333333333333, \"#31688e\"], [0.4444444444444444, \"#26828e\"], [0.5555555555555556, \"#1f9e89\"], [0.6666666666666666, \"#35b779\"], [0.7777777777777778, \"#6ece58\"], [0.8888888888888888, \"#b5de2b\"], [1.0, \"#fde725\"]], \"sequentialminus\": [[0.0, \"#440154\"], [0.1111111111111111, \"#482878\"], [0.2222222222222222, \"#3e4989\"], [0.3333333333333333, \"#31688e\"], [0.4444444444444444, \"#26828e\"], [0.5555555555555556, \"#1f9e89\"], [0.6666666666666666, \"#35b779\"], [0.7777777777777778, \"#6ece58\"], [0.8888888888888888, \"#b5de2b\"], [1.0, \"#fde725\"]]}, \"colorway\": [\"#1F77B4\", \"#FF7F0E\", \"#2CA02C\", \"#D62728\", \"#9467BD\", \"#8C564B\", \"#E377C2\", \"#7F7F7F\", \"#BCBD22\", \"#17BECF\"], \"font\": {\"color\": \"rgb(36,36,36)\"}, \"geo\": {\"bgcolor\": \"white\", \"lakecolor\": \"white\", \"landcolor\": \"white\", \"showlakes\": true, \"showland\": true, \"subunitcolor\": \"white\"}, \"hoverlabel\": {\"align\": \"left\"}, \"hovermode\": \"closest\", \"mapbox\": {\"style\": \"light\"}, \"paper_bgcolor\": \"white\", \"plot_bgcolor\": \"white\", \"polar\": {\"angularaxis\": {\"gridcolor\": \"rgb(232,232,232)\", \"linecolor\": \"rgb(36,36,36)\", \"showgrid\": false, \"showline\": true, \"ticks\": \"outside\"}, \"bgcolor\": \"white\", \"radialaxis\": {\"gridcolor\": \"rgb(232,232,232)\", \"linecolor\": \"rgb(36,36,36)\", \"showgrid\": false, \"showline\": true, \"ticks\": \"outside\"}}, \"scene\": {\"xaxis\": {\"backgroundcolor\": \"white\", \"gridcolor\": \"rgb(232,232,232)\", \"gridwidth\": 2, \"linecolor\": \"rgb(36,36,36)\", \"showbackground\": true, \"showgrid\": false, \"showline\": true, \"ticks\": \"outside\", \"zeroline\": false, \"zerolinecolor\": \"rgb(36,36,36)\"}, \"yaxis\": {\"backgroundcolor\": \"white\", \"gridcolor\": \"rgb(232,232,232)\", \"gridwidth\": 2, \"linecolor\": \"rgb(36,36,36)\", \"showbackground\": true, \"showgrid\": false, \"showline\": true, \"ticks\": \"outside\", \"zeroline\": false, \"zerolinecolor\": \"rgb(36,36,36)\"}, \"zaxis\": {\"backgroundcolor\": \"white\", \"gridcolor\": \"rgb(232,232,232)\", \"gridwidth\": 2, \"linecolor\": \"rgb(36,36,36)\", \"showbackground\": true, \"showgrid\": false, \"showline\": true, \"ticks\": \"outside\", \"zeroline\": false, \"zerolinecolor\": \"rgb(36,36,36)\"}}, \"shapedefaults\": {\"fillcolor\": \"black\", \"line\": {\"width\": 0}, \"opacity\": 0.3}, \"ternary\": {\"aaxis\": {\"gridcolor\": \"rgb(232,232,232)\", \"linecolor\": \"rgb(36,36,36)\", \"showgrid\": false, \"showline\": true, \"ticks\": \"outside\"}, \"baxis\": {\"gridcolor\": \"rgb(232,232,232)\", \"linecolor\": \"rgb(36,36,36)\", \"showgrid\": false, \"showline\": true, \"ticks\": \"outside\"}, \"bgcolor\": \"white\", \"caxis\": {\"gridcolor\": \"rgb(232,232,232)\", \"linecolor\": \"rgb(36,36,36)\", \"showgrid\": false, \"showline\": true, \"ticks\": \"outside\"}}, \"title\": {\"x\": 0.05}, \"xaxis\": {\"automargin\": true, \"gridcolor\": \"rgb(232,232,232)\", \"linecolor\": \"rgb(36,36,36)\", \"showgrid\": false, \"showline\": true, \"ticks\": \"outside\", \"title\": {\"standoff\": 15}, \"zeroline\": false, \"zerolinecolor\": \"rgb(36,36,36)\"}, \"yaxis\": {\"automargin\": true, \"gridcolor\": \"rgb(232,232,232)\", \"linecolor\": \"rgb(36,36,36)\", \"showgrid\": false, \"showline\": true, \"ticks\": \"outside\", \"title\": {\"standoff\": 15}, \"zeroline\": false, \"zerolinecolor\": \"rgb(36,36,36)\"}}}, \"title\": {\"font\": {\"color\": \"Black\", \"size\": 22}, \"text\": \"<b>Intertopic Distance Map\", \"x\": 0.5, \"xanchor\": \"center\", \"y\": 0.95, \"yanchor\": \"top\"}, \"width\": 650, \"xaxis\": {\"anchor\": \"y\", \"domain\": [0.0, 1.0], \"range\": [-10.370881652832031, 14.431884956359863], \"title\": {\"text\": \"\"}, \"visible\": false}, \"yaxis\": {\"anchor\": \"x\", \"domain\": [0.0, 1.0], \"range\": [-19.357461071014406, 20.307714462280273], \"title\": {\"text\": \"\"}, \"visible\": false}},                        {\"responsive\": true}                    ).then(function(){\n",
              "                            \n",
              "var gd = document.getElementById('49167543-2e4c-4b52-971e-cd5752f7c52a');\n",
              "var x = new MutationObserver(function (mutations, observer) {{\n",
              "        var display = window.getComputedStyle(gd).display;\n",
              "        if (!display || display === 'none') {{\n",
              "            console.log([gd, 'removed!']);\n",
              "            Plotly.purge(gd);\n",
              "            observer.disconnect();\n",
              "        }}\n",
              "}});\n",
              "\n",
              "// Listen for the removal of the full notebook cells\n",
              "var notebookContainer = gd.closest('#notebook-container');\n",
              "if (notebookContainer) {{\n",
              "    x.observe(notebookContainer, {childList: true});\n",
              "}}\n",
              "\n",
              "// Listen for the clearing of the current output cell\n",
              "var outputEl = gd.closest('.output');\n",
              "if (outputEl) {{\n",
              "    x.observe(outputEl, {childList: true});\n",
              "}}\n",
              "\n",
              "                        })                };                            </script>        </div>\n",
              "</body>\n",
              "</html>"
            ]
          },
          "metadata": {
            "tags": []
          }
        }
      ]
    },
    {
      "cell_type": "code",
      "metadata": {
        "colab": {
          "base_uri": "https://localhost:8080/",
          "height": 169
        },
        "id": "AYc-YdLUdz9j",
        "outputId": "7386d607-fbb3-4661-d479-ea9c76317aa7"
      },
      "source": [
        "model.visualize_distribution()"
      ],
      "execution_count": null,
      "outputs": [
        {
          "output_type": "error",
          "ename": "TypeError",
          "evalue": "ignored",
          "traceback": [
            "\u001b[0;31m---------------------------------------------------------------------------\u001b[0m",
            "\u001b[0;31mTypeError\u001b[0m                                 Traceback (most recent call last)",
            "\u001b[0;32m<ipython-input-21-a5780827b2eb>\u001b[0m in \u001b[0;36m<module>\u001b[0;34m()\u001b[0m\n\u001b[0;32m----> 1\u001b[0;31m \u001b[0mmodel\u001b[0m\u001b[0;34m.\u001b[0m\u001b[0mvisualize_distribution\u001b[0m\u001b[0;34m(\u001b[0m\u001b[0;34m)\u001b[0m\u001b[0;34m\u001b[0m\u001b[0;34m\u001b[0m\u001b[0m\n\u001b[0m",
            "\u001b[0;31mTypeError\u001b[0m: visualize_distribution() missing 1 required positional argument: 'probabilities'"
          ]
        }
      ]
    },
    {
      "cell_type": "code",
      "metadata": {
        "colab": {
          "base_uri": "https://localhost:8080/",
          "height": 120,
          "referenced_widgets": [
            "efbe3a732721423cb670b3a96bfff9d5",
            "07ccd362705e4e3fb4ca0939f2491f91",
            "ed77e8ccad5047478dc5efa5f813628c",
            "3af11c1a635f429ab244d26d6669e696",
            "f2ab54bcab5d46a9aebe79a210483c31",
            "1181e64d833a4d3ea47c18c736ef493b",
            "0130d6295e5f49908634f192a394b75b",
            "7299b29a28fb4405a300266e31ce71f7"
          ]
        },
        "id": "QFZtTmUHbSEV",
        "outputId": "d8e4f8ca-589e-4894-f98b-afbdfa1baba3"
      },
      "source": [
        "from bertopic import BERTopic\n",
        "from sentence_transformers import SentenceTransformer\n",
        "from tqdm import tqdm\n",
        "\n",
        "sample_per_doc = 16\n",
        "# Prepare embeddings\n",
        "sentence_model = SentenceTransformer(\"distilbert-base-nli-mean-tokens\", device=\"cuda\")\n",
        "embeddings = sentence_model.encode(data_merged[::sample_per_doc], show_progress_bar=True)\n",
        "\n",
        "# Create topic model\n",
        "model = BERTopic(verbose=True, calculate_probabilities=True, nr_topics=30)\n",
        "topics, probabilities = model.fit_transform(data_merged[::sample_per_doc], embeddings)"
      ],
      "execution_count": null,
      "outputs": [
        {
          "output_type": "display_data",
          "data": {
            "application/vnd.jupyter.widget-view+json": {
              "model_id": "efbe3a732721423cb670b3a96bfff9d5",
              "version_minor": 0,
              "version_major": 2
            },
            "text/plain": [
              "HBox(children=(FloatProgress(value=0.0, description='Batches', max=319.0, style=ProgressStyle(description_widt…"
            ]
          },
          "metadata": {
            "tags": []
          }
        },
        {
          "output_type": "stream",
          "text": [
            "\n"
          ],
          "name": "stdout"
        },
        {
          "output_type": "stream",
          "text": [
            "2021-04-25 19:25:49,948 - BERTopic - Reduced dimensionality with UMAP\n",
            "2021-04-25 19:25:56,974 - BERTopic - Clustered UMAP embeddings with HDBSCAN\n",
            "2021-04-25 19:26:04,119 - BERTopic - Reduced number of topics from 114 to 31\n"
          ],
          "name": "stderr"
        }
      ]
    },
    {
      "cell_type": "code",
      "metadata": {
        "colab": {
          "base_uri": "https://localhost:8080/"
        },
        "id": "Y3eR6mpZg25D",
        "outputId": "94e8e0ea-7395-4cc6-b167-e8237b1964bc"
      },
      "source": [
        "model.get_topic_freq()\n",
        "type(probabilities)\n",
        "probabilities.shape"
      ],
      "execution_count": null,
      "outputs": [
        {
          "output_type": "execute_result",
          "data": {
            "text/plain": [
              "(10202, 113)"
            ]
          },
          "metadata": {
            "tags": []
          },
          "execution_count": 45
        }
      ]
    },
    {
      "cell_type": "code",
      "metadata": {
        "colab": {
          "base_uri": "https://localhost:8080/",
          "height": 393
        },
        "id": "bvqKIY-2eMAJ",
        "outputId": "b86197fb-b2ff-4559-e057-cfc40b627f12"
      },
      "source": [
        "model.visualize_distribution(probabilities[1] )"
      ],
      "execution_count": null,
      "outputs": [
        {
          "output_type": "display_data",
          "data": {
            "image/png": "[encoded data removed]",
            "text/plain": [
              "<Figure size 720x360 with 1 Axes>"
            ]
          },
          "metadata": {
            "tags": [],
            "needs_background": "light"
          }
        }
      ]
    },
    {
      "cell_type": "code",
      "metadata": {
        "colab": {
          "base_uri": "https://localhost:8080/",
          "height": 667
        },
        "id": "rGg1OuzvcWaD",
        "outputId": "5af17a26-b0b8-454e-d902-0be491c86343"
      },
      "source": [
        "model.visualize_topics()"
      ],
      "execution_count": null,
      "outputs": [
        {
          "output_type": "display_data",
          "data": {
            "text/html": [
              "<html>\n",
              "<head><meta charset=\"utf-8\" /></head>\n",
              "<body>\n",
              "    <div>            <script src=\"https://cdnjs.cloudflare.com/ajax/libs/mathjax/2.7.5/MathJax.js?config=TeX-AMS-MML_SVG\"></script><script type=\"text/javascript\">if (window.MathJax) {MathJax.Hub.Config({SVG: {font: \"STIX-Web\"}});}</script>                <script type=\"text/javascript\">window.PlotlyConfig = {MathJaxConfig: 'local'};</script>\n",
              "        <script src=\"https://cdn.plot.ly/plotly-latest.min.js\"></script>                <div id=\"c8507c69-1734-4e8d-b3ef-6fd9153e1a5d\" class=\"plotly-graph-div\" style=\"height:650px; width:650px;\"></div>            <script type=\"text/javascript\">                                    window.PLOTLYENV=window.PLOTLYENV || {};                                    if (document.getElementById(\"c8507c69-1734-4e8d-b3ef-6fd9153e1a5d\")) {                    Plotly.newPlot(                        \"c8507c69-1734-4e8d-b3ef-6fd9153e1a5d\",                        [{\"customdata\": [[5.190427780151367, 4.3474321365356445, 21, \"de | the | la | in | of\", 314], [-19.47362518310547, -6.441851615905762, 31, \"the | of | and | to | in\", 192], [4.292707920074463, 3.7645263671875, 46, \"students | to | the | and | of\", 146], [4.708501815795898, 4.635958671569824, 47, \"and | to | of | the | in\", 116], [6.170653820037842, 3.840200185775757, 57, \"patients | and | of | in | with\", 935], [-19.797260284423828, -6.765499114990234, 80, \"of | in | and | covid19 | the\", 104], [4.129264831542969, 3.222344160079956, 110, \"the | of | we | to | is\", 110]], \"hovertemplate\": \"<b>Topic %{customdata[2]}</b><br>Words: %{customdata[3]}<br>Size: %{customdata[4]}\", \"legendgroup\": \"\", \"marker\": {\"color\": \"#B0BEC5\", \"line\": {\"color\": \"DarkSlateGrey\", \"width\": 2}, \"size\": [314, 192, 146, 116, 935, 104, 110], \"sizemode\": \"area\", \"sizeref\": 0.584375, \"symbol\": \"circle\"}, \"mode\": \"markers\", \"name\": \"\", \"orientation\": \"v\", \"showlegend\": false, \"type\": \"scatter\", \"x\": [5.190427780151367, -19.47362518310547, 4.292707920074463, 4.708501815795898, 6.170653820037842, -19.797260284423828, 4.129264831542969], \"xaxis\": \"x\", \"y\": [4.3474321365356445, -6.441851615905762, 3.7645263671875, 4.635958671569824, 3.840200185775757, -6.765499114990234, 3.222344160079956], \"yaxis\": \"y\"}],                        {\"annotations\": [{\"showarrow\": false, \"text\": \"D1\", \"x\": -22.766849327087403, \"y\": -1.2244857549667358, \"yshift\": 10}, {\"showarrow\": false, \"text\": \"D2\", \"x\": -7.835298717021942, \"xshift\": 10, \"y\": 5.331352472305298}], \"height\": 650, \"hoverlabel\": {\"bgcolor\": \"white\", \"font\": {\"family\": \"Rockwell\", \"size\": 16}}, \"legend\": {\"itemsizing\": \"constant\", \"tracegroupgap\": 0}, \"margin\": {\"t\": 60}, \"shapes\": [{\"line\": {\"color\": \"#CFD8DC\", \"width\": 2}, \"type\": \"line\", \"x0\": -7.835298717021942, \"x1\": -7.835298717021942, \"y0\": -7.7803239822387695, \"y1\": 5.331352472305298}, {\"line\": {\"color\": \"#9E9E9E\", \"width\": 2}, \"type\": \"line\", \"x0\": -22.766849327087403, \"x1\": 7.096251893043518, \"y0\": -1.2244857549667358, \"y1\": -1.2244857549667358}], \"sliders\": [{\"active\": 0, \"pad\": {\"t\": 50}, \"steps\": [{\"args\": [{\"marker.color\": [[\"red\", \"#B0BEC5\", \"#B0BEC5\", \"#B0BEC5\", \"#B0BEC5\", \"#B0BEC5\", \"#B0BEC5\"]]}], \"label\": \"Topic 21\", \"method\": \"update\"}, {\"args\": [{\"marker.color\": [[\"#B0BEC5\", \"red\", \"#B0BEC5\", \"#B0BEC5\", \"#B0BEC5\", \"#B0BEC5\", \"#B0BEC5\"]]}], \"label\": \"Topic 31\", \"method\": \"update\"}, {\"args\": [{\"marker.color\": [[\"#B0BEC5\", \"#B0BEC5\", \"red\", \"#B0BEC5\", \"#B0BEC5\", \"#B0BEC5\", \"#B0BEC5\"]]}], \"label\": \"Topic 46\", \"method\": \"update\"}, {\"args\": [{\"marker.color\": [[\"#B0BEC5\", \"#B0BEC5\", \"#B0BEC5\", \"red\", \"#B0BEC5\", \"#B0BEC5\", \"#B0BEC5\"]]}], \"label\": \"Topic 47\", \"method\": \"update\"}, {\"args\": [{\"marker.color\": [[\"#B0BEC5\", \"#B0BEC5\", \"#B0BEC5\", \"#B0BEC5\", \"red\", \"#B0BEC5\", \"#B0BEC5\"]]}], \"label\": \"Topic 57\", \"method\": \"update\"}, {\"args\": [{\"marker.color\": [[\"#B0BEC5\", \"#B0BEC5\", \"#B0BEC5\", \"#B0BEC5\", \"#B0BEC5\", \"red\", \"#B0BEC5\"]]}], \"label\": \"Topic 80\", \"method\": \"update\"}, {\"args\": [{\"marker.color\": [[\"#B0BEC5\", \"#B0BEC5\", \"#B0BEC5\", \"#B0BEC5\", \"#B0BEC5\", \"#B0BEC5\", \"red\"]]}], \"label\": \"Topic 110\", \"method\": \"update\"}]}], \"template\": {\"data\": {\"bar\": [{\"error_x\": {\"color\": \"rgb(36,36,36)\"}, \"error_y\": {\"color\": \"rgb(36,36,36)\"}, \"marker\": {\"line\": {\"color\": \"white\", \"width\": 0.5}}, \"type\": \"bar\"}], \"barpolar\": [{\"marker\": {\"line\": {\"color\": \"white\", \"width\": 0.5}}, \"type\": \"barpolar\"}], \"carpet\": [{\"aaxis\": {\"endlinecolor\": \"rgb(36,36,36)\", \"gridcolor\": \"white\", \"linecolor\": \"white\", \"minorgridcolor\": \"white\", \"startlinecolor\": \"rgb(36,36,36)\"}, \"baxis\": {\"endlinecolor\": \"rgb(36,36,36)\", \"gridcolor\": \"white\", \"linecolor\": \"white\", \"minorgridcolor\": \"white\", \"startlinecolor\": \"rgb(36,36,36)\"}, \"type\": \"carpet\"}], \"choropleth\": [{\"colorbar\": {\"outlinewidth\": 1, \"tickcolor\": \"rgb(36,36,36)\", \"ticks\": \"outside\"}, \"type\": \"choropleth\"}], \"contour\": [{\"colorbar\": {\"outlinewidth\": 1, \"tickcolor\": \"rgb(36,36,36)\", \"ticks\": \"outside\"}, \"colorscale\": [[0.0, \"#440154\"], [0.1111111111111111, \"#482878\"], [0.2222222222222222, \"#3e4989\"], [0.3333333333333333, \"#31688e\"], [0.4444444444444444, \"#26828e\"], [0.5555555555555556, \"#1f9e89\"], [0.6666666666666666, \"#35b779\"], [0.7777777777777778, \"#6ece58\"], [0.8888888888888888, \"#b5de2b\"], [1.0, \"#fde725\"]], \"type\": \"contour\"}], \"contourcarpet\": [{\"colorbar\": {\"outlinewidth\": 1, \"tickcolor\": \"rgb(36,36,36)\", \"ticks\": \"outside\"}, \"type\": \"contourcarpet\"}], \"heatmap\": [{\"colorbar\": {\"outlinewidth\": 1, \"tickcolor\": \"rgb(36,36,36)\", \"ticks\": \"outside\"}, \"colorscale\": [[0.0, \"#440154\"], [0.1111111111111111, \"#482878\"], [0.2222222222222222, \"#3e4989\"], [0.3333333333333333, \"#31688e\"], [0.4444444444444444, \"#26828e\"], [0.5555555555555556, \"#1f9e89\"], [0.6666666666666666, \"#35b779\"], [0.7777777777777778, \"#6ece58\"], [0.8888888888888888, \"#b5de2b\"], [1.0, \"#fde725\"]], \"type\": \"heatmap\"}], \"heatmapgl\": [{\"colorbar\": {\"outlinewidth\": 1, \"tickcolor\": \"rgb(36,36,36)\", \"ticks\": \"outside\"}, \"colorscale\": [[0.0, \"#440154\"], [0.1111111111111111, \"#482878\"], [0.2222222222222222, \"#3e4989\"], [0.3333333333333333, \"#31688e\"], [0.4444444444444444, \"#26828e\"], [0.5555555555555556, \"#1f9e89\"], [0.6666666666666666, \"#35b779\"], [0.7777777777777778, \"#6ece58\"], [0.8888888888888888, \"#b5de2b\"], [1.0, \"#fde725\"]], \"type\": \"heatmapgl\"}], \"histogram\": [{\"marker\": {\"line\": {\"color\": \"white\", \"width\": 0.6}}, \"type\": \"histogram\"}], \"histogram2d\": [{\"colorbar\": {\"outlinewidth\": 1, \"tickcolor\": \"rgb(36,36,36)\", \"ticks\": \"outside\"}, \"colorscale\": [[0.0, \"#440154\"], [0.1111111111111111, \"#482878\"], [0.2222222222222222, \"#3e4989\"], [0.3333333333333333, \"#31688e\"], [0.4444444444444444, \"#26828e\"], [0.5555555555555556, \"#1f9e89\"], [0.6666666666666666, \"#35b779\"], [0.7777777777777778, \"#6ece58\"], [0.8888888888888888, \"#b5de2b\"], [1.0, \"#fde725\"]], \"type\": \"histogram2d\"}], \"histogram2dcontour\": [{\"colorbar\": {\"outlinewidth\": 1, \"tickcolor\": \"rgb(36,36,36)\", \"ticks\": \"outside\"}, \"colorscale\": [[0.0, \"#440154\"], [0.1111111111111111, \"#482878\"], [0.2222222222222222, \"#3e4989\"], [0.3333333333333333, \"#31688e\"], [0.4444444444444444, \"#26828e\"], [0.5555555555555556, \"#1f9e89\"], [0.6666666666666666, \"#35b779\"], [0.7777777777777778, \"#6ece58\"], [0.8888888888888888, \"#b5de2b\"], [1.0, \"#fde725\"]], \"type\": \"histogram2dcontour\"}], \"mesh3d\": [{\"colorbar\": {\"outlinewidth\": 1, \"tickcolor\": \"rgb(36,36,36)\", \"ticks\": \"outside\"}, \"type\": \"mesh3d\"}], \"parcoords\": [{\"line\": {\"colorbar\": {\"outlinewidth\": 1, \"tickcolor\": \"rgb(36,36,36)\", \"ticks\": \"outside\"}}, \"type\": \"parcoords\"}], \"pie\": [{\"automargin\": true, \"type\": \"pie\"}], \"scatter\": [{\"marker\": {\"colorbar\": {\"outlinewidth\": 1, \"tickcolor\": \"rgb(36,36,36)\", \"ticks\": \"outside\"}}, \"type\": \"scatter\"}], \"scatter3d\": [{\"line\": {\"colorbar\": {\"outlinewidth\": 1, \"tickcolor\": \"rgb(36,36,36)\", \"ticks\": \"outside\"}}, \"marker\": {\"colorbar\": {\"outlinewidth\": 1, \"tickcolor\": \"rgb(36,36,36)\", \"ticks\": \"outside\"}}, \"type\": \"scatter3d\"}], \"scattercarpet\": [{\"marker\": {\"colorbar\": {\"outlinewidth\": 1, \"tickcolor\": \"rgb(36,36,36)\", \"ticks\": \"outside\"}}, \"type\": \"scattercarpet\"}], \"scattergeo\": [{\"marker\": {\"colorbar\": {\"outlinewidth\": 1, \"tickcolor\": \"rgb(36,36,36)\", \"ticks\": \"outside\"}}, \"type\": \"scattergeo\"}], \"scattergl\": [{\"marker\": {\"colorbar\": {\"outlinewidth\": 1, \"tickcolor\": \"rgb(36,36,36)\", \"ticks\": \"outside\"}}, \"type\": \"scattergl\"}], \"scattermapbox\": [{\"marker\": {\"colorbar\": {\"outlinewidth\": 1, \"tickcolor\": \"rgb(36,36,36)\", \"ticks\": \"outside\"}}, \"type\": \"scattermapbox\"}], \"scatterpolar\": [{\"marker\": {\"colorbar\": {\"outlinewidth\": 1, \"tickcolor\": \"rgb(36,36,36)\", \"ticks\": \"outside\"}}, \"type\": \"scatterpolar\"}], \"scatterpolargl\": [{\"marker\": {\"colorbar\": {\"outlinewidth\": 1, \"tickcolor\": \"rgb(36,36,36)\", \"ticks\": \"outside\"}}, \"type\": \"scatterpolargl\"}], \"scatterternary\": [{\"marker\": {\"colorbar\": {\"outlinewidth\": 1, \"tickcolor\": \"rgb(36,36,36)\", \"ticks\": \"outside\"}}, \"type\": \"scatterternary\"}], \"surface\": [{\"colorbar\": {\"outlinewidth\": 1, \"tickcolor\": \"rgb(36,36,36)\", \"ticks\": \"outside\"}, \"colorscale\": [[0.0, \"#440154\"], [0.1111111111111111, \"#482878\"], [0.2222222222222222, \"#3e4989\"], [0.3333333333333333, \"#31688e\"], [0.4444444444444444, \"#26828e\"], [0.5555555555555556, \"#1f9e89\"], [0.6666666666666666, \"#35b779\"], [0.7777777777777778, \"#6ece58\"], [0.8888888888888888, \"#b5de2b\"], [1.0, \"#fde725\"]], \"type\": \"surface\"}], \"table\": [{\"cells\": {\"fill\": {\"color\": \"rgb(237,237,237)\"}, \"line\": {\"color\": \"white\"}}, \"header\": {\"fill\": {\"color\": \"rgb(217,217,217)\"}, \"line\": {\"color\": \"white\"}}, \"type\": \"table\"}]}, \"layout\": {\"annotationdefaults\": {\"arrowhead\": 0, \"arrowwidth\": 1}, \"autotypenumbers\": \"strict\", \"coloraxis\": {\"colorbar\": {\"outlinewidth\": 1, \"tickcolor\": \"rgb(36,36,36)\", \"ticks\": \"outside\"}}, \"colorscale\": {\"diverging\": [[0.0, \"rgb(103,0,31)\"], [0.1, \"rgb(178,24,43)\"], [0.2, \"rgb(214,96,77)\"], [0.3, \"rgb(244,165,130)\"], [0.4, \"rgb(253,219,199)\"], [0.5, \"rgb(247,247,247)\"], [0.6, \"rgb(209,229,240)\"], [0.7, \"rgb(146,197,222)\"], [0.8, \"rgb(67,147,195)\"], [0.9, \"rgb(33,102,172)\"], [1.0, \"rgb(5,48,97)\"]], \"sequential\": [[0.0, \"#440154\"], [0.1111111111111111, \"#482878\"], [0.2222222222222222, \"#3e4989\"], [0.3333333333333333, \"#31688e\"], [0.4444444444444444, \"#26828e\"], [0.5555555555555556, \"#1f9e89\"], [0.6666666666666666, \"#35b779\"], [0.7777777777777778, \"#6ece58\"], [0.8888888888888888, \"#b5de2b\"], [1.0, \"#fde725\"]], \"sequentialminus\": [[0.0, \"#440154\"], [0.1111111111111111, \"#482878\"], [0.2222222222222222, \"#3e4989\"], [0.3333333333333333, \"#31688e\"], [0.4444444444444444, \"#26828e\"], [0.5555555555555556, \"#1f9e89\"], [0.6666666666666666, \"#35b779\"], [0.7777777777777778, \"#6ece58\"], [0.8888888888888888, \"#b5de2b\"], [1.0, \"#fde725\"]]}, \"colorway\": [\"#1F77B4\", \"#FF7F0E\", \"#2CA02C\", \"#D62728\", \"#9467BD\", \"#8C564B\", \"#E377C2\", \"#7F7F7F\", \"#BCBD22\", \"#17BECF\"], \"font\": {\"color\": \"rgb(36,36,36)\"}, \"geo\": {\"bgcolor\": \"white\", \"lakecolor\": \"white\", \"landcolor\": \"white\", \"showlakes\": true, \"showland\": true, \"subunitcolor\": \"white\"}, \"hoverlabel\": {\"align\": \"left\"}, \"hovermode\": \"closest\", \"mapbox\": {\"style\": \"light\"}, \"paper_bgcolor\": \"white\", \"plot_bgcolor\": \"white\", \"polar\": {\"angularaxis\": {\"gridcolor\": \"rgb(232,232,232)\", \"linecolor\": \"rgb(36,36,36)\", \"showgrid\": false, \"showline\": true, \"ticks\": \"outside\"}, \"bgcolor\": \"white\", \"radialaxis\": {\"gridcolor\": \"rgb(232,232,232)\", \"linecolor\": \"rgb(36,36,36)\", \"showgrid\": false, \"showline\": true, \"ticks\": \"outside\"}}, \"scene\": {\"xaxis\": {\"backgroundcolor\": \"white\", \"gridcolor\": \"rgb(232,232,232)\", \"gridwidth\": 2, \"linecolor\": \"rgb(36,36,36)\", \"showbackground\": true, \"showgrid\": false, \"showline\": true, \"ticks\": \"outside\", \"zeroline\": false, \"zerolinecolor\": \"rgb(36,36,36)\"}, \"yaxis\": {\"backgroundcolor\": \"white\", \"gridcolor\": \"rgb(232,232,232)\", \"gridwidth\": 2, \"linecolor\": \"rgb(36,36,36)\", \"showbackground\": true, \"showgrid\": false, \"showline\": true, \"ticks\": \"outside\", \"zeroline\": false, \"zerolinecolor\": \"rgb(36,36,36)\"}, \"zaxis\": {\"backgroundcolor\": \"white\", \"gridcolor\": \"rgb(232,232,232)\", \"gridwidth\": 2, \"linecolor\": \"rgb(36,36,36)\", \"showbackground\": true, \"showgrid\": false, \"showline\": true, \"ticks\": \"outside\", \"zeroline\": false, \"zerolinecolor\": \"rgb(36,36,36)\"}}, \"shapedefaults\": {\"fillcolor\": \"black\", \"line\": {\"width\": 0}, \"opacity\": 0.3}, \"ternary\": {\"aaxis\": {\"gridcolor\": \"rgb(232,232,232)\", \"linecolor\": \"rgb(36,36,36)\", \"showgrid\": false, \"showline\": true, \"ticks\": \"outside\"}, \"baxis\": {\"gridcolor\": \"rgb(232,232,232)\", \"linecolor\": \"rgb(36,36,36)\", \"showgrid\": false, \"showline\": true, \"ticks\": \"outside\"}, \"bgcolor\": \"white\", \"caxis\": {\"gridcolor\": \"rgb(232,232,232)\", \"linecolor\": \"rgb(36,36,36)\", \"showgrid\": false, \"showline\": true, \"ticks\": \"outside\"}}, \"title\": {\"x\": 0.05}, \"xaxis\": {\"automargin\": true, \"gridcolor\": \"rgb(232,232,232)\", \"linecolor\": \"rgb(36,36,36)\", \"showgrid\": false, \"showline\": true, \"ticks\": \"outside\", \"title\": {\"standoff\": 15}, \"zeroline\": false, \"zerolinecolor\": \"rgb(36,36,36)\"}, \"yaxis\": {\"automargin\": true, \"gridcolor\": \"rgb(232,232,232)\", \"linecolor\": \"rgb(36,36,36)\", \"showgrid\": false, \"showline\": true, \"ticks\": \"outside\", \"title\": {\"standoff\": 15}, \"zeroline\": false, \"zerolinecolor\": \"rgb(36,36,36)\"}}}, \"title\": {\"font\": {\"color\": \"Black\", \"size\": 22}, \"text\": \"<b>Intertopic Distance Map\", \"x\": 0.5, \"xanchor\": \"center\", \"y\": 0.95, \"yanchor\": \"top\"}, \"width\": 650, \"xaxis\": {\"anchor\": \"y\", \"domain\": [0.0, 1.0], \"range\": [-22.766849327087403, 7.096251893043518], \"title\": {\"text\": \"\"}, \"visible\": false}, \"yaxis\": {\"anchor\": \"x\", \"domain\": [0.0, 1.0], \"range\": [-7.7803239822387695, 5.331352472305298], \"title\": {\"text\": \"\"}, \"visible\": false}},                        {\"responsive\": true}                    ).then(function(){\n",
              "                            \n",
              "var gd = document.getElementById('c8507c69-1734-4e8d-b3ef-6fd9153e1a5d');\n",
              "var x = new MutationObserver(function (mutations, observer) {{\n",
              "        var display = window.getComputedStyle(gd).display;\n",
              "        if (!display || display === 'none') {{\n",
              "            console.log([gd, 'removed!']);\n",
              "            Plotly.purge(gd);\n",
              "            observer.disconnect();\n",
              "        }}\n",
              "}});\n",
              "\n",
              "// Listen for the removal of the full notebook cells\n",
              "var notebookContainer = gd.closest('#notebook-container');\n",
              "if (notebookContainer) {{\n",
              "    x.observe(notebookContainer, {childList: true});\n",
              "}}\n",
              "\n",
              "// Listen for the clearing of the current output cell\n",
              "var outputEl = gd.closest('.output');\n",
              "if (outputEl) {{\n",
              "    x.observe(outputEl, {childList: true});\n",
              "}}\n",
              "\n",
              "                        })                };                            </script>        </div>\n",
              "</body>\n",
              "</html>"
            ]
          },
          "metadata": {
            "tags": []
          }
        }
      ]
    },
    {
      "cell_type": "markdown",
      "metadata": {
        "id": "4sKrKYC7OeML"
      },
      "source": [
        "# Extract embedding"
      ]
    },
    {
      "cell_type": "code",
      "metadata": {
        "id": "PyieT6swOgVK"
      },
      "source": [
        "from sentence_transformers import SentenceTransformer\n",
        "import pickle\n",
        "\n",
        "model = SentenceTransformer('distilbert-base-nli-stsb-mean-tokens')\n",
        "sentences = ['This framework generates embeddings for each input sentence',\n",
        "    'Sentences are passed as a list of string.', \n",
        "    'The quick brown fox jumps over the lazy dog.']\n",
        "\n",
        "\n",
        "embeddings = model.encode(sentences)"
      ],
      "execution_count": null,
      "outputs": []
    },
    {
      "cell_type": "code",
      "metadata": {
        "colab": {
          "base_uri": "https://localhost:8080/"
        },
        "id": "PqrSyFZcOjK5",
        "outputId": "4bcfcbb7-20c3-451c-91b2-53c9cee3a889"
      },
      "source": [
        "embeddings.shape\n",
        "embeddings"
      ],
      "execution_count": null,
      "outputs": [
        {
          "output_type": "execute_result",
          "data": {
            "text/plain": [
              "array([[-0.21486185,  0.3957228 ,  0.46908706, ..., -0.2311899 ,\n",
              "        -0.49579126,  0.42366362],\n",
              "       [-0.44001693, -0.28488475,  0.23363848, ...,  0.11956115,\n",
              "        -0.1653026 , -0.08625139],\n",
              "       [-0.2950478 , -0.24928868, -0.02407048, ...,  0.11944623,\n",
              "         0.00626617,  1.0400685 ]], dtype=float32)"
            ]
          },
          "metadata": {
            "tags": []
          },
          "execution_count": 3
        }
      ]
    },
    {
      "cell_type": "markdown",
      "metadata": {
        "id": "jkqiHq7oip7R"
      },
      "source": [
        "# Test silhouette_score"
      ]
    },
    {
      "cell_type": "code",
      "metadata": {
        "id": "AISdYnEsiuO4"
      },
      "source": [
        "import sklearn\n",
        "from sklearn.metrics import silhouette_score\n",
        "from sklearn.cluster import KMeans\n",
        "import numpy as np\n"
      ],
      "execution_count": null,
      "outputs": []
    },
    {
      "cell_type": "code",
      "metadata": {
        "id": "X8fq-optKVrM"
      },
      "source": [
        ""
      ],
      "execution_count": null,
      "outputs": []
    },
    {
      "cell_type": "code",
      "metadata": {
        "colab": {
          "base_uri": "https://localhost:8080/"
        },
        "id": "DgKYk_j9jDYI",
        "outputId": "d88fd5f4-ff5a-4606-9538-f258fb70c824"
      },
      "source": [
        "tfidf_matrix = np.random.rand(22,1000)\n",
        "k = 10\n",
        "km = KMeans(n_clusters = k).fit(tfidf_matrix)\n",
        "# kmeans_model_list_2.append(km)\n",
        "labels = km.labels_\n",
        "silhouette_score(tfidf_matrix, labels, metric = 'euclidean')\n",
        "# print(labels)\n",
        "# silhouette_score"
      ],
      "execution_count": null,
      "outputs": [
        {
          "output_type": "execute_result",
          "data": {
            "text/plain": [
              "0.011409172033326113"
            ]
          },
          "metadata": {
            "tags": []
          },
          "execution_count": 4
        }
      ]
    },
    {
      "cell_type": "markdown",
      "metadata": {
        "id": "mC4rApacmD1X"
      },
      "source": [
        "# TSDAE"
      ]
    },
    {
      "cell_type": "code",
      "metadata": {
        "colab": {
          "base_uri": "https://localhost:8080/"
        },
        "id": "ztyAG7Dmm67B",
        "outputId": "22b65c84-8223-4f7a-c19b-4665074c2fd7"
      },
      "source": [
        "import nltk\n",
        "nltk.download('punkt')"
      ],
      "execution_count": 6,
      "outputs": [
        {
          "output_type": "stream",
          "text": [
            "[nltk_data] Downloading package punkt to /root/nltk_data...\n",
            "[nltk_data]   Package punkt is already up-to-date!\n"
          ],
          "name": "stdout"
        },
        {
          "output_type": "execute_result",
          "data": {
            "text/plain": [
              "True"
            ]
          },
          "metadata": {
            "tags": []
          },
          "execution_count": 6
        }
      ]
    },
    {
      "cell_type": "code",
      "metadata": {
        "colab": {
          "base_uri": "https://localhost:8080/",
          "height": 296,
          "referenced_widgets": [
            "4ab3f96fd82b40ef9c2362fbbfa654ba",
            "8305b49c76424187a4e7765bcb8229e5",
            "7c712df2202e46b4819a25eeaee7df8b",
            "deb5b6d8ccd14cb9a84104f872117915",
            "86b99eac586844308c9eddd01dce0cca",
            "fc0baf1941e94ef693f85d234b3d8379",
            "2611ae95edcd47efbf40cc86d0bf5cd1",
            "d2f93f2618ab499783ee88be86baa50a",
            "c5971540e78542798590f1a776cfb8c8",
            "9b4295a6cf194276ae58f05f04da4a90",
            "c0f495ee22ae49a6a93703cafdbbcab0",
            "f5fe773994024aa69d5847709f2fd019",
            "8e1db24b368842469f103acf9c76c7bf",
            "03855e7255404706917f9c049f6cb878",
            "04f00f3163a04055892324fc589a5e9d",
            "f7b496973a974d98ae5a8f0fcfa29556",
            "555215e1b32940d1a19890455a5961ee",
            "9876054fcef24376b46b76b5313ed416",
            "3e3f528fa49e45b3b4bf6c7fd21bc71a",
            "2d08867706054060a36b8a461a595b46",
            "22beefe555ae4c2281e4ae59aa26d7c4",
            "218764c60d01485b8b8db3893ef994b8",
            "6cd43262297f47fb989edd7d41dd0326",
            "18bc92c018284b34a658581e05e65fb3"
          ]
        },
        "id": "lF1YRE4RmF9R",
        "outputId": "0588238b-0dbd-4f34-aff2-f31bfe53db8c"
      },
      "source": [
        "from sentence_transformers import SentenceTransformer, LoggingHandler\n",
        "from sentence_transformers import models, util, datasets, evaluation, losses\n",
        "from torch.utils.data import DataLoader\n",
        "\n",
        "# Define your sentence transformer model using CLS pooling\n",
        "model_name = 'bert-base-uncased'\n",
        "word_embedding_model = models.Transformer(model_name)\n",
        "pooling_model = models.Pooling(word_embedding_model.get_word_embedding_dimension(), pooling_mode_mean_tokens=False, pooling_mode_cls_token=True, pooling_mode_max_tokens=False)\n",
        "model = SentenceTransformer(modules=[word_embedding_model, pooling_model])\n",
        "\n",
        "# Define a list with sentences (1k - 100k sentences)\n",
        "# train_sentences = [\"Your set of sentences\",\n",
        "#                    \"Model will automatically add the noise\", \n",
        "#                    \"And re-construct it\",\n",
        "#                    \"You should provide at least 1k sentences\"]\n",
        "# train_sentences = data_merged[::1600]\n",
        "train_sentences = data_merged[:10000]\n",
        "\n",
        "# Create the special denoising dataset that adds noise on-the-fly\n",
        "train_dataset = datasets.DenoisingAutoEncoderDataset(train_sentences)\n",
        "\n",
        "# DataLoader to batch your data\n",
        "train_dataloader = DataLoader(train_dataset, batch_size=4, shuffle=True)\n",
        "\n",
        "# Use the denoising auto-encoder loss\n",
        "train_loss = losses.DenoisingAutoEncoderLoss(model, decoder_name_or_path=model_name, tie_encoder_decoder=True)\n",
        "\n",
        "# Call the fit method\n",
        "model.fit(\n",
        "    train_objectives=[(train_dataloader, train_loss)],\n",
        "    epochs=2,\n",
        "    weight_decay=0,\n",
        "    scheduler='constantlr',\n",
        "    optimizer_params={'lr': 3e-5},\n",
        "    show_progress_bar=True\n",
        ")"
      ],
      "execution_count": 8,
      "outputs": [
        {
          "output_type": "stream",
          "text": [
            "Some weights of the model checkpoint at bert-base-uncased were not used when initializing BertLMHeadModel: ['cls.seq_relationship.weight', 'cls.seq_relationship.bias']\n",
            "- This IS expected if you are initializing BertLMHeadModel from the checkpoint of a model trained on another task or with another architecture (e.g. initializing a BertForSequenceClassification model from a BertForPreTraining model).\n",
            "- This IS NOT expected if you are initializing BertLMHeadModel from the checkpoint of a model that you expect to be exactly identical (initializing a BertForSequenceClassification model from a BertForSequenceClassification model).\n",
            "Some weights of BertLMHeadModel were not initialized from the model checkpoint at bert-base-uncased and are newly initialized: ['bert.encoder.layer.0.crossattention.self.query.weight', 'bert.encoder.layer.0.crossattention.self.query.bias', 'bert.encoder.layer.0.crossattention.self.key.weight', 'bert.encoder.layer.0.crossattention.self.key.bias', 'bert.encoder.layer.0.crossattention.self.value.weight', 'bert.encoder.layer.0.crossattention.self.value.bias', 'bert.encoder.layer.0.crossattention.output.dense.weight', 'bert.encoder.layer.0.crossattention.output.dense.bias', 'bert.encoder.layer.0.crossattention.output.LayerNorm.weight', 'bert.encoder.layer.0.crossattention.output.LayerNorm.bias', 'bert.encoder.layer.1.crossattention.self.query.weight', 'bert.encoder.layer.1.crossattention.self.query.bias', 'bert.encoder.layer.1.crossattention.self.key.weight', 'bert.encoder.layer.1.crossattention.self.key.bias', 'bert.encoder.layer.1.crossattention.self.value.weight', 'bert.encoder.layer.1.crossattention.self.value.bias', 'bert.encoder.layer.1.crossattention.output.dense.weight', 'bert.encoder.layer.1.crossattention.output.dense.bias', 'bert.encoder.layer.1.crossattention.output.LayerNorm.weight', 'bert.encoder.layer.1.crossattention.output.LayerNorm.bias', 'bert.encoder.layer.2.crossattention.self.query.weight', 'bert.encoder.layer.2.crossattention.self.query.bias', 'bert.encoder.layer.2.crossattention.self.key.weight', 'bert.encoder.layer.2.crossattention.self.key.bias', 'bert.encoder.layer.2.crossattention.self.value.weight', 'bert.encoder.layer.2.crossattention.self.value.bias', 'bert.encoder.layer.2.crossattention.output.dense.weight', 'bert.encoder.layer.2.crossattention.output.dense.bias', 'bert.encoder.layer.2.crossattention.output.LayerNorm.weight', 'bert.encoder.layer.2.crossattention.output.LayerNorm.bias', 'bert.encoder.layer.3.crossattention.self.query.weight', 'bert.encoder.layer.3.crossattention.self.query.bias', 'bert.encoder.layer.3.crossattention.self.key.weight', 'bert.encoder.layer.3.crossattention.self.key.bias', 'bert.encoder.layer.3.crossattention.self.value.weight', 'bert.encoder.layer.3.crossattention.self.value.bias', 'bert.encoder.layer.3.crossattention.output.dense.weight', 'bert.encoder.layer.3.crossattention.output.dense.bias', 'bert.encoder.layer.3.crossattention.output.LayerNorm.weight', 'bert.encoder.layer.3.crossattention.output.LayerNorm.bias', 'bert.encoder.layer.4.crossattention.self.query.weight', 'bert.encoder.layer.4.crossattention.self.query.bias', 'bert.encoder.layer.4.crossattention.self.key.weight', 'bert.encoder.layer.4.crossattention.self.key.bias', 'bert.encoder.layer.4.crossattention.self.value.weight', 'bert.encoder.layer.4.crossattention.self.value.bias', 'bert.encoder.layer.4.crossattention.output.dense.weight', 'bert.encoder.layer.4.crossattention.output.dense.bias', 'bert.encoder.layer.4.crossattention.output.LayerNorm.weight', 'bert.encoder.layer.4.crossattention.output.LayerNorm.bias', 'bert.encoder.layer.5.crossattention.self.query.weight', 'bert.encoder.layer.5.crossattention.self.query.bias', 'bert.encoder.layer.5.crossattention.self.key.weight', 'bert.encoder.layer.5.crossattention.self.key.bias', 'bert.encoder.layer.5.crossattention.self.value.weight', 'bert.encoder.layer.5.crossattention.self.value.bias', 'bert.encoder.layer.5.crossattention.output.dense.weight', 'bert.encoder.layer.5.crossattention.output.dense.bias', 'bert.encoder.layer.5.crossattention.output.LayerNorm.weight', 'bert.encoder.layer.5.crossattention.output.LayerNorm.bias', 'bert.encoder.layer.6.crossattention.self.query.weight', 'bert.encoder.layer.6.crossattention.self.query.bias', 'bert.encoder.layer.6.crossattention.self.key.weight', 'bert.encoder.layer.6.crossattention.self.key.bias', 'bert.encoder.layer.6.crossattention.self.value.weight', 'bert.encoder.layer.6.crossattention.self.value.bias', 'bert.encoder.layer.6.crossattention.output.dense.weight', 'bert.encoder.layer.6.crossattention.output.dense.bias', 'bert.encoder.layer.6.crossattention.output.LayerNorm.weight', 'bert.encoder.layer.6.crossattention.output.LayerNorm.bias', 'bert.encoder.layer.7.crossattention.self.query.weight', 'bert.encoder.layer.7.crossattention.self.query.bias', 'bert.encoder.layer.7.crossattention.self.key.weight', 'bert.encoder.layer.7.crossattention.self.key.bias', 'bert.encoder.layer.7.crossattention.self.value.weight', 'bert.encoder.layer.7.crossattention.self.value.bias', 'bert.encoder.layer.7.crossattention.output.dense.weight', 'bert.encoder.layer.7.crossattention.output.dense.bias', 'bert.encoder.layer.7.crossattention.output.LayerNorm.weight', 'bert.encoder.layer.7.crossattention.output.LayerNorm.bias', 'bert.encoder.layer.8.crossattention.self.query.weight', 'bert.encoder.layer.8.crossattention.self.query.bias', 'bert.encoder.layer.8.crossattention.self.key.weight', 'bert.encoder.layer.8.crossattention.self.key.bias', 'bert.encoder.layer.8.crossattention.self.value.weight', 'bert.encoder.layer.8.crossattention.self.value.bias', 'bert.encoder.layer.8.crossattention.output.dense.weight', 'bert.encoder.layer.8.crossattention.output.dense.bias', 'bert.encoder.layer.8.crossattention.output.LayerNorm.weight', 'bert.encoder.layer.8.crossattention.output.LayerNorm.bias', 'bert.encoder.layer.9.crossattention.self.query.weight', 'bert.encoder.layer.9.crossattention.self.query.bias', 'bert.encoder.layer.9.crossattention.self.key.weight', 'bert.encoder.layer.9.crossattention.self.key.bias', 'bert.encoder.layer.9.crossattention.self.value.weight', 'bert.encoder.layer.9.crossattention.self.value.bias', 'bert.encoder.layer.9.crossattention.output.dense.weight', 'bert.encoder.layer.9.crossattention.output.dense.bias', 'bert.encoder.layer.9.crossattention.output.LayerNorm.weight', 'bert.encoder.layer.9.crossattention.output.LayerNorm.bias', 'bert.encoder.layer.10.crossattention.self.query.weight', 'bert.encoder.layer.10.crossattention.self.query.bias', 'bert.encoder.layer.10.crossattention.self.key.weight', 'bert.encoder.layer.10.crossattention.self.key.bias', 'bert.encoder.layer.10.crossattention.self.value.weight', 'bert.encoder.layer.10.crossattention.self.value.bias', 'bert.encoder.layer.10.crossattention.output.dense.weight', 'bert.encoder.layer.10.crossattention.output.dense.bias', 'bert.encoder.layer.10.crossattention.output.LayerNorm.weight', 'bert.encoder.layer.10.crossattention.output.LayerNorm.bias', 'bert.encoder.layer.11.crossattention.self.query.weight', 'bert.encoder.layer.11.crossattention.self.query.bias', 'bert.encoder.layer.11.crossattention.self.key.weight', 'bert.encoder.layer.11.crossattention.self.key.bias', 'bert.encoder.layer.11.crossattention.self.value.weight', 'bert.encoder.layer.11.crossattention.self.value.bias', 'bert.encoder.layer.11.crossattention.output.dense.weight', 'bert.encoder.layer.11.crossattention.output.dense.bias', 'bert.encoder.layer.11.crossattention.output.LayerNorm.weight', 'bert.encoder.layer.11.crossattention.output.LayerNorm.bias']\n",
            "You should probably TRAIN this model on a down-stream task to be able to use it for predictions and inference.\n",
            "The following encoder weights were not tied to the decoder ['bert/pooler']\n"
          ],
          "name": "stderr"
        },
        {
          "output_type": "display_data",
          "data": {
            "application/vnd.jupyter.widget-view+json": {
              "model_id": "4ab3f96fd82b40ef9c2362fbbfa654ba",
              "version_minor": 0,
              "version_major": 2
            },
            "text/plain": [
              "HBox(children=(FloatProgress(value=0.0, description='Epoch', max=2.0, style=ProgressStyle(description_width='i…"
            ]
          },
          "metadata": {
            "tags": []
          }
        },
        {
          "output_type": "display_data",
          "data": {
            "application/vnd.jupyter.widget-view+json": {
              "model_id": "c5971540e78542798590f1a776cfb8c8",
              "version_minor": 0,
              "version_major": 2
            },
            "text/plain": [
              "HBox(children=(FloatProgress(value=0.0, description='Iteration', max=2500.0, style=ProgressStyle(description_w…"
            ]
          },
          "metadata": {
            "tags": []
          }
        },
        {
          "output_type": "stream",
          "text": [
            "\n"
          ],
          "name": "stdout"
        },
        {
          "output_type": "display_data",
          "data": {
            "application/vnd.jupyter.widget-view+json": {
              "model_id": "555215e1b32940d1a19890455a5961ee",
              "version_minor": 0,
              "version_major": 2
            },
            "text/plain": [
              "HBox(children=(FloatProgress(value=0.0, description='Iteration', max=2500.0, style=ProgressStyle(description_w…"
            ]
          },
          "metadata": {
            "tags": []
          }
        },
        {
          "output_type": "stream",
          "text": [
            "\n",
            "\n"
          ],
          "name": "stdout"
        }
      ]
    },
    {
      "cell_type": "code",
      "metadata": {
        "colab": {
          "base_uri": "https://localhost:8080/",
          "height": 122,
          "referenced_widgets": [
            "c7d3918c219d44d8a1317bde261af513",
            "074fd3aded214570acfbb5bb65fa9567",
            "cec34603423140dba0af731b52406fa4",
            "ea260f564e5f44ee8f22ec88f6ba0c2b",
            "e60ba1b8856846d389620a5f1d693f73",
            "b038b1601c884e7aaa06d282a4742413",
            "5341ec27ca9f4aef90631007ce25fb46",
            "0e613fbcf30641bd99844d99b86ca180"
          ]
        },
        "id": "jIStIwrC7SIR",
        "outputId": "64ad5236-3839-4370-b229-626740ebd26c"
      },
      "source": [
        "from bertopic import BERTopic\n",
        "from sentence_transformers import SentenceTransformer\n",
        "from tqdm import tqdm\n",
        "\n",
        "sample_per_doc = 16\n",
        "# Prepare embeddings\n",
        "# sentence_model = SentenceTransformer(\"distilbert-base-nli-mean-tokens\", device=\"cuda\")\n",
        "embeddings = model.encode(data_merged[::sample_per_doc], show_progress_bar=True)\n",
        "\n",
        "# Create topic model\n",
        "model = BERTopic(verbose=True, calculate_probabilities=True, nr_topics=30)\n",
        "topics, probabilities = model.fit_transform(data_merged[::sample_per_doc], embeddings)"
      ],
      "execution_count": 9,
      "outputs": [
        {
          "output_type": "display_data",
          "data": {
            "application/vnd.jupyter.widget-view+json": {
              "model_id": "c7d3918c219d44d8a1317bde261af513",
              "version_minor": 0,
              "version_major": 2
            },
            "text/plain": [
              "HBox(children=(FloatProgress(value=0.0, description='Batches', max=319.0, style=ProgressStyle(description_widt…"
            ]
          },
          "metadata": {
            "tags": []
          }
        },
        {
          "output_type": "stream",
          "text": [
            "\n"
          ],
          "name": "stdout"
        },
        {
          "output_type": "stream",
          "text": [
            "2021-05-01 00:04:33,549 - BERTopic - Reduced dimensionality with UMAP\n",
            "2021-05-01 00:04:39,563 - BERTopic - Clustered UMAP embeddings with HDBSCAN\n",
            "2021-05-01 00:04:47,607 - BERTopic - Reduced number of topics from 109 to 31\n"
          ],
          "name": "stderr"
        }
      ]
    },
    {
      "cell_type": "code",
      "metadata": {
        "id": "spoQLAuA8p5V"
      },
      "source": [
        "topics = np.array(topics)\n",
        "idx_valid = (topics != -1)\n",
        "score = silhouette_score(embeddings[idx_valid], topics[idx_valid], metric = 'l2')\n",
        "# score = silhouette_score(embeddings[:], topics[:], metric = 'l2')\n",
        "score"
      ],
      "execution_count": null,
      "outputs": []
    },
    {
      "cell_type": "code",
      "metadata": {
        "id": "Sxr3TtVm81RC"
      },
      "source": [
        "score"
      ],
      "execution_count": null,
      "outputs": []
    },
    {
      "cell_type": "code",
      "metadata": {
        "id": "bELFyb334d5I"
      },
      "source": [
        "dir(model)"
      ],
      "execution_count": null,
      "outputs": []
    },
    {
      "cell_type": "code",
      "metadata": {
        "colab": {
          "base_uri": "https://localhost:8080/"
        },
        "id": "G5guvQtOnHv5",
        "outputId": "82a85b19-322c-4ada-d23c-3d65d78f414a"
      },
      "source": [
        "!nvidia-smi"
      ],
      "execution_count": 21,
      "outputs": [
        {
          "output_type": "stream",
          "text": [
            "Fri Apr 30 22:55:54 2021       \n",
            "+-----------------------------------------------------------------------------+\n",
            "| NVIDIA-SMI 465.19.01    Driver Version: 460.32.03    CUDA Version: 11.2     |\n",
            "|-------------------------------+----------------------+----------------------+\n",
            "| GPU  Name        Persistence-M| Bus-Id        Disp.A | Volatile Uncorr. ECC |\n",
            "| Fan  Temp  Perf  Pwr:Usage/Cap|         Memory-Usage | GPU-Util  Compute M. |\n",
            "|                               |                      |               MIG M. |\n",
            "|===============================+======================+======================|\n",
            "|   0  Tesla T4            Off  | 00000000:00:04.0 Off |                    0 |\n",
            "| N/A   73C    P0    33W /  70W |  13370MiB / 15109MiB |      0%      Default |\n",
            "|                               |                      |                  N/A |\n",
            "+-------------------------------+----------------------+----------------------+\n",
            "                                                                               \n",
            "+-----------------------------------------------------------------------------+\n",
            "| Processes:                                                                  |\n",
            "|  GPU   GI   CI        PID   Type   Process name                  GPU Memory |\n",
            "|        ID   ID                                                   Usage      |\n",
            "|=============================================================================|\n",
            "+-----------------------------------------------------------------------------+\n"
          ],
          "name": "stdout"
        }
      ]
    }
  ]
}